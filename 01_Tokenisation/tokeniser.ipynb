{
 "cells": [
  {
   "cell_type": "code",
   "execution_count": null,
   "metadata": {},
   "outputs": [],
   "source": [
    "def maxmatch(text, dictionary):\n",
    "    if not text:\n",
    "        return []\n",
    "\n",
    "    # Try to match the longest possible word in the dictionary\n",
    "    for i in range(len(text), 0, -1):\n",
    "        first_word = text[:i]\n",
    "        remainder = text[i:]\n",
    "\n",
    "        if first_word in dictionary:\n",
    "            return [first_word] + maxmatch(remainder, dictionary)\n",
    "\n",
    "    # If no word is found, consider the first character as a token (fallback)\n",
    "    return [text[0]] + maxmatch(text[1:], dictionary)\n",
    "\n",
    "# Example dictionary\n",
    "example_dictionary = set([\"this\", \"is\", \"a\", \"sample\", \"text\", \"for\", \"max\", \"match\", \"algorithm\"])\n",
    "\n",
    "# Test the algorithm\n",
    "text_to_tokenize = \"thisisasampletextforthemaxmatchalgorithm\"\n",
    "tokens = maxmatch(text_to_tokenize, example_dictionary)\n",
    "print(tokens)\n"
   ]
  }
 ],
 "metadata": {
  "language_info": {
   "name": "python"
  }
 },
 "nbformat": 4,
 "nbformat_minor": 2
}
