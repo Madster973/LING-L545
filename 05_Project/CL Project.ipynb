{
 "cells": [
  {
   "cell_type": "markdown",
   "metadata": {},
   "source": [
    "# Word2Vec with KMeans"
   ]
  },
  {
   "cell_type": "code",
   "execution_count": 13,
   "metadata": {},
   "outputs": [],
   "source": [
    "import pandas as pd\n",
    "from gensim.models import Word2Vec\n",
    "from sklearn.cluster import KMeans\n",
    "from sklearn.decomposition import PCA\n",
    "import numpy as np\n",
    "import plotly.express as px\n",
    "\n",
    "# Load your dataset\n",
    "file_path = 'test.tsv'  # Replace with your file path\n",
    "data = pd.read_csv(file_path, sep='\\t')\n",
    "\n",
    "# Handle NaN values in accent_name\n",
    "data['accent_name'] = data['accent_name'].fillna('')\n",
    "pd.set_option('display.max_rows', None)"
   ]
  },
  {
   "cell_type": "code",
   "execution_count": 14,
   "metadata": {},
   "outputs": [],
   "source": [
    "en_data = data[data['language_code']==\"en\"]"
   ]
  },
  {
   "cell_type": "code",
   "execution_count": 15,
   "metadata": {},
   "outputs": [
    {
     "data": {
      "text/html": [
       "<div>\n",
       "<style scoped>\n",
       "    .dataframe tbody tr th:only-of-type {\n",
       "        vertical-align: middle;\n",
       "    }\n",
       "\n",
       "    .dataframe tbody tr th {\n",
       "        vertical-align: top;\n",
       "    }\n",
       "\n",
       "    .dataframe thead th {\n",
       "        text-align: right;\n",
       "    }\n",
       "</style>\n",
       "<table border=\"1\" class=\"dataframe\">\n",
       "  <thead>\n",
       "    <tr style=\"text-align: right;\">\n",
       "      <th></th>\n",
       "      <th>language_code</th>\n",
       "      <th>accent_name</th>\n",
       "      <th>hased_client_id</th>\n",
       "    </tr>\n",
       "  </thead>\n",
       "  <tbody>\n",
       "    <tr>\n",
       "      <th>27</th>\n",
       "      <td>en</td>\n",
       "      <td>fluent</td>\n",
       "      <td>3c54c69382b6561dd742834ad99d9846c602ba00ec119b...</td>\n",
       "    </tr>\n",
       "    <tr>\n",
       "      <th>28</th>\n",
       "      <td>en</td>\n",
       "      <td>European</td>\n",
       "      <td>3c54c69382b6561dd742834ad99d9846c602ba00ec119b...</td>\n",
       "    </tr>\n",
       "    <tr>\n",
       "      <th>30</th>\n",
       "      <td>en</td>\n",
       "      <td>ESL</td>\n",
       "      <td>3c54c69382b6561dd742834ad99d9846c602ba00ec119b...</td>\n",
       "    </tr>\n",
       "    <tr>\n",
       "      <th>35</th>\n",
       "      <td>en</td>\n",
       "      <td>German</td>\n",
       "      <td>9811d602919ec7603386aa4b2eb4a1a41cd8bc4a912cad...</td>\n",
       "    </tr>\n",
       "    <tr>\n",
       "      <th>39</th>\n",
       "      <td>en</td>\n",
       "      <td>Dutch</td>\n",
       "      <td>2ae8b2f84ba05f38dcb91b8734934d920f21418abfd090...</td>\n",
       "    </tr>\n",
       "    <tr>\n",
       "      <th>...</th>\n",
       "      <td>...</td>\n",
       "      <td>...</td>\n",
       "      <td>...</td>\n",
       "    </tr>\n",
       "    <tr>\n",
       "      <th>2954</th>\n",
       "      <td>en</td>\n",
       "      <td>Mancunian</td>\n",
       "      <td>330d5b681ea0225170f269bfe84df97a04dfffc49e683c...</td>\n",
       "    </tr>\n",
       "    <tr>\n",
       "      <th>3004</th>\n",
       "      <td>en</td>\n",
       "      <td>Brooklyn</td>\n",
       "      <td>2f214bb2fa99b6591dc2fa943b58d5b015363dd25448ea...</td>\n",
       "    </tr>\n",
       "    <tr>\n",
       "      <th>3050</th>\n",
       "      <td>en</td>\n",
       "      <td>Thailand</td>\n",
       "      <td>192f839a0e9559dd2b505b5f86c0e058520a48656f1d47...</td>\n",
       "    </tr>\n",
       "    <tr>\n",
       "      <th>3096</th>\n",
       "      <td>en</td>\n",
       "      <td>Bangla</td>\n",
       "      <td>462cddbea3a9bccddc4b705905ec31ca536462611d320e...</td>\n",
       "    </tr>\n",
       "    <tr>\n",
       "      <th>3148</th>\n",
       "      <td>en</td>\n",
       "      <td>Bulgarian</td>\n",
       "      <td>195c8772eecdac0084927b8d5b119028a819b96dcb00ac...</td>\n",
       "    </tr>\n",
       "  </tbody>\n",
       "</table>\n",
       "<p>140 rows × 3 columns</p>\n",
       "</div>"
      ],
      "text/plain": [
       "     language_code accent_name  \\\n",
       "27              en      fluent   \n",
       "28              en    European   \n",
       "30              en         ESL   \n",
       "35              en      German   \n",
       "39              en       Dutch   \n",
       "...            ...         ...   \n",
       "2954            en   Mancunian   \n",
       "3004            en    Brooklyn   \n",
       "3050            en    Thailand   \n",
       "3096            en      Bangla   \n",
       "3148            en   Bulgarian   \n",
       "\n",
       "                                        hased_client_id  \n",
       "27    3c54c69382b6561dd742834ad99d9846c602ba00ec119b...  \n",
       "28    3c54c69382b6561dd742834ad99d9846c602ba00ec119b...  \n",
       "30    3c54c69382b6561dd742834ad99d9846c602ba00ec119b...  \n",
       "35    9811d602919ec7603386aa4b2eb4a1a41cd8bc4a912cad...  \n",
       "39    2ae8b2f84ba05f38dcb91b8734934d920f21418abfd090...  \n",
       "...                                                 ...  \n",
       "2954  330d5b681ea0225170f269bfe84df97a04dfffc49e683c...  \n",
       "3004  2f214bb2fa99b6591dc2fa943b58d5b015363dd25448ea...  \n",
       "3050  192f839a0e9559dd2b505b5f86c0e058520a48656f1d47...  \n",
       "3096  462cddbea3a9bccddc4b705905ec31ca536462611d320e...  \n",
       "3148  195c8772eecdac0084927b8d5b119028a819b96dcb00ac...  \n",
       "\n",
       "[140 rows x 3 columns]"
      ]
     },
     "execution_count": 15,
     "metadata": {},
     "output_type": "execute_result"
    }
   ],
   "source": [
    "filtered_en_data = en_data[~en_data['accent_name'].str.contains(' ')]\n",
    "\n",
    "filtered_en_data"
   ]
  },
  {
   "cell_type": "code",
   "execution_count": 16,
   "metadata": {},
   "outputs": [],
   "source": [
    "# Tokenize the text data (split into words)\n",
    "tokenized_text = [text.split() for text in data['accent_name']]\n",
    "\n",
    "# Train a Word2Vec model\n",
    "model = Word2Vec(sentences=tokenized_text, vector_size=100, window=5, min_count=1, workers=4)\n",
    "\n",
    "# Function to create an embedding for each accent_name\n",
    "def get_embedding(text):\n",
    "    words = text.split()\n",
    "    embeddings = [model.wv[word] for word in words if word in model.wv]\n",
    "    return np.mean(embeddings, axis=0) if embeddings else np.zeros(model.vector_size)\n",
    "\n",
    "# Generating embeddings for accent_name\n",
    "en_embeddings = np.array([get_embedding(text) for text in filtered_en_data['accent_name']])\n"
   ]
  },
  {
   "cell_type": "code",
   "execution_count": 18,
   "metadata": {},
   "outputs": [
    {
     "name": "stderr",
     "output_type": "stream",
     "text": [
      "c:\\Users\\saima\\anaconda3\\lib\\site-packages\\sklearn\\cluster\\_kmeans.py:1036: UserWarning:\n",
      "\n",
      "KMeans is known to have a memory leak on Windows with MKL, when there are less chunks than available threads. You can avoid it by setting the environment variable OMP_NUM_THREADS=1.\n",
      "\n"
     ]
    },
    {
     "data": {
      "image/png": "[encoded data removed]",
      "text/plain": [
       "<Figure size 1000x600 with 1 Axes>"
      ]
     },
     "metadata": {},
     "output_type": "display_data"
    }
   ],
   "source": [
    "import pandas as pd\n",
    "from gensim.models import Word2Vec\n",
    "from sklearn.cluster import KMeans\n",
    "from sklearn.decomposition import PCA\n",
    "import numpy as np\n",
    "import matplotlib.pyplot as plt\n",
    "import plotly.express as px\n",
    "\n",
    "range_clusters = range(1, 21)\n",
    "\n",
    "# Calculate the sum of squared distances for each number of clusters\n",
    "sum_of_squared_distances = []\n",
    "for k in range_clusters:\n",
    "    km = KMeans(n_clusters=k, random_state=0)\n",
    "    km = km.fit(en_embeddings)\n",
    "    sum_of_squared_distances.append(km.inertia_)\n",
    "\n",
    "# Plot the Elbow graph\n",
    "plt.figure(figsize=(10, 6))\n",
    "plt.plot(range_clusters, sum_of_squared_distances, 'bx-')\n",
    "plt.xlabel('Number of Clusters')\n",
    "plt.ylabel('Sum of Squared Distances')\n",
    "plt.title('Elbow Method For Optimal Number of Clusters')\n",
    "plt.show()"
   ]
  },
  {
   "cell_type": "code",
   "execution_count": 17,
   "metadata": {},
   "outputs": [
    {
     "name": "stderr",
     "output_type": "stream",
     "text": [
      "C:\\Users\\saima\\AppData\\Local\\Temp\\ipykernel_20128\\1413391253.py:6: SettingWithCopyWarning:\n",
      "\n",
      "\n",
      "A value is trying to be set on a copy of a slice from a DataFrame.\n",
      "Try using .loc[row_indexer,col_indexer] = value instead\n",
      "\n",
      "See the caveats in the documentation: https://pandas.pydata.org/pandas-docs/stable/user_guide/indexing.html#returning-a-view-versus-a-copy\n",
      "\n",
      "C:\\Users\\saima\\AppData\\Local\\Temp\\ipykernel_20128\\1413391253.py:13: SettingWithCopyWarning:\n",
      "\n",
      "\n",
      "A value is trying to be set on a copy of a slice from a DataFrame.\n",
      "Try using .loc[row_indexer,col_indexer] = value instead\n",
      "\n",
      "See the caveats in the documentation: https://pandas.pydata.org/pandas-docs/stable/user_guide/indexing.html#returning-a-view-versus-a-copy\n",
      "\n",
      "C:\\Users\\saima\\AppData\\Local\\Temp\\ipykernel_20128\\1413391253.py:14: SettingWithCopyWarning:\n",
      "\n",
      "\n",
      "A value is trying to be set on a copy of a slice from a DataFrame.\n",
      "Try using .loc[row_indexer,col_indexer] = value instead\n",
      "\n",
      "See the caveats in the documentation: https://pandas.pydata.org/pandas-docs/stable/user_guide/indexing.html#returning-a-view-versus-a-copy\n",
      "\n"
     ]
    },
    {
     "data": {
      "application/vnd.plotly.v1+json": {
       "config": {
        "plotlyServerURL": "https://plot.ly"
       },
       "data": [
        {
         "customdata": [
          [
           "en"
          ],
          [
           "en"
          ],
          [
           "en"
          ],
          [
           "en"
          ],
          [
           "en"
          ],
          [
           "en"
          ],
          [
           "en"
          ],
          [
           "en"
          ],
          [
           "en"
          ],
          [
           "en"
          ],
          [
           "en"
          ],
          [
           "en"
          ],
          [
           "en"
          ],
          [
           "en"
          ],
          [
           "en"
          ],
          [
           "en"
          ],
          [
           "en"
          ],
          [
           "en"
          ],
          [
           "en"
          ],
          [
           "en"
          ],
          [
           "en"
          ],
          [
           "en"
          ],
          [
           "en"
          ],
          [
           "en"
          ],
          [
           "en"
          ],
          [
           "en"
          ],
          [
           "en"
          ],
          [
           "en"
          ],
          [
           "en"
          ],
          [
           "en"
          ],
          [
           "en"
          ],
          [
           "en"
          ],
          [
           "en"
          ],
          [
           "en"
          ],
          [
           "en"
          ],
          [
           "en"
          ],
          [
           "en"
          ],
          [
           "en"
          ],
          [
           "en"
          ],
          [
           "en"
          ],
          [
           "en"
          ],
          [
           "en"
          ],
          [
           "en"
          ],
          [
           "en"
          ],
          [
           "en"
          ],
          [
           "en"
          ],
          [
           "en"
          ],
          [
           "en"
          ],
          [
           "en"
          ],
          [
           "en"
          ],
          [
           "en"
          ],
          [
           "en"
          ],
          [
           "en"
          ],
          [
           "en"
          ],
          [
           "en"
          ],
          [
           "en"
          ],
          [
           "en"
          ],
          [
           "en"
          ],
          [
           "en"
          ],
          [
           "en"
          ],
          [
           "en"
          ],
          [
           "en"
          ],
          [
           "en"
          ],
          [
           "en"
          ],
          [
           "en"
          ],
          [
           "en"
          ],
          [
           "en"
          ],
          [
           "en"
          ],
          [
           "en"
          ],
          [
           "en"
          ],
          [
           "en"
          ],
          [
           "en"
          ],
          [
           "en"
          ],
          [
           "en"
          ],
          [
           "en"
          ],
          [
           "en"
          ],
          [
           "en"
          ],
          [
           "en"
          ],
          [
           "en"
          ],
          [
           "en"
          ],
          [
           "en"
          ],
          [
           "en"
          ],
          [
           "en"
          ],
          [
           "en"
          ],
          [
           "en"
          ],
          [
           "en"
          ],
          [
           "en"
          ],
          [
           "en"
          ],
          [
           "en"
          ],
          [
           "en"
          ],
          [
           "en"
          ],
          [
           "en"
          ],
          [
           "en"
          ],
          [
           "en"
          ],
          [
           "en"
          ],
          [
           "en"
          ],
          [
           "en"
          ],
          [
           "en"
          ],
          [
           "en"
          ],
          [
           "en"
          ],
          [
           "en"
          ],
          [
           "en"
          ],
          [
           "en"
          ],
          [
           "en"
          ],
          [
           "en"
          ],
          [
           "en"
          ],
          [
           "en"
          ],
          [
           "en"
          ],
          [
           "en"
          ],
          [
           "en"
          ],
          [
           "en"
          ],
          [
           "en"
          ],
          [
           "en"
          ],
          [
           "en"
          ],
          [
           "en"
          ],
          [
           "en"
          ],
          [
           "en"
          ],
          [
           "en"
          ],
          [
           "en"
          ],
          [
           "en"
          ],
          [
           "en"
          ],
          [
           "en"
          ],
          [
           "en"
          ],
          [
           "en"
          ],
          [
           "en"
          ],
          [
           "en"
          ],
          [
           "en"
          ],
          [
           "en"
          ],
          [
           "en"
          ],
          [
           "en"
          ],
          [
           "en"
          ],
          [
           "en"
          ],
          [
           "en"
          ],
          [
           "en"
          ],
          [
           "en"
          ],
          [
           "en"
          ],
          [
           "en"
          ],
          [
           "en"
          ],
          [
           "en"
          ],
          [
           "en"
          ]
         ],
         "hovertemplate": "pca_one=%{x}<br>pca_two=%{y}<br>language_code=%{customdata[0]}<br>cluster=%{marker.color}<extra></extra>",
         "legendgroup": "",
         "marker": {
          "color": [
           3,
           3,
           0,
           2,
           1,
           3,
           3,
           2,
           3,
           0,
           1,
           1,
           2,
           2,
           3,
           3,
           2,
           3,
           3,
           3,
           3,
           1,
           2,
           2,
           0,
           2,
           1,
           2,
           1,
           3,
           2,
           2,
           1,
           2,
           1,
           0,
           2,
           2,
           3,
           1,
           3,
           3,
           0,
           1,
           3,
           1,
           0,
           0,
           0,
           3,
           3,
           3,
           0,
           1,
           3,
           0,
           3,
           3,
           2,
           2,
           2,
           2,
           3,
           1,
           0,
           3,
           2,
           1,
           0,
           3,
           2,
           3,
           2,
           0,
           1,
           1,
           0,
           1,
           2,
           3,
           1,
           2,
           0,
           1,
           0,
           1,
           2,
           3,
           2,
           1,
           0,
           0,
           3,
           1,
           1,
           2,
           2,
           0,
           1,
           1,
           3,
           1,
           2,
           2,
           1,
           3,
           2,
           3,
           3,
           1,
           2,
           0,
           2,
           3,
           0,
           1,
           1,
           3,
           0,
           3,
           3,
           3,
           3,
           2,
           2,
           0,
           1,
           3,
           3,
           3,
           0,
           3,
           3,
           0,
           2,
           1,
           1,
           2,
           2,
           3
          ],
          "coloraxis": "coloraxis",
          "symbol": "circle"
         },
         "mode": "markers",
         "name": "",
         "orientation": "v",
         "showlegend": false,
         "type": "scatter",
         "x": [
          0.012799205258488655,
          -0.006055210251361132,
          -0.017648514360189438,
          -0.00423223152756691,
          0.006816565524786711,
          0.0007245660526677966,
          -0.007843876257538795,
          -0.012477917596697807,
          0.003104660427197814,
          -0.0041059646755456924,
          -0.00691179046407342,
          -0.0005905170692130923,
          -0.011933735571801662,
          0.006212418898940086,
          0.013478795997798443,
          0.008342288434505463,
          -0.004563818220049143,
          0.013375489972531796,
          0.0021486503537744284,
          0.009599689394235611,
          0.002493605948984623,
          0.007560636382550001,
          -0.014736575074493885,
          0.004699076060205698,
          0.010364252142608166,
          0.0003340737894177437,
          -0.006391184404492378,
          -0.01563677377998829,
          -0.011853587813675404,
          0.0022080151829868555,
          -0.00943612027913332,
          0.000020466457499423996,
          -0.000889557006303221,
          0.0056482888758182526,
          -0.007290832232683897,
          0.012831219471991062,
          -0.014385002665221691,
          0.009878533892333508,
          0.016572266817092896,
          0.01434363890439272,
          0.006929364055395126,
          0.013322215527296066,
          0.012748762033879757,
          -0.012487713247537613,
          0.007557039614766836,
          0.0165066197514534,
          -0.003152401652187109,
          0.009064722806215286,
          0.012111909687519073,
          0.008391762152314186,
          0.0058784750290215015,
          0.0016222354024648666,
          0.01306475792080164,
          -0.016718655824661255,
          -0.002196850022301078,
          0.0072512757033109665,
          0.013270314782857895,
          0.01767200604081154,
          -0.008863692171871662,
          0.012302341870963573,
          -0.012553188018500805,
          -0.014519011601805687,
          0.005652803461998701,
          0.0036124112084507942,
          0.006487618666142225,
          0.009671713225543499,
          -0.007939254865050316,
          -0.010607822798192501,
          0.003896043635904789,
          0.001116920611821115,
          -0.019819743931293488,
          -0.009825543500483036,
          -0.006152872461825609,
          0.0064940303564071655,
          -0.0023114709183573723,
          -0.0017196431290358305,
          -0.008423823863267899,
          -0.00034988817060366273,
          -0.01691073551774025,
          0.0239314716309309,
          -0.00193720031529665,
          0.0023494705092161894,
          0.00046509469393640757,
          -0.011049621738493443,
          0.002322221640497446,
          -0.022698456421494484,
          -0.006081857718527317,
          0.00561396311968565,
          0.006749904248863459,
          -0.009857423603534698,
          -0.007202029228210449,
          0.001012498396448791,
          -0.013318014331161976,
          -0.0156998410820961,
          -0.009664328768849373,
          -0.010484187863767147,
          -0.004373948089778423,
          -0.005360505543649197,
          -0.013514737598598003,
          -0.010404499247670174,
          0.012224122881889343,
          0.009649720974266529,
          -0.008657664060592651,
          -0.005430074408650398,
          0.015593272633850574,
          -0.0026012915186583996,
          -0.012682986445724964,
          0.0020343561191111803,
          -0.001002311473712325,
          0.002366913016885519,
          -0.0017639250727370381,
          0.008847090415656567,
          -0.008091720752418041,
          -0.011641244404017925,
          0.0031351472716778517,
          -0.0008416415075771511,
          -0.0070948475040495396,
          0.0019041169434785843,
          -0.00810334738343954,
          0.016832103952765465,
          0.006585903000086546,
          0.009299954399466515,
          0.01862310990691185,
          -0.014248158782720566,
          -0.003530949354171753,
          0.019669774919748306,
          -0.015834445133805275,
          0.011869262903928757,
          0.012507651001214981,
          -0.0012484159087762237,
          -0.019793707877397537,
          0.014151818118989468,
          0.012758690863847733,
          -0.0018675640458241105,
          -0.009181204251945019,
          -0.0044227479957044125,
          0.015011433511972427,
          -0.0015618778998032212,
          -0.0021593153942376375,
          0.001250791479833424
         ],
         "xaxis": "x",
         "y": [
          -0.005592053290456533,
          -0.00995947327464819,
          -0.006322887260466814,
          -0.002230625366792083,
          -0.023500429466366768,
          0.009516805410385132,
          0.004715024959295988,
          -0.014697305858135223,
          -0.010634896345436573,
          0.015189455822110176,
          0.00810426939278841,
          -0.008970817551016808,
          -0.006318299099802971,
          0.006455418653786182,
          0.0028919936157763004,
          -0.004653474316000938,
          0.013847258873283863,
          0.02123093605041504,
          -0.004026316571980715,
          0.006897088140249252,
          0.0186007022857666,
          -0.001323381089605391,
          -0.007485974580049515,
          -0.00041989851160906255,
          -0.010442675091326237,
          -0.010715785436332226,
          0.0005397549248300493,
          -0.01075380016118288,
          -0.007678921800106764,
          0.0017555009108036757,
          0.004515612032264471,
          -0.004764398094266653,
          -0.01729278452694416,
          0.008455535396933556,
          -0.008583229035139084,
          0.0016745970351621509,
          -0.0020081570837646723,
          -0.007258839439600706,
          0.0008672394906170666,
          -0.009540964849293232,
          -0.0030389789026230574,
          0.0035584268625825644,
          -0.007028441410511732,
          0.0066899522207677364,
          -0.01819736696779728,
          -0.007997311651706696,
          0.00282171368598938,
          0.005840221419930458,
          -0.017104273661971092,
          0.012191510759294033,
          -0.0025978824123740196,
          0.01022311206907034,
          -0.015078915283083916,
          -0.008692946285009384,
          0.016012175008654594,
          -0.001589784282259643,
          0.018521351739764214,
          -0.016773995012044907,
          0.011568195186555386,
          -0.009868289344012737,
          0.0010743446182459593,
          -0.02019462175667286,
          -0.005149501375854015,
          0.013281743973493576,
          -0.000618642894551158,
          -0.008015517145395279,
          0.00022956640168558806,
          0.02835766412317753,
          0.003912468906491995,
          0.008078637532889843,
          -0.009135928936302662,
          -0.010290781036019325,
          0.009883460588753223,
          -0.0058836559765040874,
          -0.006689402740448713,
          -0.01057393103837967,
          0.0033775705378502607,
          0.015111260116100311,
          0.004222206771373749,
          -0.0022435886785387993,
          0.010851500555872917,
          -0.008559303358197212,
          0.013751241378486156,
          -0.015096848830580711,
          0.004676372744143009,
          0.0010346253402531147,
          0.012285735458135605,
          0.005325447767972946,
          -0.0027394969947636127,
          0.013552743010222912,
          0.005890551023185253,
          0.011077405884861946,
          0.014310982078313828,
          -0.004163650795817375,
          0.005390961188822985,
          0.014941981993615627,
          -0.000821748108137399,
          0.0029056717175990343,
          -0.007852954789996147,
          0.0042937444522976875,
          -0.009669040329754353,
          -0.005507251713424921,
          0.011180135421454906,
          0.009146981872618198,
          0.009133022278547287,
          -0.02143465168774128,
          -0.0047083026729524136,
          -0.001870002830401063,
          0.0015474566025659442,
          0.01112060621380806,
          -0.00016682468412909657,
          0.013128195889294147,
          -0.013582369312644005,
          0.01098829135298729,
          0.004968732129782438,
          0.004195686895400286,
          0.01136853452771902,
          0.009185553528368473,
          -0.007937705144286156,
          -0.0022658039815723896,
          -0.0007227034075185657,
          0.011521230451762676,
          -0.006411084905266762,
          -0.004825751297175884,
          -0.002217785455286503,
          0.004796916618943214,
          -0.010444128885865211,
          -0.0023595469538122416,
          -0.012839620001614094,
          -0.015310315415263176,
          -0.0014536466915160418,
          0.016131117939949036,
          0.003088635392487049,
          0.022556904703378677,
          -0.013513360172510147,
          -0.010810592211782932,
          0.0021680151112377644,
          -0.004398269113153219,
          -0.004893451929092407,
          0.0017876276979222894
         ],
         "yaxis": "y"
        }
       ],
       "layout": {
        "coloraxis": {
         "colorbar": {
          "title": {
           "text": "cluster"
          }
         },
         "colorscale": [
          [
           0,
           "#440154"
          ],
          [
           0.1111111111111111,
           "#482878"
          ],
          [
           0.2222222222222222,
           "#3e4989"
          ],
          [
           0.3333333333333333,
           "#31688e"
          ],
          [
           0.4444444444444444,
           "#26828e"
          ],
          [
           0.5555555555555556,
           "#1f9e89"
          ],
          [
           0.6666666666666666,
           "#35b779"
          ],
          [
           0.7777777777777778,
           "#6ece58"
          ],
          [
           0.8888888888888888,
           "#b5de2b"
          ],
          [
           1,
           "#fde725"
          ]
         ]
        },
        "legend": {
         "title": {
          "text": "Cluster"
         },
         "tracegroupgap": 0
        },
        "margin": {
         "t": 60
        },
        "template": {
         "data": {
          "bar": [
           {
            "error_x": {
             "color": "#2a3f5f"
            },
            "error_y": {
             "color": "#2a3f5f"
            },
            "marker": {
             "line": {
              "color": "#E5ECF6",
              "width": 0.5
             },
             "pattern": {
              "fillmode": "overlay",
              "size": 10,
              "solidity": 0.2
             }
            },
            "type": "bar"
           }
          ],
          "barpolar": [
           {
            "marker": {
             "line": {
              "color": "#E5ECF6",
              "width": 0.5
             },
             "pattern": {
              "fillmode": "overlay",
              "size": 10,
              "solidity": 0.2
             }
            },
            "type": "barpolar"
           }
          ],
          "carpet": [
           {
            "aaxis": {
             "endlinecolor": "#2a3f5f",
             "gridcolor": "white",
             "linecolor": "white",
             "minorgridcolor": "white",
             "startlinecolor": "#2a3f5f"
            },
            "baxis": {
             "endlinecolor": "#2a3f5f",
             "gridcolor": "white",
             "linecolor": "white",
             "minorgridcolor": "white",
             "startlinecolor": "#2a3f5f"
            },
            "type": "carpet"
           }
          ],
          "choropleth": [
           {
            "colorbar": {
             "outlinewidth": 0,
             "ticks": ""
            },
            "type": "choropleth"
           }
          ],
          "contour": [
           {
            "colorbar": {
             "outlinewidth": 0,
             "ticks": ""
            },
            "colorscale": [
             [
              0,
              "#0d0887"
             ],
             [
              0.1111111111111111,
              "#46039f"
             ],
             [
              0.2222222222222222,
              "#7201a8"
             ],
             [
              0.3333333333333333,
              "#9c179e"
             ],
             [
              0.4444444444444444,
              "#bd3786"
             ],
             [
              0.5555555555555556,
              "#d8576b"
             ],
             [
              0.6666666666666666,
              "#ed7953"
             ],
             [
              0.7777777777777778,
              "#fb9f3a"
             ],
             [
              0.8888888888888888,
              "#fdca26"
             ],
             [
              1,
              "#f0f921"
             ]
            ],
            "type": "contour"
           }
          ],
          "contourcarpet": [
           {
            "colorbar": {
             "outlinewidth": 0,
             "ticks": ""
            },
            "type": "contourcarpet"
           }
          ],
          "heatmap": [
           {
            "colorbar": {
             "outlinewidth": 0,
             "ticks": ""
            },
            "colorscale": [
             [
              0,
              "#0d0887"
             ],
             [
              0.1111111111111111,
              "#46039f"
             ],
             [
              0.2222222222222222,
              "#7201a8"
             ],
             [
              0.3333333333333333,
              "#9c179e"
             ],
             [
              0.4444444444444444,
              "#bd3786"
             ],
             [
              0.5555555555555556,
              "#d8576b"
             ],
             [
              0.6666666666666666,
              "#ed7953"
             ],
             [
              0.7777777777777778,
              "#fb9f3a"
             ],
             [
              0.8888888888888888,
              "#fdca26"
             ],
             [
              1,
              "#f0f921"
             ]
            ],
            "type": "heatmap"
           }
          ],
          "heatmapgl": [
           {
            "colorbar": {
             "outlinewidth": 0,
             "ticks": ""
            },
            "colorscale": [
             [
              0,
              "#0d0887"
             ],
             [
              0.1111111111111111,
              "#46039f"
             ],
             [
              0.2222222222222222,
              "#7201a8"
             ],
             [
              0.3333333333333333,
              "#9c179e"
             ],
             [
              0.4444444444444444,
              "#bd3786"
             ],
             [
              0.5555555555555556,
              "#d8576b"
             ],
             [
              0.6666666666666666,
              "#ed7953"
             ],
             [
              0.7777777777777778,
              "#fb9f3a"
             ],
             [
              0.8888888888888888,
              "#fdca26"
             ],
             [
              1,
              "#f0f921"
             ]
            ],
            "type": "heatmapgl"
           }
          ],
          "histogram": [
           {
            "marker": {
             "pattern": {
              "fillmode": "overlay",
              "size": 10,
              "solidity": 0.2
             }
            },
            "type": "histogram"
           }
          ],
          "histogram2d": [
           {
            "colorbar": {
             "outlinewidth": 0,
             "ticks": ""
            },
            "colorscale": [
             [
              0,
              "#0d0887"
             ],
             [
              0.1111111111111111,
              "#46039f"
             ],
             [
              0.2222222222222222,
              "#7201a8"
             ],
             [
              0.3333333333333333,
              "#9c179e"
             ],
             [
              0.4444444444444444,
              "#bd3786"
             ],
             [
              0.5555555555555556,
              "#d8576b"
             ],
             [
              0.6666666666666666,
              "#ed7953"
             ],
             [
              0.7777777777777778,
              "#fb9f3a"
             ],
             [
              0.8888888888888888,
              "#fdca26"
             ],
             [
              1,
              "#f0f921"
             ]
            ],
            "type": "histogram2d"
           }
          ],
          "histogram2dcontour": [
           {
            "colorbar": {
             "outlinewidth": 0,
             "ticks": ""
            },
            "colorscale": [
             [
              0,
              "#0d0887"
             ],
             [
              0.1111111111111111,
              "#46039f"
             ],
             [
              0.2222222222222222,
              "#7201a8"
             ],
             [
              0.3333333333333333,
              "#9c179e"
             ],
             [
              0.4444444444444444,
              "#bd3786"
             ],
             [
              0.5555555555555556,
              "#d8576b"
             ],
             [
              0.6666666666666666,
              "#ed7953"
             ],
             [
              0.7777777777777778,
              "#fb9f3a"
             ],
             [
              0.8888888888888888,
              "#fdca26"
             ],
             [
              1,
              "#f0f921"
             ]
            ],
            "type": "histogram2dcontour"
           }
          ],
          "mesh3d": [
           {
            "colorbar": {
             "outlinewidth": 0,
             "ticks": ""
            },
            "type": "mesh3d"
           }
          ],
          "parcoords": [
           {
            "line": {
             "colorbar": {
              "outlinewidth": 0,
              "ticks": ""
             }
            },
            "type": "parcoords"
           }
          ],
          "pie": [
           {
            "automargin": true,
            "type": "pie"
           }
          ],
          "scatter": [
           {
            "fillpattern": {
             "fillmode": "overlay",
             "size": 10,
             "solidity": 0.2
            },
            "type": "scatter"
           }
          ],
          "scatter3d": [
           {
            "line": {
             "colorbar": {
              "outlinewidth": 0,
              "ticks": ""
             }
            },
            "marker": {
             "colorbar": {
              "outlinewidth": 0,
              "ticks": ""
             }
            },
            "type": "scatter3d"
           }
          ],
          "scattercarpet": [
           {
            "marker": {
             "colorbar": {
              "outlinewidth": 0,
              "ticks": ""
             }
            },
            "type": "scattercarpet"
           }
          ],
          "scattergeo": [
           {
            "marker": {
             "colorbar": {
              "outlinewidth": 0,
              "ticks": ""
             }
            },
            "type": "scattergeo"
           }
          ],
          "scattergl": [
           {
            "marker": {
             "colorbar": {
              "outlinewidth": 0,
              "ticks": ""
             }
            },
            "type": "scattergl"
           }
          ],
          "scattermapbox": [
           {
            "marker": {
             "colorbar": {
              "outlinewidth": 0,
              "ticks": ""
             }
            },
            "type": "scattermapbox"
           }
          ],
          "scatterpolar": [
           {
            "marker": {
             "colorbar": {
              "outlinewidth": 0,
              "ticks": ""
             }
            },
            "type": "scatterpolar"
           }
          ],
          "scatterpolargl": [
           {
            "marker": {
             "colorbar": {
              "outlinewidth": 0,
              "ticks": ""
             }
            },
            "type": "scatterpolargl"
           }
          ],
          "scatterternary": [
           {
            "marker": {
             "colorbar": {
              "outlinewidth": 0,
              "ticks": ""
             }
            },
            "type": "scatterternary"
           }
          ],
          "surface": [
           {
            "colorbar": {
             "outlinewidth": 0,
             "ticks": ""
            },
            "colorscale": [
             [
              0,
              "#0d0887"
             ],
             [
              0.1111111111111111,
              "#46039f"
             ],
             [
              0.2222222222222222,
              "#7201a8"
             ],
             [
              0.3333333333333333,
              "#9c179e"
             ],
             [
              0.4444444444444444,
              "#bd3786"
             ],
             [
              0.5555555555555556,
              "#d8576b"
             ],
             [
              0.6666666666666666,
              "#ed7953"
             ],
             [
              0.7777777777777778,
              "#fb9f3a"
             ],
             [
              0.8888888888888888,
              "#fdca26"
             ],
             [
              1,
              "#f0f921"
             ]
            ],
            "type": "surface"
           }
          ],
          "table": [
           {
            "cells": {
             "fill": {
              "color": "#EBF0F8"
             },
             "line": {
              "color": "white"
             }
            },
            "header": {
             "fill": {
              "color": "#C8D4E3"
             },
             "line": {
              "color": "white"
             }
            },
            "type": "table"
           }
          ]
         },
         "layout": {
          "annotationdefaults": {
           "arrowcolor": "#2a3f5f",
           "arrowhead": 0,
           "arrowwidth": 1
          },
          "autotypenumbers": "strict",
          "coloraxis": {
           "colorbar": {
            "outlinewidth": 0,
            "ticks": ""
           }
          },
          "colorscale": {
           "diverging": [
            [
             0,
             "#8e0152"
            ],
            [
             0.1,
             "#c51b7d"
            ],
            [
             0.2,
             "#de77ae"
            ],
            [
             0.3,
             "#f1b6da"
            ],
            [
             0.4,
             "#fde0ef"
            ],
            [
             0.5,
             "#f7f7f7"
            ],
            [
             0.6,
             "#e6f5d0"
            ],
            [
             0.7,
             "#b8e186"
            ],
            [
             0.8,
             "#7fbc41"
            ],
            [
             0.9,
             "#4d9221"
            ],
            [
             1,
             "#276419"
            ]
           ],
           "sequential": [
            [
             0,
             "#0d0887"
            ],
            [
             0.1111111111111111,
             "#46039f"
            ],
            [
             0.2222222222222222,
             "#7201a8"
            ],
            [
             0.3333333333333333,
             "#9c179e"
            ],
            [
             0.4444444444444444,
             "#bd3786"
            ],
            [
             0.5555555555555556,
             "#d8576b"
            ],
            [
             0.6666666666666666,
             "#ed7953"
            ],
            [
             0.7777777777777778,
             "#fb9f3a"
            ],
            [
             0.8888888888888888,
             "#fdca26"
            ],
            [
             1,
             "#f0f921"
            ]
           ],
           "sequentialminus": [
            [
             0,
             "#0d0887"
            ],
            [
             0.1111111111111111,
             "#46039f"
            ],
            [
             0.2222222222222222,
             "#7201a8"
            ],
            [
             0.3333333333333333,
             "#9c179e"
            ],
            [
             0.4444444444444444,
             "#bd3786"
            ],
            [
             0.5555555555555556,
             "#d8576b"
            ],
            [
             0.6666666666666666,
             "#ed7953"
            ],
            [
             0.7777777777777778,
             "#fb9f3a"
            ],
            [
             0.8888888888888888,
             "#fdca26"
            ],
            [
             1,
             "#f0f921"
            ]
           ]
          },
          "colorway": [
           "#636efa",
           "#EF553B",
           "#00cc96",
           "#ab63fa",
           "#FFA15A",
           "#19d3f3",
           "#FF6692",
           "#B6E880",
           "#FF97FF",
           "#FECB52"
          ],
          "font": {
           "color": "#2a3f5f"
          },
          "geo": {
           "bgcolor": "white",
           "lakecolor": "white",
           "landcolor": "#E5ECF6",
           "showlakes": true,
           "showland": true,
           "subunitcolor": "white"
          },
          "hoverlabel": {
           "align": "left"
          },
          "hovermode": "closest",
          "mapbox": {
           "style": "light"
          },
          "paper_bgcolor": "white",
          "plot_bgcolor": "#E5ECF6",
          "polar": {
           "angularaxis": {
            "gridcolor": "white",
            "linecolor": "white",
            "ticks": ""
           },
           "bgcolor": "#E5ECF6",
           "radialaxis": {
            "gridcolor": "white",
            "linecolor": "white",
            "ticks": ""
           }
          },
          "scene": {
           "xaxis": {
            "backgroundcolor": "#E5ECF6",
            "gridcolor": "white",
            "gridwidth": 2,
            "linecolor": "white",
            "showbackground": true,
            "ticks": "",
            "zerolinecolor": "white"
           },
           "yaxis": {
            "backgroundcolor": "#E5ECF6",
            "gridcolor": "white",
            "gridwidth": 2,
            "linecolor": "white",
            "showbackground": true,
            "ticks": "",
            "zerolinecolor": "white"
           },
           "zaxis": {
            "backgroundcolor": "#E5ECF6",
            "gridcolor": "white",
            "gridwidth": 2,
            "linecolor": "white",
            "showbackground": true,
            "ticks": "",
            "zerolinecolor": "white"
           }
          },
          "shapedefaults": {
           "line": {
            "color": "#2a3f5f"
           }
          },
          "ternary": {
           "aaxis": {
            "gridcolor": "white",
            "linecolor": "white",
            "ticks": ""
           },
           "baxis": {
            "gridcolor": "white",
            "linecolor": "white",
            "ticks": ""
           },
           "bgcolor": "#E5ECF6",
           "caxis": {
            "gridcolor": "white",
            "linecolor": "white",
            "ticks": ""
           }
          },
          "title": {
           "x": 0.05
          },
          "xaxis": {
           "automargin": true,
           "gridcolor": "white",
           "linecolor": "white",
           "ticks": "",
           "title": {
            "standoff": 15
           },
           "zerolinecolor": "white",
           "zerolinewidth": 2
          },
          "yaxis": {
           "automargin": true,
           "gridcolor": "white",
           "linecolor": "white",
           "ticks": "",
           "title": {
            "standoff": 15
           },
           "zerolinecolor": "white",
           "zerolinewidth": 2
          }
         }
        },
        "title": {
         "text": "Word2Vec with K-Means Clusters for en"
        },
        "xaxis": {
         "anchor": "y",
         "domain": [
          0,
          1
         ],
         "title": {
          "text": "PCA 1"
         }
        },
        "yaxis": {
         "anchor": "x",
         "domain": [
          0,
          1
         ],
         "title": {
          "text": "PCA 2"
         }
        }
       }
      }
     },
     "metadata": {},
     "output_type": "display_data"
    }
   ],
   "source": [
    "# K-Means clustering\n",
    "num_clusters = 4  # Arbitrary, can be tuned\n",
    "kmeans = KMeans(n_clusters=num_clusters, random_state=0).fit(en_embeddings)\n",
    "\n",
    "# Add cluster labels to the dataset\n",
    "filtered_en_data['cluster'] = kmeans.labels_\n",
    "\n",
    "# Apply PCA for visualization\n",
    "pca = PCA(n_components=2)\n",
    "reduced_embeddings = pca.fit_transform(en_embeddings)\n",
    "\n",
    "# Add PCA components to the dataset\n",
    "filtered_en_data['pca_one'] = reduced_embeddings[:, 0]\n",
    "filtered_en_data['pca_two'] = reduced_embeddings[:, 1]\n",
    "\n",
    "# Create a scatter plot with Plotly\n",
    "fig = px.scatter(filtered_en_data, x='pca_one', y='pca_two', color='cluster',\n",
    "                 hover_data=['language_code'], color_continuous_scale='Viridis')\n",
    "fig.update_layout(title='Word2Vec with K-Means Clusters for en', xaxis_title='PCA 1', yaxis_title='PCA 2', legend_title='Cluster')\n",
    "fig.show()\n"
   ]
  },
  {
   "cell_type": "code",
   "execution_count": 20,
   "metadata": {},
   "outputs": [
    {
     "name": "stdout",
     "output_type": "stream",
     "text": [
      "cluster  accent_name                  \n",
      "0        6627018149                       1\n",
      "         A'lo                             1\n",
      "         Adjustable                       1\n",
      "         Average                          1\n",
      "         Chinese                          1\n",
      "         Clear                            1\n",
      "         Colombia                         1\n",
      "         Conversational                   1\n",
      "         ESL                              1\n",
      "         Edinburgh                        1\n",
      "         Foreign                          1\n",
      "         France                           1\n",
      "         French                           1\n",
      "         Indonesian                       1\n",
      "         Midatlantic                      1\n",
      "         Okie                             1\n",
      "         Slavic                           1\n",
      "         Spanish                          1\n",
      "         Swenglish                        1\n",
      "         intermediate                     1\n",
      "         latin                            1\n",
      "         london                           1\n",
      "         norskBookMal-Modrne.-No          1\n",
      "         serbian                          1\n",
      "         yorkshire                        1\n",
      "1        A2                               1\n",
      "         Basic                            1\n",
      "         Brooklyn                         1\n",
      "         Catalan                          1\n",
      "         Chicago                          1\n",
      "         Cool                             1\n",
      "         Dutch                            1\n",
      "         Egyptian                         1\n",
      "         Estonian                         1\n",
      "         Fluently                         1\n",
      "         Globish                          1\n",
      "         Guyanese                         1\n",
      "         Hispanic/Latino                  1\n",
      "         Italian                          1\n",
      "         Japanese                         1\n",
      "         Latino                           1\n",
      "         Low                              1\n",
      "         Mancunian                        1\n",
      "         Nepali                           1\n",
      "         Northern                         1\n",
      "         Norwegian                        1\n",
      "         Okay                             1\n",
      "         Patois                           1\n",
      "         Secondary                        1\n",
      "         Slovak                           1\n",
      "         Variable                         1\n",
      "         academic                         1\n",
      "         indian                           1\n",
      "         italico                          1\n",
      "         plain                            1\n",
      "         sussex                           1\n",
      "         Русский                          1\n",
      "         美式腔調                             1\n",
      "2        Austrian                         1\n",
      "         Bangla                           1\n",
      "         British                          1\n",
      "         Car                              1\n",
      "         China                            1\n",
      "         Chinglish                        1\n",
      "         Danish                           1\n",
      "         Demure                           1\n",
      "         English                          1\n",
      "         Expert                           1\n",
      "         French-Canadian-English          1\n",
      "         German                           1\n",
      "         Greek                            1\n",
      "         Hmong-American                   1\n",
      "         Hungarian                        1\n",
      "         Javanese                         1\n",
      "         Kiwi                             1\n",
      "         Lithuanian                       1\n",
      "         Londoner                         1\n",
      "         Manchester                       1\n",
      "         Mentor                           1\n",
      "         Mexican                          1\n",
      "         Non-native                       1\n",
      "         Scottish/Irish                   1\n",
      "         Spanglish                        1\n",
      "         Thai                             1\n",
      "         Thailand                         1\n",
      "         Urban                            1\n",
      "         england                          1\n",
      "         international                    1\n",
      "         midwest                          1\n",
      "         mixed                            1\n",
      "         nepal                            1\n",
      "         ohio                             1\n",
      "         portuguese                       1\n",
      "         wolof                            1\n",
      "         我的英語並沒有很好，可以簡單敘述事情，但是聽與寫與文法不好    1\n",
      "3        Arnold                           1\n",
      "         Asian                            1\n",
      "         B2                               1\n",
      "         Bangladeshi                      1\n",
      "         Brazilian                        1\n",
      "         Bulgarian                        1\n",
      "         California                       1\n",
      "         Catalunya                        1\n",
      "         Danglish                         1\n",
      "         Deutsch                          1\n",
      "         Dzongkha                         1\n",
      "         European                         1\n",
      "         Finnish                          1\n",
      "         Good                             1\n",
      "         Israeli                          1\n",
      "         Kenyan                           1\n",
      "         Latinamerican                    1\n",
      "         Maryland                         1\n",
      "         Massachusetts                    1\n",
      "         Mid-atlantic                     1\n",
      "         Midwestern                       1\n",
      "         Minnesotan                       1\n",
      "         Neutral                          1\n",
      "         Nigerian                         1\n",
      "         Nordic                           1\n",
      "         Northeastern                     1\n",
      "         O'rtacha                         1\n",
      "         Other                            1\n",
      "         Romanian                         1\n",
      "         Russian                          1\n",
      "         Scottish                         1\n",
      "         Self-learned                     1\n",
      "         Southern                         1\n",
      "         Ukrainian                        1\n",
      "         american                         1\n",
      "         aprenent                         1\n",
      "         bangladesh                       1\n",
      "         beginer                          1\n",
      "         eastern-european                 1\n",
      "         estàndard                        1\n",
      "         fluent                           1\n",
      "         français                         1\n",
      "         italiano                         1\n",
      "         medio                            1\n",
      "         polish                           1\n",
      "Name: accent_name, dtype: int64\n"
     ]
    }
   ],
   "source": [
    "# Grouping by cluster and counting the frequency of each language code\n",
    "cluster_language_count = filtered_en_data.groupby('cluster')['accent_name'].value_counts()\n",
    "\n",
    "# # Filtering to show only language codes with frequency greater than zero\n",
    "# cluster_language_count = cluster_language_count[cluster_language_count > 0]\n",
    "\n",
    "\n",
    "print(cluster_language_count)\n",
    "\n"
   ]
  },
  {
   "cell_type": "code",
   "execution_count": 9,
   "metadata": {},
   "outputs": [
    {
     "name": "stderr",
     "output_type": "stream",
     "text": [
      "C:\\Users\\saima\\AppData\\Local\\Temp\\ipykernel_7376\\1919802015.py:25: SettingWithCopyWarning: \n",
      "A value is trying to be set on a copy of a slice from a DataFrame.\n",
      "Try using .loc[row_indexer,col_indexer] = value instead\n",
      "\n",
      "See the caveats in the documentation: https://pandas.pydata.org/pandas-docs/stable/user_guide/indexing.html#returning-a-view-versus-a-copy\n",
      "  filtered_en_data['cluster'] = kmeans.fit_predict(en_goo_embeddings)\n"
     ]
    }
   ],
   "source": [
    "from gensim.models import KeyedVectors\n",
    "\n",
    "# Load the Google News Word2Vec model\n",
    "word2vec_model = KeyedVectors.load_word2vec_format('archive/GoogleNews-vectors-negative300.bin', binary=True)\n",
    "import numpy as np\n",
    "\n",
    "# Function to get embedding for a word\n",
    "def get_embedding(word):\n",
    "    try:\n",
    "        return word2vec_model[word]\n",
    "    except KeyError:\n",
    "        # Return a zero vector if the word is not in the vocabulary\n",
    "        return np.zeros(word2vec_model.vector_size)\n",
    "\n",
    "# Apply the function to your DataFrame\n",
    "# Generating embeddings for accent_name\n",
    "en_goo_embeddings = np.array([get_embedding(text) for text in filtered_en_data['accent_name']])\n",
    "from sklearn.cluster import KMeans\n",
    "\n",
    "# Choose the number of clusters\n",
    "k = 5 # Adjust this based on your requirement\n",
    "\n",
    "# Fit K-means to the embeddings\n",
    "kmeans = KMeans(n_clusters=k)\n",
    "filtered_en_data['cluster'] = kmeans.fit_predict(en_goo_embeddings)\n"
   ]
  },
  {
   "cell_type": "code",
   "execution_count": 12,
   "metadata": {},
   "outputs": [
    {
     "name": "stderr",
     "output_type": "stream",
     "text": [
      "C:\\Users\\saima\\AppData\\Local\\Temp\\ipykernel_7376\\3587152748.py:2: SettingWithCopyWarning: \n",
      "A value is trying to be set on a copy of a slice from a DataFrame.\n",
      "Try using .loc[row_indexer,col_indexer] = value instead\n",
      "\n",
      "See the caveats in the documentation: https://pandas.pydata.org/pandas-docs/stable/user_guide/indexing.html#returning-a-view-versus-a-copy\n",
      "  filtered_en_data['cluster'] = kmeans.labels_\n",
      "C:\\Users\\saima\\AppData\\Local\\Temp\\ipykernel_7376\\3587152748.py:9: SettingWithCopyWarning: \n",
      "A value is trying to be set on a copy of a slice from a DataFrame.\n",
      "Try using .loc[row_indexer,col_indexer] = value instead\n",
      "\n",
      "See the caveats in the documentation: https://pandas.pydata.org/pandas-docs/stable/user_guide/indexing.html#returning-a-view-versus-a-copy\n",
      "  filtered_en_data['pca_one'] = reduced_embeddings[:, 0]\n",
      "C:\\Users\\saima\\AppData\\Local\\Temp\\ipykernel_7376\\3587152748.py:10: SettingWithCopyWarning: \n",
      "A value is trying to be set on a copy of a slice from a DataFrame.\n",
      "Try using .loc[row_indexer,col_indexer] = value instead\n",
      "\n",
      "See the caveats in the documentation: https://pandas.pydata.org/pandas-docs/stable/user_guide/indexing.html#returning-a-view-versus-a-copy\n",
      "  filtered_en_data['pca_two'] = reduced_embeddings[:, 1]\n"
     ]
    },
    {
     "data": {
      "application/vnd.plotly.v1+json": {
       "config": {
        "plotlyServerURL": "https://plot.ly"
       },
       "data": [
        {
         "customdata": [
          [
           "en"
          ],
          [
           "en"
          ],
          [
           "en"
          ],
          [
           "en"
          ],
          [
           "en"
          ],
          [
           "en"
          ],
          [
           "en"
          ],
          [
           "en"
          ],
          [
           "en"
          ],
          [
           "en"
          ],
          [
           "en"
          ],
          [
           "en"
          ],
          [
           "en"
          ],
          [
           "en"
          ],
          [
           "en"
          ],
          [
           "en"
          ],
          [
           "en"
          ],
          [
           "en"
          ],
          [
           "en"
          ],
          [
           "en"
          ],
          [
           "en"
          ],
          [
           "en"
          ],
          [
           "en"
          ],
          [
           "en"
          ],
          [
           "en"
          ],
          [
           "en"
          ],
          [
           "en"
          ],
          [
           "en"
          ],
          [
           "en"
          ],
          [
           "en"
          ],
          [
           "en"
          ],
          [
           "en"
          ],
          [
           "en"
          ],
          [
           "en"
          ],
          [
           "en"
          ],
          [
           "en"
          ],
          [
           "en"
          ],
          [
           "en"
          ],
          [
           "en"
          ],
          [
           "en"
          ],
          [
           "en"
          ],
          [
           "en"
          ],
          [
           "en"
          ],
          [
           "en"
          ],
          [
           "en"
          ],
          [
           "en"
          ],
          [
           "en"
          ],
          [
           "en"
          ],
          [
           "en"
          ],
          [
           "en"
          ],
          [
           "en"
          ],
          [
           "en"
          ],
          [
           "en"
          ],
          [
           "en"
          ],
          [
           "en"
          ],
          [
           "en"
          ],
          [
           "en"
          ],
          [
           "en"
          ],
          [
           "en"
          ],
          [
           "en"
          ],
          [
           "en"
          ],
          [
           "en"
          ],
          [
           "en"
          ],
          [
           "en"
          ],
          [
           "en"
          ],
          [
           "en"
          ],
          [
           "en"
          ],
          [
           "en"
          ],
          [
           "en"
          ],
          [
           "en"
          ],
          [
           "en"
          ],
          [
           "en"
          ],
          [
           "en"
          ],
          [
           "en"
          ],
          [
           "en"
          ],
          [
           "en"
          ],
          [
           "en"
          ],
          [
           "en"
          ],
          [
           "en"
          ],
          [
           "en"
          ],
          [
           "en"
          ],
          [
           "en"
          ],
          [
           "en"
          ],
          [
           "en"
          ],
          [
           "en"
          ],
          [
           "en"
          ],
          [
           "en"
          ],
          [
           "en"
          ],
          [
           "en"
          ],
          [
           "en"
          ],
          [
           "en"
          ],
          [
           "en"
          ],
          [
           "en"
          ],
          [
           "en"
          ],
          [
           "en"
          ],
          [
           "en"
          ],
          [
           "en"
          ],
          [
           "en"
          ],
          [
           "en"
          ],
          [
           "en"
          ],
          [
           "en"
          ],
          [
           "en"
          ],
          [
           "en"
          ],
          [
           "en"
          ],
          [
           "en"
          ],
          [
           "en"
          ],
          [
           "en"
          ],
          [
           "en"
          ],
          [
           "en"
          ],
          [
           "en"
          ],
          [
           "en"
          ],
          [
           "en"
          ],
          [
           "en"
          ],
          [
           "en"
          ],
          [
           "en"
          ],
          [
           "en"
          ],
          [
           "en"
          ],
          [
           "en"
          ],
          [
           "en"
          ],
          [
           "en"
          ],
          [
           "en"
          ],
          [
           "en"
          ],
          [
           "en"
          ],
          [
           "en"
          ],
          [
           "en"
          ],
          [
           "en"
          ],
          [
           "en"
          ],
          [
           "en"
          ],
          [
           "en"
          ],
          [
           "en"
          ],
          [
           "en"
          ],
          [
           "en"
          ],
          [
           "en"
          ],
          [
           "en"
          ],
          [
           "en"
          ],
          [
           "en"
          ],
          [
           "en"
          ],
          [
           "en"
          ],
          [
           "en"
          ],
          [
           "en"
          ]
         ],
         "hovertemplate": "pca_one=%{x}<br>pca_two=%{y}<br>language_code=%{customdata[0]}<br>cluster=%{marker.color}<extra></extra>",
         "legendgroup": "",
         "marker": {
          "color": [
           0,
           1,
           0,
           2,
           1,
           3,
           2,
           0,
           0,
           2,
           0,
           0,
           0,
           4,
           0,
           0,
           0,
           0,
           0,
           0,
           0,
           0,
           0,
           0,
           0,
           0,
           0,
           1,
           2,
           0,
           2,
           2,
           0,
           2,
           2,
           1,
           3,
           0,
           0,
           3,
           3,
           2,
           0,
           1,
           0,
           3,
           3,
           1,
           0,
           0,
           0,
           0,
           3,
           0,
           0,
           0,
           0,
           0,
           0,
           0,
           0,
           0,
           4,
           0,
           0,
           1,
           1,
           0,
           3,
           2,
           4,
           1,
           0,
           0,
           0,
           0,
           1,
           3,
           1,
           0,
           0,
           2,
           0,
           0,
           0,
           0,
           0,
           3,
           3,
           0,
           0,
           0,
           1,
           1,
           0,
           0,
           0,
           0,
           0,
           0,
           2,
           0,
           0,
           1,
           0,
           0,
           0,
           1,
           0,
           1,
           0,
           0,
           1,
           3,
           3,
           4,
           0,
           0,
           0,
           0,
           1,
           0,
           1,
           1,
           3,
           3,
           1,
           4,
           0,
           0,
           4,
           0,
           0,
           0,
           0,
           1,
           0,
           4,
           4,
           2
          ],
          "coloraxis": "coloraxis",
          "symbol": "circle"
         },
         "mode": "markers",
         "name": "",
         "orientation": "v",
         "showlegend": false,
         "type": "scatter",
         "x": [
          -0.24047763931347316,
          0.8326052648573308,
          -0.5570792904200106,
          1.2807632616408149,
          1.240303685377698,
          1.0519789136769222,
          1.4336244691695958,
          -0.5524924132999475,
          0.19206137811130047,
          0.745948349799483,
          -0.3664044334955504,
          0.2976972866715006,
          -0.6776403426977106,
          0.8861095486287875,
          -0.5795472960329844,
          -0.8033044477200376,
          -0.6776403426977106,
          -0.3445256447203994,
          -0.1458785334821062,
          -0.6776403426977107,
          -0.565020245376426,
          -1.281739927298294,
          -0.6776403426977107,
          -0.20082194431075978,
          -0.7869613847402138,
          -0.7227704048405081,
          -0.659704425242603,
          0.10386993690658565,
          1.74925340811959,
          -0.6776403426977107,
          1.832182952040411,
          1.7437496119274807,
          -1.0808338829317465,
          1.6386124484647655,
          2.0121813419246637,
          0.15711416960167607,
          -0.30700023718185854,
          -0.6776403426977107,
          -0.6776403426977107,
          1.218779185225633,
          0.33845009336243137,
          1.722629025977485,
          -0.7344815104753585,
          1.435215933084708,
          -0.6776403426977107,
          1.200092844186803,
          0.8948412394269719,
          0.2960873975627394,
          -0.434659271571994,
          -0.6776403426977107,
          -0.8085509642925968,
          -0.26164766027980285,
          0.19560305082863083,
          -0.7182600139918782,
          -0.6776403426977107,
          0.04046540310706216,
          -0.9166585773745755,
          -0.6776403426977107,
          -0.9057771487021896,
          -0.851166142351235,
          0.2855593961609954,
          -0.6776403426977107,
          0.9033309438804578,
          -0.8551735102951663,
          -1.0818448141068053,
          0.32318181701104115,
          0.8434731413390939,
          -0.6776403426977107,
          0.9427275633080836,
          1.7715557462949365,
          1.13910164223832,
          0.6757582852539935,
          -0.5393007261928223,
          -0.6776403426977107,
          -1.1504171363314994,
          -0.5172262334416802,
          0.768563560038556,
          0.041801748696526614,
          1.5359128030224936,
          -0.9612094092065632,
          -0.6776403426977107,
          1.1934485178246104,
          -0.3948973531972964,
          -0.5785793280864359,
          -0.6776403426977107,
          -1.1103744978716754,
          -0.45935997609662965,
          0.060417556216636914,
          0.9514042691379366,
          -0.6776403426977107,
          -0.6791833407393589,
          -1.1920483110556397,
          1.0963065001137582,
          0.9022764499694711,
          -0.8475675233393992,
          0.09255310623549116,
          -0.12243571012958576,
          -0.27095446065596457,
          -0.6116373464782459,
          -0.5157765041363589,
          1.6511032353687893,
          -0.7908593580524608,
          -0.715334469860406,
          0.34025118344656585,
          -0.6776403426977107,
          -0.48062707001885985,
          -0.6346877177074041,
          0.9725662764749793,
          -0.8253259845351995,
          1.0995182111760304,
          -0.6776403426977107,
          -0.6776403426977107,
          0.07182660285220742,
          0.18213070822959548,
          -0.15659357420622033,
          1.1296113855069605,
          -0.2149240264630761,
          -0.4630630159928091,
          -1.3858564306735006,
          -0.6776403426977107,
          0.9664159346253071,
          -0.7590473477594505,
          0.9252917953530806,
          -0.028895856594336806,
          0.49422358457276727,
          0.2771315902627751,
          0.6221359166415121,
          0.10091757302560365,
          -0.2813731882174611,
          -0.38456206166860946,
          1.3013965809513839,
          -0.6319432964970708,
          -0.9152458095897795,
          -0.6776403426977107,
          -0.44983013931663235,
          -0.006030376602693002,
          -0.37726169804455645,
          0.2539705949908673,
          0.7556598731754939,
          1.9115542888804464
         ],
         "xaxis": "x",
         "y": [
          0.8094189937810751,
          -0.6319309198794847,
          0.13965153100317554,
          -0.4430195737729395,
          -0.12265413933402426,
          0.08194534555995121,
          -0.5574303092082957,
          -0.20309847183402316,
          1.1053362140798861,
          -0.1394009189402095,
          0.8917389762077647,
          1.7163390781159373,
          -0.21626161497979343,
          1.0203253100410443,
          0.24044106586478983,
          -0.40428472454187836,
          -0.21626161497979343,
          -0.8833900576763521,
          -0.6329534828265657,
          -0.21626161497979343,
          -0.6947422216947757,
          -0.23449779811364882,
          -0.21626161497979343,
          1.1633224166827552,
          -0.5613203826009636,
          -0.4297455544262744,
          0.1018485526643485,
          -0.2278049866686345,
          -0.5911421699128101,
          -0.21626161497979346,
          -0.5403147709053141,
          -0.6294379318762349,
          -0.4506307006616344,
          -0.9160004477739666,
          -0.5567739781971666,
          -0.3322423081014495,
          0.9942400486966898,
          -0.21626161497979346,
          -0.21626161497979346,
          0.7708481923494969,
          0.7808503988588833,
          -0.6392932366041664,
          -0.16220147870637927,
          -0.6960245157826537,
          -0.21626161497979346,
          -0.20339533682750716,
          0.5451735673360364,
          -0.3112372898571062,
          0.5568250191274857,
          -0.21626161497979346,
          -0.21466189213160564,
          1.6212473848960525,
          -0.051364537330114556,
          -0.21016116343991953,
          -0.21626161497979346,
          0.4914372494135614,
          -0.3646381987631537,
          -0.21626161497979346,
          -0.7054826500848965,
          -0.5429570423717015,
          1.0970929159559168,
          -0.21626161497979346,
          0.4464617044360624,
          -0.11407092752235458,
          -0.6124787247076234,
          -0.06831901378092448,
          -0.4248820488898355,
          -0.21626161497979346,
          0.08892381351101726,
          -0.29804012468460545,
          0.19692977757851082,
          -1.0235978413673077,
          -0.3782502792453555,
          -0.21626161497979346,
          -0.02712423283413507,
          -0.002262907608062656,
          0.10461842343953402,
          0.09079043809220105,
          -0.5768474338081502,
          -0.38522303981900113,
          -0.21626161497979346,
          -0.2837043994981169,
          0.4611436222883272,
          0.48564337469315944,
          -0.21626161497979346,
          -0.5128810473641677,
          -0.07763522282316525,
          0.22283791831001631,
          0.025910073183389937,
          -0.21626161497979346,
          0.08850300360268758,
          -0.3364713085870941,
          -0.6681605614631491,
          -0.08178315466863305,
          0.5225065419308303,
          0.7815239789228814,
          1.8393480643653062,
          1.7218767058691973,
          -0.06921058724691866,
          -0.710294886881832,
          -0.6687647419668177,
          -0.7519042999578094,
          -0.5593184972976232,
          0.01255493454231578,
          -0.21626161497979346,
          -0.771633319404239,
          1.2973982054990023,
          -0.17805217704636603,
          -0.5215119591807222,
          -0.27917454531407004,
          -0.21626161497979346,
          -0.21626161497979346,
          -0.11908864395272359,
          1.1763917978390743,
          1.420551965645331,
          0.8922570240241726,
          1.0021212780597362,
          -0.4399980040314468,
          -0.522589082855005,
          -0.21626161497979346,
          -0.20367538472209396,
          -0.6029027815353988,
          -0.3708954435420467,
          -0.08607112469162113,
          1.3216661298257086,
          -0.04063684893479255,
          0.41325758337910623,
          1.4141682731140934,
          1.233347986074908,
          0.7793647078336434,
          0.04076771876280889,
          -0.655245297930511,
          -0.396657950994382,
          -0.21626161497979346,
          0.020192208942955363,
          0.19013907602723767,
          -0.4135068231816154,
          0.01901377462972017,
          1.3609034967048796,
          -0.5243424720216481
         ],
         "yaxis": "y"
        }
       ],
       "layout": {
        "coloraxis": {
         "colorbar": {
          "title": {
           "text": "cluster"
          }
         },
         "colorscale": [
          [
           0,
           "#440154"
          ],
          [
           0.1111111111111111,
           "#482878"
          ],
          [
           0.2222222222222222,
           "#3e4989"
          ],
          [
           0.3333333333333333,
           "#31688e"
          ],
          [
           0.4444444444444444,
           "#26828e"
          ],
          [
           0.5555555555555556,
           "#1f9e89"
          ],
          [
           0.6666666666666666,
           "#35b779"
          ],
          [
           0.7777777777777778,
           "#6ece58"
          ],
          [
           0.8888888888888888,
           "#b5de2b"
          ],
          [
           1,
           "#fde725"
          ]
         ]
        },
        "legend": {
         "title": {
          "text": "Cluster"
         },
         "tracegroupgap": 0
        },
        "margin": {
         "t": 60
        },
        "template": {
         "data": {
          "bar": [
           {
            "error_x": {
             "color": "#2a3f5f"
            },
            "error_y": {
             "color": "#2a3f5f"
            },
            "marker": {
             "line": {
              "color": "#E5ECF6",
              "width": 0.5
             },
             "pattern": {
              "fillmode": "overlay",
              "size": 10,
              "solidity": 0.2
             }
            },
            "type": "bar"
           }
          ],
          "barpolar": [
           {
            "marker": {
             "line": {
              "color": "#E5ECF6",
              "width": 0.5
             },
             "pattern": {
              "fillmode": "overlay",
              "size": 10,
              "solidity": 0.2
             }
            },
            "type": "barpolar"
           }
          ],
          "carpet": [
           {
            "aaxis": {
             "endlinecolor": "#2a3f5f",
             "gridcolor": "white",
             "linecolor": "white",
             "minorgridcolor": "white",
             "startlinecolor": "#2a3f5f"
            },
            "baxis": {
             "endlinecolor": "#2a3f5f",
             "gridcolor": "white",
             "linecolor": "white",
             "minorgridcolor": "white",
             "startlinecolor": "#2a3f5f"
            },
            "type": "carpet"
           }
          ],
          "choropleth": [
           {
            "colorbar": {
             "outlinewidth": 0,
             "ticks": ""
            },
            "type": "choropleth"
           }
          ],
          "contour": [
           {
            "colorbar": {
             "outlinewidth": 0,
             "ticks": ""
            },
            "colorscale": [
             [
              0,
              "#0d0887"
             ],
             [
              0.1111111111111111,
              "#46039f"
             ],
             [
              0.2222222222222222,
              "#7201a8"
             ],
             [
              0.3333333333333333,
              "#9c179e"
             ],
             [
              0.4444444444444444,
              "#bd3786"
             ],
             [
              0.5555555555555556,
              "#d8576b"
             ],
             [
              0.6666666666666666,
              "#ed7953"
             ],
             [
              0.7777777777777778,
              "#fb9f3a"
             ],
             [
              0.8888888888888888,
              "#fdca26"
             ],
             [
              1,
              "#f0f921"
             ]
            ],
            "type": "contour"
           }
          ],
          "contourcarpet": [
           {
            "colorbar": {
             "outlinewidth": 0,
             "ticks": ""
            },
            "type": "contourcarpet"
           }
          ],
          "heatmap": [
           {
            "colorbar": {
             "outlinewidth": 0,
             "ticks": ""
            },
            "colorscale": [
             [
              0,
              "#0d0887"
             ],
             [
              0.1111111111111111,
              "#46039f"
             ],
             [
              0.2222222222222222,
              "#7201a8"
             ],
             [
              0.3333333333333333,
              "#9c179e"
             ],
             [
              0.4444444444444444,
              "#bd3786"
             ],
             [
              0.5555555555555556,
              "#d8576b"
             ],
             [
              0.6666666666666666,
              "#ed7953"
             ],
             [
              0.7777777777777778,
              "#fb9f3a"
             ],
             [
              0.8888888888888888,
              "#fdca26"
             ],
             [
              1,
              "#f0f921"
             ]
            ],
            "type": "heatmap"
           }
          ],
          "heatmapgl": [
           {
            "colorbar": {
             "outlinewidth": 0,
             "ticks": ""
            },
            "colorscale": [
             [
              0,
              "#0d0887"
             ],
             [
              0.1111111111111111,
              "#46039f"
             ],
             [
              0.2222222222222222,
              "#7201a8"
             ],
             [
              0.3333333333333333,
              "#9c179e"
             ],
             [
              0.4444444444444444,
              "#bd3786"
             ],
             [
              0.5555555555555556,
              "#d8576b"
             ],
             [
              0.6666666666666666,
              "#ed7953"
             ],
             [
              0.7777777777777778,
              "#fb9f3a"
             ],
             [
              0.8888888888888888,
              "#fdca26"
             ],
             [
              1,
              "#f0f921"
             ]
            ],
            "type": "heatmapgl"
           }
          ],
          "histogram": [
           {
            "marker": {
             "pattern": {
              "fillmode": "overlay",
              "size": 10,
              "solidity": 0.2
             }
            },
            "type": "histogram"
           }
          ],
          "histogram2d": [
           {
            "colorbar": {
             "outlinewidth": 0,
             "ticks": ""
            },
            "colorscale": [
             [
              0,
              "#0d0887"
             ],
             [
              0.1111111111111111,
              "#46039f"
             ],
             [
              0.2222222222222222,
              "#7201a8"
             ],
             [
              0.3333333333333333,
              "#9c179e"
             ],
             [
              0.4444444444444444,
              "#bd3786"
             ],
             [
              0.5555555555555556,
              "#d8576b"
             ],
             [
              0.6666666666666666,
              "#ed7953"
             ],
             [
              0.7777777777777778,
              "#fb9f3a"
             ],
             [
              0.8888888888888888,
              "#fdca26"
             ],
             [
              1,
              "#f0f921"
             ]
            ],
            "type": "histogram2d"
           }
          ],
          "histogram2dcontour": [
           {
            "colorbar": {
             "outlinewidth": 0,
             "ticks": ""
            },
            "colorscale": [
             [
              0,
              "#0d0887"
             ],
             [
              0.1111111111111111,
              "#46039f"
             ],
             [
              0.2222222222222222,
              "#7201a8"
             ],
             [
              0.3333333333333333,
              "#9c179e"
             ],
             [
              0.4444444444444444,
              "#bd3786"
             ],
             [
              0.5555555555555556,
              "#d8576b"
             ],
             [
              0.6666666666666666,
              "#ed7953"
             ],
             [
              0.7777777777777778,
              "#fb9f3a"
             ],
             [
              0.8888888888888888,
              "#fdca26"
             ],
             [
              1,
              "#f0f921"
             ]
            ],
            "type": "histogram2dcontour"
           }
          ],
          "mesh3d": [
           {
            "colorbar": {
             "outlinewidth": 0,
             "ticks": ""
            },
            "type": "mesh3d"
           }
          ],
          "parcoords": [
           {
            "line": {
             "colorbar": {
              "outlinewidth": 0,
              "ticks": ""
             }
            },
            "type": "parcoords"
           }
          ],
          "pie": [
           {
            "automargin": true,
            "type": "pie"
           }
          ],
          "scatter": [
           {
            "fillpattern": {
             "fillmode": "overlay",
             "size": 10,
             "solidity": 0.2
            },
            "type": "scatter"
           }
          ],
          "scatter3d": [
           {
            "line": {
             "colorbar": {
              "outlinewidth": 0,
              "ticks": ""
             }
            },
            "marker": {
             "colorbar": {
              "outlinewidth": 0,
              "ticks": ""
             }
            },
            "type": "scatter3d"
           }
          ],
          "scattercarpet": [
           {
            "marker": {
             "colorbar": {
              "outlinewidth": 0,
              "ticks": ""
             }
            },
            "type": "scattercarpet"
           }
          ],
          "scattergeo": [
           {
            "marker": {
             "colorbar": {
              "outlinewidth": 0,
              "ticks": ""
             }
            },
            "type": "scattergeo"
           }
          ],
          "scattergl": [
           {
            "marker": {
             "colorbar": {
              "outlinewidth": 0,
              "ticks": ""
             }
            },
            "type": "scattergl"
           }
          ],
          "scattermapbox": [
           {
            "marker": {
             "colorbar": {
              "outlinewidth": 0,
              "ticks": ""
             }
            },
            "type": "scattermapbox"
           }
          ],
          "scatterpolar": [
           {
            "marker": {
             "colorbar": {
              "outlinewidth": 0,
              "ticks": ""
             }
            },
            "type": "scatterpolar"
           }
          ],
          "scatterpolargl": [
           {
            "marker": {
             "colorbar": {
              "outlinewidth": 0,
              "ticks": ""
             }
            },
            "type": "scatterpolargl"
           }
          ],
          "scatterternary": [
           {
            "marker": {
             "colorbar": {
              "outlinewidth": 0,
              "ticks": ""
             }
            },
            "type": "scatterternary"
           }
          ],
          "surface": [
           {
            "colorbar": {
             "outlinewidth": 0,
             "ticks": ""
            },
            "colorscale": [
             [
              0,
              "#0d0887"
             ],
             [
              0.1111111111111111,
              "#46039f"
             ],
             [
              0.2222222222222222,
              "#7201a8"
             ],
             [
              0.3333333333333333,
              "#9c179e"
             ],
             [
              0.4444444444444444,
              "#bd3786"
             ],
             [
              0.5555555555555556,
              "#d8576b"
             ],
             [
              0.6666666666666666,
              "#ed7953"
             ],
             [
              0.7777777777777778,
              "#fb9f3a"
             ],
             [
              0.8888888888888888,
              "#fdca26"
             ],
             [
              1,
              "#f0f921"
             ]
            ],
            "type": "surface"
           }
          ],
          "table": [
           {
            "cells": {
             "fill": {
              "color": "#EBF0F8"
             },
             "line": {
              "color": "white"
             }
            },
            "header": {
             "fill": {
              "color": "#C8D4E3"
             },
             "line": {
              "color": "white"
             }
            },
            "type": "table"
           }
          ]
         },
         "layout": {
          "annotationdefaults": {
           "arrowcolor": "#2a3f5f",
           "arrowhead": 0,
           "arrowwidth": 1
          },
          "autotypenumbers": "strict",
          "coloraxis": {
           "colorbar": {
            "outlinewidth": 0,
            "ticks": ""
           }
          },
          "colorscale": {
           "diverging": [
            [
             0,
             "#8e0152"
            ],
            [
             0.1,
             "#c51b7d"
            ],
            [
             0.2,
             "#de77ae"
            ],
            [
             0.3,
             "#f1b6da"
            ],
            [
             0.4,
             "#fde0ef"
            ],
            [
             0.5,
             "#f7f7f7"
            ],
            [
             0.6,
             "#e6f5d0"
            ],
            [
             0.7,
             "#b8e186"
            ],
            [
             0.8,
             "#7fbc41"
            ],
            [
             0.9,
             "#4d9221"
            ],
            [
             1,
             "#276419"
            ]
           ],
           "sequential": [
            [
             0,
             "#0d0887"
            ],
            [
             0.1111111111111111,
             "#46039f"
            ],
            [
             0.2222222222222222,
             "#7201a8"
            ],
            [
             0.3333333333333333,
             "#9c179e"
            ],
            [
             0.4444444444444444,
             "#bd3786"
            ],
            [
             0.5555555555555556,
             "#d8576b"
            ],
            [
             0.6666666666666666,
             "#ed7953"
            ],
            [
             0.7777777777777778,
             "#fb9f3a"
            ],
            [
             0.8888888888888888,
             "#fdca26"
            ],
            [
             1,
             "#f0f921"
            ]
           ],
           "sequentialminus": [
            [
             0,
             "#0d0887"
            ],
            [
             0.1111111111111111,
             "#46039f"
            ],
            [
             0.2222222222222222,
             "#7201a8"
            ],
            [
             0.3333333333333333,
             "#9c179e"
            ],
            [
             0.4444444444444444,
             "#bd3786"
            ],
            [
             0.5555555555555556,
             "#d8576b"
            ],
            [
             0.6666666666666666,
             "#ed7953"
            ],
            [
             0.7777777777777778,
             "#fb9f3a"
            ],
            [
             0.8888888888888888,
             "#fdca26"
            ],
            [
             1,
             "#f0f921"
            ]
           ]
          },
          "colorway": [
           "#636efa",
           "#EF553B",
           "#00cc96",
           "#ab63fa",
           "#FFA15A",
           "#19d3f3",
           "#FF6692",
           "#B6E880",
           "#FF97FF",
           "#FECB52"
          ],
          "font": {
           "color": "#2a3f5f"
          },
          "geo": {
           "bgcolor": "white",
           "lakecolor": "white",
           "landcolor": "#E5ECF6",
           "showlakes": true,
           "showland": true,
           "subunitcolor": "white"
          },
          "hoverlabel": {
           "align": "left"
          },
          "hovermode": "closest",
          "mapbox": {
           "style": "light"
          },
          "paper_bgcolor": "white",
          "plot_bgcolor": "#E5ECF6",
          "polar": {
           "angularaxis": {
            "gridcolor": "white",
            "linecolor": "white",
            "ticks": ""
           },
           "bgcolor": "#E5ECF6",
           "radialaxis": {
            "gridcolor": "white",
            "linecolor": "white",
            "ticks": ""
           }
          },
          "scene": {
           "xaxis": {
            "backgroundcolor": "#E5ECF6",
            "gridcolor": "white",
            "gridwidth": 2,
            "linecolor": "white",
            "showbackground": true,
            "ticks": "",
            "zerolinecolor": "white"
           },
           "yaxis": {
            "backgroundcolor": "#E5ECF6",
            "gridcolor": "white",
            "gridwidth": 2,
            "linecolor": "white",
            "showbackground": true,
            "ticks": "",
            "zerolinecolor": "white"
           },
           "zaxis": {
            "backgroundcolor": "#E5ECF6",
            "gridcolor": "white",
            "gridwidth": 2,
            "linecolor": "white",
            "showbackground": true,
            "ticks": "",
            "zerolinecolor": "white"
           }
          },
          "shapedefaults": {
           "line": {
            "color": "#2a3f5f"
           }
          },
          "ternary": {
           "aaxis": {
            "gridcolor": "white",
            "linecolor": "white",
            "ticks": ""
           },
           "baxis": {
            "gridcolor": "white",
            "linecolor": "white",
            "ticks": ""
           },
           "bgcolor": "#E5ECF6",
           "caxis": {
            "gridcolor": "white",
            "linecolor": "white",
            "ticks": ""
           }
          },
          "title": {
           "x": 0.05
          },
          "xaxis": {
           "automargin": true,
           "gridcolor": "white",
           "linecolor": "white",
           "ticks": "",
           "title": {
            "standoff": 15
           },
           "zerolinecolor": "white",
           "zerolinewidth": 2
          },
          "yaxis": {
           "automargin": true,
           "gridcolor": "white",
           "linecolor": "white",
           "ticks": "",
           "title": {
            "standoff": 15
           },
           "zerolinecolor": "white",
           "zerolinewidth": 2
          }
         }
        },
        "title": {
         "text": "Word2Vec with K-Means Clusters in 2D PCA Space"
        },
        "xaxis": {
         "anchor": "y",
         "domain": [
          0,
          1
         ],
         "title": {
          "text": "PCA 1"
         }
        },
        "yaxis": {
         "anchor": "x",
         "domain": [
          0,
          1
         ],
         "title": {
          "text": "PCA 2"
         }
        }
       }
      }
     },
     "metadata": {},
     "output_type": "display_data"
    }
   ],
   "source": [
    "# Add cluster labels to the dataset\n",
    "filtered_en_data['cluster'] = kmeans.labels_\n",
    "\n",
    "# Apply PCA for visualization\n",
    "pca = PCA(n_components=2)\n",
    "reduced_embeddings = pca.fit_transform(en_goo_embeddings)\n",
    "\n",
    "# Add PCA components to the dataset\n",
    "filtered_en_data['pca_one'] = reduced_embeddings[:, 0]\n",
    "filtered_en_data['pca_two'] = reduced_embeddings[:, 1]\n",
    "\n",
    "# Create a scatter plot with Plotly\n",
    "fig = px.scatter(filtered_en_data, x='pca_one', y='pca_two', color='cluster',\n",
    "                 hover_data=['language_code'], color_continuous_scale='Viridis')\n",
    "fig.update_layout(title='Word2Vec with K-Means Clusters in 2D PCA Space', xaxis_title='PCA 1', yaxis_title='PCA 2', legend_title='Cluster')\n",
    "fig.show()"
   ]
  },
  {
   "cell_type": "code",
   "execution_count": 15,
   "metadata": {},
   "outputs": [
    {
     "data": {
      "text/html": [
       "<div>\n",
       "<style scoped>\n",
       "    .dataframe tbody tr th:only-of-type {\n",
       "        vertical-align: middle;\n",
       "    }\n",
       "\n",
       "    .dataframe tbody tr th {\n",
       "        vertical-align: top;\n",
       "    }\n",
       "\n",
       "    .dataframe thead th {\n",
       "        text-align: right;\n",
       "    }\n",
       "</style>\n",
       "<table border=\"1\" class=\"dataframe\">\n",
       "  <thead>\n",
       "    <tr style=\"text-align: right;\">\n",
       "      <th></th>\n",
       "      <th>language_code</th>\n",
       "      <th>accent_name</th>\n",
       "      <th>hased_client_id</th>\n",
       "      <th>embedding</th>\n",
       "      <th>cluster</th>\n",
       "      <th>pca_one</th>\n",
       "      <th>pca_two</th>\n",
       "    </tr>\n",
       "  </thead>\n",
       "  <tbody>\n",
       "    <tr>\n",
       "      <th>27</th>\n",
       "      <td>en</td>\n",
       "      <td>fluent</td>\n",
       "      <td>3c54c69382b6561dd742834ad99d9846c602ba00ec119b...</td>\n",
       "      <td>[0.012512207, -0.04736328, -0.13574219, -0.015...</td>\n",
       "      <td>0</td>\n",
       "      <td>-0.240478</td>\n",
       "      <td>0.809419</td>\n",
       "    </tr>\n",
       "    <tr>\n",
       "      <th>28</th>\n",
       "      <td>en</td>\n",
       "      <td>European</td>\n",
       "      <td>3c54c69382b6561dd742834ad99d9846c602ba00ec119b...</td>\n",
       "      <td>[0.0859375, -0.020263672, 0.27929688, 0.133789...</td>\n",
       "      <td>1</td>\n",
       "      <td>0.832605</td>\n",
       "      <td>-0.631931</td>\n",
       "    </tr>\n",
       "    <tr>\n",
       "      <th>30</th>\n",
       "      <td>en</td>\n",
       "      <td>ESL</td>\n",
       "      <td>3c54c69382b6561dd742834ad99d9846c602ba00ec119b...</td>\n",
       "      <td>[-0.21484375, -0.43164062, 0.009765625, -0.021...</td>\n",
       "      <td>0</td>\n",
       "      <td>-0.557079</td>\n",
       "      <td>0.139652</td>\n",
       "    </tr>\n",
       "    <tr>\n",
       "      <th>35</th>\n",
       "      <td>en</td>\n",
       "      <td>German</td>\n",
       "      <td>9811d602919ec7603386aa4b2eb4a1a41cd8bc4a912cad...</td>\n",
       "      <td>[0.30664062, 0.11035156, 0.16699219, 0.0132446...</td>\n",
       "      <td>2</td>\n",
       "      <td>1.280763</td>\n",
       "      <td>-0.443020</td>\n",
       "    </tr>\n",
       "    <tr>\n",
       "      <th>39</th>\n",
       "      <td>en</td>\n",
       "      <td>Dutch</td>\n",
       "      <td>2ae8b2f84ba05f38dcb91b8734934d920f21418abfd090...</td>\n",
       "      <td>[-0.096191406, -0.10253906, 0.076660156, 0.018...</td>\n",
       "      <td>1</td>\n",
       "      <td>1.240304</td>\n",
       "      <td>-0.122654</td>\n",
       "    </tr>\n",
       "  </tbody>\n",
       "</table>\n",
       "</div>"
      ],
      "text/plain": [
       "   language_code accent_name  \\\n",
       "27            en      fluent   \n",
       "28            en    European   \n",
       "30            en         ESL   \n",
       "35            en      German   \n",
       "39            en       Dutch   \n",
       "\n",
       "                                      hased_client_id  \\\n",
       "27  3c54c69382b6561dd742834ad99d9846c602ba00ec119b...   \n",
       "28  3c54c69382b6561dd742834ad99d9846c602ba00ec119b...   \n",
       "30  3c54c69382b6561dd742834ad99d9846c602ba00ec119b...   \n",
       "35  9811d602919ec7603386aa4b2eb4a1a41cd8bc4a912cad...   \n",
       "39  2ae8b2f84ba05f38dcb91b8734934d920f21418abfd090...   \n",
       "\n",
       "                                            embedding  cluster   pca_one  \\\n",
       "27  [0.012512207, -0.04736328, -0.13574219, -0.015...        0 -0.240478   \n",
       "28  [0.0859375, -0.020263672, 0.27929688, 0.133789...        1  0.832605   \n",
       "30  [-0.21484375, -0.43164062, 0.009765625, -0.021...        0 -0.557079   \n",
       "35  [0.30664062, 0.11035156, 0.16699219, 0.0132446...        2  1.280763   \n",
       "39  [-0.096191406, -0.10253906, 0.076660156, 0.018...        1  1.240304   \n",
       "\n",
       "     pca_two  \n",
       "27  0.809419  \n",
       "28 -0.631931  \n",
       "30  0.139652  \n",
       "35 -0.443020  \n",
       "39 -0.122654  "
      ]
     },
     "execution_count": 15,
     "metadata": {},
     "output_type": "execute_result"
    }
   ],
   "source": [
    "filtered_en_data.head()"
   ]
  },
  {
   "cell_type": "code",
   "execution_count": 16,
   "metadata": {},
   "outputs": [
    {
     "name": "stdout",
     "output_type": "stream",
     "text": [
      "cluster  accent_name                  \n",
      "0        6627018149                       1\n",
      "         A'lo                             1\n",
      "         A2                               1\n",
      "         Adjustable                       1\n",
      "         Arnold                           1\n",
      "         Average                          1\n",
      "         B2                               1\n",
      "         Basic                            1\n",
      "         Brooklyn                         1\n",
      "         California                       1\n",
      "         Car                              1\n",
      "         Chicago                          1\n",
      "         Chinglish                        1\n",
      "         Clear                            1\n",
      "         Conversational                   1\n",
      "         Cool                             1\n",
      "         Danglish                         1\n",
      "         Demure                           1\n",
      "         Deutsch                          1\n",
      "         ESL                              1\n",
      "         English                          1\n",
      "         Expert                           1\n",
      "         Fluently                         1\n",
      "         French-Canadian-English          1\n",
      "         Globish                          1\n",
      "         Good                             1\n",
      "         Hispanic/Latino                  1\n",
      "         Hmong-American                   1\n",
      "         Low                              1\n",
      "         Manchester                       1\n",
      "         Maryland                         1\n",
      "         Massachusetts                    1\n",
      "         Mentor                           1\n",
      "         Mid-atlantic                     1\n",
      "         Midatlantic                      1\n",
      "         Midwestern                       1\n",
      "         Minnesotan                       1\n",
      "         Neutral                          1\n",
      "         Non-native                       1\n",
      "         Northeastern                     1\n",
      "         Northern                         1\n",
      "         O'rtacha                         1\n",
      "         Okay                             1\n",
      "         Okie                             1\n",
      "         Other                            1\n",
      "         Patois                           1\n",
      "         Scottish/Irish                   1\n",
      "         Secondary                        1\n",
      "         Self-learned                     1\n",
      "         Southern                         1\n",
      "         Swenglish                        1\n",
      "         Urban                            1\n",
      "         Variable                         1\n",
      "         academic                         1\n",
      "         american                         1\n",
      "         aprenent                         1\n",
      "         bangladesh                       1\n",
      "         beginer                          1\n",
      "         eastern-european                 1\n",
      "         england                          1\n",
      "         estàndard                        1\n",
      "         fluent                           1\n",
      "         indian                           1\n",
      "         intermediate                     1\n",
      "         italiano                         1\n",
      "         italico                          1\n",
      "         london                           1\n",
      "         medio                            1\n",
      "         midwest                          1\n",
      "         mixed                            1\n",
      "         nepal                            1\n",
      "         norskBookMal-Modrne.-No          1\n",
      "         ohio                             1\n",
      "         plain                            1\n",
      "         polish                           1\n",
      "         serbian                          1\n",
      "         sussex                           1\n",
      "         wolof                            1\n",
      "         yorkshire                        1\n",
      "         Русский                          1\n",
      "         我的英語並沒有很好，可以簡單敘述事情，但是聽與寫與文法不好    1\n",
      "         美式腔調                             1\n",
      "1        Asian                            1\n",
      "         British                          1\n",
      "         China                            1\n",
      "         Chinese                          1\n",
      "         Danish                           1\n",
      "         Dutch                            1\n",
      "         Edinburgh                        1\n",
      "         Egyptian                         1\n",
      "         European                         1\n",
      "         Foreign                          1\n",
      "         Guyanese                         1\n",
      "         Israeli                          1\n",
      "         Japanese                         1\n",
      "         Kenyan                           1\n",
      "         Kiwi                             1\n",
      "         Londoner                         1\n",
      "         Mancunian                        1\n",
      "         Nigerian                         1\n",
      "         Nordic                           1\n",
      "         Norwegian                        1\n",
      "         Scottish                         1\n",
      "         international                    1\n",
      "2        Austrian                         1\n",
      "         Bulgarian                        1\n",
      "         Estonian                         1\n",
      "         Finnish                          1\n",
      "         German                           1\n",
      "         Greek                            1\n",
      "         Hungarian                        1\n",
      "         Lithuanian                       1\n",
      "         Romanian                         1\n",
      "         Russian                          1\n",
      "         Slavic                           1\n",
      "         Slovak                           1\n",
      "         Ukrainian                        1\n",
      "3        Brazilian                        1\n",
      "         Catalan                          1\n",
      "         Catalunya                        1\n",
      "         Colombia                         1\n",
      "         France                           1\n",
      "         French                           1\n",
      "         Italian                          1\n",
      "         Latinamerican                    1\n",
      "         Latino                           1\n",
      "         Mexican                          1\n",
      "         Spanglish                        1\n",
      "         Spanish                          1\n",
      "         français                         1\n",
      "         latin                            1\n",
      "         portuguese                       1\n",
      "4        Bangla                           1\n",
      "         Bangladeshi                      1\n",
      "         Dzongkha                         1\n",
      "         Indonesian                       1\n",
      "         Javanese                         1\n",
      "         Nepali                           1\n",
      "         Thai                             1\n",
      "         Thailand                         1\n",
      "Name: accent_name, dtype: int64\n"
     ]
    }
   ],
   "source": [
    "# Grouping by cluster and counting the frequency of each language code\n",
    "cluster_language_count = filtered_en_data.groupby('cluster')['accent_name'].value_counts()\n",
    "\n",
    "# Filtering to show only language codes with frequency greater than zero\n",
    "# cluster_language_count = cluster_language_count[cluster_language_count > 25]\n",
    "\n",
    "print(cluster_language_count)\n",
    "\n"
   ]
  },
  {
   "cell_type": "markdown",
   "metadata": {},
   "source": [
    "# MBERT Embeddings with K-Means"
   ]
  },
  {
   "cell_type": "code",
   "execution_count": 28,
   "metadata": {},
   "outputs": [
    {
     "name": "stderr",
     "output_type": "stream",
     "text": [
      "c:\\Users\\saima\\anaconda3\\lib\\site-packages\\sklearn\\cluster\\_kmeans.py:1036: UserWarning:\n",
      "\n",
      "KMeans is known to have a memory leak on Windows with MKL, when there are less chunks than available threads. You can avoid it by setting the environment variable OMP_NUM_THREADS=1.\n",
      "\n"
     ]
    },
    {
     "data": {
      "image/png": "[encoded data removed]",
      "text/plain": [
       "<Figure size 1000x600 with 1 Axes>"
      ]
     },
     "metadata": {},
     "output_type": "display_data"
    }
   ],
   "source": [
    "import pandas as pd\n",
    "from sklearn.preprocessing import OneHotEncoder\n",
    "from sklearn.cluster import KMeans\n",
    "from sklearn.decomposition import PCA\n",
    "from transformers import BertModel, BertTokenizer\n",
    "import torch\n",
    "import numpy as np\n",
    "import plotly.express as px\n",
    "\n",
    "# Load M-BERT model and tokenizer\n",
    "model_name = 'bert-base-multilingual-cased'\n",
    "tokenizer = BertTokenizer.from_pretrained(model_name)\n",
    "model = BertModel.from_pretrained(model_name)\n",
    "\n",
    "# Function to get embeddings from M-BERT\n",
    "def get_mbert_embeddings(text):\n",
    "    inputs = tokenizer(text, return_tensors=\"pt\", padding=True, truncation=True, max_length=512)\n",
    "    outputs = model(**inputs)\n",
    "    return outputs.last_hidden_state.mean(dim=1).detach().numpy()\n",
    "\n",
    "# Load your dataset\n",
    "file_path = 'test.tsv'  # Replace with your file path\n",
    "data = pd.read_csv(file_path, sep='\\t')\n",
    "\n",
    "\n",
    "en_data = data[data['language_code']==\"en\"]\n",
    "\n",
    "filtered_en_data = en_data[~en_data['accent_name'].str.contains(' ')]\n",
    "\n",
    "\n",
    "\n",
    "# Generating embeddings for accent_name\n",
    "mbert_embeddings = np.vstack(filtered_en_data['accent_name'].apply(get_mbert_embeddings))\n",
    "\n",
    "import matplotlib.pyplot as plt\n",
    "from sklearn.cluster import KMeans\n",
    "\n",
    "# Determine the range of potential clusters you want to test\n",
    "# For example, testing from 1 to 20 clusters\n",
    "range_clusters = range(1, 21)\n",
    "\n",
    "# Calculate the sum of squared distances for each number of clusters\n",
    "sum_of_squared_distances = []\n",
    "for k in range_clusters:\n",
    "    km = KMeans(n_clusters=k, random_state=0)\n",
    "    km = km.fit(mbert_embeddings)\n",
    "    sum_of_squared_distances.append(km.inertia_)\n",
    "\n",
    "# Plot the Elbow graph\n",
    "plt.figure(figsize=(10, 6))\n",
    "plt.plot(range_clusters, sum_of_squared_distances, 'bx-')\n",
    "plt.xlabel('Number of Clusters')\n",
    "plt.ylabel('Sum of Squared Distances')\n",
    "plt.title('Elbow Method For Optimal Number of Clusters')\n",
    "plt.show()\n"
   ]
  },
  {
   "cell_type": "code",
   "execution_count": 34,
   "metadata": {},
   "outputs": [
    {
     "name": "stderr",
     "output_type": "stream",
     "text": [
      "C:\\Users\\saima\\AppData\\Local\\Temp\\ipykernel_20128\\2265732694.py:6: SettingWithCopyWarning:\n",
      "\n",
      "\n",
      "A value is trying to be set on a copy of a slice from a DataFrame.\n",
      "Try using .loc[row_indexer,col_indexer] = value instead\n",
      "\n",
      "See the caveats in the documentation: https://pandas.pydata.org/pandas-docs/stable/user_guide/indexing.html#returning-a-view-versus-a-copy\n",
      "\n",
      "C:\\Users\\saima\\AppData\\Local\\Temp\\ipykernel_20128\\2265732694.py:13: SettingWithCopyWarning:\n",
      "\n",
      "\n",
      "A value is trying to be set on a copy of a slice from a DataFrame.\n",
      "Try using .loc[row_indexer,col_indexer] = value instead\n",
      "\n",
      "See the caveats in the documentation: https://pandas.pydata.org/pandas-docs/stable/user_guide/indexing.html#returning-a-view-versus-a-copy\n",
      "\n",
      "C:\\Users\\saima\\AppData\\Local\\Temp\\ipykernel_20128\\2265732694.py:14: SettingWithCopyWarning:\n",
      "\n",
      "\n",
      "A value is trying to be set on a copy of a slice from a DataFrame.\n",
      "Try using .loc[row_indexer,col_indexer] = value instead\n",
      "\n",
      "See the caveats in the documentation: https://pandas.pydata.org/pandas-docs/stable/user_guide/indexing.html#returning-a-view-versus-a-copy\n",
      "\n"
     ]
    },
    {
     "data": {
      "application/vnd.plotly.v1+json": {
       "config": {
        "plotlyServerURL": "https://plot.ly"
       },
       "data": [
        {
         "customdata": [
          [
           "en"
          ],
          [
           "en"
          ],
          [
           "en"
          ],
          [
           "en"
          ],
          [
           "en"
          ],
          [
           "en"
          ],
          [
           "en"
          ],
          [
           "en"
          ],
          [
           "en"
          ],
          [
           "en"
          ],
          [
           "en"
          ],
          [
           "en"
          ],
          [
           "en"
          ],
          [
           "en"
          ],
          [
           "en"
          ],
          [
           "en"
          ],
          [
           "en"
          ],
          [
           "en"
          ],
          [
           "en"
          ],
          [
           "en"
          ],
          [
           "en"
          ],
          [
           "en"
          ],
          [
           "en"
          ],
          [
           "en"
          ],
          [
           "en"
          ],
          [
           "en"
          ],
          [
           "en"
          ],
          [
           "en"
          ],
          [
           "en"
          ],
          [
           "en"
          ],
          [
           "en"
          ],
          [
           "en"
          ],
          [
           "en"
          ],
          [
           "en"
          ],
          [
           "en"
          ],
          [
           "en"
          ],
          [
           "en"
          ],
          [
           "en"
          ],
          [
           "en"
          ],
          [
           "en"
          ],
          [
           "en"
          ],
          [
           "en"
          ],
          [
           "en"
          ],
          [
           "en"
          ],
          [
           "en"
          ],
          [
           "en"
          ],
          [
           "en"
          ],
          [
           "en"
          ],
          [
           "en"
          ],
          [
           "en"
          ],
          [
           "en"
          ],
          [
           "en"
          ],
          [
           "en"
          ],
          [
           "en"
          ],
          [
           "en"
          ],
          [
           "en"
          ],
          [
           "en"
          ],
          [
           "en"
          ],
          [
           "en"
          ],
          [
           "en"
          ],
          [
           "en"
          ],
          [
           "en"
          ],
          [
           "en"
          ],
          [
           "en"
          ],
          [
           "en"
          ],
          [
           "en"
          ],
          [
           "en"
          ],
          [
           "en"
          ],
          [
           "en"
          ],
          [
           "en"
          ],
          [
           "en"
          ],
          [
           "en"
          ],
          [
           "en"
          ],
          [
           "en"
          ],
          [
           "en"
          ],
          [
           "en"
          ],
          [
           "en"
          ],
          [
           "en"
          ],
          [
           "en"
          ],
          [
           "en"
          ],
          [
           "en"
          ],
          [
           "en"
          ],
          [
           "en"
          ],
          [
           "en"
          ],
          [
           "en"
          ],
          [
           "en"
          ],
          [
           "en"
          ],
          [
           "en"
          ],
          [
           "en"
          ],
          [
           "en"
          ],
          [
           "en"
          ],
          [
           "en"
          ],
          [
           "en"
          ],
          [
           "en"
          ],
          [
           "en"
          ],
          [
           "en"
          ],
          [
           "en"
          ],
          [
           "en"
          ],
          [
           "en"
          ],
          [
           "en"
          ],
          [
           "en"
          ],
          [
           "en"
          ],
          [
           "en"
          ],
          [
           "en"
          ],
          [
           "en"
          ],
          [
           "en"
          ],
          [
           "en"
          ],
          [
           "en"
          ],
          [
           "en"
          ],
          [
           "en"
          ],
          [
           "en"
          ],
          [
           "en"
          ],
          [
           "en"
          ],
          [
           "en"
          ],
          [
           "en"
          ],
          [
           "en"
          ],
          [
           "en"
          ],
          [
           "en"
          ],
          [
           "en"
          ],
          [
           "en"
          ],
          [
           "en"
          ],
          [
           "en"
          ],
          [
           "en"
          ],
          [
           "en"
          ],
          [
           "en"
          ],
          [
           "en"
          ],
          [
           "en"
          ],
          [
           "en"
          ],
          [
           "en"
          ],
          [
           "en"
          ],
          [
           "en"
          ],
          [
           "en"
          ],
          [
           "en"
          ],
          [
           "en"
          ],
          [
           "en"
          ],
          [
           "en"
          ],
          [
           "en"
          ],
          [
           "en"
          ],
          [
           "en"
          ],
          [
           "en"
          ]
         ],
         "hovertemplate": "pca_one=%{x}<br>pca_two=%{y}<br>language_code=%{customdata[0]}<br>cluster=%{marker.color}<extra></extra>",
         "legendgroup": "",
         "marker": {
          "color": [
           4,
           3,
           3,
           2,
           2,
           2,
           2,
           4,
           4,
           3,
           0,
           4,
           2,
           3,
           4,
           3,
           3,
           1,
           3,
           4,
           1,
           3,
           3,
           4,
           3,
           3,
           4,
           4,
           2,
           4,
           2,
           2,
           3,
           2,
           2,
           1,
           0,
           3,
           4,
           3,
           3,
           2,
           4,
           2,
           4,
           2,
           2,
           3,
           1,
           0,
           3,
           2,
           2,
           3,
           3,
           4,
           3,
           4,
           3,
           3,
           0,
           4,
           2,
           3,
           0,
           3,
           2,
           3,
           2,
           2,
           3,
           3,
           4,
           0,
           3,
           4,
           2,
           3,
           2,
           0,
           3,
           2,
           3,
           4,
           4,
           0,
           0,
           3,
           3,
           4,
           0,
           3,
           2,
           2,
           0,
           2,
           4,
           4,
           1,
           1,
           2,
           1,
           3,
           3,
           2,
           1,
           4,
           2,
           0,
           2,
           2,
           3,
           2,
           4,
           4,
           2,
           0,
           3,
           3,
           4,
           2,
           1,
           2,
           3,
           2,
           2,
           3,
           3,
           4,
           4,
           2,
           1,
           1,
           3,
           1,
           0,
           1,
           2,
           0,
           2
          ],
          "coloraxis": "coloraxis",
          "symbol": "circle"
         },
         "mode": "markers",
         "name": "",
         "orientation": "v",
         "showlegend": false,
         "type": "scatter",
         "x": [
          -1.8057488203048706,
          0.16751541197299957,
          -2.3173768520355225,
          4.0637431144714355,
          4.01670503616333,
          2.035508871078491,
          4.6058125495910645,
          -1.8300985097885132,
          -0.6076189875602722,
          0.9220205545425415,
          -2.7010672092437744,
          1.5501981973648071,
          2.1782758235931396,
          -0.8414850234985352,
          -1.6778233051300049,
          -1.096956491470337,
          -0.4316161572933197,
          -2.6878228187561035,
          -0.5951828956604004,
          -2.315770149230957,
          0.3281351923942566,
          -2.203643798828125,
          -0.38794147968292236,
          1.4239873886108398,
          -3.1446194648742676,
          -1.6091275215148926,
          -3.0638091564178467,
          0.3181218206882477,
          3.5909645557403564,
          -0.5214908123016357,
          5.842077732086182,
          4.521475791931152,
          -3.09879732131958,
          3.4496560096740723,
          5.102853775024414,
          0.14215165376663208,
          -2.668398380279541,
          -1.1094977855682373,
          -2.723695755004883,
          0.36347025632858276,
          -0.10132185369729996,
          3.9861996173858643,
          -1.8267221450805664,
          2.1006033420562744,
          -1.8217486143112183,
          5.257759094238281,
          4.910677909851074,
          -0.08955591171979904,
          -0.9469272494316101,
          -3.89424204826355,
          -2.626399517059326,
          1.6941946744918823,
          2.0781302452087402,
          -1.9665589332580566,
          -1.1131975650787354,
          -0.3931434750556946,
          -2.3539505004882812,
          -2.777068853378296,
          -2.706322431564331,
          -2.8251755237579346,
          -3.200756311416626,
          -3.1945297718048096,
          4.4616379737854,
          -2.3607261180877686,
          -3.4508235454559326,
          0.5896531939506531,
          1.3400540351867676,
          0.23777659237384796,
          3.4945168495178223,
          4.958577632904053,
          -0.08020859956741333,
          -2.378005027770996,
          -0.48283544182777405,
          -1.876052737236023,
          0.09426010400056839,
          -0.04302000626921654,
          4.6237592697143555,
          -0.7765040397644043,
          3.361107349395752,
          -2.2099204063415527,
          -1.5082296133041382,
          4.736892223358154,
          -2.5135416984558105,
          -1.8695485591888428,
          -1.9301183223724365,
          -3.4509499073028564,
          -2.883330821990967,
          -0.6225162744522095,
          -0.9479047656059265,
          0.19700367748737335,
          -2.488661289215088,
          -1.9423878192901611,
          1.9512572288513184,
          5.346790790557861,
          -3.468413829803467,
          4.591638565063477,
          1.9544826745986938,
          -1.284914493560791,
          0.5635420680046082,
          -2.294009208679199,
          4.42762565612793,
          -2.036322593688965,
          -3.156094551086426,
          -1.183995008468628,
          1.4200446605682373,
          0.23116350173950195,
          -1.365043044090271,
          3.1224899291992188,
          -2.3748810291290283,
          2.5702176094055176,
          1.3738213777542114,
          -2.2294349670410156,
          2.8365347385406494,
          1.3037806749343872,
          0.7524591088294983,
          4.331242561340332,
          -3.432950735092163,
          0.7560675144195557,
          -2.4658050537109375,
          -2.9641458988189697,
          2.6817855834960938,
          -2.240591049194336,
          3.216367721557617,
          -2.1716277599334717,
          3.0064210891723633,
          1.854797124862671,
          -1.088212490081787,
          -0.4002246558666229,
          -1.981807827949524,
          0.42199745774269104,
          6.024508476257324,
          0.49681761860847473,
          -2.318690538406372,
          -3.2380478382110596,
          -1.1109861135482788,
          -3.8943750858306885,
          -2.4637529850006104,
          2.2364535331726074,
          -1.5573071241378784,
          5.596337795257568
         ],
         "xaxis": "x",
         "y": [
          -1.8794934749603271,
          1.5978034734725952,
          -0.5897921323776245,
          0.5474207997322083,
          -0.14849044382572174,
          -0.5309855937957764,
          0.5727587342262268,
          -0.5678170323371887,
          -0.9831592440605164,
          0.6165583729743958,
          -1.59605073928833,
          -0.3911828398704529,
          0.3003590703010559,
          -0.2174481302499771,
          -0.41255536675453186,
          0.5171228647232056,
          -2.728325605392456,
          5.218757629394531,
          0.7608665227890015,
          0.585827648639679,
          2.9346184730529785,
          -0.24667535722255707,
          -0.6971604228019714,
          -2.7642154693603516,
          -0.02903827466070652,
          0.30811911821365356,
          -2.7790980339050293,
          -0.9129120707511902,
          0.3970739245414734,
          0.27706146240234375,
          -0.48825758695602417,
          0.35749611258506775,
          0.41141024231910706,
          0.5425605773925781,
          0.09662904590368271,
          2.828495502471924,
          -0.5278749465942383,
          -0.4574553966522217,
          -1.5428553819656372,
          -0.8603589534759521,
          -0.2029120773077011,
          0.3118882179260254,
          0.9270534515380859,
          1.6561912298202515,
          -3.1641900539398193,
          -0.5173547267913818,
          -0.12027382850646973,
          2.394207000732422,
          -0.15204690396785736,
          -0.4955541491508484,
          0.37042364478111267,
          -0.8700215816497803,
          -0.1755673587322235,
          -0.37718406319618225,
          0.18464334309101105,
          -2.345026731491089,
          -0.3041995167732239,
          -1.3560869693756104,
          -1.4463615417480469,
          0.9280360341072083,
          -0.3909982442855835,
          -2.9402639865875244,
          0.09424027800559998,
          1.4824035167694092,
          1.4140989780426025,
          2.1958582401275635,
          1.678929328918457,
          -0.8400934338569641,
          0.34522441029548645,
          -0.9425452351570129,
          -0.8814147114753723,
          2.6945722103118896,
          -0.1290188878774643,
          -1.6978578567504883,
          2.9455392360687256,
          -0.9483155012130737,
          0.6662579774856567,
          -0.2200082391500473,
          0.14929883182048798,
          1.1249390840530396,
          -1.62961745262146,
          -0.28397315740585327,
          1.272059440612793,
          0.633594274520874,
          -1.9349188804626465,
          1.35841703414917,
          -1.6640167236328125,
          0.7570688128471375,
          1.5356470346450806,
          -2.9927725791931152,
          -1.965391993522644,
          0.9881718754768372,
          1.6009914875030518,
          0.19767658412456512,
          -2.328453302383423,
          0.46452295780181885,
          -2.0063838958740234,
          -3.2710928916931152,
          1.2298781871795654,
          4.987861633300781,
          -0.7254235744476318,
          5.843387603759766,
          2.275198221206665,
          -1.800126314163208,
          1.043968915939331,
          4.5110626220703125,
          -3.1799137592315674,
          -0.12162922322750092,
          1.4733103513717651,
          0.710728645324707,
          0.4783565402030945,
          -1.1276534795761108,
          1.3108564615249634,
          -1.4809547662734985,
          -2.7191355228424072,
          -0.9365122318267822,
          -0.4389333128929138,
          -0.6037773489952087,
          0.6270523071289062,
          -2.044036388397217,
          -0.5521701574325562,
          5.764265060424805,
          1.4448585510253906,
          -0.16675083339214325,
          -3.744502067565918,
          -1.0191020965576172,
          -1.142389178276062,
          -1.5591989755630493,
          -2.3397018909454346,
          -2.973217725753784,
          -0.022151334211230278,
          3.4245400428771973,
          5.796375751495361,
          -1.684883952140808,
          1.495923399925232,
          -2.8068926334381104,
          4.07586669921875,
          -0.5618281364440918,
          -2.355599880218506,
          0.315211683511734
         ],
         "yaxis": "y"
        }
       ],
       "layout": {
        "coloraxis": {
         "colorbar": {
          "title": {
           "text": "cluster"
          }
         },
         "colorscale": [
          [
           0,
           "#440154"
          ],
          [
           0.1111111111111111,
           "#482878"
          ],
          [
           0.2222222222222222,
           "#3e4989"
          ],
          [
           0.3333333333333333,
           "#31688e"
          ],
          [
           0.4444444444444444,
           "#26828e"
          ],
          [
           0.5555555555555556,
           "#1f9e89"
          ],
          [
           0.6666666666666666,
           "#35b779"
          ],
          [
           0.7777777777777778,
           "#6ece58"
          ],
          [
           0.8888888888888888,
           "#b5de2b"
          ],
          [
           1,
           "#fde725"
          ]
         ]
        },
        "legend": {
         "title": {
          "text": "Cluster"
         },
         "tracegroupgap": 0
        },
        "margin": {
         "t": 60
        },
        "template": {
         "data": {
          "bar": [
           {
            "error_x": {
             "color": "#2a3f5f"
            },
            "error_y": {
             "color": "#2a3f5f"
            },
            "marker": {
             "line": {
              "color": "#E5ECF6",
              "width": 0.5
             },
             "pattern": {
              "fillmode": "overlay",
              "size": 10,
              "solidity": 0.2
             }
            },
            "type": "bar"
           }
          ],
          "barpolar": [
           {
            "marker": {
             "line": {
              "color": "#E5ECF6",
              "width": 0.5
             },
             "pattern": {
              "fillmode": "overlay",
              "size": 10,
              "solidity": 0.2
             }
            },
            "type": "barpolar"
           }
          ],
          "carpet": [
           {
            "aaxis": {
             "endlinecolor": "#2a3f5f",
             "gridcolor": "white",
             "linecolor": "white",
             "minorgridcolor": "white",
             "startlinecolor": "#2a3f5f"
            },
            "baxis": {
             "endlinecolor": "#2a3f5f",
             "gridcolor": "white",
             "linecolor": "white",
             "minorgridcolor": "white",
             "startlinecolor": "#2a3f5f"
            },
            "type": "carpet"
           }
          ],
          "choropleth": [
           {
            "colorbar": {
             "outlinewidth": 0,
             "ticks": ""
            },
            "type": "choropleth"
           }
          ],
          "contour": [
           {
            "colorbar": {
             "outlinewidth": 0,
             "ticks": ""
            },
            "colorscale": [
             [
              0,
              "#0d0887"
             ],
             [
              0.1111111111111111,
              "#46039f"
             ],
             [
              0.2222222222222222,
              "#7201a8"
             ],
             [
              0.3333333333333333,
              "#9c179e"
             ],
             [
              0.4444444444444444,
              "#bd3786"
             ],
             [
              0.5555555555555556,
              "#d8576b"
             ],
             [
              0.6666666666666666,
              "#ed7953"
             ],
             [
              0.7777777777777778,
              "#fb9f3a"
             ],
             [
              0.8888888888888888,
              "#fdca26"
             ],
             [
              1,
              "#f0f921"
             ]
            ],
            "type": "contour"
           }
          ],
          "contourcarpet": [
           {
            "colorbar": {
             "outlinewidth": 0,
             "ticks": ""
            },
            "type": "contourcarpet"
           }
          ],
          "heatmap": [
           {
            "colorbar": {
             "outlinewidth": 0,
             "ticks": ""
            },
            "colorscale": [
             [
              0,
              "#0d0887"
             ],
             [
              0.1111111111111111,
              "#46039f"
             ],
             [
              0.2222222222222222,
              "#7201a8"
             ],
             [
              0.3333333333333333,
              "#9c179e"
             ],
             [
              0.4444444444444444,
              "#bd3786"
             ],
             [
              0.5555555555555556,
              "#d8576b"
             ],
             [
              0.6666666666666666,
              "#ed7953"
             ],
             [
              0.7777777777777778,
              "#fb9f3a"
             ],
             [
              0.8888888888888888,
              "#fdca26"
             ],
             [
              1,
              "#f0f921"
             ]
            ],
            "type": "heatmap"
           }
          ],
          "heatmapgl": [
           {
            "colorbar": {
             "outlinewidth": 0,
             "ticks": ""
            },
            "colorscale": [
             [
              0,
              "#0d0887"
             ],
             [
              0.1111111111111111,
              "#46039f"
             ],
             [
              0.2222222222222222,
              "#7201a8"
             ],
             [
              0.3333333333333333,
              "#9c179e"
             ],
             [
              0.4444444444444444,
              "#bd3786"
             ],
             [
              0.5555555555555556,
              "#d8576b"
             ],
             [
              0.6666666666666666,
              "#ed7953"
             ],
             [
              0.7777777777777778,
              "#fb9f3a"
             ],
             [
              0.8888888888888888,
              "#fdca26"
             ],
             [
              1,
              "#f0f921"
             ]
            ],
            "type": "heatmapgl"
           }
          ],
          "histogram": [
           {
            "marker": {
             "pattern": {
              "fillmode": "overlay",
              "size": 10,
              "solidity": 0.2
             }
            },
            "type": "histogram"
           }
          ],
          "histogram2d": [
           {
            "colorbar": {
             "outlinewidth": 0,
             "ticks": ""
            },
            "colorscale": [
             [
              0,
              "#0d0887"
             ],
             [
              0.1111111111111111,
              "#46039f"
             ],
             [
              0.2222222222222222,
              "#7201a8"
             ],
             [
              0.3333333333333333,
              "#9c179e"
             ],
             [
              0.4444444444444444,
              "#bd3786"
             ],
             [
              0.5555555555555556,
              "#d8576b"
             ],
             [
              0.6666666666666666,
              "#ed7953"
             ],
             [
              0.7777777777777778,
              "#fb9f3a"
             ],
             [
              0.8888888888888888,
              "#fdca26"
             ],
             [
              1,
              "#f0f921"
             ]
            ],
            "type": "histogram2d"
           }
          ],
          "histogram2dcontour": [
           {
            "colorbar": {
             "outlinewidth": 0,
             "ticks": ""
            },
            "colorscale": [
             [
              0,
              "#0d0887"
             ],
             [
              0.1111111111111111,
              "#46039f"
             ],
             [
              0.2222222222222222,
              "#7201a8"
             ],
             [
              0.3333333333333333,
              "#9c179e"
             ],
             [
              0.4444444444444444,
              "#bd3786"
             ],
             [
              0.5555555555555556,
              "#d8576b"
             ],
             [
              0.6666666666666666,
              "#ed7953"
             ],
             [
              0.7777777777777778,
              "#fb9f3a"
             ],
             [
              0.8888888888888888,
              "#fdca26"
             ],
             [
              1,
              "#f0f921"
             ]
            ],
            "type": "histogram2dcontour"
           }
          ],
          "mesh3d": [
           {
            "colorbar": {
             "outlinewidth": 0,
             "ticks": ""
            },
            "type": "mesh3d"
           }
          ],
          "parcoords": [
           {
            "line": {
             "colorbar": {
              "outlinewidth": 0,
              "ticks": ""
             }
            },
            "type": "parcoords"
           }
          ],
          "pie": [
           {
            "automargin": true,
            "type": "pie"
           }
          ],
          "scatter": [
           {
            "fillpattern": {
             "fillmode": "overlay",
             "size": 10,
             "solidity": 0.2
            },
            "type": "scatter"
           }
          ],
          "scatter3d": [
           {
            "line": {
             "colorbar": {
              "outlinewidth": 0,
              "ticks": ""
             }
            },
            "marker": {
             "colorbar": {
              "outlinewidth": 0,
              "ticks": ""
             }
            },
            "type": "scatter3d"
           }
          ],
          "scattercarpet": [
           {
            "marker": {
             "colorbar": {
              "outlinewidth": 0,
              "ticks": ""
             }
            },
            "type": "scattercarpet"
           }
          ],
          "scattergeo": [
           {
            "marker": {
             "colorbar": {
              "outlinewidth": 0,
              "ticks": ""
             }
            },
            "type": "scattergeo"
           }
          ],
          "scattergl": [
           {
            "marker": {
             "colorbar": {
              "outlinewidth": 0,
              "ticks": ""
             }
            },
            "type": "scattergl"
           }
          ],
          "scattermapbox": [
           {
            "marker": {
             "colorbar": {
              "outlinewidth": 0,
              "ticks": ""
             }
            },
            "type": "scattermapbox"
           }
          ],
          "scatterpolar": [
           {
            "marker": {
             "colorbar": {
              "outlinewidth": 0,
              "ticks": ""
             }
            },
            "type": "scatterpolar"
           }
          ],
          "scatterpolargl": [
           {
            "marker": {
             "colorbar": {
              "outlinewidth": 0,
              "ticks": ""
             }
            },
            "type": "scatterpolargl"
           }
          ],
          "scatterternary": [
           {
            "marker": {
             "colorbar": {
              "outlinewidth": 0,
              "ticks": ""
             }
            },
            "type": "scatterternary"
           }
          ],
          "surface": [
           {
            "colorbar": {
             "outlinewidth": 0,
             "ticks": ""
            },
            "colorscale": [
             [
              0,
              "#0d0887"
             ],
             [
              0.1111111111111111,
              "#46039f"
             ],
             [
              0.2222222222222222,
              "#7201a8"
             ],
             [
              0.3333333333333333,
              "#9c179e"
             ],
             [
              0.4444444444444444,
              "#bd3786"
             ],
             [
              0.5555555555555556,
              "#d8576b"
             ],
             [
              0.6666666666666666,
              "#ed7953"
             ],
             [
              0.7777777777777778,
              "#fb9f3a"
             ],
             [
              0.8888888888888888,
              "#fdca26"
             ],
             [
              1,
              "#f0f921"
             ]
            ],
            "type": "surface"
           }
          ],
          "table": [
           {
            "cells": {
             "fill": {
              "color": "#EBF0F8"
             },
             "line": {
              "color": "white"
             }
            },
            "header": {
             "fill": {
              "color": "#C8D4E3"
             },
             "line": {
              "color": "white"
             }
            },
            "type": "table"
           }
          ]
         },
         "layout": {
          "annotationdefaults": {
           "arrowcolor": "#2a3f5f",
           "arrowhead": 0,
           "arrowwidth": 1
          },
          "autotypenumbers": "strict",
          "coloraxis": {
           "colorbar": {
            "outlinewidth": 0,
            "ticks": ""
           }
          },
          "colorscale": {
           "diverging": [
            [
             0,
             "#8e0152"
            ],
            [
             0.1,
             "#c51b7d"
            ],
            [
             0.2,
             "#de77ae"
            ],
            [
             0.3,
             "#f1b6da"
            ],
            [
             0.4,
             "#fde0ef"
            ],
            [
             0.5,
             "#f7f7f7"
            ],
            [
             0.6,
             "#e6f5d0"
            ],
            [
             0.7,
             "#b8e186"
            ],
            [
             0.8,
             "#7fbc41"
            ],
            [
             0.9,
             "#4d9221"
            ],
            [
             1,
             "#276419"
            ]
           ],
           "sequential": [
            [
             0,
             "#0d0887"
            ],
            [
             0.1111111111111111,
             "#46039f"
            ],
            [
             0.2222222222222222,
             "#7201a8"
            ],
            [
             0.3333333333333333,
             "#9c179e"
            ],
            [
             0.4444444444444444,
             "#bd3786"
            ],
            [
             0.5555555555555556,
             "#d8576b"
            ],
            [
             0.6666666666666666,
             "#ed7953"
            ],
            [
             0.7777777777777778,
             "#fb9f3a"
            ],
            [
             0.8888888888888888,
             "#fdca26"
            ],
            [
             1,
             "#f0f921"
            ]
           ],
           "sequentialminus": [
            [
             0,
             "#0d0887"
            ],
            [
             0.1111111111111111,
             "#46039f"
            ],
            [
             0.2222222222222222,
             "#7201a8"
            ],
            [
             0.3333333333333333,
             "#9c179e"
            ],
            [
             0.4444444444444444,
             "#bd3786"
            ],
            [
             0.5555555555555556,
             "#d8576b"
            ],
            [
             0.6666666666666666,
             "#ed7953"
            ],
            [
             0.7777777777777778,
             "#fb9f3a"
            ],
            [
             0.8888888888888888,
             "#fdca26"
            ],
            [
             1,
             "#f0f921"
            ]
           ]
          },
          "colorway": [
           "#636efa",
           "#EF553B",
           "#00cc96",
           "#ab63fa",
           "#FFA15A",
           "#19d3f3",
           "#FF6692",
           "#B6E880",
           "#FF97FF",
           "#FECB52"
          ],
          "font": {
           "color": "#2a3f5f"
          },
          "geo": {
           "bgcolor": "white",
           "lakecolor": "white",
           "landcolor": "#E5ECF6",
           "showlakes": true,
           "showland": true,
           "subunitcolor": "white"
          },
          "hoverlabel": {
           "align": "left"
          },
          "hovermode": "closest",
          "mapbox": {
           "style": "light"
          },
          "paper_bgcolor": "white",
          "plot_bgcolor": "#E5ECF6",
          "polar": {
           "angularaxis": {
            "gridcolor": "white",
            "linecolor": "white",
            "ticks": ""
           },
           "bgcolor": "#E5ECF6",
           "radialaxis": {
            "gridcolor": "white",
            "linecolor": "white",
            "ticks": ""
           }
          },
          "scene": {
           "xaxis": {
            "backgroundcolor": "#E5ECF6",
            "gridcolor": "white",
            "gridwidth": 2,
            "linecolor": "white",
            "showbackground": true,
            "ticks": "",
            "zerolinecolor": "white"
           },
           "yaxis": {
            "backgroundcolor": "#E5ECF6",
            "gridcolor": "white",
            "gridwidth": 2,
            "linecolor": "white",
            "showbackground": true,
            "ticks": "",
            "zerolinecolor": "white"
           },
           "zaxis": {
            "backgroundcolor": "#E5ECF6",
            "gridcolor": "white",
            "gridwidth": 2,
            "linecolor": "white",
            "showbackground": true,
            "ticks": "",
            "zerolinecolor": "white"
           }
          },
          "shapedefaults": {
           "line": {
            "color": "#2a3f5f"
           }
          },
          "ternary": {
           "aaxis": {
            "gridcolor": "white",
            "linecolor": "white",
            "ticks": ""
           },
           "baxis": {
            "gridcolor": "white",
            "linecolor": "white",
            "ticks": ""
           },
           "bgcolor": "#E5ECF6",
           "caxis": {
            "gridcolor": "white",
            "linecolor": "white",
            "ticks": ""
           }
          },
          "title": {
           "x": 0.05
          },
          "xaxis": {
           "automargin": true,
           "gridcolor": "white",
           "linecolor": "white",
           "ticks": "",
           "title": {
            "standoff": 15
           },
           "zerolinecolor": "white",
           "zerolinewidth": 2
          },
          "yaxis": {
           "automargin": true,
           "gridcolor": "white",
           "linecolor": "white",
           "ticks": "",
           "title": {
            "standoff": 15
           },
           "zerolinecolor": "white",
           "zerolinewidth": 2
          }
         }
        },
        "title": {
         "text": "M-BERT with K-Means Clustering for en"
        },
        "xaxis": {
         "anchor": "y",
         "domain": [
          0,
          1
         ],
         "title": {
          "text": "PCA 1"
         }
        },
        "yaxis": {
         "anchor": "x",
         "domain": [
          0,
          1
         ],
         "title": {
          "text": "PCA 2"
         }
        }
       }
      }
     },
     "metadata": {},
     "output_type": "display_data"
    }
   ],
   "source": [
    "# K-Means clustering\n",
    "num_clusters = 5  # This is an arbitrary choice, can be tuned\n",
    "kmeans = KMeans(n_clusters=num_clusters, random_state=0).fit(mbert_embeddings)\n",
    "\n",
    "# Adding cluster labels to the original dataset\n",
    "filtered_en_data['cluster'] = kmeans.labels_\n",
    "\n",
    "# Applying PCA for visualization\n",
    "pca = PCA(n_components=2)\n",
    "reduced_features = pca.fit_transform(mbert_embeddings)\n",
    "\n",
    "# Add PCA components to the original dataset\n",
    "filtered_en_data['pca_one'] = reduced_features[:, 0]\n",
    "filtered_en_data['pca_two'] = reduced_features[:, 1]\n",
    "\n",
    "# Creating a scatter plot with Plotly using the 'viridis' color scale\n",
    "fig = px.scatter(filtered_en_data, x='pca_one', y='pca_two', color='cluster',\n",
    "                 hover_data=['language_code'], color_continuous_scale='Viridis')\n",
    "fig.update_layout(title='M-BERT with K-Means Clustering for en',\n",
    "                  xaxis_title='PCA 1', \n",
    "                  yaxis_title='PCA 2', \n",
    "                  legend_title='Cluster')\n",
    "fig.show()\n"
   ]
  },
  {
   "cell_type": "code",
   "execution_count": 35,
   "metadata": {},
   "outputs": [
    {
     "name": "stdout",
     "output_type": "stream",
     "text": [
      "cluster  accent_name                  \n",
      "0        Arnold                           1\n",
      "         Bangla                           1\n",
      "         Chinglish                        1\n",
      "         Clear                            1\n",
      "         Danglish                         1\n",
      "         Demure                           1\n",
      "         Globish                          1\n",
      "         Good                             1\n",
      "         Low                              1\n",
      "         Mancunian                        1\n",
      "         Okay                             1\n",
      "         Okie                             1\n",
      "         Patois                           1\n",
      "         Spanglish                        1\n",
      "         Swenglish                        1\n",
      "1        Brooklyn                         1\n",
      "         California                       1\n",
      "         Chicago                          1\n",
      "         Edinburgh                        1\n",
      "         Manchester                       1\n",
      "         Maryland                         1\n",
      "         Massachusetts                    1\n",
      "         Midwestern                       1\n",
      "         Northeastern                     1\n",
      "         Northern                         1\n",
      "         Southern                         1\n",
      "         academic                         1\n",
      "         yorkshire                        1\n",
      "2        Austrian                         1\n",
      "         Bangladeshi                      1\n",
      "         Brazilian                        1\n",
      "         British                          1\n",
      "         Bulgarian                        1\n",
      "         China                            1\n",
      "         Chinese                          1\n",
      "         Colombia                         1\n",
      "         Danish                           1\n",
      "         Dutch                            1\n",
      "         Egyptian                         1\n",
      "         English                          1\n",
      "         Estonian                         1\n",
      "         Finnish                          1\n",
      "         France                           1\n",
      "         French                           1\n",
      "         French-Canadian-English          1\n",
      "         German                           1\n",
      "         Greek                            1\n",
      "         Hispanic/Latino                  1\n",
      "         Hungarian                        1\n",
      "         Indonesian                       1\n",
      "         Israeli                          1\n",
      "         Italian                          1\n",
      "         Japanese                         1\n",
      "         Kenyan                           1\n",
      "         Lithuanian                       1\n",
      "         Nepali                           1\n",
      "         Nigerian                         1\n",
      "         Norwegian                        1\n",
      "         Romanian                         1\n",
      "         Russian                          1\n",
      "         Scottish                         1\n",
      "         Scottish/Irish                   1\n",
      "         Slovak                           1\n",
      "         Spanish                          1\n",
      "         Thailand                         1\n",
      "         Ukrainian                        1\n",
      "         bangladesh                       1\n",
      "         portuguese                       1\n",
      "3        6627018149                       1\n",
      "         A2                               1\n",
      "         Adjustable                       1\n",
      "         Asian                            1\n",
      "         Average                          1\n",
      "         B2                               1\n",
      "         Basic                            1\n",
      "         Car                              1\n",
      "         Catalan                          1\n",
      "         Catalunya                        1\n",
      "         Conversational                   1\n",
      "         Cool                             1\n",
      "         Deutsch                          1\n",
      "         Dzongkha                         1\n",
      "         ESL                              1\n",
      "         European                         1\n",
      "         Expert                           1\n",
      "         Foreign                          1\n",
      "         Guyanese                         1\n",
      "         Hmong-American                   1\n",
      "         Javanese                         1\n",
      "         Kiwi                             1\n",
      "         Latinamerican                    1\n",
      "         Latino                           1\n",
      "         Londoner                         1\n",
      "         Mentor                           1\n",
      "         Mexican                          1\n",
      "         Midatlantic                      1\n",
      "         Minnesotan                       1\n",
      "         Neutral                          1\n",
      "         Non-native                       1\n",
      "         Nordic                           1\n",
      "         Other                            1\n",
      "         Secondary                        1\n",
      "         Self-learned                     1\n",
      "         Slavic                           1\n",
      "         Thai                             1\n",
      "         Urban                            1\n",
      "         Variable                         1\n",
      "         norskBookMal-Modrne.-No          1\n",
      "         Русский                          1\n",
      "         我的英語並沒有很好，可以簡單敘述事情，但是聽與寫與文法不好    1\n",
      "         美式腔調                             1\n",
      "4        A'lo                             1\n",
      "         Fluently                         1\n",
      "         Mid-atlantic                     1\n",
      "         O'rtacha                         1\n",
      "         american                         1\n",
      "         aprenent                         1\n",
      "         beginer                          1\n",
      "         eastern-european                 1\n",
      "         england                          1\n",
      "         estàndard                        1\n",
      "         fluent                           1\n",
      "         français                         1\n",
      "         indian                           1\n",
      "         intermediate                     1\n",
      "         international                    1\n",
      "         italiano                         1\n",
      "         italico                          1\n",
      "         latin                            1\n",
      "         london                           1\n",
      "         medio                            1\n",
      "         midwest                          1\n",
      "         mixed                            1\n",
      "         nepal                            1\n",
      "         ohio                             1\n",
      "         plain                            1\n",
      "         polish                           1\n",
      "         serbian                          1\n",
      "         sussex                           1\n",
      "         wolof                            1\n",
      "Name: accent_name, dtype: int64\n"
     ]
    }
   ],
   "source": [
    "# Grouping by cluster and counting the frequency of each language code\n",
    "cluster_language_count = filtered_en_data.groupby('cluster')['accent_name'].value_counts()\n",
    "\n",
    "# Filtering to show only language codes with frequency greater than zero\n",
    "# cluster_language_count = cluster_language_count[cluster_language_count > 25]\n",
    "\n",
    "print(cluster_language_count)\n",
    "\n"
   ]
  },
  {
   "cell_type": "markdown",
   "metadata": {},
   "source": [
    "# TF-IDF with K-Means"
   ]
  },
  {
   "cell_type": "code",
   "execution_count": 8,
   "metadata": {},
   "outputs": [],
   "source": [
    "import pandas as pd\n",
    "from sklearn.feature_extraction.text import TfidfVectorizer\n",
    "from sklearn.cluster import KMeans\n",
    "from sklearn.decomposition import PCA\n",
    "from transformers import BertModel, BertTokenizer\n",
    "import torch\n",
    "import numpy as np\n",
    "import plotly.express as px\n",
    "\n",
    "# Load your dataset\n",
    "file_path = 'test.tsv'  # Replace with your file path\n",
    "data = pd.read_csv(file_path, sep='\\t')\n",
    "\n",
    "\n",
    "en_data = data[data['language_code']==\"en\"]\n",
    "\n",
    "filtered_en_data = en_data[~en_data['accent_name'].str.contains(' ')]\n",
    "\n",
    "# TF-IDF Vectorization for accent_name\n",
    "tfidf_vectorizer = TfidfVectorizer(max_features=100)\n",
    "tfidf_matrix = tfidf_vectorizer.fit_transform(filtered_en_data['accent_name'])\n",
    "\n",
    "# import matplotlib.pyplot as plt\n",
    "# from sklearn.cluster import KMeans\n",
    "\n",
    "# # Determine the range of potential clusters you want to test\n",
    "# # For example, testing from 1 to 20 clusters\n",
    "# range_clusters = range(1, 21)\n",
    "\n",
    "# # Calculate the sum of squared distances for each number of clusters\n",
    "# sum_of_squared_distances = []\n",
    "# for k in range_clusters:\n",
    "#     km = KMeans(n_clusters=k, random_state=0)\n",
    "#     km = km.fit(tfidf_matrix)\n",
    "#     sum_of_squared_distances.append(km.inertia_)\n",
    "\n",
    "# # Plot the Elbow graph\n",
    "# plt.figure(figsize=(10, 6))\n",
    "# plt.plot(range_clusters, sum_of_squared_distances, 'bx-')\n",
    "# plt.xlabel('Number of Clusters')\n",
    "# plt.ylabel('Sum of Squared Distances')\n",
    "# plt.title('Elbow Method For Optimal Number of Clusters')\n",
    "# plt.show()\n"
   ]
  },
  {
   "cell_type": "code",
   "execution_count": 9,
   "metadata": {},
   "outputs": [
    {
     "name": "stderr",
     "output_type": "stream",
     "text": [
      "C:\\Users\\saima\\AppData\\Local\\Temp\\ipykernel_6680\\2492666953.py:10: SettingWithCopyWarning: \n",
      "A value is trying to be set on a copy of a slice from a DataFrame.\n",
      "Try using .loc[row_indexer,col_indexer] = value instead\n",
      "\n",
      "See the caveats in the documentation: https://pandas.pydata.org/pandas-docs/stable/user_guide/indexing.html#returning-a-view-versus-a-copy\n",
      "  filtered_en_data['cluster'] = kmeans.labels_\n",
      "C:\\Users\\saima\\AppData\\Local\\Temp\\ipykernel_6680\\2492666953.py:11: SettingWithCopyWarning: \n",
      "A value is trying to be set on a copy of a slice from a DataFrame.\n",
      "Try using .loc[row_indexer,col_indexer] = value instead\n",
      "\n",
      "See the caveats in the documentation: https://pandas.pydata.org/pandas-docs/stable/user_guide/indexing.html#returning-a-view-versus-a-copy\n",
      "  filtered_en_data['pca_one'] = reduced_features[:, 0]\n",
      "C:\\Users\\saima\\AppData\\Local\\Temp\\ipykernel_6680\\2492666953.py:12: SettingWithCopyWarning: \n",
      "A value is trying to be set on a copy of a slice from a DataFrame.\n",
      "Try using .loc[row_indexer,col_indexer] = value instead\n",
      "\n",
      "See the caveats in the documentation: https://pandas.pydata.org/pandas-docs/stable/user_guide/indexing.html#returning-a-view-versus-a-copy\n",
      "  filtered_en_data['pca_two'] = reduced_features[:, 1]\n"
     ]
    },
    {
     "data": {
      "application/vnd.plotly.v1+json": {
       "config": {
        "plotlyServerURL": "https://plot.ly"
       },
       "data": [
        {
         "customdata": [
          [
           "en"
          ],
          [
           "en"
          ],
          [
           "en"
          ],
          [
           "en"
          ],
          [
           "en"
          ],
          [
           "en"
          ],
          [
           "en"
          ],
          [
           "en"
          ],
          [
           "en"
          ],
          [
           "en"
          ],
          [
           "en"
          ],
          [
           "en"
          ],
          [
           "en"
          ],
          [
           "en"
          ],
          [
           "en"
          ],
          [
           "en"
          ],
          [
           "en"
          ],
          [
           "en"
          ],
          [
           "en"
          ],
          [
           "en"
          ],
          [
           "en"
          ],
          [
           "en"
          ],
          [
           "en"
          ],
          [
           "en"
          ],
          [
           "en"
          ],
          [
           "en"
          ],
          [
           "en"
          ],
          [
           "en"
          ],
          [
           "en"
          ],
          [
           "en"
          ],
          [
           "en"
          ],
          [
           "en"
          ],
          [
           "en"
          ],
          [
           "en"
          ],
          [
           "en"
          ],
          [
           "en"
          ],
          [
           "en"
          ],
          [
           "en"
          ],
          [
           "en"
          ],
          [
           "en"
          ],
          [
           "en"
          ],
          [
           "en"
          ],
          [
           "en"
          ],
          [
           "en"
          ],
          [
           "en"
          ],
          [
           "en"
          ],
          [
           "en"
          ],
          [
           "en"
          ],
          [
           "en"
          ],
          [
           "en"
          ],
          [
           "en"
          ],
          [
           "en"
          ],
          [
           "en"
          ],
          [
           "en"
          ],
          [
           "en"
          ],
          [
           "en"
          ],
          [
           "en"
          ],
          [
           "en"
          ],
          [
           "en"
          ],
          [
           "en"
          ],
          [
           "en"
          ],
          [
           "en"
          ],
          [
           "en"
          ],
          [
           "en"
          ],
          [
           "en"
          ],
          [
           "en"
          ],
          [
           "en"
          ],
          [
           "en"
          ],
          [
           "en"
          ],
          [
           "en"
          ],
          [
           "en"
          ],
          [
           "en"
          ],
          [
           "en"
          ],
          [
           "en"
          ],
          [
           "en"
          ],
          [
           "en"
          ],
          [
           "en"
          ],
          [
           "en"
          ],
          [
           "en"
          ],
          [
           "en"
          ],
          [
           "en"
          ],
          [
           "en"
          ],
          [
           "en"
          ],
          [
           "en"
          ],
          [
           "en"
          ],
          [
           "en"
          ],
          [
           "en"
          ],
          [
           "en"
          ],
          [
           "en"
          ],
          [
           "en"
          ],
          [
           "en"
          ],
          [
           "en"
          ],
          [
           "en"
          ],
          [
           "en"
          ],
          [
           "en"
          ],
          [
           "en"
          ],
          [
           "en"
          ],
          [
           "en"
          ],
          [
           "en"
          ],
          [
           "en"
          ],
          [
           "en"
          ],
          [
           "en"
          ],
          [
           "en"
          ],
          [
           "en"
          ],
          [
           "en"
          ],
          [
           "en"
          ],
          [
           "en"
          ],
          [
           "en"
          ],
          [
           "en"
          ],
          [
           "en"
          ],
          [
           "en"
          ],
          [
           "en"
          ],
          [
           "en"
          ],
          [
           "en"
          ],
          [
           "en"
          ],
          [
           "en"
          ],
          [
           "en"
          ],
          [
           "en"
          ],
          [
           "en"
          ],
          [
           "en"
          ],
          [
           "en"
          ],
          [
           "en"
          ],
          [
           "en"
          ],
          [
           "en"
          ],
          [
           "en"
          ],
          [
           "en"
          ],
          [
           "en"
          ],
          [
           "en"
          ],
          [
           "en"
          ],
          [
           "en"
          ],
          [
           "en"
          ],
          [
           "en"
          ],
          [
           "en"
          ],
          [
           "en"
          ],
          [
           "en"
          ],
          [
           "en"
          ],
          [
           "en"
          ],
          [
           "en"
          ],
          [
           "en"
          ],
          [
           "en"
          ]
         ],
         "hovertemplate": "pca_one=%{x}<br>pca_two=%{y}<br>language_code=%{customdata[0]}<br>cluster=%{marker.color}<extra></extra>",
         "legendgroup": "",
         "marker": {
          "color": [
           1,
           3,
           1,
           1,
           1,
           1,
           1,
           1,
           1,
           0,
           1,
           1,
           1,
           1,
           1,
           1,
           1,
           1,
           1,
           1,
           1,
           4,
           1,
           1,
           1,
           1,
           1,
           1,
           1,
           3,
           1,
           1,
           1,
           1,
           1,
           1,
           1,
           1,
           1,
           1,
           1,
           1,
           1,
           1,
           1,
           1,
           1,
           1,
           1,
           1,
           1,
           1,
           1,
           1,
           1,
           1,
           1,
           1,
           1,
           1,
           1,
           1,
           1,
           1,
           1,
           1,
           1,
           1,
           1,
           1,
           1,
           1,
           1,
           1,
           1,
           1,
           1,
           2,
           1,
           1,
           1,
           1,
           1,
           1,
           1,
           1,
           1,
           1,
           1,
           1,
           1,
           1,
           1,
           1,
           1,
           1,
           1,
           1,
           1,
           1,
           1,
           1,
           1,
           1,
           2,
           1,
           1,
           1,
           1,
           1,
           1,
           1,
           1,
           1,
           1,
           1,
           1,
           1,
           1,
           1,
           1,
           1,
           1,
           1,
           1,
           1,
           1,
           1,
           1,
           1,
           1,
           1,
           1,
           1,
           1,
           1,
           1,
           1,
           1,
           1
          ],
          "coloraxis": "coloraxis",
          "symbol": "circle"
         },
         "mode": "markers",
         "name": "",
         "orientation": "v",
         "showlegend": false,
         "type": "scatter",
         "x": [
          -1.3399488964754283e-16,
          -0.43151457006220556,
          -1.205284237017944e-15,
          -6.53485340480904e-16,
          -2.95068597237717e-17,
          7.850462293418891e-17,
          -4.710277376051335e-16,
          1.1440669147943972e-16,
          0.812530026807988,
          1.9230291290721188e-16,
          -6.267185926028152e-17,
          -1.315355500890845e-16,
          2.4459580371316686e-15,
          -1.2927693230532105e-17,
          -6.71496869165521e-17,
          1.7699074512990992e-16,
          1.9740227290336893e-16,
          8.66476225480187e-17,
          -5.4792717595715886e-17,
          1.1148156128704814e-16,
          -3.165957666674044e-17,
          1.275169373452611e-16,
          0.812530026807988,
          1.218892268654097e-16,
          1.0626790792160716e-17,
          -1.315355500890845e-16,
          3.226402566491746e-17,
          -1.315355500890845e-16,
          1.5108092444416191e-16,
          -0.4315145700622043,
          -1.315355500890845e-16,
          6.550318650357151e-17,
          -4.026239006054785e-17,
          -1.315355500890845e-16,
          -1.315355500890845e-16,
          -1.315355500890845e-16,
          1.5795940382572364e-16,
          5.214331725364489e-16,
          -8.185048919783129e-16,
          -1.791477461169506e-17,
          -1.2039791933797055e-16,
          1.230017809243738e-16,
          -1.315355500890845e-16,
          1.3675853536951053e-16,
          -1.315355500890845e-16,
          -1.315355500890845e-16,
          6.201688977742472e-17,
          -1.315355500890845e-16,
          8.399497528003428e-17,
          9.643711646989242e-18,
          -1.315355500890845e-16,
          -1.315355500890845e-16,
          -1.315355500890845e-16,
          1.8134845311304505e-16,
          4.856930221939952e-16,
          1.488107989239191e-16,
          -1.819815218956093e-17,
          -4.67451652231583e-17,
          -2.3226752418919055e-17,
          -1.977497292088115e-18,
          -5.068724784320603e-17,
          1.2300178092437378e-16,
          -1.315355500890845e-16,
          -1.315355500890845e-16,
          -5.958911847504609e-17,
          -1.315355500890845e-16,
          -8.987047481784594e-17,
          2.250088086711136e-16,
          1.0165750728909482e-14,
          9.472306876662673e-17,
          1.102706728278579e-16,
          1.2761483536551178e-16,
          -4.178760565053972e-18,
          1.2594089043785399e-16,
          8.186037130597553e-17,
          -1.315355500890845e-16,
          -3.33977979228363e-17,
          0.01074303835836617,
          -1.315355500890845e-16,
          -1.315355500890845e-16,
          -1.315355500890845e-16,
          -1.315355500890845e-16,
          -5.3511588076828736e-17,
          1.6179446095486371e-16,
          -7.317920952961236e-18,
          -1.0613803350426991e-17,
          -1.315355500890845e-16,
          1.585843819664556e-17,
          5.093912890599496e-18,
          1.4383109208141565e-17,
          1.3497242282381045e-16,
          -1.315355500890845e-16,
          -0.3917584951041579,
          -1.315355500890845e-16,
          1.3497242282381045e-16,
          1.0297645582706382e-14,
          -1.315355500890845e-16,
          7.02463630920973e-17,
          4.2100998622484876e-17,
          -4.571134751836233e-17,
          -1.315355500890845e-16,
          1.6997234448176273e-16,
          1.711486688371172e-16,
          -5.8123738135242694e-18,
          0.01074303835836617,
          -5.66073926097505e-17,
          1.8661775436732921e-16,
          1.268596503016584e-16,
          -1.0095637728063548e-15,
          -1.315355500890845e-16,
          -0.3917584951041579,
          9.310283391699353e-17,
          -3.2517401280472355e-17,
          -1.315355500890845e-16,
          7.714298121033966e-17,
          1.2685965030165838e-16,
          -1.315355500890845e-16,
          -1.315355500890845e-16,
          -1.5713515385297872e-15,
          1.6920795849825364e-16,
          5.895381200973398e-17,
          1.4660317374990258e-16,
          -1.315355500890845e-16,
          2.3671630032315962e-17,
          2.0320824742830092e-16,
          1.6033904378840805e-18,
          -1.315355500890845e-16,
          -1.315355500890845e-16,
          1.1618132725764584e-16,
          -1.315355500890845e-16,
          -1.315355500890845e-16,
          3.047961291372385e-17,
          2.3507715387952986e-16,
          6.19361961142075e-17,
          1.2300596154833515e-16,
          2.9350823808502015e-17,
          -4.6612119867174665e-17,
          1.9135501840208545e-16,
          -1.3247655120144378e-16,
          -4.9065389333868065e-17
         ],
         "xaxis": "x",
         "y": [
          -1.5726668425761526e-17,
          -0.1964232455381006,
          8.586443133425936e-17,
          7.359808400087787e-17,
          8.831770080049811e-17,
          7.414847715349016e-17,
          -2.9274317938953123e-16,
          -9.420554752102651e-16,
          -0.2937475376254311,
          -1.1024665884984663e-16,
          4.607013525389652e-17,
          -3.2359611934004355e-17,
          5.611251515761942e-15,
          6.18818808245351e-17,
          8.12422998623479e-17,
          -4.870960900849317e-17,
          -6.612591386907038e-17,
          6.185294706558773e-17,
          7.511877729082813e-17,
          -1.2289037301114902e-17,
          6.116559326817855e-17,
          -5.235970170587497e-18,
          -0.2937475376254311,
          -6.97117538136699e-18,
          6.572529675412868e-17,
          -3.2359611934004355e-17,
          3.743489838874272e-17,
          -3.2359611934004355e-17,
          -2.0098837671394766e-17,
          -0.196423245538101,
          -3.2359611934004355e-17,
          5.558953507221783e-17,
          5.0910412983017354e-17,
          -3.2359611934004355e-17,
          -3.2359611934004355e-17,
          -3.2359611934004355e-17,
          3.426017178744481e-20,
          -2.1255700869187342e-16,
          4.042249354816393e-16,
          3.247044691445389e-17,
          1.0405806037578142e-16,
          -7.165966275201253e-17,
          -3.2359611934004355e-17,
          -3.8344972014243585e-17,
          -3.2359611934004355e-17,
          -3.2359611934004355e-17,
          5.52954040787605e-17,
          -3.2359611934004355e-17,
          1.2628525108720669e-17,
          2.9763424792121964e-17,
          -3.2359611934004355e-17,
          -3.2359611934004355e-17,
          -3.2359611934004355e-17,
          -3.4454798786846527e-15,
          -3.913435698251928e-17,
          -5.785337212981678e-17,
          9.056052737270194e-17,
          -3.45079629141156e-16,
          6.393822577125406e-17,
          5.5233611029949466e-17,
          3.5456205842010156e-17,
          -2.9386426190794834e-17,
          -3.2359611934004355e-17,
          -3.2359611934004355e-17,
          1.0552461151979084e-16,
          -3.2359611934004355e-17,
          2.3456954950382677e-16,
          -6.893720257570334e-17,
          4.5905360734217754e-15,
          -1.8039785205117257e-17,
          -3.3165208563614856e-18,
          -7.788327592422208e-17,
          5.5032615215214735e-17,
          -5.129139092689005e-17,
          4.452158510430032e-17,
          -3.2359611934004355e-17,
          7.564023290023757e-17,
          0.8594942922406417,
          -3.2359611934004355e-17,
          -3.2359611934004355e-17,
          -3.2359611934004355e-17,
          -3.2359611934004355e-17,
          5.889347258384043e-17,
          -2.888971775398394e-17,
          7.175482311527767e-17,
          6.418805552099371e-17,
          -3.2359611934004355e-17,
          6.318379457308965e-17,
          8.113483191688674e-17,
          6.903970257537509e-17,
          -2.008290056314452e-17,
          -3.2359611934004355e-17,
          -0.3693235090771153,
          -3.2359611934004355e-17,
          -5.060988238527039e-17,
          4.620024074559002e-15,
          -3.2359611934004355e-17,
          3.838183390555942e-17,
          -9.726488807106151e-16,
          5.011760333623495e-17,
          -3.2359611934004355e-17,
          -5.6094630984757e-17,
          -1.1288524999936853e-16,
          6.460846180350492e-17,
          0.8594942922406417,
          9.495061404476376e-17,
          -9.944606483373932e-17,
          -4.0503984377983764e-17,
          -2.3534779269005633e-16,
          -3.2359611934004355e-17,
          -0.3693235090771153,
          -3.501735395575442e-17,
          8.179090971892544e-17,
          -3.2359611934004355e-17,
          5.031847708775368e-18,
          -1.9592312698018864e-17,
          -3.2359611934004355e-17,
          -3.2359611934004355e-17,
          -1.8290023092749525e-16,
          -7.460675871110239e-17,
          2.0170765150973298e-17,
          -8.064815488493688e-17,
          -3.2359611934004355e-17,
          5.25709604786309e-17,
          -1.203516885659782e-17,
          3.1366670111299886e-17,
          -3.2359611934004355e-17,
          -3.2359611934004355e-17,
          -4.660059819345722e-17,
          -3.2359611934004355e-17,
          -3.2359611934004355e-17,
          4.6177594196951334e-17,
          -1.0139047947389282e-17,
          -1.7040256402255303e-17,
          -9.203889851631967e-17,
          3.715812473207117e-17,
          4.9065389333867985e-17,
          -8.831770080096237e-17,
          -3.311913780036089e-17,
          7.850462293418877e-17
         ],
         "yaxis": "y"
        }
       ],
       "layout": {
        "coloraxis": {
         "colorbar": {
          "title": {
           "text": "cluster"
          }
         },
         "colorscale": [
          [
           0,
           "#440154"
          ],
          [
           0.1111111111111111,
           "#482878"
          ],
          [
           0.2222222222222222,
           "#3e4989"
          ],
          [
           0.3333333333333333,
           "#31688e"
          ],
          [
           0.4444444444444444,
           "#26828e"
          ],
          [
           0.5555555555555556,
           "#1f9e89"
          ],
          [
           0.6666666666666666,
           "#35b779"
          ],
          [
           0.7777777777777778,
           "#6ece58"
          ],
          [
           0.8888888888888888,
           "#b5de2b"
          ],
          [
           1,
           "#fde725"
          ]
         ]
        },
        "legend": {
         "title": {
          "text": "Cluster"
         },
         "tracegroupgap": 0
        },
        "margin": {
         "t": 60
        },
        "template": {
         "data": {
          "bar": [
           {
            "error_x": {
             "color": "#2a3f5f"
            },
            "error_y": {
             "color": "#2a3f5f"
            },
            "marker": {
             "line": {
              "color": "#E5ECF6",
              "width": 0.5
             },
             "pattern": {
              "fillmode": "overlay",
              "size": 10,
              "solidity": 0.2
             }
            },
            "type": "bar"
           }
          ],
          "barpolar": [
           {
            "marker": {
             "line": {
              "color": "#E5ECF6",
              "width": 0.5
             },
             "pattern": {
              "fillmode": "overlay",
              "size": 10,
              "solidity": 0.2
             }
            },
            "type": "barpolar"
           }
          ],
          "carpet": [
           {
            "aaxis": {
             "endlinecolor": "#2a3f5f",
             "gridcolor": "white",
             "linecolor": "white",
             "minorgridcolor": "white",
             "startlinecolor": "#2a3f5f"
            },
            "baxis": {
             "endlinecolor": "#2a3f5f",
             "gridcolor": "white",
             "linecolor": "white",
             "minorgridcolor": "white",
             "startlinecolor": "#2a3f5f"
            },
            "type": "carpet"
           }
          ],
          "choropleth": [
           {
            "colorbar": {
             "outlinewidth": 0,
             "ticks": ""
            },
            "type": "choropleth"
           }
          ],
          "contour": [
           {
            "colorbar": {
             "outlinewidth": 0,
             "ticks": ""
            },
            "colorscale": [
             [
              0,
              "#0d0887"
             ],
             [
              0.1111111111111111,
              "#46039f"
             ],
             [
              0.2222222222222222,
              "#7201a8"
             ],
             [
              0.3333333333333333,
              "#9c179e"
             ],
             [
              0.4444444444444444,
              "#bd3786"
             ],
             [
              0.5555555555555556,
              "#d8576b"
             ],
             [
              0.6666666666666666,
              "#ed7953"
             ],
             [
              0.7777777777777778,
              "#fb9f3a"
             ],
             [
              0.8888888888888888,
              "#fdca26"
             ],
             [
              1,
              "#f0f921"
             ]
            ],
            "type": "contour"
           }
          ],
          "contourcarpet": [
           {
            "colorbar": {
             "outlinewidth": 0,
             "ticks": ""
            },
            "type": "contourcarpet"
           }
          ],
          "heatmap": [
           {
            "colorbar": {
             "outlinewidth": 0,
             "ticks": ""
            },
            "colorscale": [
             [
              0,
              "#0d0887"
             ],
             [
              0.1111111111111111,
              "#46039f"
             ],
             [
              0.2222222222222222,
              "#7201a8"
             ],
             [
              0.3333333333333333,
              "#9c179e"
             ],
             [
              0.4444444444444444,
              "#bd3786"
             ],
             [
              0.5555555555555556,
              "#d8576b"
             ],
             [
              0.6666666666666666,
              "#ed7953"
             ],
             [
              0.7777777777777778,
              "#fb9f3a"
             ],
             [
              0.8888888888888888,
              "#fdca26"
             ],
             [
              1,
              "#f0f921"
             ]
            ],
            "type": "heatmap"
           }
          ],
          "heatmapgl": [
           {
            "colorbar": {
             "outlinewidth": 0,
             "ticks": ""
            },
            "colorscale": [
             [
              0,
              "#0d0887"
             ],
             [
              0.1111111111111111,
              "#46039f"
             ],
             [
              0.2222222222222222,
              "#7201a8"
             ],
             [
              0.3333333333333333,
              "#9c179e"
             ],
             [
              0.4444444444444444,
              "#bd3786"
             ],
             [
              0.5555555555555556,
              "#d8576b"
             ],
             [
              0.6666666666666666,
              "#ed7953"
             ],
             [
              0.7777777777777778,
              "#fb9f3a"
             ],
             [
              0.8888888888888888,
              "#fdca26"
             ],
             [
              1,
              "#f0f921"
             ]
            ],
            "type": "heatmapgl"
           }
          ],
          "histogram": [
           {
            "marker": {
             "pattern": {
              "fillmode": "overlay",
              "size": 10,
              "solidity": 0.2
             }
            },
            "type": "histogram"
           }
          ],
          "histogram2d": [
           {
            "colorbar": {
             "outlinewidth": 0,
             "ticks": ""
            },
            "colorscale": [
             [
              0,
              "#0d0887"
             ],
             [
              0.1111111111111111,
              "#46039f"
             ],
             [
              0.2222222222222222,
              "#7201a8"
             ],
             [
              0.3333333333333333,
              "#9c179e"
             ],
             [
              0.4444444444444444,
              "#bd3786"
             ],
             [
              0.5555555555555556,
              "#d8576b"
             ],
             [
              0.6666666666666666,
              "#ed7953"
             ],
             [
              0.7777777777777778,
              "#fb9f3a"
             ],
             [
              0.8888888888888888,
              "#fdca26"
             ],
             [
              1,
              "#f0f921"
             ]
            ],
            "type": "histogram2d"
           }
          ],
          "histogram2dcontour": [
           {
            "colorbar": {
             "outlinewidth": 0,
             "ticks": ""
            },
            "colorscale": [
             [
              0,
              "#0d0887"
             ],
             [
              0.1111111111111111,
              "#46039f"
             ],
             [
              0.2222222222222222,
              "#7201a8"
             ],
             [
              0.3333333333333333,
              "#9c179e"
             ],
             [
              0.4444444444444444,
              "#bd3786"
             ],
             [
              0.5555555555555556,
              "#d8576b"
             ],
             [
              0.6666666666666666,
              "#ed7953"
             ],
             [
              0.7777777777777778,
              "#fb9f3a"
             ],
             [
              0.8888888888888888,
              "#fdca26"
             ],
             [
              1,
              "#f0f921"
             ]
            ],
            "type": "histogram2dcontour"
           }
          ],
          "mesh3d": [
           {
            "colorbar": {
             "outlinewidth": 0,
             "ticks": ""
            },
            "type": "mesh3d"
           }
          ],
          "parcoords": [
           {
            "line": {
             "colorbar": {
              "outlinewidth": 0,
              "ticks": ""
             }
            },
            "type": "parcoords"
           }
          ],
          "pie": [
           {
            "automargin": true,
            "type": "pie"
           }
          ],
          "scatter": [
           {
            "fillpattern": {
             "fillmode": "overlay",
             "size": 10,
             "solidity": 0.2
            },
            "type": "scatter"
           }
          ],
          "scatter3d": [
           {
            "line": {
             "colorbar": {
              "outlinewidth": 0,
              "ticks": ""
             }
            },
            "marker": {
             "colorbar": {
              "outlinewidth": 0,
              "ticks": ""
             }
            },
            "type": "scatter3d"
           }
          ],
          "scattercarpet": [
           {
            "marker": {
             "colorbar": {
              "outlinewidth": 0,
              "ticks": ""
             }
            },
            "type": "scattercarpet"
           }
          ],
          "scattergeo": [
           {
            "marker": {
             "colorbar": {
              "outlinewidth": 0,
              "ticks": ""
             }
            },
            "type": "scattergeo"
           }
          ],
          "scattergl": [
           {
            "marker": {
             "colorbar": {
              "outlinewidth": 0,
              "ticks": ""
             }
            },
            "type": "scattergl"
           }
          ],
          "scattermapbox": [
           {
            "marker": {
             "colorbar": {
              "outlinewidth": 0,
              "ticks": ""
             }
            },
            "type": "scattermapbox"
           }
          ],
          "scatterpolar": [
           {
            "marker": {
             "colorbar": {
              "outlinewidth": 0,
              "ticks": ""
             }
            },
            "type": "scatterpolar"
           }
          ],
          "scatterpolargl": [
           {
            "marker": {
             "colorbar": {
              "outlinewidth": 0,
              "ticks": ""
             }
            },
            "type": "scatterpolargl"
           }
          ],
          "scatterternary": [
           {
            "marker": {
             "colorbar": {
              "outlinewidth": 0,
              "ticks": ""
             }
            },
            "type": "scatterternary"
           }
          ],
          "surface": [
           {
            "colorbar": {
             "outlinewidth": 0,
             "ticks": ""
            },
            "colorscale": [
             [
              0,
              "#0d0887"
             ],
             [
              0.1111111111111111,
              "#46039f"
             ],
             [
              0.2222222222222222,
              "#7201a8"
             ],
             [
              0.3333333333333333,
              "#9c179e"
             ],
             [
              0.4444444444444444,
              "#bd3786"
             ],
             [
              0.5555555555555556,
              "#d8576b"
             ],
             [
              0.6666666666666666,
              "#ed7953"
             ],
             [
              0.7777777777777778,
              "#fb9f3a"
             ],
             [
              0.8888888888888888,
              "#fdca26"
             ],
             [
              1,
              "#f0f921"
             ]
            ],
            "type": "surface"
           }
          ],
          "table": [
           {
            "cells": {
             "fill": {
              "color": "#EBF0F8"
             },
             "line": {
              "color": "white"
             }
            },
            "header": {
             "fill": {
              "color": "#C8D4E3"
             },
             "line": {
              "color": "white"
             }
            },
            "type": "table"
           }
          ]
         },
         "layout": {
          "annotationdefaults": {
           "arrowcolor": "#2a3f5f",
           "arrowhead": 0,
           "arrowwidth": 1
          },
          "autotypenumbers": "strict",
          "coloraxis": {
           "colorbar": {
            "outlinewidth": 0,
            "ticks": ""
           }
          },
          "colorscale": {
           "diverging": [
            [
             0,
             "#8e0152"
            ],
            [
             0.1,
             "#c51b7d"
            ],
            [
             0.2,
             "#de77ae"
            ],
            [
             0.3,
             "#f1b6da"
            ],
            [
             0.4,
             "#fde0ef"
            ],
            [
             0.5,
             "#f7f7f7"
            ],
            [
             0.6,
             "#e6f5d0"
            ],
            [
             0.7,
             "#b8e186"
            ],
            [
             0.8,
             "#7fbc41"
            ],
            [
             0.9,
             "#4d9221"
            ],
            [
             1,
             "#276419"
            ]
           ],
           "sequential": [
            [
             0,
             "#0d0887"
            ],
            [
             0.1111111111111111,
             "#46039f"
            ],
            [
             0.2222222222222222,
             "#7201a8"
            ],
            [
             0.3333333333333333,
             "#9c179e"
            ],
            [
             0.4444444444444444,
             "#bd3786"
            ],
            [
             0.5555555555555556,
             "#d8576b"
            ],
            [
             0.6666666666666666,
             "#ed7953"
            ],
            [
             0.7777777777777778,
             "#fb9f3a"
            ],
            [
             0.8888888888888888,
             "#fdca26"
            ],
            [
             1,
             "#f0f921"
            ]
           ],
           "sequentialminus": [
            [
             0,
             "#0d0887"
            ],
            [
             0.1111111111111111,
             "#46039f"
            ],
            [
             0.2222222222222222,
             "#7201a8"
            ],
            [
             0.3333333333333333,
             "#9c179e"
            ],
            [
             0.4444444444444444,
             "#bd3786"
            ],
            [
             0.5555555555555556,
             "#d8576b"
            ],
            [
             0.6666666666666666,
             "#ed7953"
            ],
            [
             0.7777777777777778,
             "#fb9f3a"
            ],
            [
             0.8888888888888888,
             "#fdca26"
            ],
            [
             1,
             "#f0f921"
            ]
           ]
          },
          "colorway": [
           "#636efa",
           "#EF553B",
           "#00cc96",
           "#ab63fa",
           "#FFA15A",
           "#19d3f3",
           "#FF6692",
           "#B6E880",
           "#FF97FF",
           "#FECB52"
          ],
          "font": {
           "color": "#2a3f5f"
          },
          "geo": {
           "bgcolor": "white",
           "lakecolor": "white",
           "landcolor": "#E5ECF6",
           "showlakes": true,
           "showland": true,
           "subunitcolor": "white"
          },
          "hoverlabel": {
           "align": "left"
          },
          "hovermode": "closest",
          "mapbox": {
           "style": "light"
          },
          "paper_bgcolor": "white",
          "plot_bgcolor": "#E5ECF6",
          "polar": {
           "angularaxis": {
            "gridcolor": "white",
            "linecolor": "white",
            "ticks": ""
           },
           "bgcolor": "#E5ECF6",
           "radialaxis": {
            "gridcolor": "white",
            "linecolor": "white",
            "ticks": ""
           }
          },
          "scene": {
           "xaxis": {
            "backgroundcolor": "#E5ECF6",
            "gridcolor": "white",
            "gridwidth": 2,
            "linecolor": "white",
            "showbackground": true,
            "ticks": "",
            "zerolinecolor": "white"
           },
           "yaxis": {
            "backgroundcolor": "#E5ECF6",
            "gridcolor": "white",
            "gridwidth": 2,
            "linecolor": "white",
            "showbackground": true,
            "ticks": "",
            "zerolinecolor": "white"
           },
           "zaxis": {
            "backgroundcolor": "#E5ECF6",
            "gridcolor": "white",
            "gridwidth": 2,
            "linecolor": "white",
            "showbackground": true,
            "ticks": "",
            "zerolinecolor": "white"
           }
          },
          "shapedefaults": {
           "line": {
            "color": "#2a3f5f"
           }
          },
          "ternary": {
           "aaxis": {
            "gridcolor": "white",
            "linecolor": "white",
            "ticks": ""
           },
           "baxis": {
            "gridcolor": "white",
            "linecolor": "white",
            "ticks": ""
           },
           "bgcolor": "#E5ECF6",
           "caxis": {
            "gridcolor": "white",
            "linecolor": "white",
            "ticks": ""
           }
          },
          "title": {
           "x": 0.05
          },
          "xaxis": {
           "automargin": true,
           "gridcolor": "white",
           "linecolor": "white",
           "ticks": "",
           "title": {
            "standoff": 15
           },
           "zerolinecolor": "white",
           "zerolinewidth": 2
          },
          "yaxis": {
           "automargin": true,
           "gridcolor": "white",
           "linecolor": "white",
           "ticks": "",
           "title": {
            "standoff": 15
           },
           "zerolinecolor": "white",
           "zerolinewidth": 2
          }
         }
        },
        "title": {
         "text": "TF-IDF with K-means Clustering for \"en\" "
        },
        "xaxis": {
         "anchor": "y",
         "domain": [
          0,
          1
         ],
         "title": {
          "text": "PCA 1"
         }
        },
        "yaxis": {
         "anchor": "x",
         "domain": [
          0,
          1
         ],
         "title": {
          "text": "PCA 2"
         }
        }
       }
      }
     },
     "metadata": {},
     "output_type": "display_data"
    }
   ],
   "source": [
    "# # Applying PCA for dimensionality reduction\n",
    "pca = PCA(n_components=2)\n",
    "reduced_features = pca.fit_transform(tfidf_matrix.toarray())\n",
    "\n",
    "# Applying K-Means clustering\n",
    "num_clusters = 5  # This is an arbitrary choice, can be tuned\n",
    "kmeans = KMeans(n_clusters=num_clusters, random_state=0).fit(tfidf_matrix)\n",
    "\n",
    "# Add cluster labels and PCA components to the original dataset\n",
    "filtered_en_data['cluster'] = kmeans.labels_\n",
    "filtered_en_data['pca_one'] = reduced_features[:, 0]\n",
    "filtered_en_data['pca_two'] = reduced_features[:, 1]\n",
    "\n",
    "# Creating a scatter plot with Plotly\n",
    "fig = px.scatter(filtered_en_data, x='pca_one', y='pca_two', color='cluster', hover_data=['language_code'],color_continuous_scale='Viridis')\n",
    "fig.update_layout(title='TF-IDF with K-means Clustering for \"en\" ', xaxis_title='PCA 1', yaxis_title='PCA 2', legend_title='Cluster')\n",
    "fig.show()"
   ]
  },
  {
   "cell_type": "code",
   "execution_count": 10,
   "metadata": {},
   "outputs": [
    {
     "name": "stdout",
     "output_type": "stream",
     "text": [
      "cluster  accent_name                  \n",
      "0        Slavic                           1\n",
      "1        6627018149                       1\n",
      "         A'lo                             1\n",
      "         A2                               1\n",
      "         Adjustable                       1\n",
      "         Arnold                           1\n",
      "         Asian                            1\n",
      "         Austrian                         1\n",
      "         Average                          1\n",
      "         B2                               1\n",
      "         Bangla                           1\n",
      "         Bangladeshi                      1\n",
      "         Basic                            1\n",
      "         Brazilian                        1\n",
      "         British                          1\n",
      "         Brooklyn                         1\n",
      "         Bulgarian                        1\n",
      "         California                       1\n",
      "         Car                              1\n",
      "         Catalan                          1\n",
      "         Catalunya                        1\n",
      "         Chicago                          1\n",
      "         China                            1\n",
      "         Chinese                          1\n",
      "         Chinglish                        1\n",
      "         Clear                            1\n",
      "         Colombia                         1\n",
      "         Conversational                   1\n",
      "         Cool                             1\n",
      "         Danglish                         1\n",
      "         Danish                           1\n",
      "         Demure                           1\n",
      "         Deutsch                          1\n",
      "         Dutch                            1\n",
      "         Dzongkha                         1\n",
      "         ESL                              1\n",
      "         Edinburgh                        1\n",
      "         Egyptian                         1\n",
      "         English                          1\n",
      "         Estonian                         1\n",
      "         Expert                           1\n",
      "         Finnish                          1\n",
      "         Fluently                         1\n",
      "         Foreign                          1\n",
      "         France                           1\n",
      "         French                           1\n",
      "         French-Canadian-English          1\n",
      "         German                           1\n",
      "         Globish                          1\n",
      "         Good                             1\n",
      "         Greek                            1\n",
      "         Guyanese                         1\n",
      "         Hmong-American                   1\n",
      "         Hungarian                        1\n",
      "         Indonesian                       1\n",
      "         Israeli                          1\n",
      "         Italian                          1\n",
      "         Japanese                         1\n",
      "         Javanese                         1\n",
      "         Kenyan                           1\n",
      "         Kiwi                             1\n",
      "         Latinamerican                    1\n",
      "         Lithuanian                       1\n",
      "         Londoner                         1\n",
      "         Low                              1\n",
      "         Manchester                       1\n",
      "         Mancunian                        1\n",
      "         Maryland                         1\n",
      "         Massachusetts                    1\n",
      "         Mentor                           1\n",
      "         Mexican                          1\n",
      "         Mid-atlantic                     1\n",
      "         Midatlantic                      1\n",
      "         Midwestern                       1\n",
      "         Minnesotan                       1\n",
      "         Nepali                           1\n",
      "         Neutral                          1\n",
      "         Nigerian                         1\n",
      "         Non-native                       1\n",
      "         Nordic                           1\n",
      "         Northeastern                     1\n",
      "         Northern                         1\n",
      "         Norwegian                        1\n",
      "         O'rtacha                         1\n",
      "         Okay                             1\n",
      "         Okie                             1\n",
      "         Other                            1\n",
      "         Patois                           1\n",
      "         Romanian                         1\n",
      "         Russian                          1\n",
      "         Scottish                         1\n",
      "         Scottish/Irish                   1\n",
      "         Secondary                        1\n",
      "         Self-learned                     1\n",
      "         Slovak                           1\n",
      "         Southern                         1\n",
      "         Spanglish                        1\n",
      "         Spanish                          1\n",
      "         Swenglish                        1\n",
      "         Thai                             1\n",
      "         Thailand                         1\n",
      "         Ukrainian                        1\n",
      "         Urban                            1\n",
      "         academic                         1\n",
      "         american                         1\n",
      "         aprenent                         1\n",
      "         bangladesh                       1\n",
      "         beginer                          1\n",
      "         england                          1\n",
      "         estàndard                        1\n",
      "         fluent                           1\n",
      "         français                         1\n",
      "         indian                           1\n",
      "         intermediate                     1\n",
      "         international                    1\n",
      "         italiano                         1\n",
      "         italico                          1\n",
      "         latin                            1\n",
      "         london                           1\n",
      "         medio                            1\n",
      "         midwest                          1\n",
      "         mixed                            1\n",
      "         nepal                            1\n",
      "         norskBookMal-Modrne.-No          1\n",
      "         ohio                             1\n",
      "         plain                            1\n",
      "         polish                           1\n",
      "         portuguese                       1\n",
      "         serbian                          1\n",
      "         sussex                           1\n",
      "         wolof                            1\n",
      "         yorkshire                        1\n",
      "         Русский                          1\n",
      "         我的英語並沒有很好，可以簡單敘述事情，但是聽與寫與文法不好    1\n",
      "         美式腔調                             1\n",
      "2        Hispanic/Latino                  1\n",
      "         Latino                           1\n",
      "3        European                         1\n",
      "         eastern-european                 1\n",
      "4        Variable                         1\n",
      "Name: accent_name, dtype: int64\n"
     ]
    }
   ],
   "source": [
    "# Grouping by cluster and counting the frequency of each language code\n",
    "cluster_language_count = filtered_en_data.groupby('cluster')['accent_name'].value_counts()\n",
    "\n",
    "# Filtering to show only language codes with frequency greater than zero\n",
    "# cluster_language_count = cluster_language_count[cluster_language_count > 25]\n",
    "\n",
    "print(cluster_language_count)\n",
    "\n"
   ]
  },
  {
   "cell_type": "code",
   "execution_count": null,
   "metadata": {},
   "outputs": [],
   "source": [
    "en,bn,ca"
   ]
  },
  {
   "cell_type": "markdown",
   "metadata": {},
   "source": [
    "Word2Vec with KMeans for bn"
   ]
  },
  {
   "cell_type": "code",
   "execution_count": 18,
   "metadata": {},
   "outputs": [],
   "source": [
    "import pandas as pd\n",
    "from gensim.models import Word2Vec\n",
    "from sklearn.cluster import KMeans\n",
    "from sklearn.decomposition import PCA\n",
    "import numpy as np\n",
    "import plotly.express as px\n",
    "\n",
    "# Load your dataset\n",
    "file_path = 'test.tsv'  # Replace with your file path\n",
    "data = pd.read_csv(file_path, sep='\\t')\n",
    "\n",
    "# Handle NaN values in accent_name\n",
    "data['accent_name'] = data['accent_name'].fillna('')"
   ]
  },
  {
   "cell_type": "code",
   "execution_count": 19,
   "metadata": {},
   "outputs": [
    {
     "data": {
      "text/plain": [
       "language_code\n",
       "en     440\n",
       "bn     375\n",
       "ca     305\n",
       "es     135\n",
       "pt     117\n",
       "      ... \n",
       "so       1\n",
       "lo       1\n",
       "mni      1\n",
       "mos      1\n",
       "ace      1\n",
       "Length: 113, dtype: int64"
      ]
     },
     "execution_count": 19,
     "metadata": {},
     "output_type": "execute_result"
    }
   ],
   "source": [
    "# cluster_language_count = data.groupby('language_code')['language_code'].value_counts()\n",
    "cluster_language_count = data.groupby('language_code').size().sort_values(ascending=False)\n",
    "\n",
    "\n",
    "cluster_language_count"
   ]
  },
  {
   "cell_type": "code",
   "execution_count": 6,
   "metadata": {},
   "outputs": [
    {
     "data": {
      "text/plain": [
       "113"
      ]
     },
     "execution_count": 6,
     "metadata": {},
     "output_type": "execute_result"
    }
   ],
   "source": [
    "len(cluster_language_count)"
   ]
  },
  {
   "cell_type": "code",
   "execution_count": 20,
   "metadata": {},
   "outputs": [
    {
     "data": {
      "text/html": [
       "<div>\n",
       "<style scoped>\n",
       "    .dataframe tbody tr th:only-of-type {\n",
       "        vertical-align: middle;\n",
       "    }\n",
       "\n",
       "    .dataframe tbody tr th {\n",
       "        vertical-align: top;\n",
       "    }\n",
       "\n",
       "    .dataframe thead th {\n",
       "        text-align: right;\n",
       "    }\n",
       "</style>\n",
       "<table border=\"1\" class=\"dataframe\">\n",
       "  <thead>\n",
       "    <tr style=\"text-align: right;\">\n",
       "      <th></th>\n",
       "      <th>language_code</th>\n",
       "      <th>accent_name</th>\n",
       "      <th>hased_client_id</th>\n",
       "    </tr>\n",
       "  </thead>\n",
       "  <tbody>\n",
       "    <tr>\n",
       "      <th>46</th>\n",
       "      <td>bn</td>\n",
       "      <td>Native</td>\n",
       "      <td>f70c6583c82c9d54019c013ec6530aa12dbf8785ca9d6d...</td>\n",
       "    </tr>\n",
       "    <tr>\n",
       "      <th>57</th>\n",
       "      <td>bn</td>\n",
       "      <td>Kolkata</td>\n",
       "      <td>741cc95312beeab5db99f4eed70140a9564d75b6537057...</td>\n",
       "    </tr>\n",
       "    <tr>\n",
       "      <th>379</th>\n",
       "      <td>bn</td>\n",
       "      <td>Indian</td>\n",
       "      <td>8eb19135e33369181bd0cf29bf9010a78c8d8adf5dc20b...</td>\n",
       "    </tr>\n",
       "    <tr>\n",
       "      <th>556</th>\n",
       "      <td>bn</td>\n",
       "      <td>বাংলাদেশি</td>\n",
       "      <td>af7bf57e793f2edfd04728b59c1d6d8f26bdccbb8c112f...</td>\n",
       "    </tr>\n",
       "    <tr>\n",
       "      <th>780</th>\n",
       "      <td>bn</td>\n",
       "      <td>রাঢ়ী</td>\n",
       "      <td>57bbd2697eca8552fdf3bbdc488cac4c2d366be5099994...</td>\n",
       "    </tr>\n",
       "    <tr>\n",
       "      <th>...</th>\n",
       "      <td>...</td>\n",
       "      <td>...</td>\n",
       "      <td>...</td>\n",
       "    </tr>\n",
       "    <tr>\n",
       "      <th>3117</th>\n",
       "      <td>bn</td>\n",
       "      <td>Shuddho</td>\n",
       "      <td>5f24e6cbe164fdce92295beb7f4c215b9e6fadcf23dbf7...</td>\n",
       "    </tr>\n",
       "    <tr>\n",
       "      <th>3145</th>\n",
       "      <td>bn</td>\n",
       "      <td>মোবাইলে</td>\n",
       "      <td>cc38afb17ffacc4716670cf742bb747c0d817539d2705e...</td>\n",
       "    </tr>\n",
       "    <tr>\n",
       "      <th>3154</th>\n",
       "      <td>bn</td>\n",
       "      <td>চিটাইংগা</td>\n",
       "      <td>616500d4e1eb80af8654a80aee001ca95aaa932d3b26e6...</td>\n",
       "    </tr>\n",
       "    <tr>\n",
       "      <th>3155</th>\n",
       "      <td>bn</td>\n",
       "      <td>চাঁটগা</td>\n",
       "      <td>616500d4e1eb80af8654a80aee001ca95aaa932d3b26e6...</td>\n",
       "    </tr>\n",
       "    <tr>\n",
       "      <th>3156</th>\n",
       "      <td>bn</td>\n",
       "      <td>চট্টগ্রাম</td>\n",
       "      <td>616500d4e1eb80af8654a80aee001ca95aaa932d3b26e6...</td>\n",
       "    </tr>\n",
       "  </tbody>\n",
       "</table>\n",
       "<p>148 rows × 3 columns</p>\n",
       "</div>"
      ],
      "text/plain": [
       "     language_code accent_name  \\\n",
       "46              bn      Native   \n",
       "57              bn     Kolkata   \n",
       "379             bn      Indian   \n",
       "556             bn   বাংলাদেশি   \n",
       "780             bn       রাঢ়ী   \n",
       "...            ...         ...   \n",
       "3117            bn     Shuddho   \n",
       "3145            bn     মোবাইলে   \n",
       "3154            bn    চিটাইংগা   \n",
       "3155            bn      চাঁটগা   \n",
       "3156            bn   চট্টগ্রাম   \n",
       "\n",
       "                                        hased_client_id  \n",
       "46    f70c6583c82c9d54019c013ec6530aa12dbf8785ca9d6d...  \n",
       "57    741cc95312beeab5db99f4eed70140a9564d75b6537057...  \n",
       "379   8eb19135e33369181bd0cf29bf9010a78c8d8adf5dc20b...  \n",
       "556   af7bf57e793f2edfd04728b59c1d6d8f26bdccbb8c112f...  \n",
       "780   57bbd2697eca8552fdf3bbdc488cac4c2d366be5099994...  \n",
       "...                                                 ...  \n",
       "3117  5f24e6cbe164fdce92295beb7f4c215b9e6fadcf23dbf7...  \n",
       "3145  cc38afb17ffacc4716670cf742bb747c0d817539d2705e...  \n",
       "3154  616500d4e1eb80af8654a80aee001ca95aaa932d3b26e6...  \n",
       "3155  616500d4e1eb80af8654a80aee001ca95aaa932d3b26e6...  \n",
       "3156  616500d4e1eb80af8654a80aee001ca95aaa932d3b26e6...  \n",
       "\n",
       "[148 rows x 3 columns]"
      ]
     },
     "execution_count": 20,
     "metadata": {},
     "output_type": "execute_result"
    }
   ],
   "source": [
    "bn_data = data[data['language_code']==\"bn\"]\n",
    "filtered_bn_data = bn_data[~bn_data['accent_name'].str.contains(' ')]\n",
    "\n",
    "filtered_bn_data"
   ]
  },
  {
   "cell_type": "code",
   "execution_count": 21,
   "metadata": {},
   "outputs": [
    {
     "name": "stderr",
     "output_type": "stream",
     "text": [
      "C:\\Users\\saima\\AppData\\Local\\Temp\\ipykernel_20128\\1943659978.py:25: SettingWithCopyWarning:\n",
      "\n",
      "\n",
      "A value is trying to be set on a copy of a slice from a DataFrame.\n",
      "Try using .loc[row_indexer,col_indexer] = value instead\n",
      "\n",
      "See the caveats in the documentation: https://pandas.pydata.org/pandas-docs/stable/user_guide/indexing.html#returning-a-view-versus-a-copy\n",
      "\n"
     ]
    }
   ],
   "source": [
    "from gensim.models import KeyedVectors\n",
    "\n",
    "# Load the Google News Word2Vec model\n",
    "word2vec_model = KeyedVectors.load_word2vec_format('archive/GoogleNews-vectors-negative300.bin', binary=True)\n",
    "import numpy as np\n",
    "\n",
    "# Function to get embedding for a word\n",
    "def get_embedding(word):\n",
    "    try:\n",
    "        return word2vec_model[word]\n",
    "    except KeyError:\n",
    "        # Return a zero vector if the word is not in the vocabulary\n",
    "        return np.zeros(word2vec_model.vector_size)\n",
    "\n",
    "# Apply the function to your DataFrame\n",
    "# Generating embeddings for accent_name\n",
    "bn_goo_embeddings = np.array([get_embedding(text) for text in filtered_bn_data['accent_name']])\n",
    "from sklearn.cluster import KMeans\n",
    "\n",
    "# Choose the number of clusters\n",
    "k = 5 # Adjust this based on your requirement\n",
    "\n",
    "# Fit K-means to the embeddings\n",
    "kmeans = KMeans(n_clusters=k)\n",
    "filtered_bn_data['cluster'] = kmeans.fit_predict(bn_goo_embeddings)\n"
   ]
  },
  {
   "cell_type": "code",
   "execution_count": 22,
   "metadata": {},
   "outputs": [
    {
     "name": "stderr",
     "output_type": "stream",
     "text": [
      "C:\\Users\\saima\\AppData\\Local\\Temp\\ipykernel_20128\\1739639461.py:2: SettingWithCopyWarning:\n",
      "\n",
      "\n",
      "A value is trying to be set on a copy of a slice from a DataFrame.\n",
      "Try using .loc[row_indexer,col_indexer] = value instead\n",
      "\n",
      "See the caveats in the documentation: https://pandas.pydata.org/pandas-docs/stable/user_guide/indexing.html#returning-a-view-versus-a-copy\n",
      "\n"
     ]
    },
    {
     "name": "stderr",
     "output_type": "stream",
     "text": [
      "C:\\Users\\saima\\AppData\\Local\\Temp\\ipykernel_20128\\1739639461.py:9: SettingWithCopyWarning:\n",
      "\n",
      "\n",
      "A value is trying to be set on a copy of a slice from a DataFrame.\n",
      "Try using .loc[row_indexer,col_indexer] = value instead\n",
      "\n",
      "See the caveats in the documentation: https://pandas.pydata.org/pandas-docs/stable/user_guide/indexing.html#returning-a-view-versus-a-copy\n",
      "\n",
      "C:\\Users\\saima\\AppData\\Local\\Temp\\ipykernel_20128\\1739639461.py:10: SettingWithCopyWarning:\n",
      "\n",
      "\n",
      "A value is trying to be set on a copy of a slice from a DataFrame.\n",
      "Try using .loc[row_indexer,col_indexer] = value instead\n",
      "\n",
      "See the caveats in the documentation: https://pandas.pydata.org/pandas-docs/stable/user_guide/indexing.html#returning-a-view-versus-a-copy\n",
      "\n"
     ]
    },
    {
     "data": {
      "application/vnd.plotly.v1+json": {
       "config": {
        "plotlyServerURL": "https://plot.ly"
       },
       "data": [
        {
         "customdata": [
          [
           "bn"
          ],
          [
           "bn"
          ],
          [
           "bn"
          ],
          [
           "bn"
          ],
          [
           "bn"
          ],
          [
           "bn"
          ],
          [
           "bn"
          ],
          [
           "bn"
          ],
          [
           "bn"
          ],
          [
           "bn"
          ],
          [
           "bn"
          ],
          [
           "bn"
          ],
          [
           "bn"
          ],
          [
           "bn"
          ],
          [
           "bn"
          ],
          [
           "bn"
          ],
          [
           "bn"
          ],
          [
           "bn"
          ],
          [
           "bn"
          ],
          [
           "bn"
          ],
          [
           "bn"
          ],
          [
           "bn"
          ],
          [
           "bn"
          ],
          [
           "bn"
          ],
          [
           "bn"
          ],
          [
           "bn"
          ],
          [
           "bn"
          ],
          [
           "bn"
          ],
          [
           "bn"
          ],
          [
           "bn"
          ],
          [
           "bn"
          ],
          [
           "bn"
          ],
          [
           "bn"
          ],
          [
           "bn"
          ],
          [
           "bn"
          ],
          [
           "bn"
          ],
          [
           "bn"
          ],
          [
           "bn"
          ],
          [
           "bn"
          ],
          [
           "bn"
          ],
          [
           "bn"
          ],
          [
           "bn"
          ],
          [
           "bn"
          ],
          [
           "bn"
          ],
          [
           "bn"
          ],
          [
           "bn"
          ],
          [
           "bn"
          ],
          [
           "bn"
          ],
          [
           "bn"
          ],
          [
           "bn"
          ],
          [
           "bn"
          ],
          [
           "bn"
          ],
          [
           "bn"
          ],
          [
           "bn"
          ],
          [
           "bn"
          ],
          [
           "bn"
          ],
          [
           "bn"
          ],
          [
           "bn"
          ],
          [
           "bn"
          ],
          [
           "bn"
          ],
          [
           "bn"
          ],
          [
           "bn"
          ],
          [
           "bn"
          ],
          [
           "bn"
          ],
          [
           "bn"
          ],
          [
           "bn"
          ],
          [
           "bn"
          ],
          [
           "bn"
          ],
          [
           "bn"
          ],
          [
           "bn"
          ],
          [
           "bn"
          ],
          [
           "bn"
          ],
          [
           "bn"
          ],
          [
           "bn"
          ],
          [
           "bn"
          ],
          [
           "bn"
          ],
          [
           "bn"
          ],
          [
           "bn"
          ],
          [
           "bn"
          ],
          [
           "bn"
          ],
          [
           "bn"
          ],
          [
           "bn"
          ],
          [
           "bn"
          ],
          [
           "bn"
          ],
          [
           "bn"
          ],
          [
           "bn"
          ],
          [
           "bn"
          ],
          [
           "bn"
          ],
          [
           "bn"
          ],
          [
           "bn"
          ],
          [
           "bn"
          ],
          [
           "bn"
          ],
          [
           "bn"
          ],
          [
           "bn"
          ],
          [
           "bn"
          ],
          [
           "bn"
          ],
          [
           "bn"
          ],
          [
           "bn"
          ],
          [
           "bn"
          ],
          [
           "bn"
          ],
          [
           "bn"
          ],
          [
           "bn"
          ],
          [
           "bn"
          ],
          [
           "bn"
          ],
          [
           "bn"
          ],
          [
           "bn"
          ],
          [
           "bn"
          ],
          [
           "bn"
          ],
          [
           "bn"
          ],
          [
           "bn"
          ],
          [
           "bn"
          ],
          [
           "bn"
          ],
          [
           "bn"
          ],
          [
           "bn"
          ],
          [
           "bn"
          ],
          [
           "bn"
          ],
          [
           "bn"
          ],
          [
           "bn"
          ],
          [
           "bn"
          ],
          [
           "bn"
          ],
          [
           "bn"
          ],
          [
           "bn"
          ],
          [
           "bn"
          ],
          [
           "bn"
          ],
          [
           "bn"
          ],
          [
           "bn"
          ],
          [
           "bn"
          ],
          [
           "bn"
          ],
          [
           "bn"
          ],
          [
           "bn"
          ],
          [
           "bn"
          ],
          [
           "bn"
          ],
          [
           "bn"
          ],
          [
           "bn"
          ],
          [
           "bn"
          ],
          [
           "bn"
          ],
          [
           "bn"
          ],
          [
           "bn"
          ],
          [
           "bn"
          ],
          [
           "bn"
          ],
          [
           "bn"
          ],
          [
           "bn"
          ],
          [
           "bn"
          ],
          [
           "bn"
          ],
          [
           "bn"
          ],
          [
           "bn"
          ],
          [
           "bn"
          ],
          [
           "bn"
          ]
         ],
         "hovertemplate": "pca_one=%{x}<br>pca_two=%{y}<br>language_code=%{customdata[0]}<br>cluster=%{marker.color}<extra></extra>",
         "legendgroup": "",
         "marker": {
          "color": [
           0,
           2,
           1,
           1,
           1,
           1,
           2,
           1,
           1,
           1,
           2,
           2,
           2,
           1,
           1,
           1,
           1,
           1,
           1,
           1,
           1,
           1,
           2,
           2,
           1,
           1,
           1,
           1,
           1,
           1,
           1,
           1,
           1,
           1,
           1,
           1,
           1,
           1,
           1,
           1,
           1,
           1,
           2,
           1,
           1,
           1,
           1,
           1,
           1,
           1,
           1,
           1,
           1,
           1,
           1,
           1,
           1,
           1,
           2,
           2,
           2,
           1,
           1,
           1,
           1,
           1,
           1,
           1,
           1,
           1,
           1,
           2,
           1,
           1,
           1,
           1,
           1,
           1,
           1,
           1,
           1,
           1,
           1,
           1,
           3,
           3,
           3,
           3,
           3,
           3,
           1,
           1,
           1,
           1,
           1,
           1,
           1,
           1,
           1,
           1,
           1,
           1,
           1,
           2,
           1,
           1,
           1,
           1,
           1,
           0,
           1,
           1,
           1,
           1,
           1,
           4,
           4,
           1,
           1,
           2,
           2,
           1,
           1,
           1,
           1,
           1,
           1,
           1,
           1,
           1,
           1,
           1,
           1,
           1,
           1,
           1,
           1,
           1,
           1,
           1,
           1,
           1,
           1,
           1,
           1,
           1,
           1,
           1
          ],
          "coloraxis": "coloraxis",
          "symbol": "circle"
         },
         "mode": "markers",
         "name": "",
         "orientation": "v",
         "showlegend": false,
         "type": "scatter",
         "x": [
          -0.48835769965084236,
          1.904551035629354,
          0.5163141015883037,
          -0.30451862505246746,
          -0.30451862505246813,
          -0.5768428539613837,
          1.7251182306739374,
          -0.3045186250524683,
          -0.30451862505246824,
          -0.30451862505246824,
          2.899731495742133,
          1.8304083241604652,
          2.029886999804985,
          -0.3045186250524683,
          -0.42753958373897416,
          -0.029634374669158192,
          -0.3255419099197138,
          -0.3045186250524683,
          -0.5619766895810396,
          -0.3045186250524683,
          -0.3045186250524683,
          -0.40697050723006706,
          2.417386482972648,
          2.2493824974617995,
          1.0111918285090853,
          -0.35605938801268794,
          -0.3045186250524683,
          -0.3045186250524683,
          -0.3045186250524683,
          -0.3045186250524683,
          -0.3045186250524683,
          -0.3045186250524683,
          -0.3045186250524683,
          -0.3045186250524683,
          -0.46651450998736155,
          -0.5167442328320303,
          -0.3045186250524683,
          -0.3045186250524683,
          0.24865336317173656,
          -0.6093598499243701,
          -0.5155764243727295,
          -0.3045186250524683,
          3.0658782674076845,
          -0.3045186250524683,
          -0.3045186250524683,
          -0.3045186250524683,
          -0.3045186250524683,
          -0.4933111077622723,
          0.08381160190975817,
          -0.3045186250524683,
          -0.3045186250524683,
          -0.3045186250524683,
          -0.5192312896107136,
          -0.3045186250524683,
          -0.17804539324719673,
          -0.3045186250524683,
          -0.3045186250524683,
          -0.7352452552232965,
          3.2956818216033237,
          1.9797544081048355,
          2.502765725147542,
          -0.1560760073960809,
          -0.4522808259609964,
          -0.3045186250524683,
          -0.43739274276478385,
          -0.3045186250524683,
          -0.8030301021063013,
          -0.3045186250524683,
          -0.3045186250524683,
          -0.3045186250524683,
          -0.3045186250524683,
          3.2085511070173753,
          -0.3045186250524683,
          -0.3045186250524683,
          -0.3045186250524683,
          -0.3045186250524683,
          -0.3045186250524683,
          -0.3045186250524683,
          -0.4641913198760182,
          -0.3045186250524683,
          -0.3045186250524683,
          -0.3045186250524683,
          -0.3045186250524683,
          -0.3259926206804656,
          -0.2040910396085998,
          -0.3390153915986522,
          -0.6053458505733497,
          -0.35251006250051387,
          -0.5266103031258953,
          -0.3438110986469865,
          -0.3045186250524683,
          -0.3045186250524683,
          -0.21866135281406204,
          -0.3045186250524683,
          0.2845974287796135,
          -0.3045186250524683,
          -0.3045186250524683,
          -0.25595648011172145,
          -0.3045186250524683,
          -0.5433503516573945,
          -0.3045186250524683,
          -0.147594770659786,
          0.837162077823841,
          3.2223195234034727,
          -0.3045186250524683,
          -0.40789260517352927,
          -0.3045186250524683,
          -0.3045186250524683,
          -0.3826984843084718,
          -0.4883576996508421,
          -0.3045186250524683,
          -0.21334559838412576,
          -0.233680432397942,
          -0.3045186250524683,
          -0.2795072720460608,
          -0.0948430919876607,
          -0.18730012065568924,
          -0.49276827838872034,
          -0.3045186250524683,
          3.2764689405918936,
          3.0500212660557424,
          -0.352919766357,
          -0.2810757494432037,
          -0.3045186250524683,
          -0.3045186250524683,
          -0.23276779644390064,
          -0.3045186250524683,
          -0.5265511497020257,
          0.5829415364350033,
          -0.3045186250524683,
          -0.3045186250524683,
          -0.3045186250524683,
          -0.3045186250524683,
          -0.3045186250524683,
          -0.3045186250524683,
          -0.3045186250524683,
          -0.3045186250524683,
          -0.3045186250524683,
          -0.3045186250524683,
          -0.3045186250524683,
          -0.3045186250524683,
          -0.3045186250524683,
          -0.3045186250524683,
          -0.3045186250524683,
          -0.3045186250524683,
          -0.3045186250524683,
          -0.3045186250524683,
          -0.3045186250524683
         ],
         "xaxis": "x",
         "y": [
          0.6692090290175234,
          0.008289083942153015,
          0.2726140750444838,
          -0.4237420169626548,
          -0.42374201696265634,
          1.0908053077177375,
          0.46550973381913174,
          -0.42374201696265595,
          -0.42374201696265595,
          -0.42374201696265595,
          -0.08620642630245436,
          0.2656352844924711,
          -0.01810596487171381,
          -0.423742016962656,
          -0.10850854976946511,
          0.542576499833464,
          0.4915364085596473,
          -0.423742016962656,
          0.24126897740064351,
          -0.423742016962656,
          -0.42374201696265595,
          0.8676042503977238,
          0.7077477774657762,
          0.01697232600588955,
          -0.033215338212209414,
          0.22891908817307574,
          -0.42374201696265595,
          -0.42374201696265595,
          -0.42374201696265595,
          -0.42374201696265595,
          -0.42374201696265595,
          -0.42374201696265595,
          -0.42374201696265595,
          -0.42374201696265595,
          0.9440391595630242,
          1.1631604855596154,
          -0.42374201696265595,
          -0.42374201696265595,
          0.08110558290506112,
          1.4594100252763709,
          1.0122333227041598,
          -0.42374201696265595,
          -0.10029080811251168,
          -0.42374201696265595,
          -0.42374201696265595,
          -0.42374201696265595,
          -0.42374201696265595,
          1.5881962686172535,
          0.6823180599573199,
          -0.42374201696265595,
          -0.42374201696265595,
          -0.42374201696265595,
          1.5903543297081142,
          -0.42374201696265595,
          -0.024247747324469566,
          -0.42374201696265595,
          -0.42374201696265595,
          1.3513132633430363,
          0.12171674300919061,
          -0.16382418413378,
          0.06145577521064593,
          0.5808064110523691,
          0.7955543009766927,
          -0.42374201696265595,
          1.3068918235594598,
          -0.42374201696265595,
          0.9976600821691863,
          -0.42374201696265595,
          -0.42374201696265595,
          -0.42374201696265595,
          -0.42374201696265595,
          -0.023819332664574484,
          -0.42374201696265595,
          -0.42374201696265595,
          -0.42374201696265595,
          -0.42374201696265595,
          -0.42374201696265595,
          -0.42374201696265595,
          0.49850349274174577,
          -0.42374201696265595,
          -0.42374201696265595,
          -0.42374201696265595,
          -0.42374201696265595,
          0.19149425715066204,
          0.42625892487931144,
          0.2914826722121274,
          0.3037990891048962,
          0.3115805313324425,
          0.2540724549719193,
          0.41756443289708234,
          -0.42374201696265595,
          -0.42374201696265595,
          0.7518052801473784,
          -0.42374201696265595,
          0.2856974557004782,
          -0.42374201696265595,
          -0.42374201696265595,
          1.0760545255253136,
          -0.42374201696265595,
          1.0987985986408129,
          -0.42374201696265595,
          -0.059322166555532935,
          0.02560286732506637,
          -0.10656599893163472,
          -0.42374201696265595,
          0.7781978410087607,
          -0.42374201696265595,
          -0.42374201696265595,
          0.7508229705112037,
          0.669209029017524,
          -0.42374201696265595,
          -0.08634194327618235,
          -0.14505610401980285,
          -0.42374201696265595,
          0.745501521100128,
          1.406232483399404,
          1.1105411279307276,
          0.9555554023035921,
          -0.42374201696265595,
          0.13344250251952003,
          0.07306497589106546,
          1.0779722381932746,
          0.06777098915243127,
          -0.42374201696265595,
          -0.42374201696265595,
          0.609403547424758,
          -0.42374201696265595,
          1.2748915776697791,
          0.08838367391684937,
          -0.42374201696265595,
          -0.42374201696265595,
          -0.42374201696265595,
          -0.42374201696265595,
          -0.42374201696265595,
          -0.42374201696265595,
          -0.42374201696265595,
          -0.42374201696265595,
          -0.42374201696265595,
          -0.42374201696265595,
          -0.42374201696265595,
          -0.42374201696265595,
          -0.42374201696265595,
          -0.42374201696265595,
          -0.42374201696265595,
          -0.42374201696265595,
          -0.42374201696265607,
          -0.42374201696265607,
          -0.42374201696265607
         ],
         "yaxis": "y"
        }
       ],
       "layout": {
        "coloraxis": {
         "colorbar": {
          "title": {
           "text": "cluster"
          }
         },
         "colorscale": [
          [
           0,
           "#440154"
          ],
          [
           0.1111111111111111,
           "#482878"
          ],
          [
           0.2222222222222222,
           "#3e4989"
          ],
          [
           0.3333333333333333,
           "#31688e"
          ],
          [
           0.4444444444444444,
           "#26828e"
          ],
          [
           0.5555555555555556,
           "#1f9e89"
          ],
          [
           0.6666666666666666,
           "#35b779"
          ],
          [
           0.7777777777777778,
           "#6ece58"
          ],
          [
           0.8888888888888888,
           "#b5de2b"
          ],
          [
           1,
           "#fde725"
          ]
         ]
        },
        "legend": {
         "title": {
          "text": "Cluster"
         },
         "tracegroupgap": 0
        },
        "margin": {
         "t": 60
        },
        "template": {
         "data": {
          "bar": [
           {
            "error_x": {
             "color": "#2a3f5f"
            },
            "error_y": {
             "color": "#2a3f5f"
            },
            "marker": {
             "line": {
              "color": "#E5ECF6",
              "width": 0.5
             },
             "pattern": {
              "fillmode": "overlay",
              "size": 10,
              "solidity": 0.2
             }
            },
            "type": "bar"
           }
          ],
          "barpolar": [
           {
            "marker": {
             "line": {
              "color": "#E5ECF6",
              "width": 0.5
             },
             "pattern": {
              "fillmode": "overlay",
              "size": 10,
              "solidity": 0.2
             }
            },
            "type": "barpolar"
           }
          ],
          "carpet": [
           {
            "aaxis": {
             "endlinecolor": "#2a3f5f",
             "gridcolor": "white",
             "linecolor": "white",
             "minorgridcolor": "white",
             "startlinecolor": "#2a3f5f"
            },
            "baxis": {
             "endlinecolor": "#2a3f5f",
             "gridcolor": "white",
             "linecolor": "white",
             "minorgridcolor": "white",
             "startlinecolor": "#2a3f5f"
            },
            "type": "carpet"
           }
          ],
          "choropleth": [
           {
            "colorbar": {
             "outlinewidth": 0,
             "ticks": ""
            },
            "type": "choropleth"
           }
          ],
          "contour": [
           {
            "colorbar": {
             "outlinewidth": 0,
             "ticks": ""
            },
            "colorscale": [
             [
              0,
              "#0d0887"
             ],
             [
              0.1111111111111111,
              "#46039f"
             ],
             [
              0.2222222222222222,
              "#7201a8"
             ],
             [
              0.3333333333333333,
              "#9c179e"
             ],
             [
              0.4444444444444444,
              "#bd3786"
             ],
             [
              0.5555555555555556,
              "#d8576b"
             ],
             [
              0.6666666666666666,
              "#ed7953"
             ],
             [
              0.7777777777777778,
              "#fb9f3a"
             ],
             [
              0.8888888888888888,
              "#fdca26"
             ],
             [
              1,
              "#f0f921"
             ]
            ],
            "type": "contour"
           }
          ],
          "contourcarpet": [
           {
            "colorbar": {
             "outlinewidth": 0,
             "ticks": ""
            },
            "type": "contourcarpet"
           }
          ],
          "heatmap": [
           {
            "colorbar": {
             "outlinewidth": 0,
             "ticks": ""
            },
            "colorscale": [
             [
              0,
              "#0d0887"
             ],
             [
              0.1111111111111111,
              "#46039f"
             ],
             [
              0.2222222222222222,
              "#7201a8"
             ],
             [
              0.3333333333333333,
              "#9c179e"
             ],
             [
              0.4444444444444444,
              "#bd3786"
             ],
             [
              0.5555555555555556,
              "#d8576b"
             ],
             [
              0.6666666666666666,
              "#ed7953"
             ],
             [
              0.7777777777777778,
              "#fb9f3a"
             ],
             [
              0.8888888888888888,
              "#fdca26"
             ],
             [
              1,
              "#f0f921"
             ]
            ],
            "type": "heatmap"
           }
          ],
          "heatmapgl": [
           {
            "colorbar": {
             "outlinewidth": 0,
             "ticks": ""
            },
            "colorscale": [
             [
              0,
              "#0d0887"
             ],
             [
              0.1111111111111111,
              "#46039f"
             ],
             [
              0.2222222222222222,
              "#7201a8"
             ],
             [
              0.3333333333333333,
              "#9c179e"
             ],
             [
              0.4444444444444444,
              "#bd3786"
             ],
             [
              0.5555555555555556,
              "#d8576b"
             ],
             [
              0.6666666666666666,
              "#ed7953"
             ],
             [
              0.7777777777777778,
              "#fb9f3a"
             ],
             [
              0.8888888888888888,
              "#fdca26"
             ],
             [
              1,
              "#f0f921"
             ]
            ],
            "type": "heatmapgl"
           }
          ],
          "histogram": [
           {
            "marker": {
             "pattern": {
              "fillmode": "overlay",
              "size": 10,
              "solidity": 0.2
             }
            },
            "type": "histogram"
           }
          ],
          "histogram2d": [
           {
            "colorbar": {
             "outlinewidth": 0,
             "ticks": ""
            },
            "colorscale": [
             [
              0,
              "#0d0887"
             ],
             [
              0.1111111111111111,
              "#46039f"
             ],
             [
              0.2222222222222222,
              "#7201a8"
             ],
             [
              0.3333333333333333,
              "#9c179e"
             ],
             [
              0.4444444444444444,
              "#bd3786"
             ],
             [
              0.5555555555555556,
              "#d8576b"
             ],
             [
              0.6666666666666666,
              "#ed7953"
             ],
             [
              0.7777777777777778,
              "#fb9f3a"
             ],
             [
              0.8888888888888888,
              "#fdca26"
             ],
             [
              1,
              "#f0f921"
             ]
            ],
            "type": "histogram2d"
           }
          ],
          "histogram2dcontour": [
           {
            "colorbar": {
             "outlinewidth": 0,
             "ticks": ""
            },
            "colorscale": [
             [
              0,
              "#0d0887"
             ],
             [
              0.1111111111111111,
              "#46039f"
             ],
             [
              0.2222222222222222,
              "#7201a8"
             ],
             [
              0.3333333333333333,
              "#9c179e"
             ],
             [
              0.4444444444444444,
              "#bd3786"
             ],
             [
              0.5555555555555556,
              "#d8576b"
             ],
             [
              0.6666666666666666,
              "#ed7953"
             ],
             [
              0.7777777777777778,
              "#fb9f3a"
             ],
             [
              0.8888888888888888,
              "#fdca26"
             ],
             [
              1,
              "#f0f921"
             ]
            ],
            "type": "histogram2dcontour"
           }
          ],
          "mesh3d": [
           {
            "colorbar": {
             "outlinewidth": 0,
             "ticks": ""
            },
            "type": "mesh3d"
           }
          ],
          "parcoords": [
           {
            "line": {
             "colorbar": {
              "outlinewidth": 0,
              "ticks": ""
             }
            },
            "type": "parcoords"
           }
          ],
          "pie": [
           {
            "automargin": true,
            "type": "pie"
           }
          ],
          "scatter": [
           {
            "fillpattern": {
             "fillmode": "overlay",
             "size": 10,
             "solidity": 0.2
            },
            "type": "scatter"
           }
          ],
          "scatter3d": [
           {
            "line": {
             "colorbar": {
              "outlinewidth": 0,
              "ticks": ""
             }
            },
            "marker": {
             "colorbar": {
              "outlinewidth": 0,
              "ticks": ""
             }
            },
            "type": "scatter3d"
           }
          ],
          "scattercarpet": [
           {
            "marker": {
             "colorbar": {
              "outlinewidth": 0,
              "ticks": ""
             }
            },
            "type": "scattercarpet"
           }
          ],
          "scattergeo": [
           {
            "marker": {
             "colorbar": {
              "outlinewidth": 0,
              "ticks": ""
             }
            },
            "type": "scattergeo"
           }
          ],
          "scattergl": [
           {
            "marker": {
             "colorbar": {
              "outlinewidth": 0,
              "ticks": ""
             }
            },
            "type": "scattergl"
           }
          ],
          "scattermapbox": [
           {
            "marker": {
             "colorbar": {
              "outlinewidth": 0,
              "ticks": ""
             }
            },
            "type": "scattermapbox"
           }
          ],
          "scatterpolar": [
           {
            "marker": {
             "colorbar": {
              "outlinewidth": 0,
              "ticks": ""
             }
            },
            "type": "scatterpolar"
           }
          ],
          "scatterpolargl": [
           {
            "marker": {
             "colorbar": {
              "outlinewidth": 0,
              "ticks": ""
             }
            },
            "type": "scatterpolargl"
           }
          ],
          "scatterternary": [
           {
            "marker": {
             "colorbar": {
              "outlinewidth": 0,
              "ticks": ""
             }
            },
            "type": "scatterternary"
           }
          ],
          "surface": [
           {
            "colorbar": {
             "outlinewidth": 0,
             "ticks": ""
            },
            "colorscale": [
             [
              0,
              "#0d0887"
             ],
             [
              0.1111111111111111,
              "#46039f"
             ],
             [
              0.2222222222222222,
              "#7201a8"
             ],
             [
              0.3333333333333333,
              "#9c179e"
             ],
             [
              0.4444444444444444,
              "#bd3786"
             ],
             [
              0.5555555555555556,
              "#d8576b"
             ],
             [
              0.6666666666666666,
              "#ed7953"
             ],
             [
              0.7777777777777778,
              "#fb9f3a"
             ],
             [
              0.8888888888888888,
              "#fdca26"
             ],
             [
              1,
              "#f0f921"
             ]
            ],
            "type": "surface"
           }
          ],
          "table": [
           {
            "cells": {
             "fill": {
              "color": "#EBF0F8"
             },
             "line": {
              "color": "white"
             }
            },
            "header": {
             "fill": {
              "color": "#C8D4E3"
             },
             "line": {
              "color": "white"
             }
            },
            "type": "table"
           }
          ]
         },
         "layout": {
          "annotationdefaults": {
           "arrowcolor": "#2a3f5f",
           "arrowhead": 0,
           "arrowwidth": 1
          },
          "autotypenumbers": "strict",
          "coloraxis": {
           "colorbar": {
            "outlinewidth": 0,
            "ticks": ""
           }
          },
          "colorscale": {
           "diverging": [
            [
             0,
             "#8e0152"
            ],
            [
             0.1,
             "#c51b7d"
            ],
            [
             0.2,
             "#de77ae"
            ],
            [
             0.3,
             "#f1b6da"
            ],
            [
             0.4,
             "#fde0ef"
            ],
            [
             0.5,
             "#f7f7f7"
            ],
            [
             0.6,
             "#e6f5d0"
            ],
            [
             0.7,
             "#b8e186"
            ],
            [
             0.8,
             "#7fbc41"
            ],
            [
             0.9,
             "#4d9221"
            ],
            [
             1,
             "#276419"
            ]
           ],
           "sequential": [
            [
             0,
             "#0d0887"
            ],
            [
             0.1111111111111111,
             "#46039f"
            ],
            [
             0.2222222222222222,
             "#7201a8"
            ],
            [
             0.3333333333333333,
             "#9c179e"
            ],
            [
             0.4444444444444444,
             "#bd3786"
            ],
            [
             0.5555555555555556,
             "#d8576b"
            ],
            [
             0.6666666666666666,
             "#ed7953"
            ],
            [
             0.7777777777777778,
             "#fb9f3a"
            ],
            [
             0.8888888888888888,
             "#fdca26"
            ],
            [
             1,
             "#f0f921"
            ]
           ],
           "sequentialminus": [
            [
             0,
             "#0d0887"
            ],
            [
             0.1111111111111111,
             "#46039f"
            ],
            [
             0.2222222222222222,
             "#7201a8"
            ],
            [
             0.3333333333333333,
             "#9c179e"
            ],
            [
             0.4444444444444444,
             "#bd3786"
            ],
            [
             0.5555555555555556,
             "#d8576b"
            ],
            [
             0.6666666666666666,
             "#ed7953"
            ],
            [
             0.7777777777777778,
             "#fb9f3a"
            ],
            [
             0.8888888888888888,
             "#fdca26"
            ],
            [
             1,
             "#f0f921"
            ]
           ]
          },
          "colorway": [
           "#636efa",
           "#EF553B",
           "#00cc96",
           "#ab63fa",
           "#FFA15A",
           "#19d3f3",
           "#FF6692",
           "#B6E880",
           "#FF97FF",
           "#FECB52"
          ],
          "font": {
           "color": "#2a3f5f"
          },
          "geo": {
           "bgcolor": "white",
           "lakecolor": "white",
           "landcolor": "#E5ECF6",
           "showlakes": true,
           "showland": true,
           "subunitcolor": "white"
          },
          "hoverlabel": {
           "align": "left"
          },
          "hovermode": "closest",
          "mapbox": {
           "style": "light"
          },
          "paper_bgcolor": "white",
          "plot_bgcolor": "#E5ECF6",
          "polar": {
           "angularaxis": {
            "gridcolor": "white",
            "linecolor": "white",
            "ticks": ""
           },
           "bgcolor": "#E5ECF6",
           "radialaxis": {
            "gridcolor": "white",
            "linecolor": "white",
            "ticks": ""
           }
          },
          "scene": {
           "xaxis": {
            "backgroundcolor": "#E5ECF6",
            "gridcolor": "white",
            "gridwidth": 2,
            "linecolor": "white",
            "showbackground": true,
            "ticks": "",
            "zerolinecolor": "white"
           },
           "yaxis": {
            "backgroundcolor": "#E5ECF6",
            "gridcolor": "white",
            "gridwidth": 2,
            "linecolor": "white",
            "showbackground": true,
            "ticks": "",
            "zerolinecolor": "white"
           },
           "zaxis": {
            "backgroundcolor": "#E5ECF6",
            "gridcolor": "white",
            "gridwidth": 2,
            "linecolor": "white",
            "showbackground": true,
            "ticks": "",
            "zerolinecolor": "white"
           }
          },
          "shapedefaults": {
           "line": {
            "color": "#2a3f5f"
           }
          },
          "ternary": {
           "aaxis": {
            "gridcolor": "white",
            "linecolor": "white",
            "ticks": ""
           },
           "baxis": {
            "gridcolor": "white",
            "linecolor": "white",
            "ticks": ""
           },
           "bgcolor": "#E5ECF6",
           "caxis": {
            "gridcolor": "white",
            "linecolor": "white",
            "ticks": ""
           }
          },
          "title": {
           "x": 0.05
          },
          "xaxis": {
           "automargin": true,
           "gridcolor": "white",
           "linecolor": "white",
           "ticks": "",
           "title": {
            "standoff": 15
           },
           "zerolinecolor": "white",
           "zerolinewidth": 2
          },
          "yaxis": {
           "automargin": true,
           "gridcolor": "white",
           "linecolor": "white",
           "ticks": "",
           "title": {
            "standoff": 15
           },
           "zerolinecolor": "white",
           "zerolinewidth": 2
          }
         }
        },
        "title": {
         "text": "Word2Vec with K-Means Clusters for bn"
        },
        "xaxis": {
         "anchor": "y",
         "domain": [
          0,
          1
         ],
         "title": {
          "text": "PCA 1"
         }
        },
        "yaxis": {
         "anchor": "x",
         "domain": [
          0,
          1
         ],
         "title": {
          "text": "PCA 2"
         }
        }
       }
      }
     },
     "metadata": {},
     "output_type": "display_data"
    }
   ],
   "source": [
    "# Add cluster labels to the dataset\n",
    "filtered_bn_data['cluster'] = kmeans.labels_\n",
    "\n",
    "# Apply PCA for visualization\n",
    "pca = PCA(n_components=2)\n",
    "reduced_embeddings = pca.fit_transform(bn_goo_embeddings)\n",
    "\n",
    "# Add PCA components to the dataset\n",
    "filtered_bn_data['pca_one'] = reduced_embeddings[:, 0]\n",
    "filtered_bn_data['pca_two'] = reduced_embeddings[:, 1]\n",
    "\n",
    "# Create a scatter plot with Plotly\n",
    "fig = px.scatter(filtered_bn_data, x='pca_one', y='pca_two', color='cluster',\n",
    "                 hover_data=['language_code'], color_continuous_scale='Viridis')\n",
    "fig.update_layout(title='Word2Vec with K-Means Clusters for bn', xaxis_title='PCA 1', yaxis_title='PCA 2', legend_title='Cluster')\n",
    "fig.show()"
   ]
  },
  {
   "cell_type": "code",
   "execution_count": 37,
   "metadata": {},
   "outputs": [
    {
     "name": "stdout",
     "output_type": "stream",
     "text": [
      "cluster  accent_name                       \n",
      "0        Unclear                               1\n",
      "1        Native                                2\n",
      "         Adult                                 1\n",
      "         Authentic                             1\n",
      "         Average                               1\n",
      "         Boy                                   1\n",
      "         Casual                                1\n",
      "         Clean                                 1\n",
      "         Clear                                 1\n",
      "         Common                                1\n",
      "         Contributor                           1\n",
      "         Correct                               1\n",
      "         Decent                                1\n",
      "         Flat                                  1\n",
      "         Generic                               1\n",
      "         Good                                  1\n",
      "         Indian                                1\n",
      "         Local                                 1\n",
      "         Male                                  1\n",
      "         Mixed                                 1\n",
      "         Natural                               1\n",
      "         Normal                                1\n",
      "         Official                              1\n",
      "         Perfect                               1\n",
      "         Proficient                            1\n",
      "         Smooth                                1\n",
      "         Standard                              1\n",
      "         Sweet                                 1\n",
      "         Teenager                              1\n",
      "         Toddler                               1\n",
      "         Urban                                 1\n",
      "         fluent                                1\n",
      "2        Bhola                                 1\n",
      "         Chandpur                              1\n",
      "         Netrokona                             1\n",
      "         Noakhali                              1\n",
      "3        Bangla                                1\n",
      "         Bangladesh                            1\n",
      "         Bangladeshi                           1\n",
      "         Bengali                               1\n",
      "         Chittagong                            1\n",
      "         Comilla                               1\n",
      "         Dhaka                                 1\n",
      "         Gazipur                               1\n",
      "         Kolkata                               1\n",
      "         Mymensingh                            1\n",
      "         Narayanganj                           1\n",
      "4        প্রমিত                                2\n",
      "         ????                                  1\n",
      "         A                                     1\n",
      "         Amar                                  1\n",
      "         B                                     1\n",
      "         Bangadeshi                            1\n",
      "         Bangla(Bangladesh)                    1\n",
      "         Barishal                              1\n",
      "         C                                     1\n",
      "         Chatgaiya                             1\n",
      "         Chittagonian                          1\n",
      "         Cumilla                               1\n",
      "         D                                     1\n",
      "         Dhakaiya                              1\n",
      "         E                                     1\n",
      "         Exoteric                              1\n",
      "         F                                     1\n",
      "         Fluently                              1\n",
      "         India                                 1\n",
      "         India-Bangla                          1\n",
      "         J                                     1\n",
      "         Kushtian                              1\n",
      "         Narayanganj-jossoreian                1\n",
      "         Normally                              1\n",
      "         Promito                               1\n",
      "         Rangpuriya                            1\n",
      "         Rarhi                                 1\n",
      "         Shuddho                               1\n",
      "         Speaking                              1\n",
      "         Standard/প্রমিত                       1\n",
      "         Sylheti                               1\n",
      "         Sylhety                               1\n",
      "         Tangaila                              1\n",
      "         Vatia                                 1\n",
      "         bn-BD                                 1\n",
      "         bshsh                                 1\n",
      "         chattogram                            1\n",
      "         expert                                1\n",
      "         https://www.facebook.com/GopalRay0    1\n",
      "         khulna                                1\n",
      "         kushtia                               1\n",
      "         mdalifshamim@gmail.com                1\n",
      "         neutral                               1\n",
      "         nice                                  1\n",
      "         onindyo                               1\n",
      "         sundor                                1\n",
      "         t                                     1\n",
      "         valo                                  1\n",
      "         আ                                     1\n",
      "         আঞ্চলিক                               1\n",
      "         আমি                                   1\n",
      "         কলকাতা                                1\n",
      "         কুষ্টিয়া                              1\n",
      "         খুলনা                                 1\n",
      "         গাজীপুর                               1\n",
      "         চট্টগ্রাম                             1\n",
      "         চলিত                                  1\n",
      "         চাঁটগা                                1\n",
      "         চিটাইংগা                              1\n",
      "         ছিলটি                                 1\n",
      "         ছিলেটি                                1\n",
      "         টাঙ্গাইল                              1\n",
      "         ঢাকা                                  1\n",
      "         ঢাকাইয়া                               1\n",
      "         নরসিংদী                               1\n",
      "         প                                     1\n",
      "         পরিষ্কার                              1\n",
      "         পশ্চিমবঙ্গ                            1\n",
      "         পাবনাইয়া                              1\n",
      "         বরিশাইল্যা                            1\n",
      "         বরিশাল                                1\n",
      "         বাংলা                                 1\n",
      "         বাংলাদেশ                              1\n",
      "         বাংলাদেশি                             1\n",
      "         বাংলাদেশী                             1\n",
      "         বাংলায়                                1\n",
      "         বাঙালি                                1\n",
      "         বাঙ্গালী                              1\n",
      "         ব্রাহ্মণবাড়িয়ান                     1\n",
      "         ভালো                                  1\n",
      "         ভয়েস                                  1\n",
      "         মধ্যম                                 1\n",
      "         মমিসিংগা                              1\n",
      "         ময়মনসিংহ                             1\n",
      "         মাঝামাঝি                              1\n",
      "         মাতৃভাষা                              1\n",
      "         মেহেরপুর                              1\n",
      "         মোবাইলে                               1\n",
      "         যশোর                                  1\n",
      "         রাঢ়ী                                 1\n",
      "         শুদ্ধ                                 1\n",
      "         সাধু                                  1\n",
      "         সিলটি                                 1\n",
      "         সিলেটি                                1\n",
      "         সুন্দর                                1\n",
      "         সুস্পষ্ট                              1\n",
      "         স্থানীয়                               1\n",
      "         স্পষ্ট                                1\n",
      "         হ্যাঁ                                 1\n",
      "Name: accent_name, dtype: int64\n"
     ]
    }
   ],
   "source": [
    "# Grouping by cluster and counting the frequency of each language code\n",
    "cluster_language_count = filtered_bn_data.groupby('cluster')['accent_name'].value_counts()\n",
    "\n",
    "# Filtering to show only language codes with frequency greater than zero\n",
    "# cluster_language_count = cluster_language_count[cluster_language_count > 25]\n",
    "\n",
    "print(cluster_language_count)\n",
    "\n"
   ]
  },
  {
   "cell_type": "code",
   "execution_count": 31,
   "metadata": {},
   "outputs": [],
   "source": [
    "from gensim.models import KeyedVectors\n",
    "\n",
    "from bnlp import BengaliWord2Vec\n",
    "\n",
    "bwv = BengaliWord2Vec()\n",
    "model_path = \"bengali_word2vec.model\"\n",
    "# Load the Google News Word2Vec model\n",
    "word2vec_model = KeyedVectors.load_word2vec_format('archive/GoogleNews-vectors-negative300.bin', binary=True)\n",
    "# import numpy as np\n",
    "\n",
    "# # Function to get embedding for a word\n",
    "# def get_embedding(word):\n",
    "#     try:\n",
    "#         return bwv.get_word_vector( word)\n",
    "#     except KeyError:\n",
    "#         # Return a zero vector if the word is not in the vocabulary\n",
    "#         try:\n",
    "#             return word2vec_model[word]\n",
    "#         except KeyError:\n",
    "#             return np.zeros(word2vec_model.vector_size)\n",
    "\n",
    "# # Apply the function to your DataFrame\n",
    "# # Generating embeddings for accent_name\n",
    "# bn_goo_embeddings = np.array([get_embedding(text) for text in filtered_bn_data['accent_name']])\n",
    "\n",
    "import numpy as np\n",
    "\n",
    "# Assuming both models have the same vector size, if not, you need to handle this\n",
    "word = 'গ্রাম'\n",
    "vector = bwv.get_word_vector(word)\n",
    "vector_size = vector.shape  # Replace with actual vector size of BengaliWord2Vec\n",
    "\n",
    "def get_embedding(word):\n",
    "    try:\n",
    "        return bwv.get_word_vector(word)\n",
    "    except KeyError:\n",
    "        # Return a zero vector if the word is not in the Bengali vocabulary\n",
    "        try:\n",
    "            return word2vec_model[word]\n",
    "        except KeyError:\n",
    "            return np.zeros(vector_size)\n",
    "\n",
    "# Generate embeddings and ensure they all have the same size\n",
    "embeddings = []\n",
    "for text in filtered_bn_data['accent_name']:\n",
    "    emb = get_embedding(text)\n",
    "    if len(emb) == vector_size:\n",
    "        embeddings.append(emb)\n",
    "    else:\n",
    "        # Handle the case where the embedding size is different\n",
    "        # For example, you can append a zero vector or handle it as you see fit\n",
    "        embeddings.append(np.zeros(vector_size))\n",
    "\n",
    "bn_goo_embeddings = np.array(embeddings)\n",
    "\n",
    "# Rest of your clustering code...\n",
    "\n",
    "\n",
    "from sklearn.cluster import KMeans\n",
    "\n",
    "# Choose the number of clusters\n",
    "k = 5 # Adjust this based on your requirement\n",
    "\n",
    "# Fit K-means to the embeddings\n",
    "kmeans = KMeans(n_clusters=k)\n",
    "filtered_bn_data['cluster'] = kmeans.fit_predict(bn_goo_embeddings)\n"
   ]
  },
  {
   "cell_type": "code",
   "execution_count": 32,
   "metadata": {},
   "outputs": [
    {
     "data": {
      "application/vnd.plotly.v1+json": {
       "config": {
        "plotlyServerURL": "https://plot.ly"
       },
       "data": [
        {
         "customdata": [
          [
           "bn"
          ],
          [
           "bn"
          ],
          [
           "bn"
          ],
          [
           "bn"
          ],
          [
           "bn"
          ],
          [
           "bn"
          ],
          [
           "bn"
          ],
          [
           "bn"
          ],
          [
           "bn"
          ],
          [
           "bn"
          ],
          [
           "bn"
          ],
          [
           "bn"
          ],
          [
           "bn"
          ],
          [
           "bn"
          ],
          [
           "bn"
          ],
          [
           "bn"
          ],
          [
           "bn"
          ],
          [
           "bn"
          ],
          [
           "bn"
          ],
          [
           "bn"
          ],
          [
           "bn"
          ],
          [
           "bn"
          ],
          [
           "bn"
          ],
          [
           "bn"
          ],
          [
           "bn"
          ],
          [
           "bn"
          ],
          [
           "bn"
          ],
          [
           "bn"
          ],
          [
           "bn"
          ],
          [
           "bn"
          ],
          [
           "bn"
          ],
          [
           "bn"
          ],
          [
           "bn"
          ],
          [
           "bn"
          ],
          [
           "bn"
          ],
          [
           "bn"
          ],
          [
           "bn"
          ],
          [
           "bn"
          ],
          [
           "bn"
          ],
          [
           "bn"
          ],
          [
           "bn"
          ],
          [
           "bn"
          ],
          [
           "bn"
          ],
          [
           "bn"
          ],
          [
           "bn"
          ],
          [
           "bn"
          ],
          [
           "bn"
          ],
          [
           "bn"
          ],
          [
           "bn"
          ],
          [
           "bn"
          ],
          [
           "bn"
          ],
          [
           "bn"
          ],
          [
           "bn"
          ],
          [
           "bn"
          ],
          [
           "bn"
          ],
          [
           "bn"
          ],
          [
           "bn"
          ],
          [
           "bn"
          ],
          [
           "bn"
          ],
          [
           "bn"
          ],
          [
           "bn"
          ],
          [
           "bn"
          ],
          [
           "bn"
          ],
          [
           "bn"
          ],
          [
           "bn"
          ],
          [
           "bn"
          ],
          [
           "bn"
          ],
          [
           "bn"
          ],
          [
           "bn"
          ],
          [
           "bn"
          ],
          [
           "bn"
          ],
          [
           "bn"
          ],
          [
           "bn"
          ],
          [
           "bn"
          ],
          [
           "bn"
          ],
          [
           "bn"
          ],
          [
           "bn"
          ],
          [
           "bn"
          ],
          [
           "bn"
          ],
          [
           "bn"
          ],
          [
           "bn"
          ],
          [
           "bn"
          ],
          [
           "bn"
          ],
          [
           "bn"
          ],
          [
           "bn"
          ],
          [
           "bn"
          ],
          [
           "bn"
          ],
          [
           "bn"
          ],
          [
           "bn"
          ],
          [
           "bn"
          ],
          [
           "bn"
          ],
          [
           "bn"
          ],
          [
           "bn"
          ],
          [
           "bn"
          ],
          [
           "bn"
          ],
          [
           "bn"
          ],
          [
           "bn"
          ],
          [
           "bn"
          ],
          [
           "bn"
          ],
          [
           "bn"
          ],
          [
           "bn"
          ],
          [
           "bn"
          ],
          [
           "bn"
          ],
          [
           "bn"
          ],
          [
           "bn"
          ],
          [
           "bn"
          ],
          [
           "bn"
          ],
          [
           "bn"
          ],
          [
           "bn"
          ],
          [
           "bn"
          ],
          [
           "bn"
          ],
          [
           "bn"
          ],
          [
           "bn"
          ],
          [
           "bn"
          ],
          [
           "bn"
          ],
          [
           "bn"
          ],
          [
           "bn"
          ],
          [
           "bn"
          ],
          [
           "bn"
          ],
          [
           "bn"
          ],
          [
           "bn"
          ],
          [
           "bn"
          ],
          [
           "bn"
          ],
          [
           "bn"
          ],
          [
           "bn"
          ],
          [
           "bn"
          ],
          [
           "bn"
          ],
          [
           "bn"
          ],
          [
           "bn"
          ],
          [
           "bn"
          ],
          [
           "bn"
          ],
          [
           "bn"
          ],
          [
           "bn"
          ],
          [
           "bn"
          ],
          [
           "bn"
          ],
          [
           "bn"
          ],
          [
           "bn"
          ],
          [
           "bn"
          ],
          [
           "bn"
          ],
          [
           "bn"
          ],
          [
           "bn"
          ],
          [
           "bn"
          ],
          [
           "bn"
          ],
          [
           "bn"
          ],
          [
           "bn"
          ],
          [
           "bn"
          ],
          [
           "bn"
          ],
          [
           "bn"
          ]
         ],
         "hovertemplate": "pca_one=%{x}<br>pca_two=%{y}<br>language_code=%{customdata[0]}<br>cluster=%{marker.color}<extra></extra>",
         "legendgroup": "",
         "marker": {
          "color": [
           0,
           0,
           0,
           0,
           0,
           0,
           0,
           0,
           0,
           0,
           0,
           0,
           0,
           0,
           0,
           0,
           0,
           0,
           0,
           0,
           0,
           0,
           0,
           0,
           0,
           0,
           0,
           0,
           0,
           0,
           0,
           0,
           0,
           0,
           0,
           0,
           0,
           0,
           0,
           0,
           0,
           0,
           0,
           0,
           0,
           0,
           0,
           0,
           0,
           0,
           0,
           0,
           0,
           0,
           0,
           0,
           0,
           0,
           0,
           0,
           0,
           0,
           0,
           0,
           0,
           0,
           0,
           0,
           0,
           0,
           0,
           0,
           0,
           0,
           0,
           0,
           0,
           0,
           0,
           0,
           0,
           0,
           0,
           0,
           0,
           0,
           0,
           0,
           0,
           0,
           0,
           0,
           0,
           0,
           0,
           0,
           0,
           0,
           0,
           0,
           0,
           0,
           0,
           0,
           0,
           0,
           0,
           0,
           0,
           0,
           0,
           0,
           0,
           0,
           0,
           0,
           0,
           0,
           0,
           0,
           0,
           0,
           0,
           0,
           0,
           0,
           0,
           0,
           0,
           0,
           0,
           0,
           0,
           0,
           0,
           0,
           0,
           0,
           0,
           0,
           0,
           0,
           0,
           0,
           0,
           0,
           0,
           0
          ],
          "coloraxis": "coloraxis",
          "symbol": "circle"
         },
         "mode": "markers",
         "name": "",
         "orientation": "v",
         "showlegend": false,
         "type": "scatter",
         "x": [
          0,
          0,
          0,
          0,
          0,
          0,
          0,
          0,
          0,
          0,
          0,
          0,
          0,
          0,
          0,
          0,
          0,
          0,
          0,
          0,
          0,
          0,
          0,
          0,
          0,
          0,
          0,
          0,
          0,
          0,
          0,
          0,
          0,
          0,
          0,
          0,
          0,
          0,
          0,
          0,
          0,
          0,
          0,
          0,
          0,
          0,
          0,
          0,
          0,
          0,
          0,
          0,
          0,
          0,
          0,
          0,
          0,
          0,
          0,
          0,
          0,
          0,
          0,
          0,
          0,
          0,
          0,
          0,
          0,
          0,
          0,
          0,
          0,
          0,
          0,
          0,
          0,
          0,
          0,
          0,
          0,
          0,
          0,
          0,
          0,
          0,
          0,
          0,
          0,
          0,
          0,
          0,
          0,
          0,
          0,
          0,
          0,
          0,
          0,
          0,
          0,
          0,
          0,
          0,
          0,
          0,
          0,
          0,
          0,
          0,
          0,
          0,
          0,
          0,
          0,
          0,
          0,
          0,
          0,
          0,
          0,
          0,
          0,
          0,
          0,
          0,
          0,
          0,
          0,
          0,
          0,
          0,
          0,
          0,
          0,
          0,
          0,
          0,
          0,
          0,
          0,
          0,
          0,
          0,
          0,
          0,
          0,
          0
         ],
         "xaxis": "x",
         "y": [
          0,
          0,
          0,
          0,
          0,
          0,
          0,
          0,
          0,
          0,
          0,
          0,
          0,
          0,
          0,
          0,
          0,
          0,
          0,
          0,
          0,
          0,
          0,
          0,
          0,
          0,
          0,
          0,
          0,
          0,
          0,
          0,
          0,
          0,
          0,
          0,
          0,
          0,
          0,
          0,
          0,
          0,
          0,
          0,
          0,
          0,
          0,
          0,
          0,
          0,
          0,
          0,
          0,
          0,
          0,
          0,
          0,
          0,
          0,
          0,
          0,
          0,
          0,
          0,
          0,
          0,
          0,
          0,
          0,
          0,
          0,
          0,
          0,
          0,
          0,
          0,
          0,
          0,
          0,
          0,
          0,
          0,
          0,
          0,
          0,
          0,
          0,
          0,
          0,
          0,
          0,
          0,
          0,
          0,
          0,
          0,
          0,
          0,
          0,
          0,
          0,
          0,
          0,
          0,
          0,
          0,
          0,
          0,
          0,
          0,
          0,
          0,
          0,
          0,
          0,
          0,
          0,
          0,
          0,
          0,
          0,
          0,
          0,
          0,
          0,
          0,
          0,
          0,
          0,
          0,
          0,
          0,
          0,
          0,
          0,
          0,
          0,
          0,
          0,
          0,
          0,
          0,
          0,
          0,
          0,
          0,
          0,
          0
         ],
         "yaxis": "y"
        }
       ],
       "layout": {
        "coloraxis": {
         "colorbar": {
          "title": {
           "text": "cluster"
          }
         },
         "colorscale": [
          [
           0,
           "#440154"
          ],
          [
           0.1111111111111111,
           "#482878"
          ],
          [
           0.2222222222222222,
           "#3e4989"
          ],
          [
           0.3333333333333333,
           "#31688e"
          ],
          [
           0.4444444444444444,
           "#26828e"
          ],
          [
           0.5555555555555556,
           "#1f9e89"
          ],
          [
           0.6666666666666666,
           "#35b779"
          ],
          [
           0.7777777777777778,
           "#6ece58"
          ],
          [
           0.8888888888888888,
           "#b5de2b"
          ],
          [
           1,
           "#fde725"
          ]
         ]
        },
        "legend": {
         "title": {
          "text": "Cluster"
         },
         "tracegroupgap": 0
        },
        "margin": {
         "t": 60
        },
        "template": {
         "data": {
          "bar": [
           {
            "error_x": {
             "color": "#2a3f5f"
            },
            "error_y": {
             "color": "#2a3f5f"
            },
            "marker": {
             "line": {
              "color": "#E5ECF6",
              "width": 0.5
             },
             "pattern": {
              "fillmode": "overlay",
              "size": 10,
              "solidity": 0.2
             }
            },
            "type": "bar"
           }
          ],
          "barpolar": [
           {
            "marker": {
             "line": {
              "color": "#E5ECF6",
              "width": 0.5
             },
             "pattern": {
              "fillmode": "overlay",
              "size": 10,
              "solidity": 0.2
             }
            },
            "type": "barpolar"
           }
          ],
          "carpet": [
           {
            "aaxis": {
             "endlinecolor": "#2a3f5f",
             "gridcolor": "white",
             "linecolor": "white",
             "minorgridcolor": "white",
             "startlinecolor": "#2a3f5f"
            },
            "baxis": {
             "endlinecolor": "#2a3f5f",
             "gridcolor": "white",
             "linecolor": "white",
             "minorgridcolor": "white",
             "startlinecolor": "#2a3f5f"
            },
            "type": "carpet"
           }
          ],
          "choropleth": [
           {
            "colorbar": {
             "outlinewidth": 0,
             "ticks": ""
            },
            "type": "choropleth"
           }
          ],
          "contour": [
           {
            "colorbar": {
             "outlinewidth": 0,
             "ticks": ""
            },
            "colorscale": [
             [
              0,
              "#0d0887"
             ],
             [
              0.1111111111111111,
              "#46039f"
             ],
             [
              0.2222222222222222,
              "#7201a8"
             ],
             [
              0.3333333333333333,
              "#9c179e"
             ],
             [
              0.4444444444444444,
              "#bd3786"
             ],
             [
              0.5555555555555556,
              "#d8576b"
             ],
             [
              0.6666666666666666,
              "#ed7953"
             ],
             [
              0.7777777777777778,
              "#fb9f3a"
             ],
             [
              0.8888888888888888,
              "#fdca26"
             ],
             [
              1,
              "#f0f921"
             ]
            ],
            "type": "contour"
           }
          ],
          "contourcarpet": [
           {
            "colorbar": {
             "outlinewidth": 0,
             "ticks": ""
            },
            "type": "contourcarpet"
           }
          ],
          "heatmap": [
           {
            "colorbar": {
             "outlinewidth": 0,
             "ticks": ""
            },
            "colorscale": [
             [
              0,
              "#0d0887"
             ],
             [
              0.1111111111111111,
              "#46039f"
             ],
             [
              0.2222222222222222,
              "#7201a8"
             ],
             [
              0.3333333333333333,
              "#9c179e"
             ],
             [
              0.4444444444444444,
              "#bd3786"
             ],
             [
              0.5555555555555556,
              "#d8576b"
             ],
             [
              0.6666666666666666,
              "#ed7953"
             ],
             [
              0.7777777777777778,
              "#fb9f3a"
             ],
             [
              0.8888888888888888,
              "#fdca26"
             ],
             [
              1,
              "#f0f921"
             ]
            ],
            "type": "heatmap"
           }
          ],
          "heatmapgl": [
           {
            "colorbar": {
             "outlinewidth": 0,
             "ticks": ""
            },
            "colorscale": [
             [
              0,
              "#0d0887"
             ],
             [
              0.1111111111111111,
              "#46039f"
             ],
             [
              0.2222222222222222,
              "#7201a8"
             ],
             [
              0.3333333333333333,
              "#9c179e"
             ],
             [
              0.4444444444444444,
              "#bd3786"
             ],
             [
              0.5555555555555556,
              "#d8576b"
             ],
             [
              0.6666666666666666,
              "#ed7953"
             ],
             [
              0.7777777777777778,
              "#fb9f3a"
             ],
             [
              0.8888888888888888,
              "#fdca26"
             ],
             [
              1,
              "#f0f921"
             ]
            ],
            "type": "heatmapgl"
           }
          ],
          "histogram": [
           {
            "marker": {
             "pattern": {
              "fillmode": "overlay",
              "size": 10,
              "solidity": 0.2
             }
            },
            "type": "histogram"
           }
          ],
          "histogram2d": [
           {
            "colorbar": {
             "outlinewidth": 0,
             "ticks": ""
            },
            "colorscale": [
             [
              0,
              "#0d0887"
             ],
             [
              0.1111111111111111,
              "#46039f"
             ],
             [
              0.2222222222222222,
              "#7201a8"
             ],
             [
              0.3333333333333333,
              "#9c179e"
             ],
             [
              0.4444444444444444,
              "#bd3786"
             ],
             [
              0.5555555555555556,
              "#d8576b"
             ],
             [
              0.6666666666666666,
              "#ed7953"
             ],
             [
              0.7777777777777778,
              "#fb9f3a"
             ],
             [
              0.8888888888888888,
              "#fdca26"
             ],
             [
              1,
              "#f0f921"
             ]
            ],
            "type": "histogram2d"
           }
          ],
          "histogram2dcontour": [
           {
            "colorbar": {
             "outlinewidth": 0,
             "ticks": ""
            },
            "colorscale": [
             [
              0,
              "#0d0887"
             ],
             [
              0.1111111111111111,
              "#46039f"
             ],
             [
              0.2222222222222222,
              "#7201a8"
             ],
             [
              0.3333333333333333,
              "#9c179e"
             ],
             [
              0.4444444444444444,
              "#bd3786"
             ],
             [
              0.5555555555555556,
              "#d8576b"
             ],
             [
              0.6666666666666666,
              "#ed7953"
             ],
             [
              0.7777777777777778,
              "#fb9f3a"
             ],
             [
              0.8888888888888888,
              "#fdca26"
             ],
             [
              1,
              "#f0f921"
             ]
            ],
            "type": "histogram2dcontour"
           }
          ],
          "mesh3d": [
           {
            "colorbar": {
             "outlinewidth": 0,
             "ticks": ""
            },
            "type": "mesh3d"
           }
          ],
          "parcoords": [
           {
            "line": {
             "colorbar": {
              "outlinewidth": 0,
              "ticks": ""
             }
            },
            "type": "parcoords"
           }
          ],
          "pie": [
           {
            "automargin": true,
            "type": "pie"
           }
          ],
          "scatter": [
           {
            "fillpattern": {
             "fillmode": "overlay",
             "size": 10,
             "solidity": 0.2
            },
            "type": "scatter"
           }
          ],
          "scatter3d": [
           {
            "line": {
             "colorbar": {
              "outlinewidth": 0,
              "ticks": ""
             }
            },
            "marker": {
             "colorbar": {
              "outlinewidth": 0,
              "ticks": ""
             }
            },
            "type": "scatter3d"
           }
          ],
          "scattercarpet": [
           {
            "marker": {
             "colorbar": {
              "outlinewidth": 0,
              "ticks": ""
             }
            },
            "type": "scattercarpet"
           }
          ],
          "scattergeo": [
           {
            "marker": {
             "colorbar": {
              "outlinewidth": 0,
              "ticks": ""
             }
            },
            "type": "scattergeo"
           }
          ],
          "scattergl": [
           {
            "marker": {
             "colorbar": {
              "outlinewidth": 0,
              "ticks": ""
             }
            },
            "type": "scattergl"
           }
          ],
          "scattermapbox": [
           {
            "marker": {
             "colorbar": {
              "outlinewidth": 0,
              "ticks": ""
             }
            },
            "type": "scattermapbox"
           }
          ],
          "scatterpolar": [
           {
            "marker": {
             "colorbar": {
              "outlinewidth": 0,
              "ticks": ""
             }
            },
            "type": "scatterpolar"
           }
          ],
          "scatterpolargl": [
           {
            "marker": {
             "colorbar": {
              "outlinewidth": 0,
              "ticks": ""
             }
            },
            "type": "scatterpolargl"
           }
          ],
          "scatterternary": [
           {
            "marker": {
             "colorbar": {
              "outlinewidth": 0,
              "ticks": ""
             }
            },
            "type": "scatterternary"
           }
          ],
          "surface": [
           {
            "colorbar": {
             "outlinewidth": 0,
             "ticks": ""
            },
            "colorscale": [
             [
              0,
              "#0d0887"
             ],
             [
              0.1111111111111111,
              "#46039f"
             ],
             [
              0.2222222222222222,
              "#7201a8"
             ],
             [
              0.3333333333333333,
              "#9c179e"
             ],
             [
              0.4444444444444444,
              "#bd3786"
             ],
             [
              0.5555555555555556,
              "#d8576b"
             ],
             [
              0.6666666666666666,
              "#ed7953"
             ],
             [
              0.7777777777777778,
              "#fb9f3a"
             ],
             [
              0.8888888888888888,
              "#fdca26"
             ],
             [
              1,
              "#f0f921"
             ]
            ],
            "type": "surface"
           }
          ],
          "table": [
           {
            "cells": {
             "fill": {
              "color": "#EBF0F8"
             },
             "line": {
              "color": "white"
             }
            },
            "header": {
             "fill": {
              "color": "#C8D4E3"
             },
             "line": {
              "color": "white"
             }
            },
            "type": "table"
           }
          ]
         },
         "layout": {
          "annotationdefaults": {
           "arrowcolor": "#2a3f5f",
           "arrowhead": 0,
           "arrowwidth": 1
          },
          "autotypenumbers": "strict",
          "coloraxis": {
           "colorbar": {
            "outlinewidth": 0,
            "ticks": ""
           }
          },
          "colorscale": {
           "diverging": [
            [
             0,
             "#8e0152"
            ],
            [
             0.1,
             "#c51b7d"
            ],
            [
             0.2,
             "#de77ae"
            ],
            [
             0.3,
             "#f1b6da"
            ],
            [
             0.4,
             "#fde0ef"
            ],
            [
             0.5,
             "#f7f7f7"
            ],
            [
             0.6,
             "#e6f5d0"
            ],
            [
             0.7,
             "#b8e186"
            ],
            [
             0.8,
             "#7fbc41"
            ],
            [
             0.9,
             "#4d9221"
            ],
            [
             1,
             "#276419"
            ]
           ],
           "sequential": [
            [
             0,
             "#0d0887"
            ],
            [
             0.1111111111111111,
             "#46039f"
            ],
            [
             0.2222222222222222,
             "#7201a8"
            ],
            [
             0.3333333333333333,
             "#9c179e"
            ],
            [
             0.4444444444444444,
             "#bd3786"
            ],
            [
             0.5555555555555556,
             "#d8576b"
            ],
            [
             0.6666666666666666,
             "#ed7953"
            ],
            [
             0.7777777777777778,
             "#fb9f3a"
            ],
            [
             0.8888888888888888,
             "#fdca26"
            ],
            [
             1,
             "#f0f921"
            ]
           ],
           "sequentialminus": [
            [
             0,
             "#0d0887"
            ],
            [
             0.1111111111111111,
             "#46039f"
            ],
            [
             0.2222222222222222,
             "#7201a8"
            ],
            [
             0.3333333333333333,
             "#9c179e"
            ],
            [
             0.4444444444444444,
             "#bd3786"
            ],
            [
             0.5555555555555556,
             "#d8576b"
            ],
            [
             0.6666666666666666,
             "#ed7953"
            ],
            [
             0.7777777777777778,
             "#fb9f3a"
            ],
            [
             0.8888888888888888,
             "#fdca26"
            ],
            [
             1,
             "#f0f921"
            ]
           ]
          },
          "colorway": [
           "#636efa",
           "#EF553B",
           "#00cc96",
           "#ab63fa",
           "#FFA15A",
           "#19d3f3",
           "#FF6692",
           "#B6E880",
           "#FF97FF",
           "#FECB52"
          ],
          "font": {
           "color": "#2a3f5f"
          },
          "geo": {
           "bgcolor": "white",
           "lakecolor": "white",
           "landcolor": "#E5ECF6",
           "showlakes": true,
           "showland": true,
           "subunitcolor": "white"
          },
          "hoverlabel": {
           "align": "left"
          },
          "hovermode": "closest",
          "mapbox": {
           "style": "light"
          },
          "paper_bgcolor": "white",
          "plot_bgcolor": "#E5ECF6",
          "polar": {
           "angularaxis": {
            "gridcolor": "white",
            "linecolor": "white",
            "ticks": ""
           },
           "bgcolor": "#E5ECF6",
           "radialaxis": {
            "gridcolor": "white",
            "linecolor": "white",
            "ticks": ""
           }
          },
          "scene": {
           "xaxis": {
            "backgroundcolor": "#E5ECF6",
            "gridcolor": "white",
            "gridwidth": 2,
            "linecolor": "white",
            "showbackground": true,
            "ticks": "",
            "zerolinecolor": "white"
           },
           "yaxis": {
            "backgroundcolor": "#E5ECF6",
            "gridcolor": "white",
            "gridwidth": 2,
            "linecolor": "white",
            "showbackground": true,
            "ticks": "",
            "zerolinecolor": "white"
           },
           "zaxis": {
            "backgroundcolor": "#E5ECF6",
            "gridcolor": "white",
            "gridwidth": 2,
            "linecolor": "white",
            "showbackground": true,
            "ticks": "",
            "zerolinecolor": "white"
           }
          },
          "shapedefaults": {
           "line": {
            "color": "#2a3f5f"
           }
          },
          "ternary": {
           "aaxis": {
            "gridcolor": "white",
            "linecolor": "white",
            "ticks": ""
           },
           "baxis": {
            "gridcolor": "white",
            "linecolor": "white",
            "ticks": ""
           },
           "bgcolor": "#E5ECF6",
           "caxis": {
            "gridcolor": "white",
            "linecolor": "white",
            "ticks": ""
           }
          },
          "title": {
           "x": 0.05
          },
          "xaxis": {
           "automargin": true,
           "gridcolor": "white",
           "linecolor": "white",
           "ticks": "",
           "title": {
            "standoff": 15
           },
           "zerolinecolor": "white",
           "zerolinewidth": 2
          },
          "yaxis": {
           "automargin": true,
           "gridcolor": "white",
           "linecolor": "white",
           "ticks": "",
           "title": {
            "standoff": 15
           },
           "zerolinecolor": "white",
           "zerolinewidth": 2
          }
         }
        },
        "title": {
         "text": "Word2Vec with K-Means Clusters in 2D PCA Space"
        },
        "xaxis": {
         "anchor": "y",
         "domain": [
          0,
          1
         ],
         "title": {
          "text": "PCA 1"
         }
        },
        "yaxis": {
         "anchor": "x",
         "domain": [
          0,
          1
         ],
         "title": {
          "text": "PCA 2"
         }
        }
       }
      }
     },
     "metadata": {},
     "output_type": "display_data"
    }
   ],
   "source": [
    "# Add cluster labels to the dataset\n",
    "filtered_bn_data['cluster'] = kmeans.labels_\n",
    "\n",
    "# Apply PCA for visualization\n",
    "pca = PCA(n_components=2)\n",
    "reduced_embeddings = pca.fit_transform(bn_goo_embeddings)\n",
    "\n",
    "# Add PCA components to the dataset\n",
    "filtered_bn_data['pca_one'] = reduced_embeddings[:, 0]\n",
    "filtered_bn_data['pca_two'] = reduced_embeddings[:, 1]\n",
    "\n",
    "# Create a scatter plot with Plotly\n",
    "fig = px.scatter(filtered_bn_data, x='pca_one', y='pca_two', color='cluster',\n",
    "                 hover_data=['language_code'], color_continuous_scale='Viridis')\n",
    "fig.update_layout(title='Word2Vec with K-Means Clusters in 2D PCA Space', xaxis_title='PCA 1', yaxis_title='PCA 2', legend_title='Cluster')\n",
    "fig.show()"
   ]
  },
  {
   "cell_type": "code",
   "execution_count": 33,
   "metadata": {},
   "outputs": [
    {
     "name": "stdout",
     "output_type": "stream",
     "text": [
      "cluster  accent_name                       \n",
      "0        Native                                2\n",
      "         প্রমিত                                2\n",
      "         ????                                  1\n",
      "         A                                     1\n",
      "         Adult                                 1\n",
      "         Amar                                  1\n",
      "         Authentic                             1\n",
      "         Average                               1\n",
      "         B                                     1\n",
      "         Bangadeshi                            1\n",
      "         Bangla                                1\n",
      "         Bangla(Bangladesh)                    1\n",
      "         Bangladesh                            1\n",
      "         Bangladeshi                           1\n",
      "         Barishal                              1\n",
      "         Bengali                               1\n",
      "         Bhola                                 1\n",
      "         Boy                                   1\n",
      "         C                                     1\n",
      "         Casual                                1\n",
      "         Chandpur                              1\n",
      "         Chatgaiya                             1\n",
      "         Chittagong                            1\n",
      "         Chittagonian                          1\n",
      "         Clean                                 1\n",
      "         Clear                                 1\n",
      "         Comilla                               1\n",
      "         Common                                1\n",
      "         Contributor                           1\n",
      "         Correct                               1\n",
      "         Cumilla                               1\n",
      "         D                                     1\n",
      "         Decent                                1\n",
      "         Dhaka                                 1\n",
      "         Dhakaiya                              1\n",
      "         E                                     1\n",
      "         Exoteric                              1\n",
      "         F                                     1\n",
      "         Flat                                  1\n",
      "         Fluently                              1\n",
      "         Gazipur                               1\n",
      "         Generic                               1\n",
      "         Good                                  1\n",
      "         India                                 1\n",
      "         India-Bangla                          1\n",
      "         Indian                                1\n",
      "         J                                     1\n",
      "         Kolkata                               1\n",
      "         Kushtian                              1\n",
      "         Local                                 1\n",
      "         Male                                  1\n",
      "         Mixed                                 1\n",
      "         Mymensingh                            1\n",
      "         Narayanganj                           1\n",
      "         Narayanganj-jossoreian                1\n",
      "         Natural                               1\n",
      "         Netrokona                             1\n",
      "         Noakhali                              1\n",
      "         Normal                                1\n",
      "         Normally                              1\n",
      "         Official                              1\n",
      "         Perfect                               1\n",
      "         Proficient                            1\n",
      "         Promito                               1\n",
      "         Rangpuriya                            1\n",
      "         Rarhi                                 1\n",
      "         Shuddho                               1\n",
      "         Smooth                                1\n",
      "         Speaking                              1\n",
      "         Standard                              1\n",
      "         Standard/প্রমিত                       1\n",
      "         Sweet                                 1\n",
      "         Sylheti                               1\n",
      "         Sylhety                               1\n",
      "         Tangaila                              1\n",
      "         Teenager                              1\n",
      "         Toddler                               1\n",
      "         Unclear                               1\n",
      "         Urban                                 1\n",
      "         Vatia                                 1\n",
      "         bn-BD                                 1\n",
      "         bshsh                                 1\n",
      "         chattogram                            1\n",
      "         expert                                1\n",
      "         fluent                                1\n",
      "         https://www.facebook.com/GopalRay0    1\n",
      "         khulna                                1\n",
      "         kushtia                               1\n",
      "         mdalifshamim@gmail.com                1\n",
      "         neutral                               1\n",
      "         nice                                  1\n",
      "         onindyo                               1\n",
      "         sundor                                1\n",
      "         t                                     1\n",
      "         valo                                  1\n",
      "         আ                                     1\n",
      "         আঞ্চলিক                               1\n",
      "         আমি                                   1\n",
      "         কলকাতা                                1\n",
      "         কুষ্টিয়া                              1\n",
      "         খুলনা                                 1\n",
      "         গাজীপুর                               1\n",
      "         চট্টগ্রাম                             1\n",
      "         চলিত                                  1\n",
      "         চাঁটগা                                1\n",
      "         চিটাইংগা                              1\n",
      "         ছিলটি                                 1\n",
      "         ছিলেটি                                1\n",
      "         টাঙ্গাইল                              1\n",
      "         ঢাকা                                  1\n",
      "         ঢাকাইয়া                               1\n",
      "         নরসিংদী                               1\n",
      "         প                                     1\n",
      "         পরিষ্কার                              1\n",
      "         পশ্চিমবঙ্গ                            1\n",
      "         পাবনাইয়া                              1\n",
      "         বরিশাইল্যা                            1\n",
      "         বরিশাল                                1\n",
      "         বাংলা                                 1\n",
      "         বাংলাদেশ                              1\n",
      "         বাংলাদেশি                             1\n",
      "         বাংলাদেশী                             1\n",
      "         বাংলায়                                1\n",
      "         বাঙালি                                1\n",
      "         বাঙ্গালী                              1\n",
      "         ব্রাহ্মণবাড়িয়ান                     1\n",
      "         ভালো                                  1\n",
      "         ভয়েস                                  1\n",
      "         মধ্যম                                 1\n",
      "         মমিসিংগা                              1\n",
      "         ময়মনসিংহ                             1\n",
      "         মাঝামাঝি                              1\n",
      "         মাতৃভাষা                              1\n",
      "         মেহেরপুর                              1\n",
      "         মোবাইলে                               1\n",
      "         যশোর                                  1\n",
      "         রাঢ়ী                                 1\n",
      "         শুদ্ধ                                 1\n",
      "         সাধু                                  1\n",
      "         সিলটি                                 1\n",
      "         সিলেটি                                1\n",
      "         সুন্দর                                1\n",
      "         সুস্পষ্ট                              1\n",
      "         স্থানীয়                               1\n",
      "         স্পষ্ট                                1\n",
      "         হ্যাঁ                                 1\n",
      "Name: accent_name, dtype: int64\n"
     ]
    }
   ],
   "source": [
    "# Grouping by cluster and counting the frequency of each language code\n",
    "cluster_language_count = filtered_bn_data.groupby('cluster')['accent_name'].value_counts()\n",
    "\n",
    "# Filtering to show only language codes with frequency greater than zero\n",
    "# cluster_language_count = cluster_language_count[cluster_language_count > 25]\n",
    "\n",
    "print(cluster_language_count)\n",
    "\n"
   ]
  },
  {
   "cell_type": "markdown",
   "metadata": {},
   "source": [
    "# MBERT Embeddings with K-Means for \"BN\""
   ]
  },
  {
   "cell_type": "code",
   "execution_count": 11,
   "metadata": {},
   "outputs": [],
   "source": [
    "import pandas as pd\n",
    "from sklearn.preprocessing import OneHotEncoder\n",
    "from sklearn.cluster import KMeans\n",
    "from sklearn.decomposition import PCA\n",
    "from transformers import BertModel, BertTokenizer\n",
    "import torch\n",
    "import numpy as np\n",
    "import plotly.express as px\n",
    "\n",
    "# Load M-BERT model and tokenizer\n",
    "model_name = 'bert-base-multilingual-cased'\n",
    "tokenizer = BertTokenizer.from_pretrained(model_name)\n",
    "model = BertModel.from_pretrained(model_name)\n",
    "\n",
    "# Function to get embeddings from M-BERT\n",
    "def get_mbert_embeddings(text):\n",
    "    inputs = tokenizer(text, return_tensors=\"pt\", padding=True, truncation=True, max_length=512)\n",
    "    outputs = model(**inputs)\n",
    "    return outputs.last_hidden_state.mean(dim=1).detach().numpy()\n",
    "\n",
    "# Load your dataset\n",
    "file_path = 'test.tsv'  # Replace with your file path\n",
    "data = pd.read_csv(file_path, sep='\\t')\n",
    "\n",
    "\n",
    "bn_data = data[data['language_code']==\"bn\"]\n",
    "\n",
    "filtered_bn_data = bn_data[~bn_data['accent_name'].str.contains(' ')]\n",
    "\n",
    "\n",
    "\n",
    "# Generating embeddings for accent_name\n",
    "mbert_embeddings = np.vstack(filtered_bn_data['accent_name'].apply(get_mbert_embeddings))\n",
    "\n",
    "import matplotlib.pyplot as plt\n",
    "from sklearn.cluster import KMeans\n",
    "\n",
    "# Determine the range of potential clusters you want to test\n",
    "# For example, testing from 1 to 20 clusters\n",
    "range_clusters = range(1, 21)\n",
    "\n",
    "# Calculate the sum of squared distances for each number of clusters\n",
    "sum_of_squared_distances = []\n",
    "for k in range_clusters:\n",
    "    km = KMeans(n_clusters=k, random_state=0)\n",
    "    km = km.fit(mbert_embeddings)\n",
    "    sum_of_squared_distances.append(km.inertia_)\n",
    "\n",
    "# Plot the Elbow graph\n",
    "plt.figure(figsize=(10, 6))\n",
    "plt.plot(range_clusters, sum_of_squared_distances, 'bx-')\n",
    "plt.xlabel('Number of Clusters')\n",
    "plt.ylabel('Sum of Squared Distances')\n",
    "plt.title('Elbow Method For Optimal Number of Clusters')\n",
    "plt.show()\n"
   ]
  },
  {
   "cell_type": "code",
   "execution_count": 12,
   "metadata": {},
   "outputs": [
    {
     "name": "stderr",
     "output_type": "stream",
     "text": [
      "C:\\Users\\saima\\AppData\\Local\\Temp\\ipykernel_20128\\3186051151.py:6: SettingWithCopyWarning:\n",
      "\n",
      "\n",
      "A value is trying to be set on a copy of a slice from a DataFrame.\n",
      "Try using .loc[row_indexer,col_indexer] = value instead\n",
      "\n",
      "See the caveats in the documentation: https://pandas.pydata.org/pandas-docs/stable/user_guide/indexing.html#returning-a-view-versus-a-copy\n",
      "\n",
      "C:\\Users\\saima\\AppData\\Local\\Temp\\ipykernel_20128\\3186051151.py:13: SettingWithCopyWarning:\n",
      "\n",
      "\n",
      "A value is trying to be set on a copy of a slice from a DataFrame.\n",
      "Try using .loc[row_indexer,col_indexer] = value instead\n",
      "\n",
      "See the caveats in the documentation: https://pandas.pydata.org/pandas-docs/stable/user_guide/indexing.html#returning-a-view-versus-a-copy\n",
      "\n",
      "C:\\Users\\saima\\AppData\\Local\\Temp\\ipykernel_20128\\3186051151.py:14: SettingWithCopyWarning:\n",
      "\n",
      "\n",
      "A value is trying to be set on a copy of a slice from a DataFrame.\n",
      "Try using .loc[row_indexer,col_indexer] = value instead\n",
      "\n",
      "See the caveats in the documentation: https://pandas.pydata.org/pandas-docs/stable/user_guide/indexing.html#returning-a-view-versus-a-copy\n",
      "\n"
     ]
    },
    {
     "data": {
      "application/vnd.plotly.v1+json": {
       "config": {
        "plotlyServerURL": "https://plot.ly"
       },
       "data": [
        {
         "customdata": [
          [
           "bn"
          ],
          [
           "bn"
          ],
          [
           "bn"
          ],
          [
           "bn"
          ],
          [
           "bn"
          ],
          [
           "bn"
          ],
          [
           "bn"
          ],
          [
           "bn"
          ],
          [
           "bn"
          ],
          [
           "bn"
          ],
          [
           "bn"
          ],
          [
           "bn"
          ],
          [
           "bn"
          ],
          [
           "bn"
          ],
          [
           "bn"
          ],
          [
           "bn"
          ],
          [
           "bn"
          ],
          [
           "bn"
          ],
          [
           "bn"
          ],
          [
           "bn"
          ],
          [
           "bn"
          ],
          [
           "bn"
          ],
          [
           "bn"
          ],
          [
           "bn"
          ],
          [
           "bn"
          ],
          [
           "bn"
          ],
          [
           "bn"
          ],
          [
           "bn"
          ],
          [
           "bn"
          ],
          [
           "bn"
          ],
          [
           "bn"
          ],
          [
           "bn"
          ],
          [
           "bn"
          ],
          [
           "bn"
          ],
          [
           "bn"
          ],
          [
           "bn"
          ],
          [
           "bn"
          ],
          [
           "bn"
          ],
          [
           "bn"
          ],
          [
           "bn"
          ],
          [
           "bn"
          ],
          [
           "bn"
          ],
          [
           "bn"
          ],
          [
           "bn"
          ],
          [
           "bn"
          ],
          [
           "bn"
          ],
          [
           "bn"
          ],
          [
           "bn"
          ],
          [
           "bn"
          ],
          [
           "bn"
          ],
          [
           "bn"
          ],
          [
           "bn"
          ],
          [
           "bn"
          ],
          [
           "bn"
          ],
          [
           "bn"
          ],
          [
           "bn"
          ],
          [
           "bn"
          ],
          [
           "bn"
          ],
          [
           "bn"
          ],
          [
           "bn"
          ],
          [
           "bn"
          ],
          [
           "bn"
          ],
          [
           "bn"
          ],
          [
           "bn"
          ],
          [
           "bn"
          ],
          [
           "bn"
          ],
          [
           "bn"
          ],
          [
           "bn"
          ],
          [
           "bn"
          ],
          [
           "bn"
          ],
          [
           "bn"
          ],
          [
           "bn"
          ],
          [
           "bn"
          ],
          [
           "bn"
          ],
          [
           "bn"
          ],
          [
           "bn"
          ],
          [
           "bn"
          ],
          [
           "bn"
          ],
          [
           "bn"
          ],
          [
           "bn"
          ],
          [
           "bn"
          ],
          [
           "bn"
          ],
          [
           "bn"
          ],
          [
           "bn"
          ],
          [
           "bn"
          ],
          [
           "bn"
          ],
          [
           "bn"
          ],
          [
           "bn"
          ],
          [
           "bn"
          ],
          [
           "bn"
          ],
          [
           "bn"
          ],
          [
           "bn"
          ],
          [
           "bn"
          ],
          [
           "bn"
          ],
          [
           "bn"
          ],
          [
           "bn"
          ],
          [
           "bn"
          ],
          [
           "bn"
          ],
          [
           "bn"
          ],
          [
           "bn"
          ],
          [
           "bn"
          ],
          [
           "bn"
          ],
          [
           "bn"
          ],
          [
           "bn"
          ],
          [
           "bn"
          ],
          [
           "bn"
          ],
          [
           "bn"
          ],
          [
           "bn"
          ],
          [
           "bn"
          ],
          [
           "bn"
          ],
          [
           "bn"
          ],
          [
           "bn"
          ],
          [
           "bn"
          ],
          [
           "bn"
          ],
          [
           "bn"
          ],
          [
           "bn"
          ],
          [
           "bn"
          ],
          [
           "bn"
          ],
          [
           "bn"
          ],
          [
           "bn"
          ],
          [
           "bn"
          ],
          [
           "bn"
          ],
          [
           "bn"
          ],
          [
           "bn"
          ],
          [
           "bn"
          ],
          [
           "bn"
          ],
          [
           "bn"
          ],
          [
           "bn"
          ],
          [
           "bn"
          ],
          [
           "bn"
          ],
          [
           "bn"
          ],
          [
           "bn"
          ],
          [
           "bn"
          ],
          [
           "bn"
          ],
          [
           "bn"
          ],
          [
           "bn"
          ],
          [
           "bn"
          ],
          [
           "bn"
          ],
          [
           "bn"
          ],
          [
           "bn"
          ],
          [
           "bn"
          ],
          [
           "bn"
          ],
          [
           "bn"
          ],
          [
           "bn"
          ],
          [
           "bn"
          ],
          [
           "bn"
          ],
          [
           "bn"
          ],
          [
           "bn"
          ]
         ],
         "hovertemplate": "pca_one=%{x}<br>pca_two=%{y}<br>language_code=%{customdata[0]}<br>cluster=%{marker.color}<extra></extra>",
         "legendgroup": "",
         "marker": {
          "color": [
           1,
           2,
           1,
           2,
           3,
           1,
           2,
           0,
           3,
           3,
           2,
           2,
           2,
           3,
           1,
           1,
           1,
           1,
           1,
           0,
           0,
           1,
           0,
           0,
           0,
           1,
           3,
           3,
           3,
           3,
           0,
           2,
           0,
           3,
           1,
           1,
           2,
           2,
           0,
           1,
           1,
           3,
           2,
           1,
           3,
           3,
           3,
           1,
           1,
           3,
           3,
           1,
           2,
           1,
           1,
           0,
           3,
           1,
           0,
           0,
           0,
           1,
           1,
           3,
           1,
           2,
           1,
           3,
           0,
           0,
           1,
           0,
           3,
           0,
           3,
           2,
           0,
           0,
           1,
           0,
           3,
           2,
           2,
           1,
           1,
           1,
           1,
           1,
           1,
           1,
           3,
           0,
           1,
           1,
           1,
           1,
           3,
           1,
           0,
           1,
           0,
           1,
           2,
           0,
           0,
           1,
           1,
           3,
           1,
           1,
           0,
           1,
           1,
           1,
           1,
           1,
           1,
           1,
           3,
           0,
           0,
           0,
           1,
           0,
           3,
           1,
           3,
           1,
           0,
           3,
           3,
           3,
           1,
           3,
           3,
           3,
           1,
           3,
           1,
           3,
           3,
           3,
           3,
           0,
           3,
           3,
           3,
           2
          ],
          "coloraxis": "coloraxis",
          "symbol": "circle"
         },
         "mode": "markers",
         "name": "",
         "orientation": "v",
         "showlegend": false,
         "type": "scatter",
         "x": [
          -3.49429988861084,
          1.0086851119995117,
          -1.8599947690963745,
          1.0406149625778198,
          3.717311382293701,
          -3.714752674102783,
          0.364182710647583,
          0.09974291175603867,
          0.5063523054122925,
          3.8448503017425537,
          1.0682495832443237,
          0.7437952160835266,
          -0.5502365231513977,
          4.237583160400391,
          -3.1567091941833496,
          -3.481623649597168,
          -3.709784507751465,
          -1.1223206520080566,
          -0.6805112957954407,
          0.5114572644233704,
          1.7798254489898682,
          -3.7716262340545654,
          -0.5251160860061646,
          -0.1066896989941597,
          0.16123151779174805,
          -2.3789846897125244,
          2.8634767532348633,
          1.3464913368225098,
          0.471504807472229,
          1.9494693279266357,
          0.3570094704627991,
          0.7557498812675476,
          -0.6094439625740051,
          4.786704063415527,
          -3.533128261566162,
          -3.116847038269043,
          0.5105046629905701,
          0.9073985815048218,
          0.5031747817993164,
          -3.45194411277771,
          -3.024768590927124,
          3.0761358737945557,
          3.3142940998077393,
          -1.4754890203475952,
          1.8196979761123657,
          0.7982003688812256,
          0.7941466569900513,
          -1.9551148414611816,
          -2.775045871734619,
          2.4333484172821045,
          2.3698551654815674,
          -0.022530572488904,
          -1.3207588195800781,
          -0.41362547874450684,
          -2.7109053134918213,
          0.32601723074913025,
          5.43843412399292,
          -2.277888298034668,
          -0.2201676219701767,
          -1.0550098419189453,
          -1.046535849571228,
          -3.2985405921936035,
          -2.068080425262451,
          3.4403843879699707,
          -3.161066770553589,
          1.658056616783142,
          -2.1097476482391357,
          5.48737096786499,
          -0.9514150023460388,
          0.4655682444572449,
          -0.09744255244731903,
          1.063516616821289,
          7.926991939544678,
          -0.8308326601982117,
          4.562176704406738,
          2.354388475418091,
          -0.38915398716926575,
          -0.1859583556652069,
          -3.5717272758483887,
          0.21178601682186127,
          2.1071760654449463,
          1.5432864427566528,
          1.6190707683563232,
          -2.67478084564209,
          -2.7571380138397217,
          -2.618403911590576,
          -3.487755298614502,
          -2.9658255577087402,
          -3.321321725845337,
          -2.7002804279327393,
          5.451140403747559,
          -1.299099087715149,
          -3.13826584815979,
          -1.6994038820266724,
          -1.4774903059005737,
          -2.2640717029571533,
          4.246738433837891,
          -2.304065465927124,
          1.723422884941101,
          -3.0766801834106445,
          1.6000691652297974,
          -2.5318593978881836,
          0.1970745474100113,
          1.797780990600586,
          0.5829039216041565,
          -3.732940196990967,
          -0.1701963096857071,
          0.5063523054122925,
          -2.63374662399292,
          -3.4943058490753174,
          0.4498361051082611,
          -3.199610471725464,
          -3.0625343322753906,
          -1.0269250869750977,
          -3.8152709007263184,
          -3.267857551574707,
          -3.3070411682128906,
          -1.7933831214904785,
          5.4702253341674805,
          1.9216787815093994,
          -1.6122301816940308,
          -0.9184508323669434,
          -3.2839159965515137,
          -1.3347499370574951,
          0.5628037452697754,
          -3.264099597930908,
          6.571683883666992,
          -3.1727614402770996,
          -1.8058663606643677,
          2.1601035594940186,
          0.9941949844360352,
          0.9690417051315308,
          0.006942905485630035,
          4.338149070739746,
          2.289842367172241,
          0.9280246496200562,
          -0.7451927065849304,
          4.625948905944824,
          0.6321769952774048,
          3.3068578243255615,
          3.874309539794922,
          1.487185001373291,
          1.8953675031661987,
          -1.067871332168579,
          2.301069498062134,
          5.469262599945068,
          3.891667604446411,
          2.654092788696289
         ],
         "xaxis": "x",
         "y": [
          0.6350799202919006,
          -2.3821303844451904,
          -0.3926156163215637,
          -2.6894800662994385,
          0.45956289768218994,
          0.12529036402702332,
          -0.45063984394073486,
          2.9367074966430664,
          -1.3511576652526855,
          -1.8016307353973389,
          -1.8423566818237305,
          -0.5460438132286072,
          -0.8768609762191772,
          0.8462900519371033,
          -1.0582205057144165,
          -0.7670204639434814,
          -0.613969087600708,
          0.1499331146478653,
          -0.15501052141189575,
          1.6243418455123901,
          1.5689582824707031,
          1.180271029472351,
          3.5344598293304443,
          4.091958999633789,
          5.063411235809326,
          -0.6688592433929443,
          0.2719440460205078,
          0.7529277801513672,
          -1.9217215776443481,
          0.7798469066619873,
          3.6649105548858643,
          -2.7940175533294678,
          1.7000963687896729,
          1.1384763717651367,
          -0.7455723285675049,
          -0.7261695861816406,
          -3.0319056510925293,
          -1.9834399223327637,
          2.73490834236145,
          0.412066251039505,
          0.6418071985244751,
          -0.7951637506484985,
          0.39439165592193604,
          -0.3217568099498749,
          -2.442894697189331,
          -2.220604658126831,
          -1.3572957515716553,
          -1.292484164237976,
          0.29059886932373047,
          -0.87130206823349,
          -0.08440384268760681,
          -1.533531665802002,
          -1.1700801849365234,
          -0.26539039611816406,
          -1.2649118900299072,
          5.225898265838623,
          -0.37223926186561584,
          -0.18000489473342896,
          3.671476364135742,
          2.13283371925354,
          4.703934669494629,
          -1.2299715280532837,
          -0.43985694646835327,
          -0.7266117334365845,
          -1.412915587425232,
          -3.1464033126831055,
          -0.05451260879635811,
          -1.0637407302856445,
          3.905506134033203,
          4.690745830535889,
          -1.8454325199127197,
          4.434876441955566,
          -0.8435021638870239,
          2.6562459468841553,
          -3.4858341217041016,
          -2.9096391201019287,
          1.4966137409210205,
          1.1873037815093994,
          1.6547876596450806,
          2.167508602142334,
          -0.502075731754303,
          -2.1257174015045166,
          1.4159218072891235,
          -2.8056979179382324,
          -2.2440710067749023,
          -3.32759690284729,
          -2.5738019943237305,
          -2.878316640853882,
          -2.693753719329834,
          -2.008309841156006,
          1.2841211557388306,
          2.5131278038024902,
          0.4159395396709442,
          -0.37719011306762695,
          -0.012160205282270908,
          0.8428617715835571,
          -0.3692586123943329,
          -1.367405891418457,
          2.7137091159820557,
          1.1662594079971313,
          1.655207872390747,
          -0.5934042930603027,
          -1.8321489095687866,
          4.03555965423584,
          2.5298593044281006,
          -1.325874924659729,
          -0.47479620575904846,
          -1.3511576652526855,
          -1.1193667650222778,
          0.6350802183151245,
          4.094359874725342,
          0.06559048593044281,
          -2.0318562984466553,
          0.7153723835945129,
          0.9291549324989319,
          0.13363273441791534,
          -0.6079176664352417,
          -1.5976334810256958,
          -3.5443503856658936,
          3.0322883129119873,
          2.9491512775421143,
          2.346606731414795,
          -2.071338653564453,
          2.683483600616455,
          -0.5925435423851013,
          0.1032319962978363,
          -0.5566042065620422,
          -0.22597146034240723,
          2.4792418479919434,
          1.5323115587234497,
          -1.1291559934616089,
          0.4504372477531433,
          -1.8624411821365356,
          -0.002493157982826233,
          -0.578342854976654,
          -2.3192248344421387,
          -2.8984475135803223,
          -0.8116170763969421,
          -2.205557346343994,
          0.015950724482536316,
          -1.6048535108566284,
          -1.341737985610962,
          -1.6144826412200928,
          1.6396405696868896,
          0.1992858648300171,
          1.9800843000411987,
          1.549182653427124,
          -3.3246541023254395
         ],
         "yaxis": "y"
        }
       ],
       "layout": {
        "coloraxis": {
         "colorbar": {
          "title": {
           "text": "cluster"
          }
         },
         "colorscale": [
          [
           0,
           "#440154"
          ],
          [
           0.1111111111111111,
           "#482878"
          ],
          [
           0.2222222222222222,
           "#3e4989"
          ],
          [
           0.3333333333333333,
           "#31688e"
          ],
          [
           0.4444444444444444,
           "#26828e"
          ],
          [
           0.5555555555555556,
           "#1f9e89"
          ],
          [
           0.6666666666666666,
           "#35b779"
          ],
          [
           0.7777777777777778,
           "#6ece58"
          ],
          [
           0.8888888888888888,
           "#b5de2b"
          ],
          [
           1,
           "#fde725"
          ]
         ]
        },
        "legend": {
         "title": {
          "text": "Cluster"
         },
         "tracegroupgap": 0
        },
        "margin": {
         "t": 60
        },
        "template": {
         "data": {
          "bar": [
           {
            "error_x": {
             "color": "#2a3f5f"
            },
            "error_y": {
             "color": "#2a3f5f"
            },
            "marker": {
             "line": {
              "color": "#E5ECF6",
              "width": 0.5
             },
             "pattern": {
              "fillmode": "overlay",
              "size": 10,
              "solidity": 0.2
             }
            },
            "type": "bar"
           }
          ],
          "barpolar": [
           {
            "marker": {
             "line": {
              "color": "#E5ECF6",
              "width": 0.5
             },
             "pattern": {
              "fillmode": "overlay",
              "size": 10,
              "solidity": 0.2
             }
            },
            "type": "barpolar"
           }
          ],
          "carpet": [
           {
            "aaxis": {
             "endlinecolor": "#2a3f5f",
             "gridcolor": "white",
             "linecolor": "white",
             "minorgridcolor": "white",
             "startlinecolor": "#2a3f5f"
            },
            "baxis": {
             "endlinecolor": "#2a3f5f",
             "gridcolor": "white",
             "linecolor": "white",
             "minorgridcolor": "white",
             "startlinecolor": "#2a3f5f"
            },
            "type": "carpet"
           }
          ],
          "choropleth": [
           {
            "colorbar": {
             "outlinewidth": 0,
             "ticks": ""
            },
            "type": "choropleth"
           }
          ],
          "contour": [
           {
            "colorbar": {
             "outlinewidth": 0,
             "ticks": ""
            },
            "colorscale": [
             [
              0,
              "#0d0887"
             ],
             [
              0.1111111111111111,
              "#46039f"
             ],
             [
              0.2222222222222222,
              "#7201a8"
             ],
             [
              0.3333333333333333,
              "#9c179e"
             ],
             [
              0.4444444444444444,
              "#bd3786"
             ],
             [
              0.5555555555555556,
              "#d8576b"
             ],
             [
              0.6666666666666666,
              "#ed7953"
             ],
             [
              0.7777777777777778,
              "#fb9f3a"
             ],
             [
              0.8888888888888888,
              "#fdca26"
             ],
             [
              1,
              "#f0f921"
             ]
            ],
            "type": "contour"
           }
          ],
          "contourcarpet": [
           {
            "colorbar": {
             "outlinewidth": 0,
             "ticks": ""
            },
            "type": "contourcarpet"
           }
          ],
          "heatmap": [
           {
            "colorbar": {
             "outlinewidth": 0,
             "ticks": ""
            },
            "colorscale": [
             [
              0,
              "#0d0887"
             ],
             [
              0.1111111111111111,
              "#46039f"
             ],
             [
              0.2222222222222222,
              "#7201a8"
             ],
             [
              0.3333333333333333,
              "#9c179e"
             ],
             [
              0.4444444444444444,
              "#bd3786"
             ],
             [
              0.5555555555555556,
              "#d8576b"
             ],
             [
              0.6666666666666666,
              "#ed7953"
             ],
             [
              0.7777777777777778,
              "#fb9f3a"
             ],
             [
              0.8888888888888888,
              "#fdca26"
             ],
             [
              1,
              "#f0f921"
             ]
            ],
            "type": "heatmap"
           }
          ],
          "heatmapgl": [
           {
            "colorbar": {
             "outlinewidth": 0,
             "ticks": ""
            },
            "colorscale": [
             [
              0,
              "#0d0887"
             ],
             [
              0.1111111111111111,
              "#46039f"
             ],
             [
              0.2222222222222222,
              "#7201a8"
             ],
             [
              0.3333333333333333,
              "#9c179e"
             ],
             [
              0.4444444444444444,
              "#bd3786"
             ],
             [
              0.5555555555555556,
              "#d8576b"
             ],
             [
              0.6666666666666666,
              "#ed7953"
             ],
             [
              0.7777777777777778,
              "#fb9f3a"
             ],
             [
              0.8888888888888888,
              "#fdca26"
             ],
             [
              1,
              "#f0f921"
             ]
            ],
            "type": "heatmapgl"
           }
          ],
          "histogram": [
           {
            "marker": {
             "pattern": {
              "fillmode": "overlay",
              "size": 10,
              "solidity": 0.2
             }
            },
            "type": "histogram"
           }
          ],
          "histogram2d": [
           {
            "colorbar": {
             "outlinewidth": 0,
             "ticks": ""
            },
            "colorscale": [
             [
              0,
              "#0d0887"
             ],
             [
              0.1111111111111111,
              "#46039f"
             ],
             [
              0.2222222222222222,
              "#7201a8"
             ],
             [
              0.3333333333333333,
              "#9c179e"
             ],
             [
              0.4444444444444444,
              "#bd3786"
             ],
             [
              0.5555555555555556,
              "#d8576b"
             ],
             [
              0.6666666666666666,
              "#ed7953"
             ],
             [
              0.7777777777777778,
              "#fb9f3a"
             ],
             [
              0.8888888888888888,
              "#fdca26"
             ],
             [
              1,
              "#f0f921"
             ]
            ],
            "type": "histogram2d"
           }
          ],
          "histogram2dcontour": [
           {
            "colorbar": {
             "outlinewidth": 0,
             "ticks": ""
            },
            "colorscale": [
             [
              0,
              "#0d0887"
             ],
             [
              0.1111111111111111,
              "#46039f"
             ],
             [
              0.2222222222222222,
              "#7201a8"
             ],
             [
              0.3333333333333333,
              "#9c179e"
             ],
             [
              0.4444444444444444,
              "#bd3786"
             ],
             [
              0.5555555555555556,
              "#d8576b"
             ],
             [
              0.6666666666666666,
              "#ed7953"
             ],
             [
              0.7777777777777778,
              "#fb9f3a"
             ],
             [
              0.8888888888888888,
              "#fdca26"
             ],
             [
              1,
              "#f0f921"
             ]
            ],
            "type": "histogram2dcontour"
           }
          ],
          "mesh3d": [
           {
            "colorbar": {
             "outlinewidth": 0,
             "ticks": ""
            },
            "type": "mesh3d"
           }
          ],
          "parcoords": [
           {
            "line": {
             "colorbar": {
              "outlinewidth": 0,
              "ticks": ""
             }
            },
            "type": "parcoords"
           }
          ],
          "pie": [
           {
            "automargin": true,
            "type": "pie"
           }
          ],
          "scatter": [
           {
            "fillpattern": {
             "fillmode": "overlay",
             "size": 10,
             "solidity": 0.2
            },
            "type": "scatter"
           }
          ],
          "scatter3d": [
           {
            "line": {
             "colorbar": {
              "outlinewidth": 0,
              "ticks": ""
             }
            },
            "marker": {
             "colorbar": {
              "outlinewidth": 0,
              "ticks": ""
             }
            },
            "type": "scatter3d"
           }
          ],
          "scattercarpet": [
           {
            "marker": {
             "colorbar": {
              "outlinewidth": 0,
              "ticks": ""
             }
            },
            "type": "scattercarpet"
           }
          ],
          "scattergeo": [
           {
            "marker": {
             "colorbar": {
              "outlinewidth": 0,
              "ticks": ""
             }
            },
            "type": "scattergeo"
           }
          ],
          "scattergl": [
           {
            "marker": {
             "colorbar": {
              "outlinewidth": 0,
              "ticks": ""
             }
            },
            "type": "scattergl"
           }
          ],
          "scattermapbox": [
           {
            "marker": {
             "colorbar": {
              "outlinewidth": 0,
              "ticks": ""
             }
            },
            "type": "scattermapbox"
           }
          ],
          "scatterpolar": [
           {
            "marker": {
             "colorbar": {
              "outlinewidth": 0,
              "ticks": ""
             }
            },
            "type": "scatterpolar"
           }
          ],
          "scatterpolargl": [
           {
            "marker": {
             "colorbar": {
              "outlinewidth": 0,
              "ticks": ""
             }
            },
            "type": "scatterpolargl"
           }
          ],
          "scatterternary": [
           {
            "marker": {
             "colorbar": {
              "outlinewidth": 0,
              "ticks": ""
             }
            },
            "type": "scatterternary"
           }
          ],
          "surface": [
           {
            "colorbar": {
             "outlinewidth": 0,
             "ticks": ""
            },
            "colorscale": [
             [
              0,
              "#0d0887"
             ],
             [
              0.1111111111111111,
              "#46039f"
             ],
             [
              0.2222222222222222,
              "#7201a8"
             ],
             [
              0.3333333333333333,
              "#9c179e"
             ],
             [
              0.4444444444444444,
              "#bd3786"
             ],
             [
              0.5555555555555556,
              "#d8576b"
             ],
             [
              0.6666666666666666,
              "#ed7953"
             ],
             [
              0.7777777777777778,
              "#fb9f3a"
             ],
             [
              0.8888888888888888,
              "#fdca26"
             ],
             [
              1,
              "#f0f921"
             ]
            ],
            "type": "surface"
           }
          ],
          "table": [
           {
            "cells": {
             "fill": {
              "color": "#EBF0F8"
             },
             "line": {
              "color": "white"
             }
            },
            "header": {
             "fill": {
              "color": "#C8D4E3"
             },
             "line": {
              "color": "white"
             }
            },
            "type": "table"
           }
          ]
         },
         "layout": {
          "annotationdefaults": {
           "arrowcolor": "#2a3f5f",
           "arrowhead": 0,
           "arrowwidth": 1
          },
          "autotypenumbers": "strict",
          "coloraxis": {
           "colorbar": {
            "outlinewidth": 0,
            "ticks": ""
           }
          },
          "colorscale": {
           "diverging": [
            [
             0,
             "#8e0152"
            ],
            [
             0.1,
             "#c51b7d"
            ],
            [
             0.2,
             "#de77ae"
            ],
            [
             0.3,
             "#f1b6da"
            ],
            [
             0.4,
             "#fde0ef"
            ],
            [
             0.5,
             "#f7f7f7"
            ],
            [
             0.6,
             "#e6f5d0"
            ],
            [
             0.7,
             "#b8e186"
            ],
            [
             0.8,
             "#7fbc41"
            ],
            [
             0.9,
             "#4d9221"
            ],
            [
             1,
             "#276419"
            ]
           ],
           "sequential": [
            [
             0,
             "#0d0887"
            ],
            [
             0.1111111111111111,
             "#46039f"
            ],
            [
             0.2222222222222222,
             "#7201a8"
            ],
            [
             0.3333333333333333,
             "#9c179e"
            ],
            [
             0.4444444444444444,
             "#bd3786"
            ],
            [
             0.5555555555555556,
             "#d8576b"
            ],
            [
             0.6666666666666666,
             "#ed7953"
            ],
            [
             0.7777777777777778,
             "#fb9f3a"
            ],
            [
             0.8888888888888888,
             "#fdca26"
            ],
            [
             1,
             "#f0f921"
            ]
           ],
           "sequentialminus": [
            [
             0,
             "#0d0887"
            ],
            [
             0.1111111111111111,
             "#46039f"
            ],
            [
             0.2222222222222222,
             "#7201a8"
            ],
            [
             0.3333333333333333,
             "#9c179e"
            ],
            [
             0.4444444444444444,
             "#bd3786"
            ],
            [
             0.5555555555555556,
             "#d8576b"
            ],
            [
             0.6666666666666666,
             "#ed7953"
            ],
            [
             0.7777777777777778,
             "#fb9f3a"
            ],
            [
             0.8888888888888888,
             "#fdca26"
            ],
            [
             1,
             "#f0f921"
            ]
           ]
          },
          "colorway": [
           "#636efa",
           "#EF553B",
           "#00cc96",
           "#ab63fa",
           "#FFA15A",
           "#19d3f3",
           "#FF6692",
           "#B6E880",
           "#FF97FF",
           "#FECB52"
          ],
          "font": {
           "color": "#2a3f5f"
          },
          "geo": {
           "bgcolor": "white",
           "lakecolor": "white",
           "landcolor": "#E5ECF6",
           "showlakes": true,
           "showland": true,
           "subunitcolor": "white"
          },
          "hoverlabel": {
           "align": "left"
          },
          "hovermode": "closest",
          "mapbox": {
           "style": "light"
          },
          "paper_bgcolor": "white",
          "plot_bgcolor": "#E5ECF6",
          "polar": {
           "angularaxis": {
            "gridcolor": "white",
            "linecolor": "white",
            "ticks": ""
           },
           "bgcolor": "#E5ECF6",
           "radialaxis": {
            "gridcolor": "white",
            "linecolor": "white",
            "ticks": ""
           }
          },
          "scene": {
           "xaxis": {
            "backgroundcolor": "#E5ECF6",
            "gridcolor": "white",
            "gridwidth": 2,
            "linecolor": "white",
            "showbackground": true,
            "ticks": "",
            "zerolinecolor": "white"
           },
           "yaxis": {
            "backgroundcolor": "#E5ECF6",
            "gridcolor": "white",
            "gridwidth": 2,
            "linecolor": "white",
            "showbackground": true,
            "ticks": "",
            "zerolinecolor": "white"
           },
           "zaxis": {
            "backgroundcolor": "#E5ECF6",
            "gridcolor": "white",
            "gridwidth": 2,
            "linecolor": "white",
            "showbackground": true,
            "ticks": "",
            "zerolinecolor": "white"
           }
          },
          "shapedefaults": {
           "line": {
            "color": "#2a3f5f"
           }
          },
          "ternary": {
           "aaxis": {
            "gridcolor": "white",
            "linecolor": "white",
            "ticks": ""
           },
           "baxis": {
            "gridcolor": "white",
            "linecolor": "white",
            "ticks": ""
           },
           "bgcolor": "#E5ECF6",
           "caxis": {
            "gridcolor": "white",
            "linecolor": "white",
            "ticks": ""
           }
          },
          "title": {
           "x": 0.05
          },
          "xaxis": {
           "automargin": true,
           "gridcolor": "white",
           "linecolor": "white",
           "ticks": "",
           "title": {
            "standoff": 15
           },
           "zerolinecolor": "white",
           "zerolinewidth": 2
          },
          "yaxis": {
           "automargin": true,
           "gridcolor": "white",
           "linecolor": "white",
           "ticks": "",
           "title": {
            "standoff": 15
           },
           "zerolinecolor": "white",
           "zerolinewidth": 2
          }
         }
        },
        "title": {
         "text": "M-BERT with K-Means Clustering for bn"
        },
        "xaxis": {
         "anchor": "y",
         "domain": [
          0,
          1
         ],
         "title": {
          "text": "PCA 1"
         }
        },
        "yaxis": {
         "anchor": "x",
         "domain": [
          0,
          1
         ],
         "title": {
          "text": "PCA 2"
         }
        }
       }
      }
     },
     "metadata": {},
     "output_type": "display_data"
    }
   ],
   "source": [
    "# K-Means clustering\n",
    "num_clusters = 4  # This is an arbitrary choice, can be tuned\n",
    "kmeans = KMeans(n_clusters=num_clusters, random_state=0).fit(mbert_embeddings)\n",
    "\n",
    "# Adding cluster labels to the original dataset\n",
    "filtered_bn_data['cluster'] = kmeans.labels_\n",
    "\n",
    "# Applying PCA for visualization\n",
    "pca = PCA(n_components=2)\n",
    "reduced_features = pca.fit_transform(mbert_embeddings)\n",
    "\n",
    "# Add PCA components to the original dataset\n",
    "filtered_bn_data['pca_one'] = reduced_features[:, 0]\n",
    "filtered_bn_data['pca_two'] = reduced_features[:, 1]\n",
    "\n",
    "# Creating a scatter plot with Plotly using the 'viridis' color scale\n",
    "fig = px.scatter(filtered_bn_data, x='pca_one', y='pca_two', color='cluster',\n",
    "                 hover_data=['language_code'], color_continuous_scale='Viridis')\n",
    "fig.update_layout(title='M-BERT with K-Means Clustering for bn',\n",
    "                  xaxis_title='PCA 1', \n",
    "                  yaxis_title='PCA 2', \n",
    "                  legend_title='Cluster')\n",
    "fig.show()\n"
   ]
  },
  {
   "cell_type": "code",
   "execution_count": 11,
   "metadata": {},
   "outputs": [
    {
     "name": "stdout",
     "output_type": "stream",
     "text": [
      "cluster  accent_name                       \n",
      "0        Amar                                  1\n",
      "         Bangadeshi                            1\n",
      "         Bangla                                1\n",
      "         Barishal                              1\n",
      "         Bhola                                 1\n",
      "         Casual                                1\n",
      "         Chandpur                              1\n",
      "         Chatgaiya                             1\n",
      "         Chittagonian                          1\n",
      "         Comilla                               1\n",
      "         Cumilla                               1\n",
      "         Dhakaiya                              1\n",
      "         Gazipur                               1\n",
      "         India-Bangla                          1\n",
      "         Kushtian                              1\n",
      "         Mymensingh                            1\n",
      "         Narayanganj                           1\n",
      "         Narayanganj-jossoreian                1\n",
      "         Netrokona                             1\n",
      "         Noakhali                              1\n",
      "         Promito                               1\n",
      "         Rangpuriya                            1\n",
      "         Rarhi                                 1\n",
      "         Shuddho                               1\n",
      "         Sylheti                               1\n",
      "         Sylhety                               1\n",
      "         Tangaila                              1\n",
      "         Vatia                                 1\n",
      "         https://www.facebook.com/GopalRay0    1\n",
      "         khulna                                1\n",
      "         mdalifshamim@gmail.com                1\n",
      "         onindyo                               1\n",
      "1        Native                                2\n",
      "         ????                                  1\n",
      "         A                                     1\n",
      "         Adult                                 1\n",
      "         Authentic                             1\n",
      "         Average                               1\n",
      "         B                                     1\n",
      "         Boy                                   1\n",
      "         C                                     1\n",
      "         Clean                                 1\n",
      "         Clear                                 1\n",
      "         Common                                1\n",
      "         Contributor                           1\n",
      "         Correct                               1\n",
      "         D                                     1\n",
      "         Decent                                1\n",
      "         E                                     1\n",
      "         Exoteric                              1\n",
      "         F                                     1\n",
      "         Flat                                  1\n",
      "         Fluently                              1\n",
      "         Generic                               1\n",
      "         Good                                  1\n",
      "         Indian                                1\n",
      "         J                                     1\n",
      "         Local                                 1\n",
      "         Male                                  1\n",
      "         Natural                               1\n",
      "         Normal                                1\n",
      "         Normally                              1\n",
      "         Official                              1\n",
      "         Perfect                               1\n",
      "         Proficient                            1\n",
      "         Smooth                                1\n",
      "         Speaking                              1\n",
      "         Standard                              1\n",
      "         Standard/প্রমিত                       1\n",
      "         Sweet                                 1\n",
      "         Teenager                              1\n",
      "         Toddler                               1\n",
      "         Unclear                               1\n",
      "         Urban                                 1\n",
      "         bn-BD                                 1\n",
      "         bshsh                                 1\n",
      "         chattogram                            1\n",
      "         expert                                1\n",
      "         fluent                                1\n",
      "         kushtia                               1\n",
      "         neutral                               1\n",
      "         nice                                  1\n",
      "         sundor                                1\n",
      "         t                                     1\n",
      "         valo                                  1\n",
      "         আ                                     1\n",
      "         আমি                                   1\n",
      "         মধ্যম                                 1\n",
      "         স্থানীয়                               1\n",
      "2        Bangla(Bangladesh)                    1\n",
      "         Bangladesh                            1\n",
      "         Bangladeshi                           1\n",
      "         Bengali                               1\n",
      "         Chittagong                            1\n",
      "         Dhaka                                 1\n",
      "         India                                 1\n",
      "         Kolkata                               1\n",
      "         Mixed                                 1\n",
      "         কলকাতা                                1\n",
      "         চট্টগ্রাম                             1\n",
      "         ঢাকা                                  1\n",
      "         বাংলা                                 1\n",
      "         বাংলাদেশ                              1\n",
      "         বাংলাদেশি                             1\n",
      "         বাংলাদেশী                             1\n",
      "         বাংলায়                                1\n",
      "3        প্রমিত                                2\n",
      "         আঞ্চলিক                               1\n",
      "         কুষ্টিয়া                              1\n",
      "         খুলনা                                 1\n",
      "         গাজীপুর                               1\n",
      "         চলিত                                  1\n",
      "         চাঁটগা                                1\n",
      "         চিটাইংগা                              1\n",
      "         ছিলটি                                 1\n",
      "         ছিলেটি                                1\n",
      "         টাঙ্গাইল                              1\n",
      "         ঢাকাইয়া                               1\n",
      "         নরসিংদী                               1\n",
      "         প                                     1\n",
      "         পরিষ্কার                              1\n",
      "         পশ্চিমবঙ্গ                            1\n",
      "         পাবনাইয়া                              1\n",
      "         বরিশাইল্যা                            1\n",
      "         বরিশাল                                1\n",
      "         বাঙালি                                1\n",
      "         বাঙ্গালী                              1\n",
      "         ব্রাহ্মণবাড়িয়ান                     1\n",
      "         ভালো                                  1\n",
      "         ভয়েস                                  1\n",
      "         মমিসিংগা                              1\n",
      "         ময়মনসিংহ                             1\n",
      "         মাঝামাঝি                              1\n",
      "         মাতৃভাষা                              1\n",
      "         মেহেরপুর                              1\n",
      "         মোবাইলে                               1\n",
      "         যশোর                                  1\n",
      "         রাঢ়ী                                 1\n",
      "         শুদ্ধ                                 1\n",
      "         সাধু                                  1\n",
      "         সিলটি                                 1\n",
      "         সিলেটি                                1\n",
      "         সুন্দর                                1\n",
      "         সুস্পষ্ট                              1\n",
      "         স্পষ্ট                                1\n",
      "         হ্যাঁ                                 1\n",
      "Name: accent_name, dtype: int64\n"
     ]
    }
   ],
   "source": [
    "# Grouping by cluster and counting the frequency of each language code\n",
    "cluster_language_count = filtered_bn_data.groupby('cluster')['accent_name'].value_counts()\n",
    "\n",
    "# Filtering to show only language codes with frequency greater than zero\n",
    "# cluster_language_count = cluster_language_count[cluster_language_count > 25]\n",
    "\n",
    "print(cluster_language_count)\n",
    "\n"
   ]
  },
  {
   "cell_type": "markdown",
   "metadata": {},
   "source": [
    "# TF-IDF with K-Means for language \"bn\""
   ]
  },
  {
   "cell_type": "code",
   "execution_count": 11,
   "metadata": {},
   "outputs": [],
   "source": [
    "import pandas as pd\n",
    "from sklearn.feature_extraction.text import TfidfVectorizer\n",
    "from sklearn.cluster import KMeans\n",
    "from sklearn.decomposition import PCA\n",
    "from transformers import BertModel, BertTokenizer\n",
    "import torch\n",
    "import numpy as np\n",
    "import plotly.express as px\n",
    "\n",
    "# Load your dataset\n",
    "file_path = 'test.tsv'  # Replace with your file path\n",
    "data = pd.read_csv(file_path, sep='\\t')\n",
    "\n",
    "\n",
    "bn_data = data[data['language_code']==\"bn\"]\n",
    "\n",
    "filtered_bn_data = bn_data[~bn_data['accent_name'].str.contains(' ')]\n",
    "\n",
    "# TF-IDF Vectorization for accent_name\n",
    "tfidf_vectorizer = TfidfVectorizer(max_features=100)\n",
    "tfidf_matrix = tfidf_vectorizer.fit_transform(filtered_bn_data['accent_name'])\n",
    "\n",
    "import matplotlib.pyplot as plt\n",
    "from sklearn.cluster import KMeans\n",
    "\n",
    "# Determine the range of potential clusters you want to test\n",
    "# For example, testing from 1 to 20 clusters\n",
    "range_clusters = range(1, 21)\n",
    "\n",
    "# Calculate the sum of squared distances for each number of clusters\n",
    "sum_of_squared_distances = []\n",
    "for k in range_clusters:\n",
    "    km = KMeans(n_clusters=k, random_state=0)\n",
    "    km = km.fit(tfidf_matrix)\n",
    "    sum_of_squared_distances.append(km.inertia_)\n",
    "\n",
    "# Plot the Elbow graph\n",
    "plt.figure(figsize=(10, 6))\n",
    "plt.plot(range_clusters, sum_of_squared_distances, 'bx-')\n",
    "plt.xlabel('Number of Clusters')\n",
    "plt.ylabel('Sum of Squared Distances')\n",
    "plt.title('Elbow Method For Optimal Number of Clusters')\n",
    "plt.show()\n"
   ]
  },
  {
   "cell_type": "code",
   "execution_count": 13,
   "metadata": {},
   "outputs": [
    {
     "name": "stderr",
     "output_type": "stream",
     "text": [
      "C:\\Users\\saima\\AppData\\Local\\Temp\\ipykernel_6680\\2747274554.py:10: SettingWithCopyWarning:\n",
      "\n",
      "\n",
      "A value is trying to be set on a copy of a slice from a DataFrame.\n",
      "Try using .loc[row_indexer,col_indexer] = value instead\n",
      "\n",
      "See the caveats in the documentation: https://pandas.pydata.org/pandas-docs/stable/user_guide/indexing.html#returning-a-view-versus-a-copy\n",
      "\n",
      "C:\\Users\\saima\\AppData\\Local\\Temp\\ipykernel_6680\\2747274554.py:11: SettingWithCopyWarning:\n",
      "\n",
      "\n",
      "A value is trying to be set on a copy of a slice from a DataFrame.\n",
      "Try using .loc[row_indexer,col_indexer] = value instead\n",
      "\n",
      "See the caveats in the documentation: https://pandas.pydata.org/pandas-docs/stable/user_guide/indexing.html#returning-a-view-versus-a-copy\n",
      "\n",
      "C:\\Users\\saima\\AppData\\Local\\Temp\\ipykernel_6680\\2747274554.py:12: SettingWithCopyWarning:\n",
      "\n",
      "\n",
      "A value is trying to be set on a copy of a slice from a DataFrame.\n",
      "Try using .loc[row_indexer,col_indexer] = value instead\n",
      "\n",
      "See the caveats in the documentation: https://pandas.pydata.org/pandas-docs/stable/user_guide/indexing.html#returning-a-view-versus-a-copy\n",
      "\n"
     ]
    },
    {
     "data": {
      "application/vnd.plotly.v1+json": {
       "config": {
        "plotlyServerURL": "https://plot.ly"
       },
       "data": [
        {
         "customdata": [
          [
           "bn"
          ],
          [
           "bn"
          ],
          [
           "bn"
          ],
          [
           "bn"
          ],
          [
           "bn"
          ],
          [
           "bn"
          ],
          [
           "bn"
          ],
          [
           "bn"
          ],
          [
           "bn"
          ],
          [
           "bn"
          ],
          [
           "bn"
          ],
          [
           "bn"
          ],
          [
           "bn"
          ],
          [
           "bn"
          ],
          [
           "bn"
          ],
          [
           "bn"
          ],
          [
           "bn"
          ],
          [
           "bn"
          ],
          [
           "bn"
          ],
          [
           "bn"
          ],
          [
           "bn"
          ],
          [
           "bn"
          ],
          [
           "bn"
          ],
          [
           "bn"
          ],
          [
           "bn"
          ],
          [
           "bn"
          ],
          [
           "bn"
          ],
          [
           "bn"
          ],
          [
           "bn"
          ],
          [
           "bn"
          ],
          [
           "bn"
          ],
          [
           "bn"
          ],
          [
           "bn"
          ],
          [
           "bn"
          ],
          [
           "bn"
          ],
          [
           "bn"
          ],
          [
           "bn"
          ],
          [
           "bn"
          ],
          [
           "bn"
          ],
          [
           "bn"
          ],
          [
           "bn"
          ],
          [
           "bn"
          ],
          [
           "bn"
          ],
          [
           "bn"
          ],
          [
           "bn"
          ],
          [
           "bn"
          ],
          [
           "bn"
          ],
          [
           "bn"
          ],
          [
           "bn"
          ],
          [
           "bn"
          ],
          [
           "bn"
          ],
          [
           "bn"
          ],
          [
           "bn"
          ],
          [
           "bn"
          ],
          [
           "bn"
          ],
          [
           "bn"
          ],
          [
           "bn"
          ],
          [
           "bn"
          ],
          [
           "bn"
          ],
          [
           "bn"
          ],
          [
           "bn"
          ],
          [
           "bn"
          ],
          [
           "bn"
          ],
          [
           "bn"
          ],
          [
           "bn"
          ],
          [
           "bn"
          ],
          [
           "bn"
          ],
          [
           "bn"
          ],
          [
           "bn"
          ],
          [
           "bn"
          ],
          [
           "bn"
          ],
          [
           "bn"
          ],
          [
           "bn"
          ],
          [
           "bn"
          ],
          [
           "bn"
          ],
          [
           "bn"
          ],
          [
           "bn"
          ],
          [
           "bn"
          ],
          [
           "bn"
          ],
          [
           "bn"
          ],
          [
           "bn"
          ],
          [
           "bn"
          ],
          [
           "bn"
          ],
          [
           "bn"
          ],
          [
           "bn"
          ],
          [
           "bn"
          ],
          [
           "bn"
          ],
          [
           "bn"
          ],
          [
           "bn"
          ],
          [
           "bn"
          ],
          [
           "bn"
          ],
          [
           "bn"
          ],
          [
           "bn"
          ],
          [
           "bn"
          ],
          [
           "bn"
          ],
          [
           "bn"
          ],
          [
           "bn"
          ],
          [
           "bn"
          ],
          [
           "bn"
          ],
          [
           "bn"
          ],
          [
           "bn"
          ],
          [
           "bn"
          ],
          [
           "bn"
          ],
          [
           "bn"
          ],
          [
           "bn"
          ],
          [
           "bn"
          ],
          [
           "bn"
          ],
          [
           "bn"
          ],
          [
           "bn"
          ],
          [
           "bn"
          ],
          [
           "bn"
          ],
          [
           "bn"
          ],
          [
           "bn"
          ],
          [
           "bn"
          ],
          [
           "bn"
          ],
          [
           "bn"
          ],
          [
           "bn"
          ],
          [
           "bn"
          ],
          [
           "bn"
          ],
          [
           "bn"
          ],
          [
           "bn"
          ],
          [
           "bn"
          ],
          [
           "bn"
          ],
          [
           "bn"
          ],
          [
           "bn"
          ],
          [
           "bn"
          ],
          [
           "bn"
          ],
          [
           "bn"
          ],
          [
           "bn"
          ],
          [
           "bn"
          ],
          [
           "bn"
          ],
          [
           "bn"
          ],
          [
           "bn"
          ],
          [
           "bn"
          ],
          [
           "bn"
          ],
          [
           "bn"
          ],
          [
           "bn"
          ],
          [
           "bn"
          ],
          [
           "bn"
          ],
          [
           "bn"
          ],
          [
           "bn"
          ],
          [
           "bn"
          ],
          [
           "bn"
          ],
          [
           "bn"
          ],
          [
           "bn"
          ],
          [
           "bn"
          ],
          [
           "bn"
          ],
          [
           "bn"
          ]
         ],
         "hovertemplate": "pca_one=%{x}<br>pca_two=%{y}<br>language_code=%{customdata[0]}<br>cluster=%{marker.color}<extra></extra>",
         "legendgroup": "",
         "marker": {
          "color": [
           0,
           0,
           0,
           0,
           0,
           0,
           0,
           0,
           4,
           0,
           0,
           0,
           0,
           0,
           0,
           0,
           4,
           0,
           0,
           0,
           0,
           0,
           0,
           0,
           0,
           0,
           0,
           0,
           0,
           0,
           0,
           0,
           0,
           0,
           0,
           0,
           0,
           0,
           0,
           0,
           0,
           0,
           0,
           0,
           0,
           1,
           0,
           0,
           0,
           0,
           0,
           4,
           0,
           0,
           0,
           0,
           0,
           0,
           0,
           0,
           0,
           3,
           0,
           0,
           0,
           0,
           0,
           0,
           0,
           0,
           0,
           0,
           0,
           0,
           0,
           0,
           0,
           0,
           0,
           0,
           0,
           0,
           0,
           0,
           0,
           0,
           0,
           0,
           0,
           0,
           0,
           0,
           0,
           0,
           0,
           0,
           0,
           0,
           0,
           0,
           0,
           0,
           0,
           0,
           0,
           0,
           0,
           4,
           0,
           0,
           0,
           0,
           0,
           0,
           0,
           0,
           0,
           0,
           0,
           0,
           0,
           0,
           0,
           0,
           0,
           0,
           0,
           0,
           0,
           0,
           0,
           0,
           0,
           0,
           0,
           0,
           0,
           0,
           0,
           0,
           0,
           0,
           1,
           0,
           0,
           0,
           2,
           2
          ],
          "coloraxis": "coloraxis",
          "symbol": "circle"
         },
         "mode": "markers",
         "name": "",
         "orientation": "v",
         "showlegend": false,
         "type": "scatter",
         "x": [
          -2.243717402409244e-15,
          -7.546109242045955e-16,
          -3.9474548394728236e-16,
          -2.9608937996787025e-16,
          -5.4335459827175e-16,
          -6.184065148700092e-16,
          -8.224626308125384e-16,
          -4.3959153708564936e-16,
          0.6491211248607383,
          1.8193547358626354e-16,
          -3.638709471725271e-16,
          -9.551612363278835e-16,
          -4.934999721027398e-15,
          -0.6491211248606997,
          -4.01093097286123e-16,
          -6.7191422140468915e-16,
          0.2804313913590251,
          -6.88318709877649e-16,
          -6.770494766414283e-16,
          -6.647855613270665e-16,
          -1.138473964445537e-15,
          -4.01142083345022e-16,
          -8.335231917556206e-15,
          -5.535127015679854e-16,
          -6.03075477624137e-16,
          -4.01142083345022e-16,
          -4.01142083345022e-16,
          -4.01142083345022e-16,
          -1.796826493694117e-15,
          -1.796826493694117e-15,
          -7.007479461598379e-16,
          -4.01142083345022e-16,
          -6.851820622629472e-16,
          -1.523459301877216e-15,
          -6.623339276412812e-16,
          -6.882038219939508e-16,
          -4.01142083345022e-16,
          -4.01142083345022e-16,
          -6.936084954456177e-16,
          -6.895678931584851e-16,
          -6.813951316990784e-16,
          -5.544368578037202e-16,
          -6.606324253007422e-16,
          -6.804209479110048e-16,
          -4.01142083345022e-16,
          -1.7313098468889582e-15,
          -1.3090522450919499e-15,
          -6.614024003085376e-16,
          -6.978547849683387e-16,
          -4.01142083345022e-16,
          -6.82012906344049e-16,
          0.6491211248607377,
          -6.96289556965872e-16,
          -4.01142083345022e-16,
          -6.833247303642634e-16,
          -6.688722821974579e-16,
          -4.01142083345022e-16,
          -6.734699962206298e-16,
          -6.668914686511062e-16,
          -6.784939062939794e-16,
          -6.855350582814972e-16,
          -6.822987596040248e-16,
          -6.826106225039385e-16,
          -4.01142083345022e-16,
          -8.729286139375103e-16,
          -4.01142083345022e-16,
          -5.423068536072761e-16,
          -6.839177662156024e-16,
          -6.790333864603857e-16,
          -7.515092338602023e-16,
          -4.01142083345022e-16,
          -1.2746205751276932e-15,
          -7.378821810125379e-16,
          -6.819089605563249e-16,
          -6.970200408571572e-16,
          -6.986928919970401e-16,
          -7.295073969884074e-16,
          -6.825648667033713e-16,
          -6.92806771169759e-16,
          -9.102152682396909e-15,
          -4.01142083345022e-16,
          -4.01142083345022e-16,
          -9.10508764969886e-15,
          -4.01142083345022e-16,
          -4.01142083345022e-16,
          -4.01142083345022e-16,
          -4.01142083345022e-16,
          -4.01142083345022e-16,
          -4.01142083345022e-16,
          -4.01142083345022e-16,
          -7.119665732729028e-16,
          -6.772936023428958e-16,
          -6.857785236519816e-16,
          -4.01142083345022e-16,
          -7.088059118374659e-16,
          -7.16885309531146e-16,
          -0.6491211248607,
          -4.01142083345022e-16,
          -6.749544171709324e-16,
          -7.126805573734884e-16,
          -1.639222670992726e-15,
          -4.01142083345022e-16,
          -4.841886842928371e-15,
          -6.790894922344888e-16,
          -1.2746205751276932e-15,
          -6.899907367265591e-16,
          -6.32486805677217e-16,
          0.6491211248607379,
          -6.886944325050081e-16,
          -2.243448962897411e-15,
          -6.949376665514601e-16,
          -6.953393163772581e-16,
          -6.75556597750161e-16,
          -6.683166186770182e-16,
          -6.760476766978433e-16,
          -7.143495523752129e-16,
          -7.079747567363612e-16,
          -7.885507181162667e-16,
          -0.28043139135900924,
          -4.01142083345022e-16,
          -6.783560900378626e-16,
          -6.752636089221997e-16,
          -4.01142083345022e-16,
          -7.203515752136328e-16,
          -4.01142083345022e-16,
          -6.953986057421089e-16,
          -7.084311872048853e-16,
          -6.777459304091481e-16,
          4.076434262873015e-16,
          -4.01142083345022e-16,
          -4.01142083345022e-16,
          -7.14930499134242e-16,
          -4.01142083345022e-16,
          -4.01142083345022e-16,
          -4.01142083345022e-16,
          -1.4636292069132216e-15,
          -7.749066810180394e-16,
          -4.01142083345022e-16,
          -7.182787175161811e-16,
          -6.963541588114935e-16,
          -7.21668338237746e-16,
          -7.255959140813861e-16,
          -1.7313098530553614e-15,
          -6.887588842859179e-16,
          -0.6491211248607,
          -4.003590738964247e-16,
          -1.0923287942578822e-15,
          -1.1583127126749267e-15
         ],
         "xaxis": "x",
         "y": [
          -0.05746279274131665,
          -0.022018545435979798,
          -0.013618420221089778,
          -0.013618420221090407,
          -0.013618420221091936,
          -0.013618420221090857,
          -0.022018545435981057,
          -0.022018545435981137,
          0.6018895228707147,
          -0.013618420221090772,
          -0.013618420221090775,
          -0.02201854543598111,
          -0.14462288821303879,
          0.5975791448276602,
          -0.013618420221090775,
          -0.022018545435981193,
          0.24637175859879007,
          -0.022018545435981154,
          -0.022018545435981175,
          -0.022018545435981172,
          -0.030750788127748247,
          -0.013618420221090775,
          -0.2528465297789443,
          -0.022018545435981102,
          -0.022018545435981085,
          -0.013618420221090775,
          -0.013618420221090775,
          -0.013618420221090775,
          -0.05746279274131718,
          -0.05746279274131718,
          -0.022018545435981245,
          -0.013618420221090775,
          -0.022018545435981206,
          -0.03786626374726435,
          -0.022018545435981113,
          -0.0220185454359812,
          -0.013618420221090775,
          -0.013618420221090775,
          -0.022018545435981234,
          -0.022018545435981255,
          -0.022018545435981116,
          -0.03786626374726441,
          -0.022018545435981116,
          -0.022018545435981134,
          -0.013618420221090775,
          -0.057462792741317076,
          -0.03786626374726456,
          -0.022018545435981154,
          -0.022018545435981158,
          -0.013618420221090775,
          -0.02201854543598128,
          0.5975791448276196,
          -0.022018545435981175,
          -0.013618420221090775,
          -0.022018545435981193,
          -0.022018545435981116,
          -0.013618420221090775,
          -0.022018545435981144,
          -0.02201854543598115,
          -0.022018545435981175,
          -0.022018545435981193,
          -0.02201854543598116,
          -0.022018545435981172,
          -0.013618420221090775,
          -0.022018545435979482,
          -0.013618420221090775,
          -0.022018545435981723,
          -0.02201854543598128,
          -0.022018545435981227,
          -0.02201854543597926,
          -0.013618420221090775,
          -0.0574627927413143,
          -0.022018545435981286,
          -0.02201854543598115,
          -0.022018545435981276,
          -0.022018545435981286,
          -0.022018545435981255,
          -0.022018545435981165,
          -0.022018545435981234,
          -0.272982284409855,
          -0.013618420221090775,
          -0.013618420221090775,
          -0.27298228440985484,
          -0.013618420221090775,
          -0.013618420221090775,
          -0.013618420221090775,
          -0.013618420221090775,
          -0.013618420221090775,
          -0.013618420221090775,
          -0.013618420221090775,
          -0.022018545435981283,
          -0.022018545435981227,
          -0.022018545435981147,
          -0.013618420221090775,
          -0.02201854543598127,
          -0.02201854543598124,
          0.6018895228707553,
          -0.013618420221090775,
          -0.02201854543598115,
          -0.02201854543598123,
          -0.030750788127748247,
          -0.013618420221090775,
          -0.14462288821303895,
          -0.02201854543598111,
          -0.0574627927413143,
          -0.022018545435981213,
          -0.02201854543598108,
          0.6018895228707146,
          -0.022018545435981213,
          -0.05746279274131577,
          -0.022018545435981193,
          -0.022018545435981227,
          -0.022018545435981193,
          -0.022018545435981123,
          -0.022018545435981092,
          -0.022018545435981265,
          -0.022018545435981255,
          -0.02201854543598101,
          0.24637175859880778,
          -0.013618420221090775,
          -0.022018545435981137,
          -0.02201854543598112,
          -0.013618420221090775,
          -0.022018545435981276,
          -0.013618420221090775,
          -0.022018545435981283,
          -0.022018545435981286,
          -0.02201854543598114,
          -0.0220185454359817,
          -0.013618420221090775,
          -0.013618420221090775,
          -0.022018545435981286,
          -0.013618420221090775,
          -0.013618420221090775,
          -0.013618420221090775,
          -0.03786626374726453,
          -0.022018545435981276,
          -0.013618420221090775,
          -0.02201854543598129,
          -0.022018545435981283,
          -0.022018545435981297,
          -0.02201854543598129,
          -0.057462792741317076,
          -0.022018545435981234,
          0.601889522870755,
          -0.013618420221090766,
          -0.0378662637472647,
          -0.03786626374726463
         ],
         "yaxis": "y"
        }
       ],
       "layout": {
        "coloraxis": {
         "colorbar": {
          "title": {
           "text": "cluster"
          }
         },
         "colorscale": [
          [
           0,
           "#440154"
          ],
          [
           0.1111111111111111,
           "#482878"
          ],
          [
           0.2222222222222222,
           "#3e4989"
          ],
          [
           0.3333333333333333,
           "#31688e"
          ],
          [
           0.4444444444444444,
           "#26828e"
          ],
          [
           0.5555555555555556,
           "#1f9e89"
          ],
          [
           0.6666666666666666,
           "#35b779"
          ],
          [
           0.7777777777777778,
           "#6ece58"
          ],
          [
           0.8888888888888888,
           "#b5de2b"
          ],
          [
           1,
           "#fde725"
          ]
         ]
        },
        "legend": {
         "title": {
          "text": "Cluster"
         },
         "tracegroupgap": 0
        },
        "margin": {
         "t": 60
        },
        "template": {
         "data": {
          "bar": [
           {
            "error_x": {
             "color": "#2a3f5f"
            },
            "error_y": {
             "color": "#2a3f5f"
            },
            "marker": {
             "line": {
              "color": "#E5ECF6",
              "width": 0.5
             },
             "pattern": {
              "fillmode": "overlay",
              "size": 10,
              "solidity": 0.2
             }
            },
            "type": "bar"
           }
          ],
          "barpolar": [
           {
            "marker": {
             "line": {
              "color": "#E5ECF6",
              "width": 0.5
             },
             "pattern": {
              "fillmode": "overlay",
              "size": 10,
              "solidity": 0.2
             }
            },
            "type": "barpolar"
           }
          ],
          "carpet": [
           {
            "aaxis": {
             "endlinecolor": "#2a3f5f",
             "gridcolor": "white",
             "linecolor": "white",
             "minorgridcolor": "white",
             "startlinecolor": "#2a3f5f"
            },
            "baxis": {
             "endlinecolor": "#2a3f5f",
             "gridcolor": "white",
             "linecolor": "white",
             "minorgridcolor": "white",
             "startlinecolor": "#2a3f5f"
            },
            "type": "carpet"
           }
          ],
          "choropleth": [
           {
            "colorbar": {
             "outlinewidth": 0,
             "ticks": ""
            },
            "type": "choropleth"
           }
          ],
          "contour": [
           {
            "colorbar": {
             "outlinewidth": 0,
             "ticks": ""
            },
            "colorscale": [
             [
              0,
              "#0d0887"
             ],
             [
              0.1111111111111111,
              "#46039f"
             ],
             [
              0.2222222222222222,
              "#7201a8"
             ],
             [
              0.3333333333333333,
              "#9c179e"
             ],
             [
              0.4444444444444444,
              "#bd3786"
             ],
             [
              0.5555555555555556,
              "#d8576b"
             ],
             [
              0.6666666666666666,
              "#ed7953"
             ],
             [
              0.7777777777777778,
              "#fb9f3a"
             ],
             [
              0.8888888888888888,
              "#fdca26"
             ],
             [
              1,
              "#f0f921"
             ]
            ],
            "type": "contour"
           }
          ],
          "contourcarpet": [
           {
            "colorbar": {
             "outlinewidth": 0,
             "ticks": ""
            },
            "type": "contourcarpet"
           }
          ],
          "heatmap": [
           {
            "colorbar": {
             "outlinewidth": 0,
             "ticks": ""
            },
            "colorscale": [
             [
              0,
              "#0d0887"
             ],
             [
              0.1111111111111111,
              "#46039f"
             ],
             [
              0.2222222222222222,
              "#7201a8"
             ],
             [
              0.3333333333333333,
              "#9c179e"
             ],
             [
              0.4444444444444444,
              "#bd3786"
             ],
             [
              0.5555555555555556,
              "#d8576b"
             ],
             [
              0.6666666666666666,
              "#ed7953"
             ],
             [
              0.7777777777777778,
              "#fb9f3a"
             ],
             [
              0.8888888888888888,
              "#fdca26"
             ],
             [
              1,
              "#f0f921"
             ]
            ],
            "type": "heatmap"
           }
          ],
          "heatmapgl": [
           {
            "colorbar": {
             "outlinewidth": 0,
             "ticks": ""
            },
            "colorscale": [
             [
              0,
              "#0d0887"
             ],
             [
              0.1111111111111111,
              "#46039f"
             ],
             [
              0.2222222222222222,
              "#7201a8"
             ],
             [
              0.3333333333333333,
              "#9c179e"
             ],
             [
              0.4444444444444444,
              "#bd3786"
             ],
             [
              0.5555555555555556,
              "#d8576b"
             ],
             [
              0.6666666666666666,
              "#ed7953"
             ],
             [
              0.7777777777777778,
              "#fb9f3a"
             ],
             [
              0.8888888888888888,
              "#fdca26"
             ],
             [
              1,
              "#f0f921"
             ]
            ],
            "type": "heatmapgl"
           }
          ],
          "histogram": [
           {
            "marker": {
             "pattern": {
              "fillmode": "overlay",
              "size": 10,
              "solidity": 0.2
             }
            },
            "type": "histogram"
           }
          ],
          "histogram2d": [
           {
            "colorbar": {
             "outlinewidth": 0,
             "ticks": ""
            },
            "colorscale": [
             [
              0,
              "#0d0887"
             ],
             [
              0.1111111111111111,
              "#46039f"
             ],
             [
              0.2222222222222222,
              "#7201a8"
             ],
             [
              0.3333333333333333,
              "#9c179e"
             ],
             [
              0.4444444444444444,
              "#bd3786"
             ],
             [
              0.5555555555555556,
              "#d8576b"
             ],
             [
              0.6666666666666666,
              "#ed7953"
             ],
             [
              0.7777777777777778,
              "#fb9f3a"
             ],
             [
              0.8888888888888888,
              "#fdca26"
             ],
             [
              1,
              "#f0f921"
             ]
            ],
            "type": "histogram2d"
           }
          ],
          "histogram2dcontour": [
           {
            "colorbar": {
             "outlinewidth": 0,
             "ticks": ""
            },
            "colorscale": [
             [
              0,
              "#0d0887"
             ],
             [
              0.1111111111111111,
              "#46039f"
             ],
             [
              0.2222222222222222,
              "#7201a8"
             ],
             [
              0.3333333333333333,
              "#9c179e"
             ],
             [
              0.4444444444444444,
              "#bd3786"
             ],
             [
              0.5555555555555556,
              "#d8576b"
             ],
             [
              0.6666666666666666,
              "#ed7953"
             ],
             [
              0.7777777777777778,
              "#fb9f3a"
             ],
             [
              0.8888888888888888,
              "#fdca26"
             ],
             [
              1,
              "#f0f921"
             ]
            ],
            "type": "histogram2dcontour"
           }
          ],
          "mesh3d": [
           {
            "colorbar": {
             "outlinewidth": 0,
             "ticks": ""
            },
            "type": "mesh3d"
           }
          ],
          "parcoords": [
           {
            "line": {
             "colorbar": {
              "outlinewidth": 0,
              "ticks": ""
             }
            },
            "type": "parcoords"
           }
          ],
          "pie": [
           {
            "automargin": true,
            "type": "pie"
           }
          ],
          "scatter": [
           {
            "fillpattern": {
             "fillmode": "overlay",
             "size": 10,
             "solidity": 0.2
            },
            "type": "scatter"
           }
          ],
          "scatter3d": [
           {
            "line": {
             "colorbar": {
              "outlinewidth": 0,
              "ticks": ""
             }
            },
            "marker": {
             "colorbar": {
              "outlinewidth": 0,
              "ticks": ""
             }
            },
            "type": "scatter3d"
           }
          ],
          "scattercarpet": [
           {
            "marker": {
             "colorbar": {
              "outlinewidth": 0,
              "ticks": ""
             }
            },
            "type": "scattercarpet"
           }
          ],
          "scattergeo": [
           {
            "marker": {
             "colorbar": {
              "outlinewidth": 0,
              "ticks": ""
             }
            },
            "type": "scattergeo"
           }
          ],
          "scattergl": [
           {
            "marker": {
             "colorbar": {
              "outlinewidth": 0,
              "ticks": ""
             }
            },
            "type": "scattergl"
           }
          ],
          "scattermapbox": [
           {
            "marker": {
             "colorbar": {
              "outlinewidth": 0,
              "ticks": ""
             }
            },
            "type": "scattermapbox"
           }
          ],
          "scatterpolar": [
           {
            "marker": {
             "colorbar": {
              "outlinewidth": 0,
              "ticks": ""
             }
            },
            "type": "scatterpolar"
           }
          ],
          "scatterpolargl": [
           {
            "marker": {
             "colorbar": {
              "outlinewidth": 0,
              "ticks": ""
             }
            },
            "type": "scatterpolargl"
           }
          ],
          "scatterternary": [
           {
            "marker": {
             "colorbar": {
              "outlinewidth": 0,
              "ticks": ""
             }
            },
            "type": "scatterternary"
           }
          ],
          "surface": [
           {
            "colorbar": {
             "outlinewidth": 0,
             "ticks": ""
            },
            "colorscale": [
             [
              0,
              "#0d0887"
             ],
             [
              0.1111111111111111,
              "#46039f"
             ],
             [
              0.2222222222222222,
              "#7201a8"
             ],
             [
              0.3333333333333333,
              "#9c179e"
             ],
             [
              0.4444444444444444,
              "#bd3786"
             ],
             [
              0.5555555555555556,
              "#d8576b"
             ],
             [
              0.6666666666666666,
              "#ed7953"
             ],
             [
              0.7777777777777778,
              "#fb9f3a"
             ],
             [
              0.8888888888888888,
              "#fdca26"
             ],
             [
              1,
              "#f0f921"
             ]
            ],
            "type": "surface"
           }
          ],
          "table": [
           {
            "cells": {
             "fill": {
              "color": "#EBF0F8"
             },
             "line": {
              "color": "white"
             }
            },
            "header": {
             "fill": {
              "color": "#C8D4E3"
             },
             "line": {
              "color": "white"
             }
            },
            "type": "table"
           }
          ]
         },
         "layout": {
          "annotationdefaults": {
           "arrowcolor": "#2a3f5f",
           "arrowhead": 0,
           "arrowwidth": 1
          },
          "autotypenumbers": "strict",
          "coloraxis": {
           "colorbar": {
            "outlinewidth": 0,
            "ticks": ""
           }
          },
          "colorscale": {
           "diverging": [
            [
             0,
             "#8e0152"
            ],
            [
             0.1,
             "#c51b7d"
            ],
            [
             0.2,
             "#de77ae"
            ],
            [
             0.3,
             "#f1b6da"
            ],
            [
             0.4,
             "#fde0ef"
            ],
            [
             0.5,
             "#f7f7f7"
            ],
            [
             0.6,
             "#e6f5d0"
            ],
            [
             0.7,
             "#b8e186"
            ],
            [
             0.8,
             "#7fbc41"
            ],
            [
             0.9,
             "#4d9221"
            ],
            [
             1,
             "#276419"
            ]
           ],
           "sequential": [
            [
             0,
             "#0d0887"
            ],
            [
             0.1111111111111111,
             "#46039f"
            ],
            [
             0.2222222222222222,
             "#7201a8"
            ],
            [
             0.3333333333333333,
             "#9c179e"
            ],
            [
             0.4444444444444444,
             "#bd3786"
            ],
            [
             0.5555555555555556,
             "#d8576b"
            ],
            [
             0.6666666666666666,
             "#ed7953"
            ],
            [
             0.7777777777777778,
             "#fb9f3a"
            ],
            [
             0.8888888888888888,
             "#fdca26"
            ],
            [
             1,
             "#f0f921"
            ]
           ],
           "sequentialminus": [
            [
             0,
             "#0d0887"
            ],
            [
             0.1111111111111111,
             "#46039f"
            ],
            [
             0.2222222222222222,
             "#7201a8"
            ],
            [
             0.3333333333333333,
             "#9c179e"
            ],
            [
             0.4444444444444444,
             "#bd3786"
            ],
            [
             0.5555555555555556,
             "#d8576b"
            ],
            [
             0.6666666666666666,
             "#ed7953"
            ],
            [
             0.7777777777777778,
             "#fb9f3a"
            ],
            [
             0.8888888888888888,
             "#fdca26"
            ],
            [
             1,
             "#f0f921"
            ]
           ]
          },
          "colorway": [
           "#636efa",
           "#EF553B",
           "#00cc96",
           "#ab63fa",
           "#FFA15A",
           "#19d3f3",
           "#FF6692",
           "#B6E880",
           "#FF97FF",
           "#FECB52"
          ],
          "font": {
           "color": "#2a3f5f"
          },
          "geo": {
           "bgcolor": "white",
           "lakecolor": "white",
           "landcolor": "#E5ECF6",
           "showlakes": true,
           "showland": true,
           "subunitcolor": "white"
          },
          "hoverlabel": {
           "align": "left"
          },
          "hovermode": "closest",
          "mapbox": {
           "style": "light"
          },
          "paper_bgcolor": "white",
          "plot_bgcolor": "#E5ECF6",
          "polar": {
           "angularaxis": {
            "gridcolor": "white",
            "linecolor": "white",
            "ticks": ""
           },
           "bgcolor": "#E5ECF6",
           "radialaxis": {
            "gridcolor": "white",
            "linecolor": "white",
            "ticks": ""
           }
          },
          "scene": {
           "xaxis": {
            "backgroundcolor": "#E5ECF6",
            "gridcolor": "white",
            "gridwidth": 2,
            "linecolor": "white",
            "showbackground": true,
            "ticks": "",
            "zerolinecolor": "white"
           },
           "yaxis": {
            "backgroundcolor": "#E5ECF6",
            "gridcolor": "white",
            "gridwidth": 2,
            "linecolor": "white",
            "showbackground": true,
            "ticks": "",
            "zerolinecolor": "white"
           },
           "zaxis": {
            "backgroundcolor": "#E5ECF6",
            "gridcolor": "white",
            "gridwidth": 2,
            "linecolor": "white",
            "showbackground": true,
            "ticks": "",
            "zerolinecolor": "white"
           }
          },
          "shapedefaults": {
           "line": {
            "color": "#2a3f5f"
           }
          },
          "ternary": {
           "aaxis": {
            "gridcolor": "white",
            "linecolor": "white",
            "ticks": ""
           },
           "baxis": {
            "gridcolor": "white",
            "linecolor": "white",
            "ticks": ""
           },
           "bgcolor": "#E5ECF6",
           "caxis": {
            "gridcolor": "white",
            "linecolor": "white",
            "ticks": ""
           }
          },
          "title": {
           "x": 0.05
          },
          "xaxis": {
           "automargin": true,
           "gridcolor": "white",
           "linecolor": "white",
           "ticks": "",
           "title": {
            "standoff": 15
           },
           "zerolinecolor": "white",
           "zerolinewidth": 2
          },
          "yaxis": {
           "automargin": true,
           "gridcolor": "white",
           "linecolor": "white",
           "ticks": "",
           "title": {
            "standoff": 15
           },
           "zerolinecolor": "white",
           "zerolinewidth": 2
          }
         }
        },
        "title": {
         "text": "TF-IDF with K-means Clustering for bn"
        },
        "xaxis": {
         "anchor": "y",
         "domain": [
          0,
          1
         ],
         "title": {
          "text": "PCA 1"
         }
        },
        "yaxis": {
         "anchor": "x",
         "domain": [
          0,
          1
         ],
         "title": {
          "text": "PCA 2"
         }
        }
       }
      }
     },
     "metadata": {},
     "output_type": "display_data"
    }
   ],
   "source": [
    "# # Applying PCA for dimensionality reduction\n",
    "pca = PCA(n_components=2)\n",
    "reduced_features = pca.fit_transform(tfidf_matrix.toarray())\n",
    "\n",
    "# Applying K-Means clustering\n",
    "num_clusters = 5  # This is an arbitrary choice, can be tuned\n",
    "kmeans = KMeans(n_clusters=num_clusters, random_state=0).fit(tfidf_matrix)\n",
    "\n",
    "# Add cluster labels and PCA components to the original dataset\n",
    "filtered_bn_data['cluster'] = kmeans.labels_\n",
    "filtered_bn_data['pca_one'] = reduced_features[:, 0]\n",
    "filtered_bn_data['pca_two'] = reduced_features[:, 1]\n",
    "\n",
    "# Creating a scatter plot with Plotly\n",
    "fig = px.scatter(filtered_bn_data, x='pca_one', y='pca_two', color='cluster', hover_data=['language_code'],color_continuous_scale='Viridis')\n",
    "fig.update_layout(title='TF-IDF with K-means Clustering for bn', xaxis_title='PCA 1', yaxis_title='PCA 2', legend_title='Cluster')\n",
    "fig.show()"
   ]
  },
  {
   "cell_type": "code",
   "execution_count": 18,
   "metadata": {},
   "outputs": [
    {
     "name": "stdout",
     "output_type": "stream",
     "text": [
      "cluster  accent_name                       \n",
      "0        Native                                2\n",
      "         ????                                  1\n",
      "         A                                     1\n",
      "         Adult                                 1\n",
      "         Amar                                  1\n",
      "         Authentic                             1\n",
      "         Average                               1\n",
      "         B                                     1\n",
      "         Bangadeshi                            1\n",
      "         Bangla                                1\n",
      "         Bangla(Bangladesh)                    1\n",
      "         Bangladesh                            1\n",
      "         Bangladeshi                           1\n",
      "         Barishal                              1\n",
      "         Bengali                               1\n",
      "         Bhola                                 1\n",
      "         Boy                                   1\n",
      "         C                                     1\n",
      "         Casual                                1\n",
      "         Chandpur                              1\n",
      "         Chatgaiya                             1\n",
      "         Chittagong                            1\n",
      "         Chittagonian                          1\n",
      "         Clean                                 1\n",
      "         Clear                                 1\n",
      "         Comilla                               1\n",
      "         Common                                1\n",
      "         Contributor                           1\n",
      "         Correct                               1\n",
      "         Cumilla                               1\n",
      "         D                                     1\n",
      "         Decent                                1\n",
      "         Dhaka                                 1\n",
      "         Dhakaiya                              1\n",
      "         E                                     1\n",
      "         Exoteric                              1\n",
      "         F                                     1\n",
      "         Flat                                  1\n",
      "         Fluently                              1\n",
      "         Gazipur                               1\n",
      "         Generic                               1\n",
      "         Good                                  1\n",
      "         India                                 1\n",
      "         India-Bangla                          1\n",
      "         Indian                                1\n",
      "         J                                     1\n",
      "         Kolkata                               1\n",
      "         Kushtian                              1\n",
      "         Male                                  1\n",
      "         Mixed                                 1\n",
      "         Mymensingh                            1\n",
      "         Narayanganj                           1\n",
      "         Narayanganj-jossoreian                1\n",
      "         Natural                               1\n",
      "         Netrokona                             1\n",
      "         Noakhali                              1\n",
      "         Normal                                1\n",
      "         Normally                              1\n",
      "         Official                              1\n",
      "         Perfect                               1\n",
      "         Proficient                            1\n",
      "         Promito                               1\n",
      "         Rangpuriya                            1\n",
      "         Rarhi                                 1\n",
      "         Shuddho                               1\n",
      "         Smooth                                1\n",
      "         Speaking                              1\n",
      "         Sweet                                 1\n",
      "         Sylheti                               1\n",
      "         Sylhety                               1\n",
      "         Tangaila                              1\n",
      "         Teenager                              1\n",
      "         Toddler                               1\n",
      "         Unclear                               1\n",
      "         Urban                                 1\n",
      "         Vatia                                 1\n",
      "         bn-BD                                 1\n",
      "         bshsh                                 1\n",
      "         chattogram                            1\n",
      "         expert                                1\n",
      "         fluent                                1\n",
      "         https://www.facebook.com/GopalRay0    1\n",
      "         khulna                                1\n",
      "         kushtia                               1\n",
      "         mdalifshamim@gmail.com                1\n",
      "         neutral                               1\n",
      "         nice                                  1\n",
      "         onindyo                               1\n",
      "         sundor                                1\n",
      "         t                                     1\n",
      "         valo                                  1\n",
      "         আ                                     1\n",
      "         আঞ্চলিক                               1\n",
      "         আমি                                   1\n",
      "         কলকাতা                                1\n",
      "         কুষ্টিয়া                              1\n",
      "         খুলনা                                 1\n",
      "         গাজীপুর                               1\n",
      "         চলিত                                  1\n",
      "         চিটাইংগা                              1\n",
      "         ছিলটি                                 1\n",
      "         ছিলেটি                                1\n",
      "         টাঙ্গাইল                              1\n",
      "         ঢাকা                                  1\n",
      "         ঢাকাইয়া                               1\n",
      "         নরসিংদী                               1\n",
      "         প                                     1\n",
      "         পরিষ্কার                              1\n",
      "         পশ্চিমবঙ্গ                            1\n",
      "         পাবনাইয়া                              1\n",
      "         বরিশাইল্যা                            1\n",
      "         বরিশাল                                1\n",
      "         বাংলা                                 1\n",
      "         বাংলাদেশ                              1\n",
      "         বাংলাদেশি                             1\n",
      "         বাংলাদেশী                             1\n",
      "         বাংলায়                                1\n",
      "         বাঙালি                                1\n",
      "         বাঙ্গালী                              1\n",
      "         ব্রাহ্মণবাড়িয়ান                     1\n",
      "         ভালো                                  1\n",
      "         ভয়েস                                  1\n",
      "         মধ্যম                                 1\n",
      "         মমিসিংগা                              1\n",
      "         ময়মনসিংহ                             1\n",
      "         মাঝামাঝি                              1\n",
      "         মাতৃভাষা                              1\n",
      "         মেহেরপুর                              1\n",
      "         মোবাইলে                               1\n",
      "         যশোর                                  1\n",
      "         রাঢ়ী                                 1\n",
      "         শুদ্ধ                                 1\n",
      "         সাধু                                  1\n",
      "         সিলটি                                 1\n",
      "         সিলেটি                                1\n",
      "         সুন্দর                                1\n",
      "         স্থানীয়                               1\n",
      "         হ্যাঁ                                 1\n",
      "1        সুস্পষ্ট                              1\n",
      "         স্পষ্ট                                1\n",
      "2        চট্টগ্রাম                             1\n",
      "         চাঁটগা                                1\n",
      "3        Local                                 1\n",
      "4        প্রমিত                                2\n",
      "         Standard                              1\n",
      "         Standard/প্রমিত                       1\n",
      "Name: accent_name, dtype: int64\n"
     ]
    }
   ],
   "source": [
    "# Grouping by cluster and counting the frequency of each language code\n",
    "cluster_language_count = filtered_bn_data.groupby('cluster')['accent_name'].value_counts()\n",
    "\n",
    "# Filtering to show only language codes with frequency greater than zero\n",
    "# cluster_language_count = cluster_language_count[cluster_language_count > 25]\n",
    "\n",
    "print(cluster_language_count)\n",
    "\n"
   ]
  },
  {
   "cell_type": "markdown",
   "metadata": {},
   "source": [
    "Word2Vec with KMeans for ca"
   ]
  },
  {
   "cell_type": "code",
   "execution_count": 23,
   "metadata": {},
   "outputs": [
    {
     "data": {
      "text/html": [
       "<div>\n",
       "<style scoped>\n",
       "    .dataframe tbody tr th:only-of-type {\n",
       "        vertical-align: middle;\n",
       "    }\n",
       "\n",
       "    .dataframe tbody tr th {\n",
       "        vertical-align: top;\n",
       "    }\n",
       "\n",
       "    .dataframe thead th {\n",
       "        text-align: right;\n",
       "    }\n",
       "</style>\n",
       "<table border=\"1\" class=\"dataframe\">\n",
       "  <thead>\n",
       "    <tr style=\"text-align: right;\">\n",
       "      <th></th>\n",
       "      <th>language_code</th>\n",
       "      <th>accent_name</th>\n",
       "      <th>hased_client_id</th>\n",
       "    </tr>\n",
       "  </thead>\n",
       "  <tbody>\n",
       "    <tr>\n",
       "      <th>125</th>\n",
       "      <td>ca</td>\n",
       "      <td>Tortosí</td>\n",
       "      <td>03a25112340d2ceed48a42112ae77c5e926e6b4a2e8899...</td>\n",
       "    </tr>\n",
       "    <tr>\n",
       "      <th>192</th>\n",
       "      <td>ca</td>\n",
       "      <td>Girona</td>\n",
       "      <td>f43c821ca83214f7fce562c82f81ccd5045da89500f57d...</td>\n",
       "    </tr>\n",
       "    <tr>\n",
       "      <th>204</th>\n",
       "      <td>ca</td>\n",
       "      <td>Barcelonina</td>\n",
       "      <td>5ef899a098e505f29c3bfaf7da39f9448115106af87a59...</td>\n",
       "    </tr>\n",
       "    <tr>\n",
       "      <th>207</th>\n",
       "      <td>ca</td>\n",
       "      <td>mallorquí</td>\n",
       "      <td>f5a474442c3d3a277ca396136f0a542d18e760fadde9e9...</td>\n",
       "    </tr>\n",
       "    <tr>\n",
       "      <th>432</th>\n",
       "      <td>ca</td>\n",
       "      <td>standard</td>\n",
       "      <td>521a8a070d38f5c5e5ca1a07ef19d00496ff81a95db0f4...</td>\n",
       "    </tr>\n",
       "    <tr>\n",
       "      <th>...</th>\n",
       "      <td>...</td>\n",
       "      <td>...</td>\n",
       "      <td>...</td>\n",
       "    </tr>\n",
       "    <tr>\n",
       "      <th>2758</th>\n",
       "      <td>ca</td>\n",
       "      <td>Esporles</td>\n",
       "      <td>87088344b48541081487558178ada748d7dc22fee4cfbe...</td>\n",
       "    </tr>\n",
       "    <tr>\n",
       "      <th>2765</th>\n",
       "      <td>ca</td>\n",
       "      <td>Estranger</td>\n",
       "      <td>e7fe3ce6ecc77b25b961c0850de56a502103456cb3e4a6...</td>\n",
       "    </tr>\n",
       "    <tr>\n",
       "      <th>2774</th>\n",
       "      <td>ca</td>\n",
       "      <td>Petra</td>\n",
       "      <td>24b96ad13c3d01f3ad3333e3b2e984819f9179f78e625f...</td>\n",
       "    </tr>\n",
       "    <tr>\n",
       "      <th>2873</th>\n",
       "      <td>ca</td>\n",
       "      <td>Jove</td>\n",
       "      <td>3f69ec1594b949cc845d4af057d5c56a4812d6d616a8ea...</td>\n",
       "    </tr>\n",
       "    <tr>\n",
       "      <th>2951</th>\n",
       "      <td>ca</td>\n",
       "      <td>empordà</td>\n",
       "      <td>faafbb0a6bb70c747ed4907a7c8cac7b48056eb0c0369f...</td>\n",
       "    </tr>\n",
       "  </tbody>\n",
       "</table>\n",
       "<p>97 rows × 3 columns</p>\n",
       "</div>"
      ],
      "text/plain": [
       "     language_code  accent_name  \\\n",
       "125             ca      Tortosí   \n",
       "192             ca       Girona   \n",
       "204             ca  Barcelonina   \n",
       "207             ca    mallorquí   \n",
       "432             ca     standard   \n",
       "...            ...          ...   \n",
       "2758            ca     Esporles   \n",
       "2765            ca    Estranger   \n",
       "2774            ca        Petra   \n",
       "2873            ca         Jove   \n",
       "2951            ca      empordà   \n",
       "\n",
       "                                        hased_client_id  \n",
       "125   03a25112340d2ceed48a42112ae77c5e926e6b4a2e8899...  \n",
       "192   f43c821ca83214f7fce562c82f81ccd5045da89500f57d...  \n",
       "204   5ef899a098e505f29c3bfaf7da39f9448115106af87a59...  \n",
       "207   f5a474442c3d3a277ca396136f0a542d18e760fadde9e9...  \n",
       "432   521a8a070d38f5c5e5ca1a07ef19d00496ff81a95db0f4...  \n",
       "...                                                 ...  \n",
       "2758  87088344b48541081487558178ada748d7dc22fee4cfbe...  \n",
       "2765  e7fe3ce6ecc77b25b961c0850de56a502103456cb3e4a6...  \n",
       "2774  24b96ad13c3d01f3ad3333e3b2e984819f9179f78e625f...  \n",
       "2873  3f69ec1594b949cc845d4af057d5c56a4812d6d616a8ea...  \n",
       "2951  faafbb0a6bb70c747ed4907a7c8cac7b48056eb0c0369f...  \n",
       "\n",
       "[97 rows x 3 columns]"
      ]
     },
     "execution_count": 23,
     "metadata": {},
     "output_type": "execute_result"
    }
   ],
   "source": [
    "import pandas as pd\n",
    "from gensim.models import Word2Vec\n",
    "from sklearn.cluster import KMeans\n",
    "from sklearn.decomposition import PCA\n",
    "import numpy as np\n",
    "import plotly.express as px\n",
    "\n",
    "# Load your dataset\n",
    "file_path = 'test.tsv'  # Replace with your file path\n",
    "data = pd.read_csv(file_path, sep='\\t')\n",
    "\n",
    "# Handle NaN values in accent_name\n",
    "data['accent_name'] = data['accent_name'].fillna('')\n",
    "\n",
    "ca_data = data[data['language_code']==\"ca\"]\n",
    "filtered_ca_data = ca_data[~ca_data['accent_name'].str.contains(' ')]\n",
    "\n",
    "filtered_ca_data"
   ]
  },
  {
   "cell_type": "code",
   "execution_count": 24,
   "metadata": {},
   "outputs": [
    {
     "name": "stderr",
     "output_type": "stream",
     "text": [
      "C:\\Users\\saima\\AppData\\Local\\Temp\\ipykernel_20128\\2858067515.py:25: SettingWithCopyWarning:\n",
      "\n",
      "\n",
      "A value is trying to be set on a copy of a slice from a DataFrame.\n",
      "Try using .loc[row_indexer,col_indexer] = value instead\n",
      "\n",
      "See the caveats in the documentation: https://pandas.pydata.org/pandas-docs/stable/user_guide/indexing.html#returning-a-view-versus-a-copy\n",
      "\n"
     ]
    }
   ],
   "source": [
    "from gensim.models import KeyedVectors\n",
    "\n",
    "# Load the Google News Word2Vec model\n",
    "word2vec_model = KeyedVectors.load_word2vec_format('archive/GoogleNews-vectors-negative300.bin', binary=True)\n",
    "import numpy as np\n",
    "\n",
    "# Function to get embedding for a word\n",
    "def get_embedding(word):\n",
    "    try:\n",
    "        return word2vec_model[word]\n",
    "    except KeyError:\n",
    "        # Return a zero vector if the word is not in the vocabulary\n",
    "        return np.zeros(word2vec_model.vector_size)\n",
    "\n",
    "# Apply the function to your DataFrame\n",
    "# Generating embeddings for accent_name\n",
    "ca_goo_embeddings = np.array([get_embedding(text) for text in filtered_ca_data['accent_name']])\n",
    "from sklearn.cluster import KMeans\n",
    "\n",
    "# Choose the number of clusters\n",
    "k = 3# Adjust this based on your requirement\n",
    "\n",
    "# Fit K-means to the embeddings\n",
    "kmeans = KMeans(n_clusters=k)\n",
    "filtered_ca_data['cluster'] = kmeans.fit_predict(ca_goo_embeddings)\n"
   ]
  },
  {
   "cell_type": "code",
   "execution_count": 25,
   "metadata": {},
   "outputs": [
    {
     "name": "stderr",
     "output_type": "stream",
     "text": [
      "C:\\Users\\saima\\AppData\\Local\\Temp\\ipykernel_20128\\3870777709.py:2: SettingWithCopyWarning:\n",
      "\n",
      "\n",
      "A value is trying to be set on a copy of a slice from a DataFrame.\n",
      "Try using .loc[row_indexer,col_indexer] = value instead\n",
      "\n",
      "See the caveats in the documentation: https://pandas.pydata.org/pandas-docs/stable/user_guide/indexing.html#returning-a-view-versus-a-copy\n",
      "\n",
      "C:\\Users\\saima\\AppData\\Local\\Temp\\ipykernel_20128\\3870777709.py:9: SettingWithCopyWarning:\n",
      "\n",
      "\n",
      "A value is trying to be set on a copy of a slice from a DataFrame.\n",
      "Try using .loc[row_indexer,col_indexer] = value instead\n",
      "\n",
      "See the caveats in the documentation: https://pandas.pydata.org/pandas-docs/stable/user_guide/indexing.html#returning-a-view-versus-a-copy\n",
      "\n",
      "C:\\Users\\saima\\AppData\\Local\\Temp\\ipykernel_20128\\3870777709.py:10: SettingWithCopyWarning:\n",
      "\n",
      "\n",
      "A value is trying to be set on a copy of a slice from a DataFrame.\n",
      "Try using .loc[row_indexer,col_indexer] = value instead\n",
      "\n",
      "See the caveats in the documentation: https://pandas.pydata.org/pandas-docs/stable/user_guide/indexing.html#returning-a-view-versus-a-copy\n",
      "\n"
     ]
    },
    {
     "data": {
      "application/vnd.plotly.v1+json": {
       "config": {
        "plotlyServerURL": "https://plot.ly"
       },
       "data": [
        {
         "customdata": [
          [
           "ca"
          ],
          [
           "ca"
          ],
          [
           "ca"
          ],
          [
           "ca"
          ],
          [
           "ca"
          ],
          [
           "ca"
          ],
          [
           "ca"
          ],
          [
           "ca"
          ],
          [
           "ca"
          ],
          [
           "ca"
          ],
          [
           "ca"
          ],
          [
           "ca"
          ],
          [
           "ca"
          ],
          [
           "ca"
          ],
          [
           "ca"
          ],
          [
           "ca"
          ],
          [
           "ca"
          ],
          [
           "ca"
          ],
          [
           "ca"
          ],
          [
           "ca"
          ],
          [
           "ca"
          ],
          [
           "ca"
          ],
          [
           "ca"
          ],
          [
           "ca"
          ],
          [
           "ca"
          ],
          [
           "ca"
          ],
          [
           "ca"
          ],
          [
           "ca"
          ],
          [
           "ca"
          ],
          [
           "ca"
          ],
          [
           "ca"
          ],
          [
           "ca"
          ],
          [
           "ca"
          ],
          [
           "ca"
          ],
          [
           "ca"
          ],
          [
           "ca"
          ],
          [
           "ca"
          ],
          [
           "ca"
          ],
          [
           "ca"
          ],
          [
           "ca"
          ],
          [
           "ca"
          ],
          [
           "ca"
          ],
          [
           "ca"
          ],
          [
           "ca"
          ],
          [
           "ca"
          ],
          [
           "ca"
          ],
          [
           "ca"
          ],
          [
           "ca"
          ],
          [
           "ca"
          ],
          [
           "ca"
          ],
          [
           "ca"
          ],
          [
           "ca"
          ],
          [
           "ca"
          ],
          [
           "ca"
          ],
          [
           "ca"
          ],
          [
           "ca"
          ],
          [
           "ca"
          ],
          [
           "ca"
          ],
          [
           "ca"
          ],
          [
           "ca"
          ],
          [
           "ca"
          ],
          [
           "ca"
          ],
          [
           "ca"
          ],
          [
           "ca"
          ],
          [
           "ca"
          ],
          [
           "ca"
          ],
          [
           "ca"
          ],
          [
           "ca"
          ],
          [
           "ca"
          ],
          [
           "ca"
          ],
          [
           "ca"
          ],
          [
           "ca"
          ],
          [
           "ca"
          ],
          [
           "ca"
          ],
          [
           "ca"
          ],
          [
           "ca"
          ],
          [
           "ca"
          ],
          [
           "ca"
          ],
          [
           "ca"
          ],
          [
           "ca"
          ],
          [
           "ca"
          ],
          [
           "ca"
          ],
          [
           "ca"
          ],
          [
           "ca"
          ],
          [
           "ca"
          ],
          [
           "ca"
          ],
          [
           "ca"
          ],
          [
           "ca"
          ],
          [
           "ca"
          ],
          [
           "ca"
          ],
          [
           "ca"
          ],
          [
           "ca"
          ],
          [
           "ca"
          ],
          [
           "ca"
          ],
          [
           "ca"
          ],
          [
           "ca"
          ],
          [
           "ca"
          ]
         ],
         "hovertemplate": "pca_one=%{x}<br>pca_two=%{y}<br>language_code=%{customdata[0]}<br>cluster=%{marker.color}<extra></extra>",
         "legendgroup": "",
         "marker": {
          "color": [
           0,
           2,
           0,
           0,
           0,
           0,
           2,
           0,
           0,
           2,
           0,
           0,
           0,
           0,
           0,
           2,
           0,
           0,
           0,
           0,
           0,
           0,
           0,
           0,
           0,
           0,
           0,
           0,
           0,
           0,
           2,
           0,
           0,
           0,
           0,
           0,
           0,
           0,
           2,
           0,
           0,
           0,
           0,
           0,
           0,
           0,
           0,
           0,
           0,
           0,
           0,
           0,
           0,
           0,
           0,
           0,
           2,
           0,
           0,
           0,
           0,
           0,
           0,
           0,
           0,
           0,
           0,
           0,
           0,
           0,
           0,
           2,
           0,
           0,
           0,
           0,
           0,
           0,
           0,
           0,
           0,
           0,
           2,
           2,
           0,
           1,
           0,
           0,
           0,
           2,
           2,
           0,
           0,
           0,
           0,
           0,
           0
          ],
          "coloraxis": "coloraxis",
          "symbol": "circle"
         },
         "mode": "markers",
         "name": "",
         "orientation": "v",
         "showlegend": false,
         "type": "scatter",
         "x": [
          -0.38088258350934306,
          2.610414600464683,
          -0.3808825835093426,
          -0.380882583509343,
          -0.4446909278844212,
          -0.380882583509343,
          1.7997407562439542,
          0.36837113587794434,
          -0.38088258350934306,
          1.628163322373872,
          -0.380882583509343,
          -0.380882583509343,
          -0.38088258350934295,
          -0.380882583509343,
          -0.380882583509343,
          1.0259492733653264,
          -0.38088258350934295,
          -0.38088258350934295,
          -0.38088258350934295,
          -0.38088258350934295,
          -0.38088258350934295,
          0.07552768321732932,
          -0.055759925726834685,
          -0.38088258350934295,
          -0.38088258350934295,
          -0.38088258350934295,
          -0.38088258350934295,
          -0.38088258350934295,
          -0.38088258350934295,
          -0.08199280720391933,
          1.358584284660298,
          -0.38088258350934295,
          0.33223248023782614,
          -0.38088258350934295,
          0.10251966272762779,
          0.3555836837791348,
          -0.38088258350934295,
          -0.38088258350934295,
          2.5824276549816623,
          -0.38088258350934295,
          -0.38088258350934295,
          -0.010798675908291241,
          -0.2298141872468286,
          -0.38088258350934295,
          -0.38088258350934295,
          -0.38088258350934295,
          -0.38088258350934295,
          -0.38088258350934295,
          -0.38088258350934295,
          0.2696898134074094,
          -0.38088258350934295,
          -0.38088258350934295,
          -0.2556470669299826,
          -0.38088258350934295,
          -0.38088258350934295,
          -0.38088258350934295,
          2.4615613452141885,
          -0.38088258350934295,
          -0.38088258350934295,
          -0.38088258350934295,
          0.6393743769271975,
          -0.38088258350934295,
          -0.38088258350934295,
          -0.38088258350934295,
          -0.38088258350934295,
          -0.38088258350934295,
          -0.38088258350934295,
          -0.4759429737783248,
          -0.38088258350934295,
          -0.38088258350934295,
          -0.38088258350934295,
          1.7947232936627349,
          -0.38088258350934295,
          -0.38088258350934295,
          -0.38088258350934295,
          -0.38088258350934295,
          -0.38088258350934295,
          -0.38088258350934295,
          -0.38088258350934295,
          -0.38088258350934295,
          -0.38088258350934295,
          -0.38088258350934295,
          1.5644937023840606,
          2.557982350466865,
          -0.38088258350934295,
          0.9606322304143995,
          -0.38088258350934295,
          -0.38088258350934295,
          -0.38088258350934295,
          1.2679904318452189,
          1.2730896076457687,
          0.7624626431154005,
          -0.38088258350934295,
          -0.38088258350934295,
          0.44210547880551676,
          0.8401598479861605,
          -0.38088258350934295
         ],
         "xaxis": "x",
         "y": [
          -0.12778565650849524,
          -0.3367604261027578,
          -0.12778565650849597,
          -0.1277856565084955,
          -0.03950549147692025,
          -0.12778565650849522,
          -0.4000416168656917,
          0.0028043827030979815,
          -0.12778565650849527,
          -0.08763160134711845,
          -0.12778565650849527,
          -0.12778565650849527,
          -0.12778565650849527,
          -0.12778565650849527,
          -0.12778565650849527,
          -0.10581682833603152,
          -0.12778565650849527,
          -0.12778565650849527,
          -0.12778565650849527,
          -0.12778565650849527,
          -0.12778565650849527,
          2.0634923614903506,
          -0.013421701638481982,
          -0.12778565650849527,
          -0.12778565650849527,
          -0.12778565650849527,
          -0.12778565650849527,
          -0.12778565650849527,
          -0.12778565650849527,
          0.6140712453486002,
          -0.5547084439165323,
          -0.12778565650849527,
          0.12029957784113264,
          -0.12778565650849527,
          -0.05015704780289775,
          1.0270347460048648,
          -0.12778565650849527,
          -0.12778565650849527,
          -0.7186427066885553,
          -0.12778565650849527,
          -0.12778565650849527,
          0.8253988455738993,
          1.39720592959401,
          -0.12778565650849527,
          -0.12778565650849527,
          -0.12778565650849527,
          -0.12778565650849527,
          -0.12778565650849527,
          -0.12778565650849527,
          0.07745891682238026,
          -0.12778565650849527,
          -0.12778565650849527,
          0.9361949733010039,
          -0.12778565650849527,
          -0.12778565650849527,
          -0.12778565650849527,
          -0.5672524497331445,
          -0.12778565650849527,
          -0.12778565650849527,
          -0.12778565650849527,
          -0.012887550047624877,
          -0.12778565650849527,
          -0.12778565650849527,
          -0.12778565650849527,
          -0.12778565650849527,
          -0.12778565650849527,
          -0.12778565650849527,
          0.6113927912044914,
          -0.12778565650849527,
          -0.12778565650849527,
          -0.12778565650849527,
          -0.35699620886536115,
          -0.12778565650849527,
          -0.12778565650849527,
          -0.12778565650849527,
          -0.12778565650849527,
          -0.12778565650849527,
          -0.12778565650849527,
          -0.12778565650849527,
          -0.12778565650849527,
          -0.12778565650849527,
          -0.12778565650849527,
          0.05454451954071927,
          0.18287933218477948,
          -0.12778565650849527,
          1.8806000339586542,
          -0.12778565650849527,
          -0.12778565650849527,
          -0.12778565650849527,
          0.0708026996405925,
          -0.07119887957107565,
          0.011590800880095488,
          -0.12778565650849527,
          -0.12778565650849527,
          1.2312729178760733,
          0.7696158644966281,
          -0.12778565650849527
         ],
         "yaxis": "y"
        }
       ],
       "layout": {
        "coloraxis": {
         "colorbar": {
          "title": {
           "text": "cluster"
          }
         },
         "colorscale": [
          [
           0,
           "#440154"
          ],
          [
           0.1111111111111111,
           "#482878"
          ],
          [
           0.2222222222222222,
           "#3e4989"
          ],
          [
           0.3333333333333333,
           "#31688e"
          ],
          [
           0.4444444444444444,
           "#26828e"
          ],
          [
           0.5555555555555556,
           "#1f9e89"
          ],
          [
           0.6666666666666666,
           "#35b779"
          ],
          [
           0.7777777777777778,
           "#6ece58"
          ],
          [
           0.8888888888888888,
           "#b5de2b"
          ],
          [
           1,
           "#fde725"
          ]
         ]
        },
        "legend": {
         "title": {
          "text": "Cluster"
         },
         "tracegroupgap": 0
        },
        "margin": {
         "t": 60
        },
        "template": {
         "data": {
          "bar": [
           {
            "error_x": {
             "color": "#2a3f5f"
            },
            "error_y": {
             "color": "#2a3f5f"
            },
            "marker": {
             "line": {
              "color": "#E5ECF6",
              "width": 0.5
             },
             "pattern": {
              "fillmode": "overlay",
              "size": 10,
              "solidity": 0.2
             }
            },
            "type": "bar"
           }
          ],
          "barpolar": [
           {
            "marker": {
             "line": {
              "color": "#E5ECF6",
              "width": 0.5
             },
             "pattern": {
              "fillmode": "overlay",
              "size": 10,
              "solidity": 0.2
             }
            },
            "type": "barpolar"
           }
          ],
          "carpet": [
           {
            "aaxis": {
             "endlinecolor": "#2a3f5f",
             "gridcolor": "white",
             "linecolor": "white",
             "minorgridcolor": "white",
             "startlinecolor": "#2a3f5f"
            },
            "baxis": {
             "endlinecolor": "#2a3f5f",
             "gridcolor": "white",
             "linecolor": "white",
             "minorgridcolor": "white",
             "startlinecolor": "#2a3f5f"
            },
            "type": "carpet"
           }
          ],
          "choropleth": [
           {
            "colorbar": {
             "outlinewidth": 0,
             "ticks": ""
            },
            "type": "choropleth"
           }
          ],
          "contour": [
           {
            "colorbar": {
             "outlinewidth": 0,
             "ticks": ""
            },
            "colorscale": [
             [
              0,
              "#0d0887"
             ],
             [
              0.1111111111111111,
              "#46039f"
             ],
             [
              0.2222222222222222,
              "#7201a8"
             ],
             [
              0.3333333333333333,
              "#9c179e"
             ],
             [
              0.4444444444444444,
              "#bd3786"
             ],
             [
              0.5555555555555556,
              "#d8576b"
             ],
             [
              0.6666666666666666,
              "#ed7953"
             ],
             [
              0.7777777777777778,
              "#fb9f3a"
             ],
             [
              0.8888888888888888,
              "#fdca26"
             ],
             [
              1,
              "#f0f921"
             ]
            ],
            "type": "contour"
           }
          ],
          "contourcarpet": [
           {
            "colorbar": {
             "outlinewidth": 0,
             "ticks": ""
            },
            "type": "contourcarpet"
           }
          ],
          "heatmap": [
           {
            "colorbar": {
             "outlinewidth": 0,
             "ticks": ""
            },
            "colorscale": [
             [
              0,
              "#0d0887"
             ],
             [
              0.1111111111111111,
              "#46039f"
             ],
             [
              0.2222222222222222,
              "#7201a8"
             ],
             [
              0.3333333333333333,
              "#9c179e"
             ],
             [
              0.4444444444444444,
              "#bd3786"
             ],
             [
              0.5555555555555556,
              "#d8576b"
             ],
             [
              0.6666666666666666,
              "#ed7953"
             ],
             [
              0.7777777777777778,
              "#fb9f3a"
             ],
             [
              0.8888888888888888,
              "#fdca26"
             ],
             [
              1,
              "#f0f921"
             ]
            ],
            "type": "heatmap"
           }
          ],
          "heatmapgl": [
           {
            "colorbar": {
             "outlinewidth": 0,
             "ticks": ""
            },
            "colorscale": [
             [
              0,
              "#0d0887"
             ],
             [
              0.1111111111111111,
              "#46039f"
             ],
             [
              0.2222222222222222,
              "#7201a8"
             ],
             [
              0.3333333333333333,
              "#9c179e"
             ],
             [
              0.4444444444444444,
              "#bd3786"
             ],
             [
              0.5555555555555556,
              "#d8576b"
             ],
             [
              0.6666666666666666,
              "#ed7953"
             ],
             [
              0.7777777777777778,
              "#fb9f3a"
             ],
             [
              0.8888888888888888,
              "#fdca26"
             ],
             [
              1,
              "#f0f921"
             ]
            ],
            "type": "heatmapgl"
           }
          ],
          "histogram": [
           {
            "marker": {
             "pattern": {
              "fillmode": "overlay",
              "size": 10,
              "solidity": 0.2
             }
            },
            "type": "histogram"
           }
          ],
          "histogram2d": [
           {
            "colorbar": {
             "outlinewidth": 0,
             "ticks": ""
            },
            "colorscale": [
             [
              0,
              "#0d0887"
             ],
             [
              0.1111111111111111,
              "#46039f"
             ],
             [
              0.2222222222222222,
              "#7201a8"
             ],
             [
              0.3333333333333333,
              "#9c179e"
             ],
             [
              0.4444444444444444,
              "#bd3786"
             ],
             [
              0.5555555555555556,
              "#d8576b"
             ],
             [
              0.6666666666666666,
              "#ed7953"
             ],
             [
              0.7777777777777778,
              "#fb9f3a"
             ],
             [
              0.8888888888888888,
              "#fdca26"
             ],
             [
              1,
              "#f0f921"
             ]
            ],
            "type": "histogram2d"
           }
          ],
          "histogram2dcontour": [
           {
            "colorbar": {
             "outlinewidth": 0,
             "ticks": ""
            },
            "colorscale": [
             [
              0,
              "#0d0887"
             ],
             [
              0.1111111111111111,
              "#46039f"
             ],
             [
              0.2222222222222222,
              "#7201a8"
             ],
             [
              0.3333333333333333,
              "#9c179e"
             ],
             [
              0.4444444444444444,
              "#bd3786"
             ],
             [
              0.5555555555555556,
              "#d8576b"
             ],
             [
              0.6666666666666666,
              "#ed7953"
             ],
             [
              0.7777777777777778,
              "#fb9f3a"
             ],
             [
              0.8888888888888888,
              "#fdca26"
             ],
             [
              1,
              "#f0f921"
             ]
            ],
            "type": "histogram2dcontour"
           }
          ],
          "mesh3d": [
           {
            "colorbar": {
             "outlinewidth": 0,
             "ticks": ""
            },
            "type": "mesh3d"
           }
          ],
          "parcoords": [
           {
            "line": {
             "colorbar": {
              "outlinewidth": 0,
              "ticks": ""
             }
            },
            "type": "parcoords"
           }
          ],
          "pie": [
           {
            "automargin": true,
            "type": "pie"
           }
          ],
          "scatter": [
           {
            "fillpattern": {
             "fillmode": "overlay",
             "size": 10,
             "solidity": 0.2
            },
            "type": "scatter"
           }
          ],
          "scatter3d": [
           {
            "line": {
             "colorbar": {
              "outlinewidth": 0,
              "ticks": ""
             }
            },
            "marker": {
             "colorbar": {
              "outlinewidth": 0,
              "ticks": ""
             }
            },
            "type": "scatter3d"
           }
          ],
          "scattercarpet": [
           {
            "marker": {
             "colorbar": {
              "outlinewidth": 0,
              "ticks": ""
             }
            },
            "type": "scattercarpet"
           }
          ],
          "scattergeo": [
           {
            "marker": {
             "colorbar": {
              "outlinewidth": 0,
              "ticks": ""
             }
            },
            "type": "scattergeo"
           }
          ],
          "scattergl": [
           {
            "marker": {
             "colorbar": {
              "outlinewidth": 0,
              "ticks": ""
             }
            },
            "type": "scattergl"
           }
          ],
          "scattermapbox": [
           {
            "marker": {
             "colorbar": {
              "outlinewidth": 0,
              "ticks": ""
             }
            },
            "type": "scattermapbox"
           }
          ],
          "scatterpolar": [
           {
            "marker": {
             "colorbar": {
              "outlinewidth": 0,
              "ticks": ""
             }
            },
            "type": "scatterpolar"
           }
          ],
          "scatterpolargl": [
           {
            "marker": {
             "colorbar": {
              "outlinewidth": 0,
              "ticks": ""
             }
            },
            "type": "scatterpolargl"
           }
          ],
          "scatterternary": [
           {
            "marker": {
             "colorbar": {
              "outlinewidth": 0,
              "ticks": ""
             }
            },
            "type": "scatterternary"
           }
          ],
          "surface": [
           {
            "colorbar": {
             "outlinewidth": 0,
             "ticks": ""
            },
            "colorscale": [
             [
              0,
              "#0d0887"
             ],
             [
              0.1111111111111111,
              "#46039f"
             ],
             [
              0.2222222222222222,
              "#7201a8"
             ],
             [
              0.3333333333333333,
              "#9c179e"
             ],
             [
              0.4444444444444444,
              "#bd3786"
             ],
             [
              0.5555555555555556,
              "#d8576b"
             ],
             [
              0.6666666666666666,
              "#ed7953"
             ],
             [
              0.7777777777777778,
              "#fb9f3a"
             ],
             [
              0.8888888888888888,
              "#fdca26"
             ],
             [
              1,
              "#f0f921"
             ]
            ],
            "type": "surface"
           }
          ],
          "table": [
           {
            "cells": {
             "fill": {
              "color": "#EBF0F8"
             },
             "line": {
              "color": "white"
             }
            },
            "header": {
             "fill": {
              "color": "#C8D4E3"
             },
             "line": {
              "color": "white"
             }
            },
            "type": "table"
           }
          ]
         },
         "layout": {
          "annotationdefaults": {
           "arrowcolor": "#2a3f5f",
           "arrowhead": 0,
           "arrowwidth": 1
          },
          "autotypenumbers": "strict",
          "coloraxis": {
           "colorbar": {
            "outlinewidth": 0,
            "ticks": ""
           }
          },
          "colorscale": {
           "diverging": [
            [
             0,
             "#8e0152"
            ],
            [
             0.1,
             "#c51b7d"
            ],
            [
             0.2,
             "#de77ae"
            ],
            [
             0.3,
             "#f1b6da"
            ],
            [
             0.4,
             "#fde0ef"
            ],
            [
             0.5,
             "#f7f7f7"
            ],
            [
             0.6,
             "#e6f5d0"
            ],
            [
             0.7,
             "#b8e186"
            ],
            [
             0.8,
             "#7fbc41"
            ],
            [
             0.9,
             "#4d9221"
            ],
            [
             1,
             "#276419"
            ]
           ],
           "sequential": [
            [
             0,
             "#0d0887"
            ],
            [
             0.1111111111111111,
             "#46039f"
            ],
            [
             0.2222222222222222,
             "#7201a8"
            ],
            [
             0.3333333333333333,
             "#9c179e"
            ],
            [
             0.4444444444444444,
             "#bd3786"
            ],
            [
             0.5555555555555556,
             "#d8576b"
            ],
            [
             0.6666666666666666,
             "#ed7953"
            ],
            [
             0.7777777777777778,
             "#fb9f3a"
            ],
            [
             0.8888888888888888,
             "#fdca26"
            ],
            [
             1,
             "#f0f921"
            ]
           ],
           "sequentialminus": [
            [
             0,
             "#0d0887"
            ],
            [
             0.1111111111111111,
             "#46039f"
            ],
            [
             0.2222222222222222,
             "#7201a8"
            ],
            [
             0.3333333333333333,
             "#9c179e"
            ],
            [
             0.4444444444444444,
             "#bd3786"
            ],
            [
             0.5555555555555556,
             "#d8576b"
            ],
            [
             0.6666666666666666,
             "#ed7953"
            ],
            [
             0.7777777777777778,
             "#fb9f3a"
            ],
            [
             0.8888888888888888,
             "#fdca26"
            ],
            [
             1,
             "#f0f921"
            ]
           ]
          },
          "colorway": [
           "#636efa",
           "#EF553B",
           "#00cc96",
           "#ab63fa",
           "#FFA15A",
           "#19d3f3",
           "#FF6692",
           "#B6E880",
           "#FF97FF",
           "#FECB52"
          ],
          "font": {
           "color": "#2a3f5f"
          },
          "geo": {
           "bgcolor": "white",
           "lakecolor": "white",
           "landcolor": "#E5ECF6",
           "showlakes": true,
           "showland": true,
           "subunitcolor": "white"
          },
          "hoverlabel": {
           "align": "left"
          },
          "hovermode": "closest",
          "mapbox": {
           "style": "light"
          },
          "paper_bgcolor": "white",
          "plot_bgcolor": "#E5ECF6",
          "polar": {
           "angularaxis": {
            "gridcolor": "white",
            "linecolor": "white",
            "ticks": ""
           },
           "bgcolor": "#E5ECF6",
           "radialaxis": {
            "gridcolor": "white",
            "linecolor": "white",
            "ticks": ""
           }
          },
          "scene": {
           "xaxis": {
            "backgroundcolor": "#E5ECF6",
            "gridcolor": "white",
            "gridwidth": 2,
            "linecolor": "white",
            "showbackground": true,
            "ticks": "",
            "zerolinecolor": "white"
           },
           "yaxis": {
            "backgroundcolor": "#E5ECF6",
            "gridcolor": "white",
            "gridwidth": 2,
            "linecolor": "white",
            "showbackground": true,
            "ticks": "",
            "zerolinecolor": "white"
           },
           "zaxis": {
            "backgroundcolor": "#E5ECF6",
            "gridcolor": "white",
            "gridwidth": 2,
            "linecolor": "white",
            "showbackground": true,
            "ticks": "",
            "zerolinecolor": "white"
           }
          },
          "shapedefaults": {
           "line": {
            "color": "#2a3f5f"
           }
          },
          "ternary": {
           "aaxis": {
            "gridcolor": "white",
            "linecolor": "white",
            "ticks": ""
           },
           "baxis": {
            "gridcolor": "white",
            "linecolor": "white",
            "ticks": ""
           },
           "bgcolor": "#E5ECF6",
           "caxis": {
            "gridcolor": "white",
            "linecolor": "white",
            "ticks": ""
           }
          },
          "title": {
           "x": 0.05
          },
          "xaxis": {
           "automargin": true,
           "gridcolor": "white",
           "linecolor": "white",
           "ticks": "",
           "title": {
            "standoff": 15
           },
           "zerolinecolor": "white",
           "zerolinewidth": 2
          },
          "yaxis": {
           "automargin": true,
           "gridcolor": "white",
           "linecolor": "white",
           "ticks": "",
           "title": {
            "standoff": 15
           },
           "zerolinecolor": "white",
           "zerolinewidth": 2
          }
         }
        },
        "title": {
         "text": "Word2Vec with K-Means Clusters for ca"
        },
        "xaxis": {
         "anchor": "y",
         "domain": [
          0,
          1
         ],
         "title": {
          "text": "PCA 1"
         }
        },
        "yaxis": {
         "anchor": "x",
         "domain": [
          0,
          1
         ],
         "title": {
          "text": "PCA 2"
         }
        }
       }
      }
     },
     "metadata": {},
     "output_type": "display_data"
    }
   ],
   "source": [
    "# Add cluster labels to the dataset\n",
    "filtered_ca_data['cluster'] = kmeans.labels_\n",
    "\n",
    "# Apply PCA for visualization\n",
    "pca = PCA(n_components=2)\n",
    "reduced_embeddings = pca.fit_transform(ca_goo_embeddings)\n",
    "\n",
    "# Add PCA components to the dataset\n",
    "filtered_ca_data['pca_one'] = reduced_embeddings[:, 0]\n",
    "filtered_ca_data['pca_two'] = reduced_embeddings[:, 1]\n",
    "\n",
    "# Create a scatter plot with Plotly\n",
    "fig = px.scatter(filtered_ca_data, x='pca_one', y='pca_two', color='cluster',\n",
    "                 hover_data=['language_code'], color_continuous_scale='Viridis')\n",
    "fig.update_layout(title='Word2Vec with K-Means Clusters for ca', xaxis_title='PCA 1', yaxis_title='PCA 2', legend_title='Cluster')\n",
    "fig.show()"
   ]
  },
  {
   "cell_type": "code",
   "execution_count": 43,
   "metadata": {},
   "outputs": [
    {
     "name": "stdout",
     "output_type": "stream",
     "text": [
      "cluster  accent_name      \n",
      "0        Alcarrasì            1\n",
      "         Alcarràs             1\n",
      "         Ampostí              1\n",
      "         Argentí              1\n",
      "         Badaloní             1\n",
      "         Barcelonina          1\n",
      "         Barcelonès           1\n",
      "         Barceloní            1\n",
      "         Benifaió             1\n",
      "         Berguedà             1\n",
      "         Bo                   1\n",
      "         Clar                 1\n",
      "         Correcte             1\n",
      "         D'Igualada           1\n",
      "         D'Osona              1\n",
      "         Deltaic              1\n",
      "         Ebre                 1\n",
      "         Ebrenc               1\n",
      "         Empordanès           1\n",
      "         Esporles             1\n",
      "         Estranger            1\n",
      "         Felanitx             1\n",
      "         Flixanco             1\n",
      "         Garraf               1\n",
      "         Garrotxi             1\n",
      "         Illes                1\n",
      "         Industrial           1\n",
      "         Lleidatà             1\n",
      "         Maresme              1\n",
      "         Maresmenc            1\n",
      "         Maó                  1\n",
      "         Natiu                1\n",
      "         Natural              1\n",
      "         Neutre               1\n",
      "         Occidental.          1\n",
      "         Oriental             1\n",
      "         Osona                1\n",
      "         Osonenc              1\n",
      "         Pallarės             1\n",
      "         Penedesenc           1\n",
      "         Penedès              1\n",
      "         Petra                1\n",
      "         Poble                1\n",
      "         Ponent               1\n",
      "         Prioratí             1\n",
      "         Rapitenc             1\n",
      "         Reusenc              1\n",
      "         Ribagorçà            1\n",
      "         Tancar               1\n",
      "         Tarra#               1\n",
      "         Tarraconí            1\n",
      "         Tortosí              1\n",
      "         Vallesà              1\n",
      "         Vallès               1\n",
      "         Vigatà               1\n",
      "         Xava                 1\n",
      "         alcoverenc           1\n",
      "         apitxat              1\n",
      "         bages                1\n",
      "         baixempordanès       1\n",
      "         brazillian           1\n",
      "         ciutadellenc         1\n",
      "         ebtenc               1\n",
      "         empordà              1\n",
      "         estàndard            1\n",
      "         foreigner            1\n",
      "         gironí               1\n",
      "         gironí-empordanès    1\n",
      "         lleidetà             1\n",
      "         mallorca             1\n",
      "         mallorquí            1\n",
      "         manacorí             1\n",
      "         mataró               1\n",
      "         menorquí             1\n",
      "         meridional           1\n",
      "         nord-oriental        1\n",
      "         occidental           1\n",
      "         perifèric            1\n",
      "         standard             1\n",
      "         tancat               1\n",
      "         tarragoní            1\n",
      "         tossenc              1\n",
      "         xipella              1\n",
      "1        Balears              1\n",
      "         Barcelona            1\n",
      "         Catala               1\n",
      "         Girona               1\n",
      "         Inca                 1\n",
      "         Jove                 1\n",
      "         Lleida               1\n",
      "         Manacor              1\n",
      "         Palma                1\n",
      "         Reus                 1\n",
      "         Sabadell             1\n",
      "         Tarragona            1\n",
      "         Valls                1\n",
      "2        Andorra              1\n",
      "Name: accent_name, dtype: int64\n"
     ]
    }
   ],
   "source": [
    "# Grouping by cluster and counting the frequency of each language code\n",
    "cluster_language_count = filtered_ca_data.groupby('cluster')['accent_name'].value_counts()\n",
    "\n",
    "# Filtering to show only language codes with frequency greater than zero\n",
    "# cluster_language_count = cluster_language_count[cluster_language_count > 25]\n",
    "\n",
    "print(cluster_language_count)\n",
    "\n"
   ]
  },
  {
   "cell_type": "markdown",
   "metadata": {},
   "source": [
    "# MBERT Embeddings with K-Means for \"ca\""
   ]
  },
  {
   "cell_type": "code",
   "execution_count": 36,
   "metadata": {},
   "outputs": [
    {
     "name": "stderr",
     "output_type": "stream",
     "text": [
      "c:\\Users\\saima\\anaconda3\\lib\\site-packages\\sklearn\\cluster\\_kmeans.py:1036: UserWarning:\n",
      "\n",
      "KMeans is known to have a memory leak on Windows with MKL, when there are less chunks than available threads. You can avoid it by setting the environment variable OMP_NUM_THREADS=1.\n",
      "\n"
     ]
    },
    {
     "data": {
      "image/png": "[encoded data removed]",
      "text/plain": [
       "<Figure size 1000x600 with 1 Axes>"
      ]
     },
     "metadata": {},
     "output_type": "display_data"
    }
   ],
   "source": [
    "import pandas as pd\n",
    "from sklearn.preprocessing import OneHotEncoder\n",
    "from sklearn.cluster import KMeans\n",
    "from sklearn.decomposition import PCA\n",
    "from transformers import BertModel, BertTokenizer\n",
    "import torch\n",
    "import numpy as np\n",
    "import plotly.express as px\n",
    "\n",
    "# Load M-BERT model and tokenizer\n",
    "model_name = 'bert-base-multilingual-cased'\n",
    "tokenizer = BertTokenizer.from_pretrained(model_name)\n",
    "model = BertModel.from_pretrained(model_name)\n",
    "\n",
    "# Function to get embeddings from M-BERT\n",
    "def get_mbert_embeddings(text):\n",
    "    inputs = tokenizer(text, return_tensors=\"pt\", padding=True, truncation=True, max_length=512)\n",
    "    outputs = model(**inputs)\n",
    "    return outputs.last_hidden_state.mean(dim=1).detach().numpy()\n",
    "\n",
    "# Load your dataset\n",
    "file_path = 'test.tsv'  # Replace with your file path\n",
    "data = pd.read_csv(file_path, sep='\\t')\n",
    "\n",
    "\n",
    "ca_data = data[data['language_code']==\"ca\"]\n",
    "\n",
    "filtered_ca_data = ca_data[~ca_data['accent_name'].str.contains(' ')]\n",
    "\n",
    "\n",
    "\n",
    "# Generating embeddings for accent_name\n",
    "mbert_embeddings = np.vstack(filtered_ca_data['accent_name'].apply(get_mbert_embeddings))\n",
    "\n",
    "import matplotlib.pyplot as plt\n",
    "from sklearn.cluster import KMeans\n",
    "\n",
    "# Determine the range of potential clusters you want to test\n",
    "# For example, testing from 1 to 20 clusters\n",
    "range_clusters = range(1, 21)\n",
    "\n",
    "# Calculate the sum of squared distances for each number of clusters\n",
    "sum_of_squared_distances = []\n",
    "for k in range_clusters:\n",
    "    km = KMeans(n_clusters=k, random_state=0)\n",
    "    km = km.fit(mbert_embeddings)\n",
    "    sum_of_squared_distances.append(km.inertia_)\n",
    "\n",
    "# Plot the Elbow graph\n",
    "plt.figure(figsize=(10, 6))\n",
    "plt.plot(range_clusters, sum_of_squared_distances, 'bx-')\n",
    "plt.xlabel('Number of Clusters')\n",
    "plt.ylabel('Sum of Squared Distances')\n",
    "plt.title('Elbow Method For Optimal Number of Clusters')\n",
    "plt.show()\n"
   ]
  },
  {
   "cell_type": "code",
   "execution_count": 9,
   "metadata": {},
   "outputs": [
    {
     "name": "stderr",
     "output_type": "stream",
     "text": [
      "C:\\Users\\saima\\AppData\\Local\\Temp\\ipykernel_20128\\762266668.py:6: SettingWithCopyWarning:\n",
      "\n",
      "\n",
      "A value is trying to be set on a copy of a slice from a DataFrame.\n",
      "Try using .loc[row_indexer,col_indexer] = value instead\n",
      "\n",
      "See the caveats in the documentation: https://pandas.pydata.org/pandas-docs/stable/user_guide/indexing.html#returning-a-view-versus-a-copy\n",
      "\n",
      "C:\\Users\\saima\\AppData\\Local\\Temp\\ipykernel_20128\\762266668.py:13: SettingWithCopyWarning:\n",
      "\n",
      "\n",
      "A value is trying to be set on a copy of a slice from a DataFrame.\n",
      "Try using .loc[row_indexer,col_indexer] = value instead\n",
      "\n",
      "See the caveats in the documentation: https://pandas.pydata.org/pandas-docs/stable/user_guide/indexing.html#returning-a-view-versus-a-copy\n",
      "\n",
      "C:\\Users\\saima\\AppData\\Local\\Temp\\ipykernel_20128\\762266668.py:14: SettingWithCopyWarning:\n",
      "\n",
      "\n",
      "A value is trying to be set on a copy of a slice from a DataFrame.\n",
      "Try using .loc[row_indexer,col_indexer] = value instead\n",
      "\n",
      "See the caveats in the documentation: https://pandas.pydata.org/pandas-docs/stable/user_guide/indexing.html#returning-a-view-versus-a-copy\n",
      "\n"
     ]
    },
    {
     "data": {
      "application/vnd.plotly.v1+json": {
       "config": {
        "plotlyServerURL": "https://plot.ly"
       },
       "data": [
        {
         "customdata": [
          [
           "ca"
          ],
          [
           "ca"
          ],
          [
           "ca"
          ],
          [
           "ca"
          ],
          [
           "ca"
          ],
          [
           "ca"
          ],
          [
           "ca"
          ],
          [
           "ca"
          ],
          [
           "ca"
          ],
          [
           "ca"
          ],
          [
           "ca"
          ],
          [
           "ca"
          ],
          [
           "ca"
          ],
          [
           "ca"
          ],
          [
           "ca"
          ],
          [
           "ca"
          ],
          [
           "ca"
          ],
          [
           "ca"
          ],
          [
           "ca"
          ],
          [
           "ca"
          ],
          [
           "ca"
          ],
          [
           "ca"
          ],
          [
           "ca"
          ],
          [
           "ca"
          ],
          [
           "ca"
          ],
          [
           "ca"
          ],
          [
           "ca"
          ],
          [
           "ca"
          ],
          [
           "ca"
          ],
          [
           "ca"
          ],
          [
           "ca"
          ],
          [
           "ca"
          ],
          [
           "ca"
          ],
          [
           "ca"
          ],
          [
           "ca"
          ],
          [
           "ca"
          ],
          [
           "ca"
          ],
          [
           "ca"
          ],
          [
           "ca"
          ],
          [
           "ca"
          ],
          [
           "ca"
          ],
          [
           "ca"
          ],
          [
           "ca"
          ],
          [
           "ca"
          ],
          [
           "ca"
          ],
          [
           "ca"
          ],
          [
           "ca"
          ],
          [
           "ca"
          ],
          [
           "ca"
          ],
          [
           "ca"
          ],
          [
           "ca"
          ],
          [
           "ca"
          ],
          [
           "ca"
          ],
          [
           "ca"
          ],
          [
           "ca"
          ],
          [
           "ca"
          ],
          [
           "ca"
          ],
          [
           "ca"
          ],
          [
           "ca"
          ],
          [
           "ca"
          ],
          [
           "ca"
          ],
          [
           "ca"
          ],
          [
           "ca"
          ],
          [
           "ca"
          ],
          [
           "ca"
          ],
          [
           "ca"
          ],
          [
           "ca"
          ],
          [
           "ca"
          ],
          [
           "ca"
          ],
          [
           "ca"
          ],
          [
           "ca"
          ],
          [
           "ca"
          ],
          [
           "ca"
          ],
          [
           "ca"
          ],
          [
           "ca"
          ],
          [
           "ca"
          ],
          [
           "ca"
          ],
          [
           "ca"
          ],
          [
           "ca"
          ],
          [
           "ca"
          ],
          [
           "ca"
          ],
          [
           "ca"
          ],
          [
           "ca"
          ],
          [
           "ca"
          ],
          [
           "ca"
          ],
          [
           "ca"
          ],
          [
           "ca"
          ],
          [
           "ca"
          ],
          [
           "ca"
          ],
          [
           "ca"
          ],
          [
           "ca"
          ],
          [
           "ca"
          ],
          [
           "ca"
          ],
          [
           "ca"
          ],
          [
           "ca"
          ],
          [
           "ca"
          ],
          [
           "ca"
          ]
         ],
         "hovertemplate": "pca_one=%{x}<br>pca_two=%{y}<br>language_code=%{customdata[0]}<br>cluster=%{marker.color}<extra></extra>",
         "legendgroup": "",
         "marker": {
          "color": [
           0,
           1,
           0,
           2,
           3,
           2,
           1,
           1,
           0,
           1,
           0,
           2,
           3,
           3,
           3,
           3,
           2,
           2,
           2,
           3,
           0,
           3,
           3,
           3,
           1,
           3,
           0,
           0,
           3,
           3,
           1,
           0,
           1,
           3,
           3,
           3,
           0,
           3,
           1,
           0,
           3,
           3,
           3,
           3,
           3,
           1,
           0,
           2,
           0,
           0,
           3,
           2,
           3,
           2,
           0,
           0,
           1,
           3,
           2,
           3,
           2,
           3,
           0,
           3,
           3,
           2,
           0,
           3,
           0,
           0,
           3,
           1,
           0,
           3,
           0,
           0,
           0,
           3,
           2,
           0,
           3,
           3,
           1,
           1,
           3,
           3,
           3,
           0,
           0,
           1,
           2,
           1,
           0,
           3,
           1,
           3,
           2
          ],
          "coloraxis": "coloraxis",
          "symbol": "circle"
         },
         "mode": "markers",
         "name": "",
         "orientation": "v",
         "showlegend": false,
         "type": "scatter",
         "x": [
          -0.12223579734563828,
          5.66575813293457,
          -0.6191900372505188,
          2.013458013534546,
          -4.318075180053711,
          5.077080726623535,
          3.228959083557129,
          2.962380886077881,
          -1.0401811599731445,
          1.1962323188781738,
          1.079376220703125,
          0.8832146525382996,
          -3.542329788208008,
          -3.635831832885742,
          -2.474745750427246,
          -1.5504159927368164,
          3.0112974643707275,
          3.9403185844421387,
          5.50619649887085,
          -0.9480952620506287,
          -0.4866481125354767,
          -2.1960136890411377,
          -0.7659696340560913,
          -2.4686105251312256,
          1.732479214668274,
          -3.0466837882995605,
          1.9057598114013672,
          1.4703885316848755,
          -2.4035816192626953,
          -3.7386367321014404,
          3.4913201332092285,
          2.1305041313171387,
          3.083540201187134,
          -2.7890775203704834,
          -3.391244649887085,
          -3.7691071033477783,
          -1.2147037982940674,
          -1.4865672588348389,
          4.817148208618164,
          -0.003687433898448944,
          -3.516758918762207,
          -2.1945340633392334,
          -2.5778093338012695,
          -2.4598464965820312,
          -2.517596483230591,
          0.07202690094709396,
          0.15263938903808594,
          -0.7140089869499207,
          3.297306776046753,
          0.23135358095169067,
          -1.060085415840149,
          0.1143423467874527,
          -1.5165715217590332,
          2.5717592239379883,
          2.6422228813171387,
          -0.24417442083358765,
          5.373638153076172,
          -1.4431843757629395,
          0.8077521324157715,
          -1.4332444667816162,
          0.9526710510253906,
          -2.736971139907837,
          -0.355291485786438,
          -3.021502733230591,
          -1.8352470397949219,
          5.3923516273498535,
          -0.6028332114219666,
          -1.5071178674697876,
          1.4379653930664062,
          -0.1476186215877533,
          -3.10014271736145,
          2.7291576862335205,
          1.862168788909912,
          -2.6038901805877686,
          -1.279351830482483,
          0.7018526196479797,
          0.9367638230323792,
          -1.739011526107788,
          1.2090624570846558,
          0.37448549270629883,
          -1.8526719808578491,
          -1.4611862897872925,
          0.9885029196739197,
          4.443008899688721,
          -1.8980565071105957,
          -1.3789583444595337,
          0.4863464832305908,
          -1.2356795072555542,
          -0.7493853569030762,
          3.3014395236968994,
          2.638904571533203,
          0.6843990683555603,
          0.5593753457069397,
          -2.0916008949279785,
          0.003216527169570327,
          -2.5884246826171875,
          0.7142657041549683
         ],
         "xaxis": "x",
         "y": [
          -2.5254387855529785,
          4.322810649871826,
          -1.7712966203689575,
          -2.40167498588562,
          1.603452205657959,
          -1.8210793733596802,
          5.047143936157227,
          3.8360543251037598,
          -0.8514800667762756,
          2.1552841663360596,
          -1.8614554405212402,
          -0.12302245199680328,
          0.6292192339897156,
          -0.018641406670212746,
          1.9805048704147339,
          0.17840372025966644,
          -2.6246628761291504,
          -1.8783648014068604,
          -2.6797847747802734,
          0.7924603223800659,
          -1.0882929563522339,
          3.552680492401123,
          1.5476864576339722,
          -1.3130130767822266,
          0.8964865207672119,
          0.11013218015432358,
          -1.4449574947357178,
          -1.7836650609970093,
          -0.5929595232009888,
          2.0750343799591064,
          2.3564884662628174,
          -1.0853933095932007,
          1.002206563949585,
          1.4854261875152588,
          2.036595106124878,
          2.589193344116211,
          -3.269873857498169,
          -2.3688948154449463,
          4.8877058029174805,
          -0.600490152835846,
          0.27382659912109375,
          0.4436219036579132,
          2.7030069828033447,
          0.74163419008255,
          -0.8663654327392578,
          1.4904061555862427,
          -1.8962595462799072,
          -2.3839380741119385,
          -1.8825485706329346,
          -1.6573045253753662,
          0.8160025477409363,
          -3.180452585220337,
          3.646193742752075,
          -4.226895809173584,
          -4.540646553039551,
          -1.8186047077178955,
          4.817320823669434,
          -1.3050100803375244,
          -0.8906852006912231,
          -1.8592579364776611,
          -0.42658618092536926,
          1.0614854097366333,
          -0.8779433369636536,
          0.5340346097946167,
          1.1266553401947021,
          -0.1835612952709198,
          -2.7938833236694336,
          1.804441213607788,
          -3.2956974506378174,
          -1.643160343170166,
          -0.23298396170139313,
          3.593418598175049,
          -2.981945276260376,
          -0.4579440951347351,
          -2.4388856887817383,
          -0.8704054951667786,
          -3.1278443336486816,
          2.8455214500427246,
          -1.9604519605636597,
          -1.5061426162719727,
          -2.148258686065674,
          1.0403259992599487,
          1.0755949020385742,
          5.002511501312256,
          -0.6285985112190247,
          1.919376254081726,
          -0.2261054515838623,
          -1.6118524074554443,
          -0.3152671158313751,
          3.111452341079712,
          0.24033331871032715,
          2.3726847171783447,
          -2.7498834133148193,
          1.8526381254196167,
          2.7609071731567383,
          1.4889229536056519,
          -0.757463276386261
         ],
         "yaxis": "y"
        }
       ],
       "layout": {
        "coloraxis": {
         "colorbar": {
          "title": {
           "text": "cluster"
          }
         },
         "colorscale": [
          [
           0,
           "#440154"
          ],
          [
           0.1111111111111111,
           "#482878"
          ],
          [
           0.2222222222222222,
           "#3e4989"
          ],
          [
           0.3333333333333333,
           "#31688e"
          ],
          [
           0.4444444444444444,
           "#26828e"
          ],
          [
           0.5555555555555556,
           "#1f9e89"
          ],
          [
           0.6666666666666666,
           "#35b779"
          ],
          [
           0.7777777777777778,
           "#6ece58"
          ],
          [
           0.8888888888888888,
           "#b5de2b"
          ],
          [
           1,
           "#fde725"
          ]
         ]
        },
        "legend": {
         "title": {
          "text": "Cluster"
         },
         "tracegroupgap": 0
        },
        "margin": {
         "t": 60
        },
        "template": {
         "data": {
          "bar": [
           {
            "error_x": {
             "color": "#2a3f5f"
            },
            "error_y": {
             "color": "#2a3f5f"
            },
            "marker": {
             "line": {
              "color": "#E5ECF6",
              "width": 0.5
             },
             "pattern": {
              "fillmode": "overlay",
              "size": 10,
              "solidity": 0.2
             }
            },
            "type": "bar"
           }
          ],
          "barpolar": [
           {
            "marker": {
             "line": {
              "color": "#E5ECF6",
              "width": 0.5
             },
             "pattern": {
              "fillmode": "overlay",
              "size": 10,
              "solidity": 0.2
             }
            },
            "type": "barpolar"
           }
          ],
          "carpet": [
           {
            "aaxis": {
             "endlinecolor": "#2a3f5f",
             "gridcolor": "white",
             "linecolor": "white",
             "minorgridcolor": "white",
             "startlinecolor": "#2a3f5f"
            },
            "baxis": {
             "endlinecolor": "#2a3f5f",
             "gridcolor": "white",
             "linecolor": "white",
             "minorgridcolor": "white",
             "startlinecolor": "#2a3f5f"
            },
            "type": "carpet"
           }
          ],
          "choropleth": [
           {
            "colorbar": {
             "outlinewidth": 0,
             "ticks": ""
            },
            "type": "choropleth"
           }
          ],
          "contour": [
           {
            "colorbar": {
             "outlinewidth": 0,
             "ticks": ""
            },
            "colorscale": [
             [
              0,
              "#0d0887"
             ],
             [
              0.1111111111111111,
              "#46039f"
             ],
             [
              0.2222222222222222,
              "#7201a8"
             ],
             [
              0.3333333333333333,
              "#9c179e"
             ],
             [
              0.4444444444444444,
              "#bd3786"
             ],
             [
              0.5555555555555556,
              "#d8576b"
             ],
             [
              0.6666666666666666,
              "#ed7953"
             ],
             [
              0.7777777777777778,
              "#fb9f3a"
             ],
             [
              0.8888888888888888,
              "#fdca26"
             ],
             [
              1,
              "#f0f921"
             ]
            ],
            "type": "contour"
           }
          ],
          "contourcarpet": [
           {
            "colorbar": {
             "outlinewidth": 0,
             "ticks": ""
            },
            "type": "contourcarpet"
           }
          ],
          "heatmap": [
           {
            "colorbar": {
             "outlinewidth": 0,
             "ticks": ""
            },
            "colorscale": [
             [
              0,
              "#0d0887"
             ],
             [
              0.1111111111111111,
              "#46039f"
             ],
             [
              0.2222222222222222,
              "#7201a8"
             ],
             [
              0.3333333333333333,
              "#9c179e"
             ],
             [
              0.4444444444444444,
              "#bd3786"
             ],
             [
              0.5555555555555556,
              "#d8576b"
             ],
             [
              0.6666666666666666,
              "#ed7953"
             ],
             [
              0.7777777777777778,
              "#fb9f3a"
             ],
             [
              0.8888888888888888,
              "#fdca26"
             ],
             [
              1,
              "#f0f921"
             ]
            ],
            "type": "heatmap"
           }
          ],
          "heatmapgl": [
           {
            "colorbar": {
             "outlinewidth": 0,
             "ticks": ""
            },
            "colorscale": [
             [
              0,
              "#0d0887"
             ],
             [
              0.1111111111111111,
              "#46039f"
             ],
             [
              0.2222222222222222,
              "#7201a8"
             ],
             [
              0.3333333333333333,
              "#9c179e"
             ],
             [
              0.4444444444444444,
              "#bd3786"
             ],
             [
              0.5555555555555556,
              "#d8576b"
             ],
             [
              0.6666666666666666,
              "#ed7953"
             ],
             [
              0.7777777777777778,
              "#fb9f3a"
             ],
             [
              0.8888888888888888,
              "#fdca26"
             ],
             [
              1,
              "#f0f921"
             ]
            ],
            "type": "heatmapgl"
           }
          ],
          "histogram": [
           {
            "marker": {
             "pattern": {
              "fillmode": "overlay",
              "size": 10,
              "solidity": 0.2
             }
            },
            "type": "histogram"
           }
          ],
          "histogram2d": [
           {
            "colorbar": {
             "outlinewidth": 0,
             "ticks": ""
            },
            "colorscale": [
             [
              0,
              "#0d0887"
             ],
             [
              0.1111111111111111,
              "#46039f"
             ],
             [
              0.2222222222222222,
              "#7201a8"
             ],
             [
              0.3333333333333333,
              "#9c179e"
             ],
             [
              0.4444444444444444,
              "#bd3786"
             ],
             [
              0.5555555555555556,
              "#d8576b"
             ],
             [
              0.6666666666666666,
              "#ed7953"
             ],
             [
              0.7777777777777778,
              "#fb9f3a"
             ],
             [
              0.8888888888888888,
              "#fdca26"
             ],
             [
              1,
              "#f0f921"
             ]
            ],
            "type": "histogram2d"
           }
          ],
          "histogram2dcontour": [
           {
            "colorbar": {
             "outlinewidth": 0,
             "ticks": ""
            },
            "colorscale": [
             [
              0,
              "#0d0887"
             ],
             [
              0.1111111111111111,
              "#46039f"
             ],
             [
              0.2222222222222222,
              "#7201a8"
             ],
             [
              0.3333333333333333,
              "#9c179e"
             ],
             [
              0.4444444444444444,
              "#bd3786"
             ],
             [
              0.5555555555555556,
              "#d8576b"
             ],
             [
              0.6666666666666666,
              "#ed7953"
             ],
             [
              0.7777777777777778,
              "#fb9f3a"
             ],
             [
              0.8888888888888888,
              "#fdca26"
             ],
             [
              1,
              "#f0f921"
             ]
            ],
            "type": "histogram2dcontour"
           }
          ],
          "mesh3d": [
           {
            "colorbar": {
             "outlinewidth": 0,
             "ticks": ""
            },
            "type": "mesh3d"
           }
          ],
          "parcoords": [
           {
            "line": {
             "colorbar": {
              "outlinewidth": 0,
              "ticks": ""
             }
            },
            "type": "parcoords"
           }
          ],
          "pie": [
           {
            "automargin": true,
            "type": "pie"
           }
          ],
          "scatter": [
           {
            "fillpattern": {
             "fillmode": "overlay",
             "size": 10,
             "solidity": 0.2
            },
            "type": "scatter"
           }
          ],
          "scatter3d": [
           {
            "line": {
             "colorbar": {
              "outlinewidth": 0,
              "ticks": ""
             }
            },
            "marker": {
             "colorbar": {
              "outlinewidth": 0,
              "ticks": ""
             }
            },
            "type": "scatter3d"
           }
          ],
          "scattercarpet": [
           {
            "marker": {
             "colorbar": {
              "outlinewidth": 0,
              "ticks": ""
             }
            },
            "type": "scattercarpet"
           }
          ],
          "scattergeo": [
           {
            "marker": {
             "colorbar": {
              "outlinewidth": 0,
              "ticks": ""
             }
            },
            "type": "scattergeo"
           }
          ],
          "scattergl": [
           {
            "marker": {
             "colorbar": {
              "outlinewidth": 0,
              "ticks": ""
             }
            },
            "type": "scattergl"
           }
          ],
          "scattermapbox": [
           {
            "marker": {
             "colorbar": {
              "outlinewidth": 0,
              "ticks": ""
             }
            },
            "type": "scattermapbox"
           }
          ],
          "scatterpolar": [
           {
            "marker": {
             "colorbar": {
              "outlinewidth": 0,
              "ticks": ""
             }
            },
            "type": "scatterpolar"
           }
          ],
          "scatterpolargl": [
           {
            "marker": {
             "colorbar": {
              "outlinewidth": 0,
              "ticks": ""
             }
            },
            "type": "scatterpolargl"
           }
          ],
          "scatterternary": [
           {
            "marker": {
             "colorbar": {
              "outlinewidth": 0,
              "ticks": ""
             }
            },
            "type": "scatterternary"
           }
          ],
          "surface": [
           {
            "colorbar": {
             "outlinewidth": 0,
             "ticks": ""
            },
            "colorscale": [
             [
              0,
              "#0d0887"
             ],
             [
              0.1111111111111111,
              "#46039f"
             ],
             [
              0.2222222222222222,
              "#7201a8"
             ],
             [
              0.3333333333333333,
              "#9c179e"
             ],
             [
              0.4444444444444444,
              "#bd3786"
             ],
             [
              0.5555555555555556,
              "#d8576b"
             ],
             [
              0.6666666666666666,
              "#ed7953"
             ],
             [
              0.7777777777777778,
              "#fb9f3a"
             ],
             [
              0.8888888888888888,
              "#fdca26"
             ],
             [
              1,
              "#f0f921"
             ]
            ],
            "type": "surface"
           }
          ],
          "table": [
           {
            "cells": {
             "fill": {
              "color": "#EBF0F8"
             },
             "line": {
              "color": "white"
             }
            },
            "header": {
             "fill": {
              "color": "#C8D4E3"
             },
             "line": {
              "color": "white"
             }
            },
            "type": "table"
           }
          ]
         },
         "layout": {
          "annotationdefaults": {
           "arrowcolor": "#2a3f5f",
           "arrowhead": 0,
           "arrowwidth": 1
          },
          "autotypenumbers": "strict",
          "coloraxis": {
           "colorbar": {
            "outlinewidth": 0,
            "ticks": ""
           }
          },
          "colorscale": {
           "diverging": [
            [
             0,
             "#8e0152"
            ],
            [
             0.1,
             "#c51b7d"
            ],
            [
             0.2,
             "#de77ae"
            ],
            [
             0.3,
             "#f1b6da"
            ],
            [
             0.4,
             "#fde0ef"
            ],
            [
             0.5,
             "#f7f7f7"
            ],
            [
             0.6,
             "#e6f5d0"
            ],
            [
             0.7,
             "#b8e186"
            ],
            [
             0.8,
             "#7fbc41"
            ],
            [
             0.9,
             "#4d9221"
            ],
            [
             1,
             "#276419"
            ]
           ],
           "sequential": [
            [
             0,
             "#0d0887"
            ],
            [
             0.1111111111111111,
             "#46039f"
            ],
            [
             0.2222222222222222,
             "#7201a8"
            ],
            [
             0.3333333333333333,
             "#9c179e"
            ],
            [
             0.4444444444444444,
             "#bd3786"
            ],
            [
             0.5555555555555556,
             "#d8576b"
            ],
            [
             0.6666666666666666,
             "#ed7953"
            ],
            [
             0.7777777777777778,
             "#fb9f3a"
            ],
            [
             0.8888888888888888,
             "#fdca26"
            ],
            [
             1,
             "#f0f921"
            ]
           ],
           "sequentialminus": [
            [
             0,
             "#0d0887"
            ],
            [
             0.1111111111111111,
             "#46039f"
            ],
            [
             0.2222222222222222,
             "#7201a8"
            ],
            [
             0.3333333333333333,
             "#9c179e"
            ],
            [
             0.4444444444444444,
             "#bd3786"
            ],
            [
             0.5555555555555556,
             "#d8576b"
            ],
            [
             0.6666666666666666,
             "#ed7953"
            ],
            [
             0.7777777777777778,
             "#fb9f3a"
            ],
            [
             0.8888888888888888,
             "#fdca26"
            ],
            [
             1,
             "#f0f921"
            ]
           ]
          },
          "colorway": [
           "#636efa",
           "#EF553B",
           "#00cc96",
           "#ab63fa",
           "#FFA15A",
           "#19d3f3",
           "#FF6692",
           "#B6E880",
           "#FF97FF",
           "#FECB52"
          ],
          "font": {
           "color": "#2a3f5f"
          },
          "geo": {
           "bgcolor": "white",
           "lakecolor": "white",
           "landcolor": "#E5ECF6",
           "showlakes": true,
           "showland": true,
           "subunitcolor": "white"
          },
          "hoverlabel": {
           "align": "left"
          },
          "hovermode": "closest",
          "mapbox": {
           "style": "light"
          },
          "paper_bgcolor": "white",
          "plot_bgcolor": "#E5ECF6",
          "polar": {
           "angularaxis": {
            "gridcolor": "white",
            "linecolor": "white",
            "ticks": ""
           },
           "bgcolor": "#E5ECF6",
           "radialaxis": {
            "gridcolor": "white",
            "linecolor": "white",
            "ticks": ""
           }
          },
          "scene": {
           "xaxis": {
            "backgroundcolor": "#E5ECF6",
            "gridcolor": "white",
            "gridwidth": 2,
            "linecolor": "white",
            "showbackground": true,
            "ticks": "",
            "zerolinecolor": "white"
           },
           "yaxis": {
            "backgroundcolor": "#E5ECF6",
            "gridcolor": "white",
            "gridwidth": 2,
            "linecolor": "white",
            "showbackground": true,
            "ticks": "",
            "zerolinecolor": "white"
           },
           "zaxis": {
            "backgroundcolor": "#E5ECF6",
            "gridcolor": "white",
            "gridwidth": 2,
            "linecolor": "white",
            "showbackground": true,
            "ticks": "",
            "zerolinecolor": "white"
           }
          },
          "shapedefaults": {
           "line": {
            "color": "#2a3f5f"
           }
          },
          "ternary": {
           "aaxis": {
            "gridcolor": "white",
            "linecolor": "white",
            "ticks": ""
           },
           "baxis": {
            "gridcolor": "white",
            "linecolor": "white",
            "ticks": ""
           },
           "bgcolor": "#E5ECF6",
           "caxis": {
            "gridcolor": "white",
            "linecolor": "white",
            "ticks": ""
           }
          },
          "title": {
           "x": 0.05
          },
          "xaxis": {
           "automargin": true,
           "gridcolor": "white",
           "linecolor": "white",
           "ticks": "",
           "title": {
            "standoff": 15
           },
           "zerolinecolor": "white",
           "zerolinewidth": 2
          },
          "yaxis": {
           "automargin": true,
           "gridcolor": "white",
           "linecolor": "white",
           "ticks": "",
           "title": {
            "standoff": 15
           },
           "zerolinecolor": "white",
           "zerolinewidth": 2
          }
         }
        },
        "title": {
         "text": "M-BERT with K-Means Clustering for ca"
        },
        "xaxis": {
         "anchor": "y",
         "domain": [
          0,
          1
         ],
         "title": {
          "text": "PCA 1"
         }
        },
        "yaxis": {
         "anchor": "x",
         "domain": [
          0,
          1
         ],
         "title": {
          "text": "PCA 2"
         }
        }
       }
      }
     },
     "metadata": {},
     "output_type": "display_data"
    }
   ],
   "source": [
    "# K-Means clustering\n",
    "num_clusters = 4  # This is an arbitrary choice, can be tuned\n",
    "kmeans = KMeans(n_clusters=num_clusters, random_state=0).fit(mbert_embeddings)\n",
    "\n",
    "# Adding cluster labels to the original dataset\n",
    "filtered_ca_data['cluster'] = kmeans.labels_\n",
    "\n",
    "# Applying PCA for visualization\n",
    "pca = PCA(n_components=2)\n",
    "reduced_features = pca.fit_transform(mbert_embeddings)\n",
    "\n",
    "# Add PCA components to the original dataset\n",
    "filtered_ca_data['pca_one'] = reduced_features[:, 0]\n",
    "filtered_ca_data['pca_two'] = reduced_features[:, 1]\n",
    "\n",
    "# Creating a scatter plot with Plotly using the 'viridis' color scale\n",
    "fig = px.scatter(filtered_ca_data, x='pca_one', y='pca_two', color='cluster',\n",
    "                 hover_data=['language_code'], color_continuous_scale='Viridis')\n",
    "fig.update_layout(title='M-BERT with K-Means Clustering for ca',\n",
    "                  xaxis_title='PCA 1', \n",
    "                  yaxis_title='PCA 2', \n",
    "                  legend_title='Cluster')\n",
    "fig.show()\n"
   ]
  },
  {
   "cell_type": "code",
   "execution_count": 48,
   "metadata": {},
   "outputs": [
    {
     "name": "stdout",
     "output_type": "stream",
     "text": [
      "cluster  accent_name      \n",
      "0        Alcarrasì            1\n",
      "         Alcarràs             1\n",
      "         Ampostí              1\n",
      "         Barcelonina          1\n",
      "         Benifaió             1\n",
      "         D'Igualada           1\n",
      "         D'Osona              1\n",
      "         Ebrenc               1\n",
      "         Esporles             1\n",
      "         Felanitx             1\n",
      "         Flixanco             1\n",
      "         Garraf               1\n",
      "         Garrotxi             1\n",
      "         Maresmenc            1\n",
      "         Maó                  1\n",
      "         Osonenc              1\n",
      "         Pallarės             1\n",
      "         Penedesenc           1\n",
      "         Poble                1\n",
      "         Rapitenc             1\n",
      "         Reusenc              1\n",
      "         Tarraconí            1\n",
      "         Tortosí              1\n",
      "         Vallesà              1\n",
      "         Vigatà               1\n",
      "         apitxat              1\n",
      "         tarragoní            1\n",
      "1        Andorra              1\n",
      "         Barcelona            1\n",
      "         Girona               1\n",
      "         Illes                1\n",
      "         Lleida               1\n",
      "         Manacor              1\n",
      "         Maresme              1\n",
      "         Osona                1\n",
      "         Palma                1\n",
      "         Petra                1\n",
      "         Ponent               1\n",
      "         Reus                 1\n",
      "         Sabadell             1\n",
      "         Tarragona            1\n",
      "         Valls                1\n",
      "         Vallès               1\n",
      "2        Balears              1\n",
      "         Barcelonès           1\n",
      "         Barceloní            1\n",
      "         Berguedà             1\n",
      "         Empordanès           1\n",
      "         Lleidatà             1\n",
      "         Penedès              1\n",
      "         Prioratí             1\n",
      "         Ribagorçà            1\n",
      "         baixempordanès       1\n",
      "         empordà              1\n",
      "         gironí-empordanès    1\n",
      "         lleidetà             1\n",
      "         mallorquí            1\n",
      "         menorquí             1\n",
      "3        Argentí              1\n",
      "         Badaloní             1\n",
      "         Bo                   1\n",
      "         Catala               1\n",
      "         Clar                 1\n",
      "         Correcte             1\n",
      "         Deltaic              1\n",
      "         Ebre                 1\n",
      "         Estranger            1\n",
      "         Inca                 1\n",
      "         Industrial           1\n",
      "         Jove                 1\n",
      "         Natiu                1\n",
      "         Natural              1\n",
      "         Neutre               1\n",
      "         Occidental.          1\n",
      "         Oriental             1\n",
      "         Tancar               1\n",
      "         Tarra#               1\n",
      "         Xava                 1\n",
      "         alcoverenc           1\n",
      "         bages                1\n",
      "         brazillian           1\n",
      "         ciutadellenc         1\n",
      "         ebtenc               1\n",
      "         estàndard            1\n",
      "         foreigner            1\n",
      "         gironí               1\n",
      "         mallorca             1\n",
      "         manacorí             1\n",
      "         mataró               1\n",
      "         meridional           1\n",
      "         nord-oriental        1\n",
      "         occidental           1\n",
      "         perifèric            1\n",
      "         standard             1\n",
      "         tancat               1\n",
      "         tossenc              1\n",
      "         xipella              1\n",
      "Name: accent_name, dtype: int64\n"
     ]
    }
   ],
   "source": [
    "# Grouping by cluster and counting the frequency of each language code\n",
    "cluster_language_count = filtered_ca_data.groupby('cluster')['accent_name'].value_counts()\n",
    "\n",
    "# Filtering to show only language codes with frequency greater than zero\n",
    "# cluster_language_count = cluster_language_count[cluster_language_count > 25]\n",
    "\n",
    "print(cluster_language_count)\n",
    "\n"
   ]
  },
  {
   "cell_type": "markdown",
   "metadata": {},
   "source": [
    "# TF-IDF with K-Means for ca"
   ]
  },
  {
   "cell_type": "code",
   "execution_count": 1,
   "metadata": {},
   "outputs": [
    {
     "data": {
      "image/png": "[encoded data removed]",
      "text/plain": [
       "<Figure size 1000x600 with 1 Axes>"
      ]
     },
     "metadata": {},
     "output_type": "display_data"
    }
   ],
   "source": [
    "import pandas as pd\n",
    "from sklearn.feature_extraction.text import TfidfVectorizer\n",
    "from sklearn.cluster import KMeans\n",
    "from sklearn.decomposition import PCA\n",
    "from transformers import BertModel, BertTokenizer\n",
    "import torch\n",
    "import numpy as np\n",
    "import plotly.express as px\n",
    "\n",
    "# Load your dataset\n",
    "file_path = 'test.tsv'  # Replace with your file path\n",
    "data = pd.read_csv(file_path, sep='\\t')\n",
    "\n",
    "\n",
    "ca_data = data[data['language_code']==\"ca\"]\n",
    "\n",
    "filtered_ca_data = ca_data[~ca_data['accent_name'].str.contains(' ')]\n",
    "\n",
    "# TF-IDF Vectorization for accent_name\n",
    "tfidf_vectorizer = TfidfVectorizer(max_features=100)\n",
    "tfidf_matrix = tfidf_vectorizer.fit_transform(filtered_ca_data['accent_name'])\n",
    "\n",
    "import matplotlib.pyplot as plt\n",
    "from sklearn.cluster import KMeans\n",
    "\n",
    "# Determine the range of potential clusters you want to test\n",
    "# For example, testing from 1 to 20 clusters\n",
    "range_clusters = range(1, 21)\n",
    "\n",
    "# Calculate the sum of squared distances for each number of clusters\n",
    "sum_of_squared_distances = []\n",
    "for k in range_clusters:\n",
    "    km = KMeans(n_clusters=k, random_state=0)\n",
    "    km = km.fit(tfidf_matrix)\n",
    "    sum_of_squared_distances.append(km.inertia_)\n",
    "\n",
    "# Plot the Elbow graph\n",
    "plt.figure(figsize=(10, 6))\n",
    "plt.plot(range_clusters, sum_of_squared_distances, 'bx-')\n",
    "plt.xlabel('Number of Clusters')\n",
    "plt.ylabel('Sum of Squared Distances')\n",
    "plt.title('Elbow Method For Optimal Number of Clusters')\n",
    "plt.show()\n"
   ]
  },
  {
   "cell_type": "code",
   "execution_count": 2,
   "metadata": {},
   "outputs": [
    {
     "name": "stderr",
     "output_type": "stream",
     "text": [
      "C:\\Users\\saima\\AppData\\Local\\Temp\\ipykernel_20128\\2476706601.py:10: SettingWithCopyWarning: \n",
      "A value is trying to be set on a copy of a slice from a DataFrame.\n",
      "Try using .loc[row_indexer,col_indexer] = value instead\n",
      "\n",
      "See the caveats in the documentation: https://pandas.pydata.org/pandas-docs/stable/user_guide/indexing.html#returning-a-view-versus-a-copy\n",
      "  filtered_ca_data['cluster'] = kmeans.labels_\n",
      "C:\\Users\\saima\\AppData\\Local\\Temp\\ipykernel_20128\\2476706601.py:11: SettingWithCopyWarning: \n",
      "A value is trying to be set on a copy of a slice from a DataFrame.\n",
      "Try using .loc[row_indexer,col_indexer] = value instead\n",
      "\n",
      "See the caveats in the documentation: https://pandas.pydata.org/pandas-docs/stable/user_guide/indexing.html#returning-a-view-versus-a-copy\n",
      "  filtered_ca_data['pca_one'] = reduced_features[:, 0]\n",
      "C:\\Users\\saima\\AppData\\Local\\Temp\\ipykernel_20128\\2476706601.py:12: SettingWithCopyWarning: \n",
      "A value is trying to be set on a copy of a slice from a DataFrame.\n",
      "Try using .loc[row_indexer,col_indexer] = value instead\n",
      "\n",
      "See the caveats in the documentation: https://pandas.pydata.org/pandas-docs/stable/user_guide/indexing.html#returning-a-view-versus-a-copy\n",
      "  filtered_ca_data['pca_two'] = reduced_features[:, 1]\n"
     ]
    },
    {
     "data": {
      "application/vnd.plotly.v1+json": {
       "config": {
        "plotlyServerURL": "https://plot.ly"
       },
       "data": [
        {
         "customdata": [
          [
           "ca"
          ],
          [
           "ca"
          ],
          [
           "ca"
          ],
          [
           "ca"
          ],
          [
           "ca"
          ],
          [
           "ca"
          ],
          [
           "ca"
          ],
          [
           "ca"
          ],
          [
           "ca"
          ],
          [
           "ca"
          ],
          [
           "ca"
          ],
          [
           "ca"
          ],
          [
           "ca"
          ],
          [
           "ca"
          ],
          [
           "ca"
          ],
          [
           "ca"
          ],
          [
           "ca"
          ],
          [
           "ca"
          ],
          [
           "ca"
          ],
          [
           "ca"
          ],
          [
           "ca"
          ],
          [
           "ca"
          ],
          [
           "ca"
          ],
          [
           "ca"
          ],
          [
           "ca"
          ],
          [
           "ca"
          ],
          [
           "ca"
          ],
          [
           "ca"
          ],
          [
           "ca"
          ],
          [
           "ca"
          ],
          [
           "ca"
          ],
          [
           "ca"
          ],
          [
           "ca"
          ],
          [
           "ca"
          ],
          [
           "ca"
          ],
          [
           "ca"
          ],
          [
           "ca"
          ],
          [
           "ca"
          ],
          [
           "ca"
          ],
          [
           "ca"
          ],
          [
           "ca"
          ],
          [
           "ca"
          ],
          [
           "ca"
          ],
          [
           "ca"
          ],
          [
           "ca"
          ],
          [
           "ca"
          ],
          [
           "ca"
          ],
          [
           "ca"
          ],
          [
           "ca"
          ],
          [
           "ca"
          ],
          [
           "ca"
          ],
          [
           "ca"
          ],
          [
           "ca"
          ],
          [
           "ca"
          ],
          [
           "ca"
          ],
          [
           "ca"
          ],
          [
           "ca"
          ],
          [
           "ca"
          ],
          [
           "ca"
          ],
          [
           "ca"
          ],
          [
           "ca"
          ],
          [
           "ca"
          ],
          [
           "ca"
          ],
          [
           "ca"
          ],
          [
           "ca"
          ],
          [
           "ca"
          ],
          [
           "ca"
          ],
          [
           "ca"
          ],
          [
           "ca"
          ],
          [
           "ca"
          ],
          [
           "ca"
          ],
          [
           "ca"
          ],
          [
           "ca"
          ],
          [
           "ca"
          ],
          [
           "ca"
          ],
          [
           "ca"
          ],
          [
           "ca"
          ],
          [
           "ca"
          ],
          [
           "ca"
          ],
          [
           "ca"
          ],
          [
           "ca"
          ],
          [
           "ca"
          ],
          [
           "ca"
          ],
          [
           "ca"
          ],
          [
           "ca"
          ],
          [
           "ca"
          ],
          [
           "ca"
          ],
          [
           "ca"
          ],
          [
           "ca"
          ],
          [
           "ca"
          ],
          [
           "ca"
          ],
          [
           "ca"
          ],
          [
           "ca"
          ],
          [
           "ca"
          ],
          [
           "ca"
          ],
          [
           "ca"
          ],
          [
           "ca"
          ]
         ],
         "hovertemplate": "pca_one=%{x}<br>pca_two=%{y}<br>language_code=%{customdata[0]}<br>cluster=%{marker.color}<extra></extra>",
         "legendgroup": "",
         "marker": {
          "color": [
           0,
           0,
           0,
           0,
           0,
           0,
           0,
           0,
           0,
           0,
           0,
           4,
           0,
           0,
           0,
           0,
           0,
           0,
           0,
           0,
           0,
           0,
           0,
           0,
           0,
           0,
           0,
           0,
           0,
           0,
           0,
           0,
           0,
           0,
           0,
           1,
           0,
           0,
           0,
           0,
           0,
           0,
           0,
           2,
           0,
           0,
           0,
           0,
           0,
           0,
           0,
           0,
           0,
           0,
           0,
           0,
           0,
           0,
           0,
           0,
           0,
           0,
           0,
           0,
           0,
           3,
           0,
           0,
           0,
           0,
           0,
           0,
           0,
           0,
           0,
           0,
           0,
           1,
           0,
           0,
           0,
           0,
           0,
           0,
           0,
           0,
           0,
           0,
           0,
           0,
           0,
           0,
           0,
           0,
           0,
           0,
           0
          ],
          "coloraxis": "coloraxis",
          "symbol": "circle"
         },
         "mode": "markers",
         "name": "",
         "orientation": "v",
         "showlegend": false,
         "type": "scatter",
         "x": [
          -1.0112394837675745e-16,
          -1.2300050606446118e-16,
          6.679773376893864e-17,
          -1.4812969096993992e-16,
          -1.1795491075578005e-16,
          -9.581962180035872e-17,
          -7.719853457193273e-19,
          -3.679904200040096e-18,
          4.710277376051323e-16,
          -1.0256941968747258e-16,
          -1.0073493172489316e-17,
          1.500693452805661e-18,
          -0.05409033737007222,
          7.37883996220206e-18,
          -1.139178968888289e-14,
          -1.239204725063613e-17,
          -0.054090337370072135,
          -1.2567999594803495e-17,
          6.835410552462275e-18,
          -4.70418481613924e-18,
          -1.7123205507503127e-16,
          1.1831026673714953e-14,
          -3.5087030316998075e-18,
          -1.6769199214525711e-18,
          -1.0776992953141494e-17,
          -3.546421641169104e-18,
          1.0150379494374244e-17,
          -1.354003883798583e-17,
          -2.583985354516126e-19,
          -3.749081318925586e-18,
          1.2210068051128465e-17,
          -3.652570096978249e-18,
          -0.6573526219461187,
          -8.598468765404836e-18,
          9.85064822870019e-18,
          0.7496906036672367,
          -5.761932180830102e-18,
          4.2309789528588625e-16,
          1.1623239934255454e-17,
          6.7888956038130174e-18,
          1.0740898605741232e-15,
          -8.722357764910615e-18,
          4.081820595172428e-18,
          -9.69294524740213e-18,
          -3.474756488341742e-18,
          -3.734532473191729e-18,
          -1.2302366802213257e-18,
          -4.106284273628047e-18,
          -5.6587904593216805e-18,
          -5.244013202277179e-18,
          4.5192974941356095e-18,
          -0.07649528870209232,
          -5.722094048458613e-18,
          4.943382636600061e-18,
          -1.7462629010566032e-16,
          3.5287614105073545e-18,
          -3.05152112248365e-18,
          -1.1446060346689289e-17,
          -1.5141493316725808e-18,
          2.5966847825054303e-18,
          -6.157263421271592e-18,
          6.57939379729469e-17,
          1.1879412322129302e-17,
          -1.0997218410359022e-18,
          -7.782720221878377e-18,
          -1.1140469119032581e-17,
          6.053054185998346e-18,
          -9.780870760525376e-19,
          -1.287311899114164e-18,
          -5.414364394700577e-18,
          1.1278682137682706e-18,
          4.167197257454772e-18,
          -0.6573526219461187,
          -6.047793262532004e-18,
          -4.0945412682407323e-16,
          -1.2152601415382637e-17,
          -5.47475591059724e-18,
          0.7496906036672367,
          2.6830787703503803e-18,
          -7.778800089594077e-18,
          3.890891943917581e-18,
          -8.65119895804523e-18,
          -3.5318246249348524e-18,
          -1.82252056514799e-18,
          8.471883970487973e-20,
          -1.463836505245243e-17,
          -6.952594870375481e-17,
          -1.4883985604311838e-17,
          -1.6145397571946396e-17,
          2.7543103487832923e-18,
          1.820114989734153e-18,
          -6.846154415432372e-18,
          -1.5767798695747078e-17,
          -3.2575758956326038e-18,
          1.0528864554274047e-18,
          -5.898143673015312e-18,
          -1.071388774907507e-17
         ],
         "xaxis": "x",
         "y": [
          1.4180551028140452e-15,
          1.5644784953468377e-15,
          1.3528974808445168e-15,
          1.3521029984491841e-15,
          1.3542047456147545e-15,
          1.4130832128153961e-15,
          1.4719616800160376e-15,
          1.5029421294119272e-15,
          1.4744081824486258e-15,
          1.4048903806108004e-15,
          1.4916162421982724e-15,
          1.4765471451782376e-15,
          0.535101347621473,
          1.494654648720879e-15,
          7.303453723040913e-15,
          1.4775851463869996e-15,
          0.5351013476214724,
          1.4843109130270878e-15,
          1.4867759149489909e-15,
          1.4856215768939805e-15,
          1.5282365828404737e-15,
          7.259553148893614e-15,
          1.465388855825179e-15,
          1.476968068726964e-15,
          1.4753080765653334e-15,
          1.4758749043068062e-15,
          1.497304425525374e-15,
          1.4734285779120905e-15,
          1.4794411092875153e-15,
          1.4758749043068062e-15,
          1.5011844611903085e-15,
          1.4683278133145712e-15,
          -0.5278525491057525,
          1.4923010270979608e-15,
          1.491042495851094e-15,
          -0.3856225900409955,
          1.4923421462451851e-15,
          8.96274318247085e-17,
          1.5007891452696072e-15,
          1.491322349660767e-15,
          1.4887066359667002e-15,
          1.4754227241501798e-15,
          1.488644234543983e-15,
          1.4710416458793926e-15,
          1.4744081824486258e-15,
          1.48963357870481e-15,
          1.4872265888910465e-15,
          1.4759433641590858e-15,
          1.4698171147398339e-15,
          1.4755201457850313e-15,
          1.4951835985047346e-15,
          0.7567475830504066,
          1.4739333318036347e-15,
          1.482432118740982e-15,
          1.5407431750725295e-15,
          1.4949614824191205e-15,
          1.4749465676423488e-15,
          1.4915098667796843e-15,
          1.4895675226094703e-15,
          1.472247896196184e-15,
          1.4924591031161749e-15,
          1.4790267375341958e-15,
          1.5055150089062818e-15,
          1.4901566981785252e-15,
          1.4694207316427865e-15,
          1.4628706100426994e-15,
          1.5535107221315057e-15,
          1.4689830889761314e-15,
          1.489339355014797e-15,
          1.477632260316754e-15,
          1.5036790867482828e-15,
          1.4912959155783772e-15,
          -0.5278525491057525,
          1.4804866964104744e-15,
          2.69591419227835e-15,
          1.4813379896905659e-15,
          1.489108204402796e-15,
          -0.3856225900409955,
          1.4888318802463885e-15,
          1.478454906371469e-15,
          1.4747975153403095e-15,
          1.4876280143967402e-15,
          1.4804818612929255e-15,
          1.4907106261325366e-15,
          1.4858322657074232e-15,
          1.4645599481802122e-15,
          1.4532167327414427e-15,
          1.4692611353591139e-15,
          1.472860685349808e-15,
          1.4910803925572191e-15,
          1.4869085686374514e-15,
          1.4658303417561084e-15,
          1.4671479627295092e-15,
          1.4656013526273544e-15,
          1.4963771646941703e-15,
          1.4702702870132127e-15,
          1.4780948536827711e-15
         ],
         "yaxis": "y"
        }
       ],
       "layout": {
        "coloraxis": {
         "colorbar": {
          "title": {
           "text": "cluster"
          }
         },
         "colorscale": [
          [
           0,
           "#440154"
          ],
          [
           0.1111111111111111,
           "#482878"
          ],
          [
           0.2222222222222222,
           "#3e4989"
          ],
          [
           0.3333333333333333,
           "#31688e"
          ],
          [
           0.4444444444444444,
           "#26828e"
          ],
          [
           0.5555555555555556,
           "#1f9e89"
          ],
          [
           0.6666666666666666,
           "#35b779"
          ],
          [
           0.7777777777777778,
           "#6ece58"
          ],
          [
           0.8888888888888888,
           "#b5de2b"
          ],
          [
           1,
           "#fde725"
          ]
         ]
        },
        "legend": {
         "title": {
          "text": "Cluster"
         },
         "tracegroupgap": 0
        },
        "margin": {
         "t": 60
        },
        "template": {
         "data": {
          "bar": [
           {
            "error_x": {
             "color": "#2a3f5f"
            },
            "error_y": {
             "color": "#2a3f5f"
            },
            "marker": {
             "line": {
              "color": "#E5ECF6",
              "width": 0.5
             },
             "pattern": {
              "fillmode": "overlay",
              "size": 10,
              "solidity": 0.2
             }
            },
            "type": "bar"
           }
          ],
          "barpolar": [
           {
            "marker": {
             "line": {
              "color": "#E5ECF6",
              "width": 0.5
             },
             "pattern": {
              "fillmode": "overlay",
              "size": 10,
              "solidity": 0.2
             }
            },
            "type": "barpolar"
           }
          ],
          "carpet": [
           {
            "aaxis": {
             "endlinecolor": "#2a3f5f",
             "gridcolor": "white",
             "linecolor": "white",
             "minorgridcolor": "white",
             "startlinecolor": "#2a3f5f"
            },
            "baxis": {
             "endlinecolor": "#2a3f5f",
             "gridcolor": "white",
             "linecolor": "white",
             "minorgridcolor": "white",
             "startlinecolor": "#2a3f5f"
            },
            "type": "carpet"
           }
          ],
          "choropleth": [
           {
            "colorbar": {
             "outlinewidth": 0,
             "ticks": ""
            },
            "type": "choropleth"
           }
          ],
          "contour": [
           {
            "colorbar": {
             "outlinewidth": 0,
             "ticks": ""
            },
            "colorscale": [
             [
              0,
              "#0d0887"
             ],
             [
              0.1111111111111111,
              "#46039f"
             ],
             [
              0.2222222222222222,
              "#7201a8"
             ],
             [
              0.3333333333333333,
              "#9c179e"
             ],
             [
              0.4444444444444444,
              "#bd3786"
             ],
             [
              0.5555555555555556,
              "#d8576b"
             ],
             [
              0.6666666666666666,
              "#ed7953"
             ],
             [
              0.7777777777777778,
              "#fb9f3a"
             ],
             [
              0.8888888888888888,
              "#fdca26"
             ],
             [
              1,
              "#f0f921"
             ]
            ],
            "type": "contour"
           }
          ],
          "contourcarpet": [
           {
            "colorbar": {
             "outlinewidth": 0,
             "ticks": ""
            },
            "type": "contourcarpet"
           }
          ],
          "heatmap": [
           {
            "colorbar": {
             "outlinewidth": 0,
             "ticks": ""
            },
            "colorscale": [
             [
              0,
              "#0d0887"
             ],
             [
              0.1111111111111111,
              "#46039f"
             ],
             [
              0.2222222222222222,
              "#7201a8"
             ],
             [
              0.3333333333333333,
              "#9c179e"
             ],
             [
              0.4444444444444444,
              "#bd3786"
             ],
             [
              0.5555555555555556,
              "#d8576b"
             ],
             [
              0.6666666666666666,
              "#ed7953"
             ],
             [
              0.7777777777777778,
              "#fb9f3a"
             ],
             [
              0.8888888888888888,
              "#fdca26"
             ],
             [
              1,
              "#f0f921"
             ]
            ],
            "type": "heatmap"
           }
          ],
          "heatmapgl": [
           {
            "colorbar": {
             "outlinewidth": 0,
             "ticks": ""
            },
            "colorscale": [
             [
              0,
              "#0d0887"
             ],
             [
              0.1111111111111111,
              "#46039f"
             ],
             [
              0.2222222222222222,
              "#7201a8"
             ],
             [
              0.3333333333333333,
              "#9c179e"
             ],
             [
              0.4444444444444444,
              "#bd3786"
             ],
             [
              0.5555555555555556,
              "#d8576b"
             ],
             [
              0.6666666666666666,
              "#ed7953"
             ],
             [
              0.7777777777777778,
              "#fb9f3a"
             ],
             [
              0.8888888888888888,
              "#fdca26"
             ],
             [
              1,
              "#f0f921"
             ]
            ],
            "type": "heatmapgl"
           }
          ],
          "histogram": [
           {
            "marker": {
             "pattern": {
              "fillmode": "overlay",
              "size": 10,
              "solidity": 0.2
             }
            },
            "type": "histogram"
           }
          ],
          "histogram2d": [
           {
            "colorbar": {
             "outlinewidth": 0,
             "ticks": ""
            },
            "colorscale": [
             [
              0,
              "#0d0887"
             ],
             [
              0.1111111111111111,
              "#46039f"
             ],
             [
              0.2222222222222222,
              "#7201a8"
             ],
             [
              0.3333333333333333,
              "#9c179e"
             ],
             [
              0.4444444444444444,
              "#bd3786"
             ],
             [
              0.5555555555555556,
              "#d8576b"
             ],
             [
              0.6666666666666666,
              "#ed7953"
             ],
             [
              0.7777777777777778,
              "#fb9f3a"
             ],
             [
              0.8888888888888888,
              "#fdca26"
             ],
             [
              1,
              "#f0f921"
             ]
            ],
            "type": "histogram2d"
           }
          ],
          "histogram2dcontour": [
           {
            "colorbar": {
             "outlinewidth": 0,
             "ticks": ""
            },
            "colorscale": [
             [
              0,
              "#0d0887"
             ],
             [
              0.1111111111111111,
              "#46039f"
             ],
             [
              0.2222222222222222,
              "#7201a8"
             ],
             [
              0.3333333333333333,
              "#9c179e"
             ],
             [
              0.4444444444444444,
              "#bd3786"
             ],
             [
              0.5555555555555556,
              "#d8576b"
             ],
             [
              0.6666666666666666,
              "#ed7953"
             ],
             [
              0.7777777777777778,
              "#fb9f3a"
             ],
             [
              0.8888888888888888,
              "#fdca26"
             ],
             [
              1,
              "#f0f921"
             ]
            ],
            "type": "histogram2dcontour"
           }
          ],
          "mesh3d": [
           {
            "colorbar": {
             "outlinewidth": 0,
             "ticks": ""
            },
            "type": "mesh3d"
           }
          ],
          "parcoords": [
           {
            "line": {
             "colorbar": {
              "outlinewidth": 0,
              "ticks": ""
             }
            },
            "type": "parcoords"
           }
          ],
          "pie": [
           {
            "automargin": true,
            "type": "pie"
           }
          ],
          "scatter": [
           {
            "fillpattern": {
             "fillmode": "overlay",
             "size": 10,
             "solidity": 0.2
            },
            "type": "scatter"
           }
          ],
          "scatter3d": [
           {
            "line": {
             "colorbar": {
              "outlinewidth": 0,
              "ticks": ""
             }
            },
            "marker": {
             "colorbar": {
              "outlinewidth": 0,
              "ticks": ""
             }
            },
            "type": "scatter3d"
           }
          ],
          "scattercarpet": [
           {
            "marker": {
             "colorbar": {
              "outlinewidth": 0,
              "ticks": ""
             }
            },
            "type": "scattercarpet"
           }
          ],
          "scattergeo": [
           {
            "marker": {
             "colorbar": {
              "outlinewidth": 0,
              "ticks": ""
             }
            },
            "type": "scattergeo"
           }
          ],
          "scattergl": [
           {
            "marker": {
             "colorbar": {
              "outlinewidth": 0,
              "ticks": ""
             }
            },
            "type": "scattergl"
           }
          ],
          "scattermapbox": [
           {
            "marker": {
             "colorbar": {
              "outlinewidth": 0,
              "ticks": ""
             }
            },
            "type": "scattermapbox"
           }
          ],
          "scatterpolar": [
           {
            "marker": {
             "colorbar": {
              "outlinewidth": 0,
              "ticks": ""
             }
            },
            "type": "scatterpolar"
           }
          ],
          "scatterpolargl": [
           {
            "marker": {
             "colorbar": {
              "outlinewidth": 0,
              "ticks": ""
             }
            },
            "type": "scatterpolargl"
           }
          ],
          "scatterternary": [
           {
            "marker": {
             "colorbar": {
              "outlinewidth": 0,
              "ticks": ""
             }
            },
            "type": "scatterternary"
           }
          ],
          "surface": [
           {
            "colorbar": {
             "outlinewidth": 0,
             "ticks": ""
            },
            "colorscale": [
             [
              0,
              "#0d0887"
             ],
             [
              0.1111111111111111,
              "#46039f"
             ],
             [
              0.2222222222222222,
              "#7201a8"
             ],
             [
              0.3333333333333333,
              "#9c179e"
             ],
             [
              0.4444444444444444,
              "#bd3786"
             ],
             [
              0.5555555555555556,
              "#d8576b"
             ],
             [
              0.6666666666666666,
              "#ed7953"
             ],
             [
              0.7777777777777778,
              "#fb9f3a"
             ],
             [
              0.8888888888888888,
              "#fdca26"
             ],
             [
              1,
              "#f0f921"
             ]
            ],
            "type": "surface"
           }
          ],
          "table": [
           {
            "cells": {
             "fill": {
              "color": "#EBF0F8"
             },
             "line": {
              "color": "white"
             }
            },
            "header": {
             "fill": {
              "color": "#C8D4E3"
             },
             "line": {
              "color": "white"
             }
            },
            "type": "table"
           }
          ]
         },
         "layout": {
          "annotationdefaults": {
           "arrowcolor": "#2a3f5f",
           "arrowhead": 0,
           "arrowwidth": 1
          },
          "autotypenumbers": "strict",
          "coloraxis": {
           "colorbar": {
            "outlinewidth": 0,
            "ticks": ""
           }
          },
          "colorscale": {
           "diverging": [
            [
             0,
             "#8e0152"
            ],
            [
             0.1,
             "#c51b7d"
            ],
            [
             0.2,
             "#de77ae"
            ],
            [
             0.3,
             "#f1b6da"
            ],
            [
             0.4,
             "#fde0ef"
            ],
            [
             0.5,
             "#f7f7f7"
            ],
            [
             0.6,
             "#e6f5d0"
            ],
            [
             0.7,
             "#b8e186"
            ],
            [
             0.8,
             "#7fbc41"
            ],
            [
             0.9,
             "#4d9221"
            ],
            [
             1,
             "#276419"
            ]
           ],
           "sequential": [
            [
             0,
             "#0d0887"
            ],
            [
             0.1111111111111111,
             "#46039f"
            ],
            [
             0.2222222222222222,
             "#7201a8"
            ],
            [
             0.3333333333333333,
             "#9c179e"
            ],
            [
             0.4444444444444444,
             "#bd3786"
            ],
            [
             0.5555555555555556,
             "#d8576b"
            ],
            [
             0.6666666666666666,
             "#ed7953"
            ],
            [
             0.7777777777777778,
             "#fb9f3a"
            ],
            [
             0.8888888888888888,
             "#fdca26"
            ],
            [
             1,
             "#f0f921"
            ]
           ],
           "sequentialminus": [
            [
             0,
             "#0d0887"
            ],
            [
             0.1111111111111111,
             "#46039f"
            ],
            [
             0.2222222222222222,
             "#7201a8"
            ],
            [
             0.3333333333333333,
             "#9c179e"
            ],
            [
             0.4444444444444444,
             "#bd3786"
            ],
            [
             0.5555555555555556,
             "#d8576b"
            ],
            [
             0.6666666666666666,
             "#ed7953"
            ],
            [
             0.7777777777777778,
             "#fb9f3a"
            ],
            [
             0.8888888888888888,
             "#fdca26"
            ],
            [
             1,
             "#f0f921"
            ]
           ]
          },
          "colorway": [
           "#636efa",
           "#EF553B",
           "#00cc96",
           "#ab63fa",
           "#FFA15A",
           "#19d3f3",
           "#FF6692",
           "#B6E880",
           "#FF97FF",
           "#FECB52"
          ],
          "font": {
           "color": "#2a3f5f"
          },
          "geo": {
           "bgcolor": "white",
           "lakecolor": "white",
           "landcolor": "#E5ECF6",
           "showlakes": true,
           "showland": true,
           "subunitcolor": "white"
          },
          "hoverlabel": {
           "align": "left"
          },
          "hovermode": "closest",
          "mapbox": {
           "style": "light"
          },
          "paper_bgcolor": "white",
          "plot_bgcolor": "#E5ECF6",
          "polar": {
           "angularaxis": {
            "gridcolor": "white",
            "linecolor": "white",
            "ticks": ""
           },
           "bgcolor": "#E5ECF6",
           "radialaxis": {
            "gridcolor": "white",
            "linecolor": "white",
            "ticks": ""
           }
          },
          "scene": {
           "xaxis": {
            "backgroundcolor": "#E5ECF6",
            "gridcolor": "white",
            "gridwidth": 2,
            "linecolor": "white",
            "showbackground": true,
            "ticks": "",
            "zerolinecolor": "white"
           },
           "yaxis": {
            "backgroundcolor": "#E5ECF6",
            "gridcolor": "white",
            "gridwidth": 2,
            "linecolor": "white",
            "showbackground": true,
            "ticks": "",
            "zerolinecolor": "white"
           },
           "zaxis": {
            "backgroundcolor": "#E5ECF6",
            "gridcolor": "white",
            "gridwidth": 2,
            "linecolor": "white",
            "showbackground": true,
            "ticks": "",
            "zerolinecolor": "white"
           }
          },
          "shapedefaults": {
           "line": {
            "color": "#2a3f5f"
           }
          },
          "ternary": {
           "aaxis": {
            "gridcolor": "white",
            "linecolor": "white",
            "ticks": ""
           },
           "baxis": {
            "gridcolor": "white",
            "linecolor": "white",
            "ticks": ""
           },
           "bgcolor": "#E5ECF6",
           "caxis": {
            "gridcolor": "white",
            "linecolor": "white",
            "ticks": ""
           }
          },
          "title": {
           "x": 0.05
          },
          "xaxis": {
           "automargin": true,
           "gridcolor": "white",
           "linecolor": "white",
           "ticks": "",
           "title": {
            "standoff": 15
           },
           "zerolinecolor": "white",
           "zerolinewidth": 2
          },
          "yaxis": {
           "automargin": true,
           "gridcolor": "white",
           "linecolor": "white",
           "ticks": "",
           "title": {
            "standoff": 15
           },
           "zerolinecolor": "white",
           "zerolinewidth": 2
          }
         }
        },
        "title": {
         "text": "TF-IDF with K-means Clustering for ca"
        },
        "xaxis": {
         "anchor": "y",
         "domain": [
          0,
          1
         ],
         "title": {
          "text": "PCA 1"
         }
        },
        "yaxis": {
         "anchor": "x",
         "domain": [
          0,
          1
         ],
         "title": {
          "text": "PCA 2"
         }
        }
       }
      }
     },
     "metadata": {},
     "output_type": "display_data"
    }
   ],
   "source": [
    "# # Applying PCA for dimensionality reduction\n",
    "pca = PCA(n_components=2)\n",
    "reduced_features = pca.fit_transform(tfidf_matrix.toarray())\n",
    "\n",
    "# Applying K-Means clustering\n",
    "num_clusters = 5  # This is an arbitrary choice, can be tuned\n",
    "kmeans = KMeans(n_clusters=num_clusters, random_state=0).fit(tfidf_matrix)\n",
    "\n",
    "# Add cluster labels and PCA components to the original dataset\n",
    "filtered_ca_data['cluster'] = kmeans.labels_\n",
    "filtered_ca_data['pca_one'] = reduced_features[:, 0]\n",
    "filtered_ca_data['pca_two'] = reduced_features[:, 1]\n",
    "\n",
    "# Creating a scatter plot with Plotly\n",
    "fig = px.scatter(filtered_ca_data, x='pca_one', y='pca_two', color='cluster', hover_data=['language_code'],color_continuous_scale='Viridis')\n",
    "fig.update_layout(title='TF-IDF with K-means Clustering for ca', xaxis_title='PCA 1', yaxis_title='PCA 2', legend_title='Cluster')\n",
    "fig.show()"
   ]
  },
  {
   "cell_type": "code",
   "execution_count": 3,
   "metadata": {},
   "outputs": [
    {
     "name": "stdout",
     "output_type": "stream",
     "text": [
      "cluster  accent_name\n",
      "0        Alcarrasì      1\n",
      "         Alcarràs       1\n",
      "         Ampostí        1\n",
      "         Andorra        1\n",
      "         Argentí        1\n",
      "                       ..\n",
      "1        Occidental.    1\n",
      "         occidental     1\n",
      "2        Correcte       1\n",
      "3        Berguedà       1\n",
      "4        Lleidatà       1\n",
      "Name: accent_name, Length: 97, dtype: int64\n"
     ]
    }
   ],
   "source": [
    "# Grouping by cluster and counting the frequency of each language code\n",
    "cluster_language_count = filtered_ca_data.groupby('cluster')['accent_name'].value_counts()\n",
    "\n",
    "# Filtering to show only language codes with frequency greater than zero\n",
    "# cluster_language_count = cluster_language_count[cluster_language_count > 25]\n",
    "\n",
    "print(cluster_language_count)\n",
    "\n"
   ]
  }
 ],
 "metadata": {
  "kernelspec": {
   "display_name": "base",
   "language": "python",
   "name": "python3"
  },
  "language_info": {
   "codemirror_mode": {
    "name": "ipython",
    "version": 3
   },
   "file_extension": ".py",
   "mimetype": "text/x-python",
   "name": "python",
   "nbconvert_exporter": "python",
   "pygments_lexer": "ipython3",
   "version": "3.9.18"
  }
 },
 "nbformat": 4,
 "nbformat_minor": 2
}
